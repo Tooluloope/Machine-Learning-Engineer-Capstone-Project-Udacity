{
  "nbformat": 4,
  "nbformat_minor": 0,
  "metadata": {
    "kernelspec": {
      "display_name": "Python 3",
      "language": "python",
      "name": "python3"
    },
    "language_info": {
      "codemirror_mode": {
        "name": "ipython",
        "version": 3
      },
      "file_extension": ".py",
      "mimetype": "text/x-python",
      "name": "python",
      "nbconvert_exporter": "python",
      "pygments_lexer": "ipython3",
      "version": "3.6.6"
    },
    "widgets": {
      "application/vnd.jupyter.widget-state+json": {
        "282220fe1f914cd4a18a0b2ce2900d25": {
          "model_module": "@jupyter-widgets/controls",
          "model_name": "HBoxModel",
          "state": {
            "_view_name": "HBoxView",
            "_dom_classes": [],
            "_model_name": "HBoxModel",
            "_view_module": "@jupyter-widgets/controls",
            "_model_module_version": "1.5.0",
            "_view_count": null,
            "_view_module_version": "1.5.0",
            "box_style": "",
            "layout": "IPY_MODEL_7df7b04e394e4b0a9dce0a5188186d48",
            "_model_module": "@jupyter-widgets/controls",
            "children": [
              "IPY_MODEL_18459e5327894ba9bb84bd2ad278f431",
              "IPY_MODEL_ced91321d5e4444c87df60adb181f572"
            ]
          }
        },
        "7df7b04e394e4b0a9dce0a5188186d48": {
          "model_module": "@jupyter-widgets/base",
          "model_name": "LayoutModel",
          "state": {
            "_view_name": "LayoutView",
            "grid_template_rows": null,
            "right": null,
            "justify_content": null,
            "_view_module": "@jupyter-widgets/base",
            "overflow": null,
            "_model_module_version": "1.2.0",
            "_view_count": null,
            "flex_flow": null,
            "width": null,
            "min_width": null,
            "border": null,
            "align_items": null,
            "bottom": null,
            "_model_module": "@jupyter-widgets/base",
            "top": null,
            "grid_column": null,
            "overflow_y": null,
            "overflow_x": null,
            "grid_auto_flow": null,
            "grid_area": null,
            "grid_template_columns": null,
            "flex": null,
            "_model_name": "LayoutModel",
            "justify_items": null,
            "grid_row": null,
            "max_height": null,
            "align_content": null,
            "visibility": null,
            "align_self": null,
            "height": null,
            "min_height": null,
            "padding": null,
            "grid_auto_rows": null,
            "grid_gap": null,
            "max_width": null,
            "order": null,
            "_view_module_version": "1.2.0",
            "grid_template_areas": null,
            "object_position": null,
            "object_fit": null,
            "grid_auto_columns": null,
            "margin": null,
            "display": null,
            "left": null
          }
        },
        "18459e5327894ba9bb84bd2ad278f431": {
          "model_module": "@jupyter-widgets/controls",
          "model_name": "IntProgressModel",
          "state": {
            "_view_name": "ProgressView",
            "style": "IPY_MODEL_321539b99cc4497bb0bfd419eb7c2080",
            "_dom_classes": [],
            "description": "100%",
            "_model_name": "IntProgressModel",
            "bar_style": "success",
            "max": 1804874,
            "_view_module": "@jupyter-widgets/controls",
            "_model_module_version": "1.5.0",
            "value": 1804874,
            "_view_count": null,
            "_view_module_version": "1.5.0",
            "orientation": "horizontal",
            "min": 0,
            "description_tooltip": null,
            "_model_module": "@jupyter-widgets/controls",
            "layout": "IPY_MODEL_b948b4a7217f446ca25c66d154695df9"
          }
        },
        "ced91321d5e4444c87df60adb181f572": {
          "model_module": "@jupyter-widgets/controls",
          "model_name": "HTMLModel",
          "state": {
            "_view_name": "HTMLView",
            "style": "IPY_MODEL_2e647b4cad1d4f4294523a3861daafbe",
            "_dom_classes": [],
            "description": "",
            "_model_name": "HTMLModel",
            "placeholder": "​",
            "_view_module": "@jupyter-widgets/controls",
            "_model_module_version": "1.5.0",
            "value": " 1804874/1804874 [00:03&lt;00:00, 484310.82it/s]",
            "_view_count": null,
            "_view_module_version": "1.5.0",
            "description_tooltip": null,
            "_model_module": "@jupyter-widgets/controls",
            "layout": "IPY_MODEL_27973db31dac4079ac5ab8b35fb17355"
          }
        },
        "321539b99cc4497bb0bfd419eb7c2080": {
          "model_module": "@jupyter-widgets/controls",
          "model_name": "ProgressStyleModel",
          "state": {
            "_view_name": "StyleView",
            "_model_name": "ProgressStyleModel",
            "description_width": "initial",
            "_view_module": "@jupyter-widgets/base",
            "_model_module_version": "1.5.0",
            "_view_count": null,
            "_view_module_version": "1.2.0",
            "bar_color": null,
            "_model_module": "@jupyter-widgets/controls"
          }
        },
        "b948b4a7217f446ca25c66d154695df9": {
          "model_module": "@jupyter-widgets/base",
          "model_name": "LayoutModel",
          "state": {
            "_view_name": "LayoutView",
            "grid_template_rows": null,
            "right": null,
            "justify_content": null,
            "_view_module": "@jupyter-widgets/base",
            "overflow": null,
            "_model_module_version": "1.2.0",
            "_view_count": null,
            "flex_flow": null,
            "width": null,
            "min_width": null,
            "border": null,
            "align_items": null,
            "bottom": null,
            "_model_module": "@jupyter-widgets/base",
            "top": null,
            "grid_column": null,
            "overflow_y": null,
            "overflow_x": null,
            "grid_auto_flow": null,
            "grid_area": null,
            "grid_template_columns": null,
            "flex": null,
            "_model_name": "LayoutModel",
            "justify_items": null,
            "grid_row": null,
            "max_height": null,
            "align_content": null,
            "visibility": null,
            "align_self": null,
            "height": null,
            "min_height": null,
            "padding": null,
            "grid_auto_rows": null,
            "grid_gap": null,
            "max_width": null,
            "order": null,
            "_view_module_version": "1.2.0",
            "grid_template_areas": null,
            "object_position": null,
            "object_fit": null,
            "grid_auto_columns": null,
            "margin": null,
            "display": null,
            "left": null
          }
        },
        "2e647b4cad1d4f4294523a3861daafbe": {
          "model_module": "@jupyter-widgets/controls",
          "model_name": "DescriptionStyleModel",
          "state": {
            "_view_name": "StyleView",
            "_model_name": "DescriptionStyleModel",
            "description_width": "",
            "_view_module": "@jupyter-widgets/base",
            "_model_module_version": "1.5.0",
            "_view_count": null,
            "_view_module_version": "1.2.0",
            "_model_module": "@jupyter-widgets/controls"
          }
        },
        "27973db31dac4079ac5ab8b35fb17355": {
          "model_module": "@jupyter-widgets/base",
          "model_name": "LayoutModel",
          "state": {
            "_view_name": "LayoutView",
            "grid_template_rows": null,
            "right": null,
            "justify_content": null,
            "_view_module": "@jupyter-widgets/base",
            "overflow": null,
            "_model_module_version": "1.2.0",
            "_view_count": null,
            "flex_flow": null,
            "width": null,
            "min_width": null,
            "border": null,
            "align_items": null,
            "bottom": null,
            "_model_module": "@jupyter-widgets/base",
            "top": null,
            "grid_column": null,
            "overflow_y": null,
            "overflow_x": null,
            "grid_auto_flow": null,
            "grid_area": null,
            "grid_template_columns": null,
            "flex": null,
            "_model_name": "LayoutModel",
            "justify_items": null,
            "grid_row": null,
            "max_height": null,
            "align_content": null,
            "visibility": null,
            "align_self": null,
            "height": null,
            "min_height": null,
            "padding": null,
            "grid_auto_rows": null,
            "grid_gap": null,
            "max_width": null,
            "order": null,
            "_view_module_version": "1.2.0",
            "grid_template_areas": null,
            "object_position": null,
            "object_fit": null,
            "grid_auto_columns": null,
            "margin": null,
            "display": null,
            "left": null
          }
        },
        "d70bb01f1889464090088e4b9b4021e5": {
          "model_module": "@jupyter-widgets/controls",
          "model_name": "HBoxModel",
          "state": {
            "_view_name": "HBoxView",
            "_dom_classes": [],
            "_model_name": "HBoxModel",
            "_view_module": "@jupyter-widgets/controls",
            "_model_module_version": "1.5.0",
            "_view_count": null,
            "_view_module_version": "1.5.0",
            "box_style": "",
            "layout": "IPY_MODEL_7b81acfc0a46471abd8ea5cd94f0d5f0",
            "_model_module": "@jupyter-widgets/controls",
            "children": [
              "IPY_MODEL_97d72477e15f4c42ac30fe3779db5f9f",
              "IPY_MODEL_354f6cde490a419ebb74280fea81c7ec"
            ]
          }
        },
        "7b81acfc0a46471abd8ea5cd94f0d5f0": {
          "model_module": "@jupyter-widgets/base",
          "model_name": "LayoutModel",
          "state": {
            "_view_name": "LayoutView",
            "grid_template_rows": null,
            "right": null,
            "justify_content": null,
            "_view_module": "@jupyter-widgets/base",
            "overflow": null,
            "_model_module_version": "1.2.0",
            "_view_count": null,
            "flex_flow": null,
            "width": null,
            "min_width": null,
            "border": null,
            "align_items": null,
            "bottom": null,
            "_model_module": "@jupyter-widgets/base",
            "top": null,
            "grid_column": null,
            "overflow_y": null,
            "overflow_x": null,
            "grid_auto_flow": null,
            "grid_area": null,
            "grid_template_columns": null,
            "flex": null,
            "_model_name": "LayoutModel",
            "justify_items": null,
            "grid_row": null,
            "max_height": null,
            "align_content": null,
            "visibility": null,
            "align_self": null,
            "height": null,
            "min_height": null,
            "padding": null,
            "grid_auto_rows": null,
            "grid_gap": null,
            "max_width": null,
            "order": null,
            "_view_module_version": "1.2.0",
            "grid_template_areas": null,
            "object_position": null,
            "object_fit": null,
            "grid_auto_columns": null,
            "margin": null,
            "display": null,
            "left": null
          }
        },
        "97d72477e15f4c42ac30fe3779db5f9f": {
          "model_module": "@jupyter-widgets/controls",
          "model_name": "IntProgressModel",
          "state": {
            "_view_name": "ProgressView",
            "style": "IPY_MODEL_21fb2373fc994b87a6926c5ebf1d22c6",
            "_dom_classes": [],
            "description": "100%",
            "_model_name": "IntProgressModel",
            "bar_style": "success",
            "max": 1804874,
            "_view_module": "@jupyter-widgets/controls",
            "_model_module_version": "1.5.0",
            "value": 1804874,
            "_view_count": null,
            "_view_module_version": "1.5.0",
            "orientation": "horizontal",
            "min": 0,
            "description_tooltip": null,
            "_model_module": "@jupyter-widgets/controls",
            "layout": "IPY_MODEL_189d81356d5b4a9e95539094357cf18e"
          }
        },
        "354f6cde490a419ebb74280fea81c7ec": {
          "model_module": "@jupyter-widgets/controls",
          "model_name": "HTMLModel",
          "state": {
            "_view_name": "HTMLView",
            "style": "IPY_MODEL_7f2c4a6a660f46bb92fd01119fdbfca4",
            "_dom_classes": [],
            "description": "",
            "_model_name": "HTMLModel",
            "placeholder": "​",
            "_view_module": "@jupyter-widgets/controls",
            "_model_module_version": "1.5.0",
            "value": " 1804874/1804874 [02:42&lt;00:00, 11092.50it/s]",
            "_view_count": null,
            "_view_module_version": "1.5.0",
            "description_tooltip": null,
            "_model_module": "@jupyter-widgets/controls",
            "layout": "IPY_MODEL_625aa59a61d44f43a7d3565eb318cd0f"
          }
        },
        "21fb2373fc994b87a6926c5ebf1d22c6": {
          "model_module": "@jupyter-widgets/controls",
          "model_name": "ProgressStyleModel",
          "state": {
            "_view_name": "StyleView",
            "_model_name": "ProgressStyleModel",
            "description_width": "initial",
            "_view_module": "@jupyter-widgets/base",
            "_model_module_version": "1.5.0",
            "_view_count": null,
            "_view_module_version": "1.2.0",
            "bar_color": null,
            "_model_module": "@jupyter-widgets/controls"
          }
        },
        "189d81356d5b4a9e95539094357cf18e": {
          "model_module": "@jupyter-widgets/base",
          "model_name": "LayoutModel",
          "state": {
            "_view_name": "LayoutView",
            "grid_template_rows": null,
            "right": null,
            "justify_content": null,
            "_view_module": "@jupyter-widgets/base",
            "overflow": null,
            "_model_module_version": "1.2.0",
            "_view_count": null,
            "flex_flow": null,
            "width": null,
            "min_width": null,
            "border": null,
            "align_items": null,
            "bottom": null,
            "_model_module": "@jupyter-widgets/base",
            "top": null,
            "grid_column": null,
            "overflow_y": null,
            "overflow_x": null,
            "grid_auto_flow": null,
            "grid_area": null,
            "grid_template_columns": null,
            "flex": null,
            "_model_name": "LayoutModel",
            "justify_items": null,
            "grid_row": null,
            "max_height": null,
            "align_content": null,
            "visibility": null,
            "align_self": null,
            "height": null,
            "min_height": null,
            "padding": null,
            "grid_auto_rows": null,
            "grid_gap": null,
            "max_width": null,
            "order": null,
            "_view_module_version": "1.2.0",
            "grid_template_areas": null,
            "object_position": null,
            "object_fit": null,
            "grid_auto_columns": null,
            "margin": null,
            "display": null,
            "left": null
          }
        },
        "7f2c4a6a660f46bb92fd01119fdbfca4": {
          "model_module": "@jupyter-widgets/controls",
          "model_name": "DescriptionStyleModel",
          "state": {
            "_view_name": "StyleView",
            "_model_name": "DescriptionStyleModel",
            "description_width": "",
            "_view_module": "@jupyter-widgets/base",
            "_model_module_version": "1.5.0",
            "_view_count": null,
            "_view_module_version": "1.2.0",
            "_model_module": "@jupyter-widgets/controls"
          }
        },
        "625aa59a61d44f43a7d3565eb318cd0f": {
          "model_module": "@jupyter-widgets/base",
          "model_name": "LayoutModel",
          "state": {
            "_view_name": "LayoutView",
            "grid_template_rows": null,
            "right": null,
            "justify_content": null,
            "_view_module": "@jupyter-widgets/base",
            "overflow": null,
            "_model_module_version": "1.2.0",
            "_view_count": null,
            "flex_flow": null,
            "width": null,
            "min_width": null,
            "border": null,
            "align_items": null,
            "bottom": null,
            "_model_module": "@jupyter-widgets/base",
            "top": null,
            "grid_column": null,
            "overflow_y": null,
            "overflow_x": null,
            "grid_auto_flow": null,
            "grid_area": null,
            "grid_template_columns": null,
            "flex": null,
            "_model_name": "LayoutModel",
            "justify_items": null,
            "grid_row": null,
            "max_height": null,
            "align_content": null,
            "visibility": null,
            "align_self": null,
            "height": null,
            "min_height": null,
            "padding": null,
            "grid_auto_rows": null,
            "grid_gap": null,
            "max_width": null,
            "order": null,
            "_view_module_version": "1.2.0",
            "grid_template_areas": null,
            "object_position": null,
            "object_fit": null,
            "grid_auto_columns": null,
            "margin": null,
            "display": null,
            "left": null
          }
        },
        "d1f09bbffec54eae88b40348cb6c6e29": {
          "model_module": "@jupyter-widgets/controls",
          "model_name": "HBoxModel",
          "state": {
            "_view_name": "HBoxView",
            "_dom_classes": [],
            "_model_name": "HBoxModel",
            "_view_module": "@jupyter-widgets/controls",
            "_model_module_version": "1.5.0",
            "_view_count": null,
            "_view_module_version": "1.5.0",
            "box_style": "",
            "layout": "IPY_MODEL_af71ccb19cc547269f1ed220284acc53",
            "_model_module": "@jupyter-widgets/controls",
            "children": [
              "IPY_MODEL_d4bc1af4ee034901acda50fe0310b9dd",
              "IPY_MODEL_4c5515f52f0140bdab69ea1e630d0200"
            ]
          }
        },
        "af71ccb19cc547269f1ed220284acc53": {
          "model_module": "@jupyter-widgets/base",
          "model_name": "LayoutModel",
          "state": {
            "_view_name": "LayoutView",
            "grid_template_rows": null,
            "right": null,
            "justify_content": null,
            "_view_module": "@jupyter-widgets/base",
            "overflow": null,
            "_model_module_version": "1.2.0",
            "_view_count": null,
            "flex_flow": null,
            "width": null,
            "min_width": null,
            "border": null,
            "align_items": null,
            "bottom": null,
            "_model_module": "@jupyter-widgets/base",
            "top": null,
            "grid_column": null,
            "overflow_y": null,
            "overflow_x": null,
            "grid_auto_flow": null,
            "grid_area": null,
            "grid_template_columns": null,
            "flex": null,
            "_model_name": "LayoutModel",
            "justify_items": null,
            "grid_row": null,
            "max_height": null,
            "align_content": null,
            "visibility": null,
            "align_self": null,
            "height": null,
            "min_height": null,
            "padding": null,
            "grid_auto_rows": null,
            "grid_gap": null,
            "max_width": null,
            "order": null,
            "_view_module_version": "1.2.0",
            "grid_template_areas": null,
            "object_position": null,
            "object_fit": null,
            "grid_auto_columns": null,
            "margin": null,
            "display": null,
            "left": null
          }
        },
        "d4bc1af4ee034901acda50fe0310b9dd": {
          "model_module": "@jupyter-widgets/controls",
          "model_name": "IntProgressModel",
          "state": {
            "_view_name": "ProgressView",
            "style": "IPY_MODEL_53322bf59c2a4788b4ad4ba9dd4c5ab3",
            "_dom_classes": [],
            "description": "100%",
            "_model_name": "IntProgressModel",
            "bar_style": "success",
            "max": 1804874,
            "_view_module": "@jupyter-widgets/controls",
            "_model_module_version": "1.5.0",
            "value": 1804874,
            "_view_count": null,
            "_view_module_version": "1.5.0",
            "orientation": "horizontal",
            "min": 0,
            "description_tooltip": null,
            "_model_module": "@jupyter-widgets/controls",
            "layout": "IPY_MODEL_62599e4eae994416b296a4848b176cd4"
          }
        },
        "4c5515f52f0140bdab69ea1e630d0200": {
          "model_module": "@jupyter-widgets/controls",
          "model_name": "HTMLModel",
          "state": {
            "_view_name": "HTMLView",
            "style": "IPY_MODEL_b52d7e4bb94d42ad975a6912a449ce9f",
            "_dom_classes": [],
            "description": "",
            "_model_name": "HTMLModel",
            "placeholder": "​",
            "_view_module": "@jupyter-widgets/controls",
            "_model_module_version": "1.5.0",
            "value": " 1804874/1804874 [00:57&lt;00:00, 31336.40it/s]",
            "_view_count": null,
            "_view_module_version": "1.5.0",
            "description_tooltip": null,
            "_model_module": "@jupyter-widgets/controls",
            "layout": "IPY_MODEL_0bfb0b07b66f4a3ba412f9cd5098b53e"
          }
        },
        "53322bf59c2a4788b4ad4ba9dd4c5ab3": {
          "model_module": "@jupyter-widgets/controls",
          "model_name": "ProgressStyleModel",
          "state": {
            "_view_name": "StyleView",
            "_model_name": "ProgressStyleModel",
            "description_width": "initial",
            "_view_module": "@jupyter-widgets/base",
            "_model_module_version": "1.5.0",
            "_view_count": null,
            "_view_module_version": "1.2.0",
            "bar_color": null,
            "_model_module": "@jupyter-widgets/controls"
          }
        },
        "62599e4eae994416b296a4848b176cd4": {
          "model_module": "@jupyter-widgets/base",
          "model_name": "LayoutModel",
          "state": {
            "_view_name": "LayoutView",
            "grid_template_rows": null,
            "right": null,
            "justify_content": null,
            "_view_module": "@jupyter-widgets/base",
            "overflow": null,
            "_model_module_version": "1.2.0",
            "_view_count": null,
            "flex_flow": null,
            "width": null,
            "min_width": null,
            "border": null,
            "align_items": null,
            "bottom": null,
            "_model_module": "@jupyter-widgets/base",
            "top": null,
            "grid_column": null,
            "overflow_y": null,
            "overflow_x": null,
            "grid_auto_flow": null,
            "grid_area": null,
            "grid_template_columns": null,
            "flex": null,
            "_model_name": "LayoutModel",
            "justify_items": null,
            "grid_row": null,
            "max_height": null,
            "align_content": null,
            "visibility": null,
            "align_self": null,
            "height": null,
            "min_height": null,
            "padding": null,
            "grid_auto_rows": null,
            "grid_gap": null,
            "max_width": null,
            "order": null,
            "_view_module_version": "1.2.0",
            "grid_template_areas": null,
            "object_position": null,
            "object_fit": null,
            "grid_auto_columns": null,
            "margin": null,
            "display": null,
            "left": null
          }
        },
        "b52d7e4bb94d42ad975a6912a449ce9f": {
          "model_module": "@jupyter-widgets/controls",
          "model_name": "DescriptionStyleModel",
          "state": {
            "_view_name": "StyleView",
            "_model_name": "DescriptionStyleModel",
            "description_width": "",
            "_view_module": "@jupyter-widgets/base",
            "_model_module_version": "1.5.0",
            "_view_count": null,
            "_view_module_version": "1.2.0",
            "_model_module": "@jupyter-widgets/controls"
          }
        },
        "0bfb0b07b66f4a3ba412f9cd5098b53e": {
          "model_module": "@jupyter-widgets/base",
          "model_name": "LayoutModel",
          "state": {
            "_view_name": "LayoutView",
            "grid_template_rows": null,
            "right": null,
            "justify_content": null,
            "_view_module": "@jupyter-widgets/base",
            "overflow": null,
            "_model_module_version": "1.2.0",
            "_view_count": null,
            "flex_flow": null,
            "width": null,
            "min_width": null,
            "border": null,
            "align_items": null,
            "bottom": null,
            "_model_module": "@jupyter-widgets/base",
            "top": null,
            "grid_column": null,
            "overflow_y": null,
            "overflow_x": null,
            "grid_auto_flow": null,
            "grid_area": null,
            "grid_template_columns": null,
            "flex": null,
            "_model_name": "LayoutModel",
            "justify_items": null,
            "grid_row": null,
            "max_height": null,
            "align_content": null,
            "visibility": null,
            "align_self": null,
            "height": null,
            "min_height": null,
            "padding": null,
            "grid_auto_rows": null,
            "grid_gap": null,
            "max_width": null,
            "order": null,
            "_view_module_version": "1.2.0",
            "grid_template_areas": null,
            "object_position": null,
            "object_fit": null,
            "grid_auto_columns": null,
            "margin": null,
            "display": null,
            "left": null
          }
        },
        "c58cc0c7ec924a439e1701988f4f6887": {
          "model_module": "@jupyter-widgets/controls",
          "model_name": "HBoxModel",
          "state": {
            "_view_name": "HBoxView",
            "_dom_classes": [],
            "_model_name": "HBoxModel",
            "_view_module": "@jupyter-widgets/controls",
            "_model_module_version": "1.5.0",
            "_view_count": null,
            "_view_module_version": "1.5.0",
            "box_style": "",
            "layout": "IPY_MODEL_4df9a7502cad49aa83c6e9a0344a2e82",
            "_model_module": "@jupyter-widgets/controls",
            "children": [
              "IPY_MODEL_8d0f98c4347d48f9bdd8fa5a7aeeb38c",
              "IPY_MODEL_cf73cd906ca548f481e437d608a29d01"
            ]
          }
        },
        "4df9a7502cad49aa83c6e9a0344a2e82": {
          "model_module": "@jupyter-widgets/base",
          "model_name": "LayoutModel",
          "state": {
            "_view_name": "LayoutView",
            "grid_template_rows": null,
            "right": null,
            "justify_content": null,
            "_view_module": "@jupyter-widgets/base",
            "overflow": null,
            "_model_module_version": "1.2.0",
            "_view_count": null,
            "flex_flow": null,
            "width": null,
            "min_width": null,
            "border": null,
            "align_items": null,
            "bottom": null,
            "_model_module": "@jupyter-widgets/base",
            "top": null,
            "grid_column": null,
            "overflow_y": null,
            "overflow_x": null,
            "grid_auto_flow": null,
            "grid_area": null,
            "grid_template_columns": null,
            "flex": null,
            "_model_name": "LayoutModel",
            "justify_items": null,
            "grid_row": null,
            "max_height": null,
            "align_content": null,
            "visibility": null,
            "align_self": null,
            "height": null,
            "min_height": null,
            "padding": null,
            "grid_auto_rows": null,
            "grid_gap": null,
            "max_width": null,
            "order": null,
            "_view_module_version": "1.2.0",
            "grid_template_areas": null,
            "object_position": null,
            "object_fit": null,
            "grid_auto_columns": null,
            "margin": null,
            "display": null,
            "left": null
          }
        },
        "8d0f98c4347d48f9bdd8fa5a7aeeb38c": {
          "model_module": "@jupyter-widgets/controls",
          "model_name": "IntProgressModel",
          "state": {
            "_view_name": "ProgressView",
            "style": "IPY_MODEL_614a6396241f47f3862d5f4e4c81d558",
            "_dom_classes": [],
            "description": "100%",
            "_model_name": "IntProgressModel",
            "bar_style": "success",
            "max": 1804874,
            "_view_module": "@jupyter-widgets/controls",
            "_model_module_version": "1.5.0",
            "value": 1804874,
            "_view_count": null,
            "_view_module_version": "1.5.0",
            "orientation": "horizontal",
            "min": 0,
            "description_tooltip": null,
            "_model_module": "@jupyter-widgets/controls",
            "layout": "IPY_MODEL_cc53d73d9bc644eab6bd7f2973b44d84"
          }
        },
        "cf73cd906ca548f481e437d608a29d01": {
          "model_module": "@jupyter-widgets/controls",
          "model_name": "HTMLModel",
          "state": {
            "_view_name": "HTMLView",
            "style": "IPY_MODEL_f03ce79c10354bca9934ced700d5d3dc",
            "_dom_classes": [],
            "description": "",
            "_model_name": "HTMLModel",
            "placeholder": "​",
            "_view_module": "@jupyter-widgets/controls",
            "_model_module_version": "1.5.0",
            "value": " 1804874/1804874 [00:54&lt;00:00, 33324.25it/s]",
            "_view_count": null,
            "_view_module_version": "1.5.0",
            "description_tooltip": null,
            "_model_module": "@jupyter-widgets/controls",
            "layout": "IPY_MODEL_80387985e0ab48aaa1820f34bc6d44e8"
          }
        },
        "614a6396241f47f3862d5f4e4c81d558": {
          "model_module": "@jupyter-widgets/controls",
          "model_name": "ProgressStyleModel",
          "state": {
            "_view_name": "StyleView",
            "_model_name": "ProgressStyleModel",
            "description_width": "initial",
            "_view_module": "@jupyter-widgets/base",
            "_model_module_version": "1.5.0",
            "_view_count": null,
            "_view_module_version": "1.2.0",
            "bar_color": null,
            "_model_module": "@jupyter-widgets/controls"
          }
        },
        "cc53d73d9bc644eab6bd7f2973b44d84": {
          "model_module": "@jupyter-widgets/base",
          "model_name": "LayoutModel",
          "state": {
            "_view_name": "LayoutView",
            "grid_template_rows": null,
            "right": null,
            "justify_content": null,
            "_view_module": "@jupyter-widgets/base",
            "overflow": null,
            "_model_module_version": "1.2.0",
            "_view_count": null,
            "flex_flow": null,
            "width": null,
            "min_width": null,
            "border": null,
            "align_items": null,
            "bottom": null,
            "_model_module": "@jupyter-widgets/base",
            "top": null,
            "grid_column": null,
            "overflow_y": null,
            "overflow_x": null,
            "grid_auto_flow": null,
            "grid_area": null,
            "grid_template_columns": null,
            "flex": null,
            "_model_name": "LayoutModel",
            "justify_items": null,
            "grid_row": null,
            "max_height": null,
            "align_content": null,
            "visibility": null,
            "align_self": null,
            "height": null,
            "min_height": null,
            "padding": null,
            "grid_auto_rows": null,
            "grid_gap": null,
            "max_width": null,
            "order": null,
            "_view_module_version": "1.2.0",
            "grid_template_areas": null,
            "object_position": null,
            "object_fit": null,
            "grid_auto_columns": null,
            "margin": null,
            "display": null,
            "left": null
          }
        },
        "f03ce79c10354bca9934ced700d5d3dc": {
          "model_module": "@jupyter-widgets/controls",
          "model_name": "DescriptionStyleModel",
          "state": {
            "_view_name": "StyleView",
            "_model_name": "DescriptionStyleModel",
            "description_width": "",
            "_view_module": "@jupyter-widgets/base",
            "_model_module_version": "1.5.0",
            "_view_count": null,
            "_view_module_version": "1.2.0",
            "_model_module": "@jupyter-widgets/controls"
          }
        },
        "80387985e0ab48aaa1820f34bc6d44e8": {
          "model_module": "@jupyter-widgets/base",
          "model_name": "LayoutModel",
          "state": {
            "_view_name": "LayoutView",
            "grid_template_rows": null,
            "right": null,
            "justify_content": null,
            "_view_module": "@jupyter-widgets/base",
            "overflow": null,
            "_model_module_version": "1.2.0",
            "_view_count": null,
            "flex_flow": null,
            "width": null,
            "min_width": null,
            "border": null,
            "align_items": null,
            "bottom": null,
            "_model_module": "@jupyter-widgets/base",
            "top": null,
            "grid_column": null,
            "overflow_y": null,
            "overflow_x": null,
            "grid_auto_flow": null,
            "grid_area": null,
            "grid_template_columns": null,
            "flex": null,
            "_model_name": "LayoutModel",
            "justify_items": null,
            "grid_row": null,
            "max_height": null,
            "align_content": null,
            "visibility": null,
            "align_self": null,
            "height": null,
            "min_height": null,
            "padding": null,
            "grid_auto_rows": null,
            "grid_gap": null,
            "max_width": null,
            "order": null,
            "_view_module_version": "1.2.0",
            "grid_template_areas": null,
            "object_position": null,
            "object_fit": null,
            "grid_auto_columns": null,
            "margin": null,
            "display": null,
            "left": null
          }
        },
        "c87e414bfaf54dd5a7fcb137099f7637": {
          "model_module": "@jupyter-widgets/controls",
          "model_name": "HBoxModel",
          "state": {
            "_view_name": "HBoxView",
            "_dom_classes": [],
            "_model_name": "HBoxModel",
            "_view_module": "@jupyter-widgets/controls",
            "_model_module_version": "1.5.0",
            "_view_count": null,
            "_view_module_version": "1.5.0",
            "box_style": "",
            "layout": "IPY_MODEL_53e3033f09b644d7be34e39053d63e66",
            "_model_module": "@jupyter-widgets/controls",
            "children": [
              "IPY_MODEL_9ba22bd21b7a48f2957211e672883287",
              "IPY_MODEL_8536258695cb4043b60c7caf86f6e095"
            ]
          }
        },
        "53e3033f09b644d7be34e39053d63e66": {
          "model_module": "@jupyter-widgets/base",
          "model_name": "LayoutModel",
          "state": {
            "_view_name": "LayoutView",
            "grid_template_rows": null,
            "right": null,
            "justify_content": null,
            "_view_module": "@jupyter-widgets/base",
            "overflow": null,
            "_model_module_version": "1.2.0",
            "_view_count": null,
            "flex_flow": null,
            "width": null,
            "min_width": null,
            "border": null,
            "align_items": null,
            "bottom": null,
            "_model_module": "@jupyter-widgets/base",
            "top": null,
            "grid_column": null,
            "overflow_y": null,
            "overflow_x": null,
            "grid_auto_flow": null,
            "grid_area": null,
            "grid_template_columns": null,
            "flex": null,
            "_model_name": "LayoutModel",
            "justify_items": null,
            "grid_row": null,
            "max_height": null,
            "align_content": null,
            "visibility": null,
            "align_self": null,
            "height": null,
            "min_height": null,
            "padding": null,
            "grid_auto_rows": null,
            "grid_gap": null,
            "max_width": null,
            "order": null,
            "_view_module_version": "1.2.0",
            "grid_template_areas": null,
            "object_position": null,
            "object_fit": null,
            "grid_auto_columns": null,
            "margin": null,
            "display": null,
            "left": null
          }
        },
        "9ba22bd21b7a48f2957211e672883287": {
          "model_module": "@jupyter-widgets/controls",
          "model_name": "IntProgressModel",
          "state": {
            "_view_name": "ProgressView",
            "style": "IPY_MODEL_547d5221f25b47ceb27ce35218682e9c",
            "_dom_classes": [],
            "description": "100%",
            "_model_name": "IntProgressModel",
            "bar_style": "success",
            "max": 1804874,
            "_view_module": "@jupyter-widgets/controls",
            "_model_module_version": "1.5.0",
            "value": 1804874,
            "_view_count": null,
            "_view_module_version": "1.5.0",
            "orientation": "horizontal",
            "min": 0,
            "description_tooltip": null,
            "_model_module": "@jupyter-widgets/controls",
            "layout": "IPY_MODEL_a1d599c67bc64a25bf8ba4e6b6076f8e"
          }
        },
        "8536258695cb4043b60c7caf86f6e095": {
          "model_module": "@jupyter-widgets/controls",
          "model_name": "HTMLModel",
          "state": {
            "_view_name": "HTMLView",
            "style": "IPY_MODEL_94821f96b90342f69d50f394bcc12cf1",
            "_dom_classes": [],
            "description": "",
            "_model_name": "HTMLModel",
            "placeholder": "​",
            "_view_module": "@jupyter-widgets/controls",
            "_model_module_version": "1.5.0",
            "value": " 1804874/1804874 [06:15&lt;00:00, 4800.96it/s]",
            "_view_count": null,
            "_view_module_version": "1.5.0",
            "description_tooltip": null,
            "_model_module": "@jupyter-widgets/controls",
            "layout": "IPY_MODEL_dc44c39d119545af9f7a9913bc2c5282"
          }
        },
        "547d5221f25b47ceb27ce35218682e9c": {
          "model_module": "@jupyter-widgets/controls",
          "model_name": "ProgressStyleModel",
          "state": {
            "_view_name": "StyleView",
            "_model_name": "ProgressStyleModel",
            "description_width": "initial",
            "_view_module": "@jupyter-widgets/base",
            "_model_module_version": "1.5.0",
            "_view_count": null,
            "_view_module_version": "1.2.0",
            "bar_color": null,
            "_model_module": "@jupyter-widgets/controls"
          }
        },
        "a1d599c67bc64a25bf8ba4e6b6076f8e": {
          "model_module": "@jupyter-widgets/base",
          "model_name": "LayoutModel",
          "state": {
            "_view_name": "LayoutView",
            "grid_template_rows": null,
            "right": null,
            "justify_content": null,
            "_view_module": "@jupyter-widgets/base",
            "overflow": null,
            "_model_module_version": "1.2.0",
            "_view_count": null,
            "flex_flow": null,
            "width": null,
            "min_width": null,
            "border": null,
            "align_items": null,
            "bottom": null,
            "_model_module": "@jupyter-widgets/base",
            "top": null,
            "grid_column": null,
            "overflow_y": null,
            "overflow_x": null,
            "grid_auto_flow": null,
            "grid_area": null,
            "grid_template_columns": null,
            "flex": null,
            "_model_name": "LayoutModel",
            "justify_items": null,
            "grid_row": null,
            "max_height": null,
            "align_content": null,
            "visibility": null,
            "align_self": null,
            "height": null,
            "min_height": null,
            "padding": null,
            "grid_auto_rows": null,
            "grid_gap": null,
            "max_width": null,
            "order": null,
            "_view_module_version": "1.2.0",
            "grid_template_areas": null,
            "object_position": null,
            "object_fit": null,
            "grid_auto_columns": null,
            "margin": null,
            "display": null,
            "left": null
          }
        },
        "94821f96b90342f69d50f394bcc12cf1": {
          "model_module": "@jupyter-widgets/controls",
          "model_name": "DescriptionStyleModel",
          "state": {
            "_view_name": "StyleView",
            "_model_name": "DescriptionStyleModel",
            "description_width": "",
            "_view_module": "@jupyter-widgets/base",
            "_model_module_version": "1.5.0",
            "_view_count": null,
            "_view_module_version": "1.2.0",
            "_model_module": "@jupyter-widgets/controls"
          }
        },
        "dc44c39d119545af9f7a9913bc2c5282": {
          "model_module": "@jupyter-widgets/base",
          "model_name": "LayoutModel",
          "state": {
            "_view_name": "LayoutView",
            "grid_template_rows": null,
            "right": null,
            "justify_content": null,
            "_view_module": "@jupyter-widgets/base",
            "overflow": null,
            "_model_module_version": "1.2.0",
            "_view_count": null,
            "flex_flow": null,
            "width": null,
            "min_width": null,
            "border": null,
            "align_items": null,
            "bottom": null,
            "_model_module": "@jupyter-widgets/base",
            "top": null,
            "grid_column": null,
            "overflow_y": null,
            "overflow_x": null,
            "grid_auto_flow": null,
            "grid_area": null,
            "grid_template_columns": null,
            "flex": null,
            "_model_name": "LayoutModel",
            "justify_items": null,
            "grid_row": null,
            "max_height": null,
            "align_content": null,
            "visibility": null,
            "align_self": null,
            "height": null,
            "min_height": null,
            "padding": null,
            "grid_auto_rows": null,
            "grid_gap": null,
            "max_width": null,
            "order": null,
            "_view_module_version": "1.2.0",
            "grid_template_areas": null,
            "object_position": null,
            "object_fit": null,
            "grid_auto_columns": null,
            "margin": null,
            "display": null,
            "left": null
          }
        },
        "face1d385fe04f78b742ac4f1ed01026": {
          "model_module": "@jupyter-widgets/controls",
          "model_name": "HBoxModel",
          "state": {
            "_view_name": "HBoxView",
            "_dom_classes": [],
            "_model_name": "HBoxModel",
            "_view_module": "@jupyter-widgets/controls",
            "_model_module_version": "1.5.0",
            "_view_count": null,
            "_view_module_version": "1.5.0",
            "box_style": "",
            "layout": "IPY_MODEL_b82a897edb8d46a89f6910a489397957",
            "_model_module": "@jupyter-widgets/controls",
            "children": [
              "IPY_MODEL_135a4ef5699b4a808effec064a5491b8",
              "IPY_MODEL_e313c899574642e2a4337680ba16c5f1"
            ]
          }
        },
        "b82a897edb8d46a89f6910a489397957": {
          "model_module": "@jupyter-widgets/base",
          "model_name": "LayoutModel",
          "state": {
            "_view_name": "LayoutView",
            "grid_template_rows": null,
            "right": null,
            "justify_content": null,
            "_view_module": "@jupyter-widgets/base",
            "overflow": null,
            "_model_module_version": "1.2.0",
            "_view_count": null,
            "flex_flow": null,
            "width": null,
            "min_width": null,
            "border": null,
            "align_items": null,
            "bottom": null,
            "_model_module": "@jupyter-widgets/base",
            "top": null,
            "grid_column": null,
            "overflow_y": null,
            "overflow_x": null,
            "grid_auto_flow": null,
            "grid_area": null,
            "grid_template_columns": null,
            "flex": null,
            "_model_name": "LayoutModel",
            "justify_items": null,
            "grid_row": null,
            "max_height": null,
            "align_content": null,
            "visibility": null,
            "align_self": null,
            "height": null,
            "min_height": null,
            "padding": null,
            "grid_auto_rows": null,
            "grid_gap": null,
            "max_width": null,
            "order": null,
            "_view_module_version": "1.2.0",
            "grid_template_areas": null,
            "object_position": null,
            "object_fit": null,
            "grid_auto_columns": null,
            "margin": null,
            "display": null,
            "left": null
          }
        },
        "135a4ef5699b4a808effec064a5491b8": {
          "model_module": "@jupyter-widgets/controls",
          "model_name": "IntProgressModel",
          "state": {
            "_view_name": "ProgressView",
            "style": "IPY_MODEL_839836e09cfa41fea63090caa786f414",
            "_dom_classes": [],
            "description": "100%",
            "_model_name": "IntProgressModel",
            "bar_style": "success",
            "max": 1804874,
            "_view_module": "@jupyter-widgets/controls",
            "_model_module_version": "1.5.0",
            "value": 1804874,
            "_view_count": null,
            "_view_module_version": "1.5.0",
            "orientation": "horizontal",
            "min": 0,
            "description_tooltip": null,
            "_model_module": "@jupyter-widgets/controls",
            "layout": "IPY_MODEL_dd076dd0471b4f128234327158c06c95"
          }
        },
        "e313c899574642e2a4337680ba16c5f1": {
          "model_module": "@jupyter-widgets/controls",
          "model_name": "HTMLModel",
          "state": {
            "_view_name": "HTMLView",
            "style": "IPY_MODEL_249d97992b63469fb520898b9ff1f1c8",
            "_dom_classes": [],
            "description": "",
            "_model_name": "HTMLModel",
            "placeholder": "​",
            "_view_module": "@jupyter-widgets/controls",
            "_model_module_version": "1.5.0",
            "value": " 1804874/1804874 [01:23&lt;00:00, 21553.16it/s]",
            "_view_count": null,
            "_view_module_version": "1.5.0",
            "description_tooltip": null,
            "_model_module": "@jupyter-widgets/controls",
            "layout": "IPY_MODEL_b9cd71a2e90b46dc862f8561defe5283"
          }
        },
        "839836e09cfa41fea63090caa786f414": {
          "model_module": "@jupyter-widgets/controls",
          "model_name": "ProgressStyleModel",
          "state": {
            "_view_name": "StyleView",
            "_model_name": "ProgressStyleModel",
            "description_width": "initial",
            "_view_module": "@jupyter-widgets/base",
            "_model_module_version": "1.5.0",
            "_view_count": null,
            "_view_module_version": "1.2.0",
            "bar_color": null,
            "_model_module": "@jupyter-widgets/controls"
          }
        },
        "dd076dd0471b4f128234327158c06c95": {
          "model_module": "@jupyter-widgets/base",
          "model_name": "LayoutModel",
          "state": {
            "_view_name": "LayoutView",
            "grid_template_rows": null,
            "right": null,
            "justify_content": null,
            "_view_module": "@jupyter-widgets/base",
            "overflow": null,
            "_model_module_version": "1.2.0",
            "_view_count": null,
            "flex_flow": null,
            "width": null,
            "min_width": null,
            "border": null,
            "align_items": null,
            "bottom": null,
            "_model_module": "@jupyter-widgets/base",
            "top": null,
            "grid_column": null,
            "overflow_y": null,
            "overflow_x": null,
            "grid_auto_flow": null,
            "grid_area": null,
            "grid_template_columns": null,
            "flex": null,
            "_model_name": "LayoutModel",
            "justify_items": null,
            "grid_row": null,
            "max_height": null,
            "align_content": null,
            "visibility": null,
            "align_self": null,
            "height": null,
            "min_height": null,
            "padding": null,
            "grid_auto_rows": null,
            "grid_gap": null,
            "max_width": null,
            "order": null,
            "_view_module_version": "1.2.0",
            "grid_template_areas": null,
            "object_position": null,
            "object_fit": null,
            "grid_auto_columns": null,
            "margin": null,
            "display": null,
            "left": null
          }
        },
        "249d97992b63469fb520898b9ff1f1c8": {
          "model_module": "@jupyter-widgets/controls",
          "model_name": "DescriptionStyleModel",
          "state": {
            "_view_name": "StyleView",
            "_model_name": "DescriptionStyleModel",
            "description_width": "",
            "_view_module": "@jupyter-widgets/base",
            "_model_module_version": "1.5.0",
            "_view_count": null,
            "_view_module_version": "1.2.0",
            "_model_module": "@jupyter-widgets/controls"
          }
        },
        "b9cd71a2e90b46dc862f8561defe5283": {
          "model_module": "@jupyter-widgets/base",
          "model_name": "LayoutModel",
          "state": {
            "_view_name": "LayoutView",
            "grid_template_rows": null,
            "right": null,
            "justify_content": null,
            "_view_module": "@jupyter-widgets/base",
            "overflow": null,
            "_model_module_version": "1.2.0",
            "_view_count": null,
            "flex_flow": null,
            "width": null,
            "min_width": null,
            "border": null,
            "align_items": null,
            "bottom": null,
            "_model_module": "@jupyter-widgets/base",
            "top": null,
            "grid_column": null,
            "overflow_y": null,
            "overflow_x": null,
            "grid_auto_flow": null,
            "grid_area": null,
            "grid_template_columns": null,
            "flex": null,
            "_model_name": "LayoutModel",
            "justify_items": null,
            "grid_row": null,
            "max_height": null,
            "align_content": null,
            "visibility": null,
            "align_self": null,
            "height": null,
            "min_height": null,
            "padding": null,
            "grid_auto_rows": null,
            "grid_gap": null,
            "max_width": null,
            "order": null,
            "_view_module_version": "1.2.0",
            "grid_template_areas": null,
            "object_position": null,
            "object_fit": null,
            "grid_auto_columns": null,
            "margin": null,
            "display": null,
            "left": null
          }
        },
        "961895fee18148fcb95c47ec9ec96e31": {
          "model_module": "@jupyter-widgets/controls",
          "model_name": "HBoxModel",
          "state": {
            "_view_name": "HBoxView",
            "_dom_classes": [],
            "_model_name": "HBoxModel",
            "_view_module": "@jupyter-widgets/controls",
            "_model_module_version": "1.5.0",
            "_view_count": null,
            "_view_module_version": "1.5.0",
            "box_style": "",
            "layout": "IPY_MODEL_6d2862d608014fedb44c419f221c8d5b",
            "_model_module": "@jupyter-widgets/controls",
            "children": [
              "IPY_MODEL_ab17d8d0a73d4ee3b851cbeced0936a4",
              "IPY_MODEL_77326c83fd024ad5b6b49c834e8d2b93"
            ]
          }
        },
        "6d2862d608014fedb44c419f221c8d5b": {
          "model_module": "@jupyter-widgets/base",
          "model_name": "LayoutModel",
          "state": {
            "_view_name": "LayoutView",
            "grid_template_rows": null,
            "right": null,
            "justify_content": null,
            "_view_module": "@jupyter-widgets/base",
            "overflow": null,
            "_model_module_version": "1.2.0",
            "_view_count": null,
            "flex_flow": null,
            "width": null,
            "min_width": null,
            "border": null,
            "align_items": null,
            "bottom": null,
            "_model_module": "@jupyter-widgets/base",
            "top": null,
            "grid_column": null,
            "overflow_y": null,
            "overflow_x": null,
            "grid_auto_flow": null,
            "grid_area": null,
            "grid_template_columns": null,
            "flex": null,
            "_model_name": "LayoutModel",
            "justify_items": null,
            "grid_row": null,
            "max_height": null,
            "align_content": null,
            "visibility": null,
            "align_self": null,
            "height": null,
            "min_height": null,
            "padding": null,
            "grid_auto_rows": null,
            "grid_gap": null,
            "max_width": null,
            "order": null,
            "_view_module_version": "1.2.0",
            "grid_template_areas": null,
            "object_position": null,
            "object_fit": null,
            "grid_auto_columns": null,
            "margin": null,
            "display": null,
            "left": null
          }
        },
        "ab17d8d0a73d4ee3b851cbeced0936a4": {
          "model_module": "@jupyter-widgets/controls",
          "model_name": "IntProgressModel",
          "state": {
            "_view_name": "ProgressView",
            "style": "IPY_MODEL_02fd3070ef634f59818dfef42c39a74d",
            "_dom_classes": [],
            "description": "100%",
            "_model_name": "IntProgressModel",
            "bar_style": "success",
            "max": 1804874,
            "_view_module": "@jupyter-widgets/controls",
            "_model_module_version": "1.5.0",
            "value": 1804874,
            "_view_count": null,
            "_view_module_version": "1.5.0",
            "orientation": "horizontal",
            "min": 0,
            "description_tooltip": null,
            "_model_module": "@jupyter-widgets/controls",
            "layout": "IPY_MODEL_bf1e968b4c8e4a0ca495bd27427f276e"
          }
        },
        "77326c83fd024ad5b6b49c834e8d2b93": {
          "model_module": "@jupyter-widgets/controls",
          "model_name": "HTMLModel",
          "state": {
            "_view_name": "HTMLView",
            "style": "IPY_MODEL_6fc661eb52b5465ea08a00cac7ae6ff1",
            "_dom_classes": [],
            "description": "",
            "_model_name": "HTMLModel",
            "placeholder": "​",
            "_view_module": "@jupyter-widgets/controls",
            "_model_module_version": "1.5.0",
            "value": " 1804874/1804874 [01:20&lt;00:00, 22437.05it/s]",
            "_view_count": null,
            "_view_module_version": "1.5.0",
            "description_tooltip": null,
            "_model_module": "@jupyter-widgets/controls",
            "layout": "IPY_MODEL_952357d9d92e4c46b56aad29bf862d90"
          }
        },
        "02fd3070ef634f59818dfef42c39a74d": {
          "model_module": "@jupyter-widgets/controls",
          "model_name": "ProgressStyleModel",
          "state": {
            "_view_name": "StyleView",
            "_model_name": "ProgressStyleModel",
            "description_width": "initial",
            "_view_module": "@jupyter-widgets/base",
            "_model_module_version": "1.5.0",
            "_view_count": null,
            "_view_module_version": "1.2.0",
            "bar_color": null,
            "_model_module": "@jupyter-widgets/controls"
          }
        },
        "bf1e968b4c8e4a0ca495bd27427f276e": {
          "model_module": "@jupyter-widgets/base",
          "model_name": "LayoutModel",
          "state": {
            "_view_name": "LayoutView",
            "grid_template_rows": null,
            "right": null,
            "justify_content": null,
            "_view_module": "@jupyter-widgets/base",
            "overflow": null,
            "_model_module_version": "1.2.0",
            "_view_count": null,
            "flex_flow": null,
            "width": null,
            "min_width": null,
            "border": null,
            "align_items": null,
            "bottom": null,
            "_model_module": "@jupyter-widgets/base",
            "top": null,
            "grid_column": null,
            "overflow_y": null,
            "overflow_x": null,
            "grid_auto_flow": null,
            "grid_area": null,
            "grid_template_columns": null,
            "flex": null,
            "_model_name": "LayoutModel",
            "justify_items": null,
            "grid_row": null,
            "max_height": null,
            "align_content": null,
            "visibility": null,
            "align_self": null,
            "height": null,
            "min_height": null,
            "padding": null,
            "grid_auto_rows": null,
            "grid_gap": null,
            "max_width": null,
            "order": null,
            "_view_module_version": "1.2.0",
            "grid_template_areas": null,
            "object_position": null,
            "object_fit": null,
            "grid_auto_columns": null,
            "margin": null,
            "display": null,
            "left": null
          }
        },
        "6fc661eb52b5465ea08a00cac7ae6ff1": {
          "model_module": "@jupyter-widgets/controls",
          "model_name": "DescriptionStyleModel",
          "state": {
            "_view_name": "StyleView",
            "_model_name": "DescriptionStyleModel",
            "description_width": "",
            "_view_module": "@jupyter-widgets/base",
            "_model_module_version": "1.5.0",
            "_view_count": null,
            "_view_module_version": "1.2.0",
            "_model_module": "@jupyter-widgets/controls"
          }
        },
        "952357d9d92e4c46b56aad29bf862d90": {
          "model_module": "@jupyter-widgets/base",
          "model_name": "LayoutModel",
          "state": {
            "_view_name": "LayoutView",
            "grid_template_rows": null,
            "right": null,
            "justify_content": null,
            "_view_module": "@jupyter-widgets/base",
            "overflow": null,
            "_model_module_version": "1.2.0",
            "_view_count": null,
            "flex_flow": null,
            "width": null,
            "min_width": null,
            "border": null,
            "align_items": null,
            "bottom": null,
            "_model_module": "@jupyter-widgets/base",
            "top": null,
            "grid_column": null,
            "overflow_y": null,
            "overflow_x": null,
            "grid_auto_flow": null,
            "grid_area": null,
            "grid_template_columns": null,
            "flex": null,
            "_model_name": "LayoutModel",
            "justify_items": null,
            "grid_row": null,
            "max_height": null,
            "align_content": null,
            "visibility": null,
            "align_self": null,
            "height": null,
            "min_height": null,
            "padding": null,
            "grid_auto_rows": null,
            "grid_gap": null,
            "max_width": null,
            "order": null,
            "_view_module_version": "1.2.0",
            "grid_template_areas": null,
            "object_position": null,
            "object_fit": null,
            "grid_auto_columns": null,
            "margin": null,
            "display": null,
            "left": null
          }
        },
        "48b88bfb9dd74204a23bacea7d5b6c09": {
          "model_module": "@jupyter-widgets/controls",
          "model_name": "HBoxModel",
          "state": {
            "_view_name": "HBoxView",
            "_dom_classes": [],
            "_model_name": "HBoxModel",
            "_view_module": "@jupyter-widgets/controls",
            "_model_module_version": "1.5.0",
            "_view_count": null,
            "_view_module_version": "1.5.0",
            "box_style": "",
            "layout": "IPY_MODEL_6d4d7a611ed04bdbaf55f889dd477f82",
            "_model_module": "@jupyter-widgets/controls",
            "children": [
              "IPY_MODEL_b5a10aada115426da3ee47cceebc0c5f",
              "IPY_MODEL_ec17ffe9287c4946a3ee8d42f272a423"
            ]
          }
        },
        "6d4d7a611ed04bdbaf55f889dd477f82": {
          "model_module": "@jupyter-widgets/base",
          "model_name": "LayoutModel",
          "state": {
            "_view_name": "LayoutView",
            "grid_template_rows": null,
            "right": null,
            "justify_content": null,
            "_view_module": "@jupyter-widgets/base",
            "overflow": null,
            "_model_module_version": "1.2.0",
            "_view_count": null,
            "flex_flow": null,
            "width": null,
            "min_width": null,
            "border": null,
            "align_items": null,
            "bottom": null,
            "_model_module": "@jupyter-widgets/base",
            "top": null,
            "grid_column": null,
            "overflow_y": null,
            "overflow_x": null,
            "grid_auto_flow": null,
            "grid_area": null,
            "grid_template_columns": null,
            "flex": null,
            "_model_name": "LayoutModel",
            "justify_items": null,
            "grid_row": null,
            "max_height": null,
            "align_content": null,
            "visibility": null,
            "align_self": null,
            "height": null,
            "min_height": null,
            "padding": null,
            "grid_auto_rows": null,
            "grid_gap": null,
            "max_width": null,
            "order": null,
            "_view_module_version": "1.2.0",
            "grid_template_areas": null,
            "object_position": null,
            "object_fit": null,
            "grid_auto_columns": null,
            "margin": null,
            "display": null,
            "left": null
          }
        },
        "b5a10aada115426da3ee47cceebc0c5f": {
          "model_module": "@jupyter-widgets/controls",
          "model_name": "IntProgressModel",
          "state": {
            "_view_name": "ProgressView",
            "style": "IPY_MODEL_9ba3050837084927b4e6b0e926a86bb7",
            "_dom_classes": [],
            "description": "100%",
            "_model_name": "IntProgressModel",
            "bar_style": "success",
            "max": 1804874,
            "_view_module": "@jupyter-widgets/controls",
            "_model_module_version": "1.5.0",
            "value": 1804874,
            "_view_count": null,
            "_view_module_version": "1.5.0",
            "orientation": "horizontal",
            "min": 0,
            "description_tooltip": null,
            "_model_module": "@jupyter-widgets/controls",
            "layout": "IPY_MODEL_25b9215571f24d69b38048fa5b54b6e9"
          }
        },
        "ec17ffe9287c4946a3ee8d42f272a423": {
          "model_module": "@jupyter-widgets/controls",
          "model_name": "HTMLModel",
          "state": {
            "_view_name": "HTMLView",
            "style": "IPY_MODEL_f4e64ce0ee2f42ca8e71807dbc13b18b",
            "_dom_classes": [],
            "description": "",
            "_model_name": "HTMLModel",
            "placeholder": "​",
            "_view_module": "@jupyter-widgets/controls",
            "_model_module_version": "1.5.0",
            "value": " 1804874/1804874 [00:44&lt;00:00, 40362.61it/s]",
            "_view_count": null,
            "_view_module_version": "1.5.0",
            "description_tooltip": null,
            "_model_module": "@jupyter-widgets/controls",
            "layout": "IPY_MODEL_cd25233554514e4689940ff84b3adf9a"
          }
        },
        "9ba3050837084927b4e6b0e926a86bb7": {
          "model_module": "@jupyter-widgets/controls",
          "model_name": "ProgressStyleModel",
          "state": {
            "_view_name": "StyleView",
            "_model_name": "ProgressStyleModel",
            "description_width": "initial",
            "_view_module": "@jupyter-widgets/base",
            "_model_module_version": "1.5.0",
            "_view_count": null,
            "_view_module_version": "1.2.0",
            "bar_color": null,
            "_model_module": "@jupyter-widgets/controls"
          }
        },
        "25b9215571f24d69b38048fa5b54b6e9": {
          "model_module": "@jupyter-widgets/base",
          "model_name": "LayoutModel",
          "state": {
            "_view_name": "LayoutView",
            "grid_template_rows": null,
            "right": null,
            "justify_content": null,
            "_view_module": "@jupyter-widgets/base",
            "overflow": null,
            "_model_module_version": "1.2.0",
            "_view_count": null,
            "flex_flow": null,
            "width": null,
            "min_width": null,
            "border": null,
            "align_items": null,
            "bottom": null,
            "_model_module": "@jupyter-widgets/base",
            "top": null,
            "grid_column": null,
            "overflow_y": null,
            "overflow_x": null,
            "grid_auto_flow": null,
            "grid_area": null,
            "grid_template_columns": null,
            "flex": null,
            "_model_name": "LayoutModel",
            "justify_items": null,
            "grid_row": null,
            "max_height": null,
            "align_content": null,
            "visibility": null,
            "align_self": null,
            "height": null,
            "min_height": null,
            "padding": null,
            "grid_auto_rows": null,
            "grid_gap": null,
            "max_width": null,
            "order": null,
            "_view_module_version": "1.2.0",
            "grid_template_areas": null,
            "object_position": null,
            "object_fit": null,
            "grid_auto_columns": null,
            "margin": null,
            "display": null,
            "left": null
          }
        },
        "f4e64ce0ee2f42ca8e71807dbc13b18b": {
          "model_module": "@jupyter-widgets/controls",
          "model_name": "DescriptionStyleModel",
          "state": {
            "_view_name": "StyleView",
            "_model_name": "DescriptionStyleModel",
            "description_width": "",
            "_view_module": "@jupyter-widgets/base",
            "_model_module_version": "1.5.0",
            "_view_count": null,
            "_view_module_version": "1.2.0",
            "_model_module": "@jupyter-widgets/controls"
          }
        },
        "cd25233554514e4689940ff84b3adf9a": {
          "model_module": "@jupyter-widgets/base",
          "model_name": "LayoutModel",
          "state": {
            "_view_name": "LayoutView",
            "grid_template_rows": null,
            "right": null,
            "justify_content": null,
            "_view_module": "@jupyter-widgets/base",
            "overflow": null,
            "_model_module_version": "1.2.0",
            "_view_count": null,
            "flex_flow": null,
            "width": null,
            "min_width": null,
            "border": null,
            "align_items": null,
            "bottom": null,
            "_model_module": "@jupyter-widgets/base",
            "top": null,
            "grid_column": null,
            "overflow_y": null,
            "overflow_x": null,
            "grid_auto_flow": null,
            "grid_area": null,
            "grid_template_columns": null,
            "flex": null,
            "_model_name": "LayoutModel",
            "justify_items": null,
            "grid_row": null,
            "max_height": null,
            "align_content": null,
            "visibility": null,
            "align_self": null,
            "height": null,
            "min_height": null,
            "padding": null,
            "grid_auto_rows": null,
            "grid_gap": null,
            "max_width": null,
            "order": null,
            "_view_module_version": "1.2.0",
            "grid_template_areas": null,
            "object_position": null,
            "object_fit": null,
            "grid_auto_columns": null,
            "margin": null,
            "display": null,
            "left": null
          }
        },
        "4d9c12b397624fc981357239ef31049d": {
          "model_module": "@jupyter-widgets/controls",
          "model_name": "HBoxModel",
          "state": {
            "_view_name": "HBoxView",
            "_dom_classes": [],
            "_model_name": "HBoxModel",
            "_view_module": "@jupyter-widgets/controls",
            "_model_module_version": "1.5.0",
            "_view_count": null,
            "_view_module_version": "1.5.0",
            "box_style": "",
            "layout": "IPY_MODEL_8b0cfc09196e45d1b1e73c7dddfce367",
            "_model_module": "@jupyter-widgets/controls",
            "children": [
              "IPY_MODEL_5d04523048d340d2b592c3bdc963f473",
              "IPY_MODEL_c3a0520debb94e89b9391f143646ae6c"
            ]
          }
        },
        "8b0cfc09196e45d1b1e73c7dddfce367": {
          "model_module": "@jupyter-widgets/base",
          "model_name": "LayoutModel",
          "state": {
            "_view_name": "LayoutView",
            "grid_template_rows": null,
            "right": null,
            "justify_content": null,
            "_view_module": "@jupyter-widgets/base",
            "overflow": null,
            "_model_module_version": "1.2.0",
            "_view_count": null,
            "flex_flow": null,
            "width": null,
            "min_width": null,
            "border": null,
            "align_items": null,
            "bottom": null,
            "_model_module": "@jupyter-widgets/base",
            "top": null,
            "grid_column": null,
            "overflow_y": null,
            "overflow_x": null,
            "grid_auto_flow": null,
            "grid_area": null,
            "grid_template_columns": null,
            "flex": null,
            "_model_name": "LayoutModel",
            "justify_items": null,
            "grid_row": null,
            "max_height": null,
            "align_content": null,
            "visibility": null,
            "align_self": null,
            "height": null,
            "min_height": null,
            "padding": null,
            "grid_auto_rows": null,
            "grid_gap": null,
            "max_width": null,
            "order": null,
            "_view_module_version": "1.2.0",
            "grid_template_areas": null,
            "object_position": null,
            "object_fit": null,
            "grid_auto_columns": null,
            "margin": null,
            "display": null,
            "left": null
          }
        },
        "5d04523048d340d2b592c3bdc963f473": {
          "model_module": "@jupyter-widgets/controls",
          "model_name": "IntProgressModel",
          "state": {
            "_view_name": "ProgressView",
            "style": "IPY_MODEL_5b3c005963044a04ad343a93c88f8a26",
            "_dom_classes": [],
            "description": "100%",
            "_model_name": "IntProgressModel",
            "bar_style": "success",
            "max": 433002,
            "_view_module": "@jupyter-widgets/controls",
            "_model_module_version": "1.5.0",
            "value": 433002,
            "_view_count": null,
            "_view_module_version": "1.5.0",
            "orientation": "horizontal",
            "min": 0,
            "description_tooltip": null,
            "_model_module": "@jupyter-widgets/controls",
            "layout": "IPY_MODEL_a4e82333b55e424889f6d3fd8ef32f3c"
          }
        },
        "c3a0520debb94e89b9391f143646ae6c": {
          "model_module": "@jupyter-widgets/controls",
          "model_name": "HTMLModel",
          "state": {
            "_view_name": "HTMLView",
            "style": "IPY_MODEL_692c51719061400cb21c2dd03dd5f4a1",
            "_dom_classes": [],
            "description": "",
            "_model_name": "HTMLModel",
            "placeholder": "​",
            "_view_module": "@jupyter-widgets/controls",
            "_model_module_version": "1.5.0",
            "value": " 433002/433002 [28:57&lt;00:00, 249.19it/s]",
            "_view_count": null,
            "_view_module_version": "1.5.0",
            "description_tooltip": null,
            "_model_module": "@jupyter-widgets/controls",
            "layout": "IPY_MODEL_b21efed9e1694463984bcb8ff9fdf7af"
          }
        },
        "5b3c005963044a04ad343a93c88f8a26": {
          "model_module": "@jupyter-widgets/controls",
          "model_name": "ProgressStyleModel",
          "state": {
            "_view_name": "StyleView",
            "_model_name": "ProgressStyleModel",
            "description_width": "initial",
            "_view_module": "@jupyter-widgets/base",
            "_model_module_version": "1.5.0",
            "_view_count": null,
            "_view_module_version": "1.2.0",
            "bar_color": null,
            "_model_module": "@jupyter-widgets/controls"
          }
        },
        "a4e82333b55e424889f6d3fd8ef32f3c": {
          "model_module": "@jupyter-widgets/base",
          "model_name": "LayoutModel",
          "state": {
            "_view_name": "LayoutView",
            "grid_template_rows": null,
            "right": null,
            "justify_content": null,
            "_view_module": "@jupyter-widgets/base",
            "overflow": null,
            "_model_module_version": "1.2.0",
            "_view_count": null,
            "flex_flow": null,
            "width": null,
            "min_width": null,
            "border": null,
            "align_items": null,
            "bottom": null,
            "_model_module": "@jupyter-widgets/base",
            "top": null,
            "grid_column": null,
            "overflow_y": null,
            "overflow_x": null,
            "grid_auto_flow": null,
            "grid_area": null,
            "grid_template_columns": null,
            "flex": null,
            "_model_name": "LayoutModel",
            "justify_items": null,
            "grid_row": null,
            "max_height": null,
            "align_content": null,
            "visibility": null,
            "align_self": null,
            "height": null,
            "min_height": null,
            "padding": null,
            "grid_auto_rows": null,
            "grid_gap": null,
            "max_width": null,
            "order": null,
            "_view_module_version": "1.2.0",
            "grid_template_areas": null,
            "object_position": null,
            "object_fit": null,
            "grid_auto_columns": null,
            "margin": null,
            "display": null,
            "left": null
          }
        },
        "692c51719061400cb21c2dd03dd5f4a1": {
          "model_module": "@jupyter-widgets/controls",
          "model_name": "DescriptionStyleModel",
          "state": {
            "_view_name": "StyleView",
            "_model_name": "DescriptionStyleModel",
            "description_width": "",
            "_view_module": "@jupyter-widgets/base",
            "_model_module_version": "1.5.0",
            "_view_count": null,
            "_view_module_version": "1.2.0",
            "_model_module": "@jupyter-widgets/controls"
          }
        },
        "b21efed9e1694463984bcb8ff9fdf7af": {
          "model_module": "@jupyter-widgets/base",
          "model_name": "LayoutModel",
          "state": {
            "_view_name": "LayoutView",
            "grid_template_rows": null,
            "right": null,
            "justify_content": null,
            "_view_module": "@jupyter-widgets/base",
            "overflow": null,
            "_model_module_version": "1.2.0",
            "_view_count": null,
            "flex_flow": null,
            "width": null,
            "min_width": null,
            "border": null,
            "align_items": null,
            "bottom": null,
            "_model_module": "@jupyter-widgets/base",
            "top": null,
            "grid_column": null,
            "overflow_y": null,
            "overflow_x": null,
            "grid_auto_flow": null,
            "grid_area": null,
            "grid_template_columns": null,
            "flex": null,
            "_model_name": "LayoutModel",
            "justify_items": null,
            "grid_row": null,
            "max_height": null,
            "align_content": null,
            "visibility": null,
            "align_self": null,
            "height": null,
            "min_height": null,
            "padding": null,
            "grid_auto_rows": null,
            "grid_gap": null,
            "max_width": null,
            "order": null,
            "_view_module_version": "1.2.0",
            "grid_template_areas": null,
            "object_position": null,
            "object_fit": null,
            "grid_auto_columns": null,
            "margin": null,
            "display": null,
            "left": null
          }
        },
        "0192a5b58ba443b5bb054311bab601bd": {
          "model_module": "@jupyter-widgets/controls",
          "model_name": "HBoxModel",
          "state": {
            "_view_name": "HBoxView",
            "_dom_classes": [],
            "_model_name": "HBoxModel",
            "_view_module": "@jupyter-widgets/controls",
            "_model_module_version": "1.5.0",
            "_view_count": null,
            "_view_module_version": "1.5.0",
            "box_style": "",
            "layout": "IPY_MODEL_c0893f44f2974336aa3097b9f6d7b09f",
            "_model_module": "@jupyter-widgets/controls",
            "children": [
              "IPY_MODEL_9a5fa0a599be413e842cb498342c3d6e",
              "IPY_MODEL_b013aee35a484fc7b3063a9358880951"
            ]
          }
        },
        "c0893f44f2974336aa3097b9f6d7b09f": {
          "model_module": "@jupyter-widgets/base",
          "model_name": "LayoutModel",
          "state": {
            "_view_name": "LayoutView",
            "grid_template_rows": null,
            "right": null,
            "justify_content": null,
            "_view_module": "@jupyter-widgets/base",
            "overflow": null,
            "_model_module_version": "1.2.0",
            "_view_count": null,
            "flex_flow": null,
            "width": null,
            "min_width": null,
            "border": null,
            "align_items": null,
            "bottom": null,
            "_model_module": "@jupyter-widgets/base",
            "top": null,
            "grid_column": null,
            "overflow_y": null,
            "overflow_x": null,
            "grid_auto_flow": null,
            "grid_area": null,
            "grid_template_columns": null,
            "flex": null,
            "_model_name": "LayoutModel",
            "justify_items": null,
            "grid_row": null,
            "max_height": null,
            "align_content": null,
            "visibility": null,
            "align_self": null,
            "height": null,
            "min_height": null,
            "padding": null,
            "grid_auto_rows": null,
            "grid_gap": null,
            "max_width": null,
            "order": null,
            "_view_module_version": "1.2.0",
            "grid_template_areas": null,
            "object_position": null,
            "object_fit": null,
            "grid_auto_columns": null,
            "margin": null,
            "display": null,
            "left": null
          }
        },
        "9a5fa0a599be413e842cb498342c3d6e": {
          "model_module": "@jupyter-widgets/controls",
          "model_name": "IntProgressModel",
          "state": {
            "_view_name": "ProgressView",
            "style": "IPY_MODEL_0f1de6d47ec942608bd30bd3d3924b9f",
            "_dom_classes": [],
            "description": "100%",
            "_model_name": "IntProgressModel",
            "bar_style": "success",
            "max": 433002,
            "_view_module": "@jupyter-widgets/controls",
            "_model_module_version": "1.5.0",
            "value": 433002,
            "_view_count": null,
            "_view_module_version": "1.5.0",
            "orientation": "horizontal",
            "min": 0,
            "description_tooltip": null,
            "_model_module": "@jupyter-widgets/controls",
            "layout": "IPY_MODEL_16c4eac3477a4eaaa442974b79cfcb9f"
          }
        },
        "b013aee35a484fc7b3063a9358880951": {
          "model_module": "@jupyter-widgets/controls",
          "model_name": "HTMLModel",
          "state": {
            "_view_name": "HTMLView",
            "style": "IPY_MODEL_74e7a918b5a84ee3ae2358c64c601040",
            "_dom_classes": [],
            "description": "",
            "_model_name": "HTMLModel",
            "placeholder": "​",
            "_view_module": "@jupyter-widgets/controls",
            "_model_module_version": "1.5.0",
            "value": " 433002/433002 [04:09&lt;00:00, 1737.88it/s]",
            "_view_count": null,
            "_view_module_version": "1.5.0",
            "description_tooltip": null,
            "_model_module": "@jupyter-widgets/controls",
            "layout": "IPY_MODEL_f74dcd42e611420ba3ede22888c33852"
          }
        },
        "0f1de6d47ec942608bd30bd3d3924b9f": {
          "model_module": "@jupyter-widgets/controls",
          "model_name": "ProgressStyleModel",
          "state": {
            "_view_name": "StyleView",
            "_model_name": "ProgressStyleModel",
            "description_width": "initial",
            "_view_module": "@jupyter-widgets/base",
            "_model_module_version": "1.5.0",
            "_view_count": null,
            "_view_module_version": "1.2.0",
            "bar_color": null,
            "_model_module": "@jupyter-widgets/controls"
          }
        },
        "16c4eac3477a4eaaa442974b79cfcb9f": {
          "model_module": "@jupyter-widgets/base",
          "model_name": "LayoutModel",
          "state": {
            "_view_name": "LayoutView",
            "grid_template_rows": null,
            "right": null,
            "justify_content": null,
            "_view_module": "@jupyter-widgets/base",
            "overflow": null,
            "_model_module_version": "1.2.0",
            "_view_count": null,
            "flex_flow": null,
            "width": null,
            "min_width": null,
            "border": null,
            "align_items": null,
            "bottom": null,
            "_model_module": "@jupyter-widgets/base",
            "top": null,
            "grid_column": null,
            "overflow_y": null,
            "overflow_x": null,
            "grid_auto_flow": null,
            "grid_area": null,
            "grid_template_columns": null,
            "flex": null,
            "_model_name": "LayoutModel",
            "justify_items": null,
            "grid_row": null,
            "max_height": null,
            "align_content": null,
            "visibility": null,
            "align_self": null,
            "height": null,
            "min_height": null,
            "padding": null,
            "grid_auto_rows": null,
            "grid_gap": null,
            "max_width": null,
            "order": null,
            "_view_module_version": "1.2.0",
            "grid_template_areas": null,
            "object_position": null,
            "object_fit": null,
            "grid_auto_columns": null,
            "margin": null,
            "display": null,
            "left": null
          }
        },
        "74e7a918b5a84ee3ae2358c64c601040": {
          "model_module": "@jupyter-widgets/controls",
          "model_name": "DescriptionStyleModel",
          "state": {
            "_view_name": "StyleView",
            "_model_name": "DescriptionStyleModel",
            "description_width": "",
            "_view_module": "@jupyter-widgets/base",
            "_model_module_version": "1.5.0",
            "_view_count": null,
            "_view_module_version": "1.2.0",
            "_model_module": "@jupyter-widgets/controls"
          }
        },
        "f74dcd42e611420ba3ede22888c33852": {
          "model_module": "@jupyter-widgets/base",
          "model_name": "LayoutModel",
          "state": {
            "_view_name": "LayoutView",
            "grid_template_rows": null,
            "right": null,
            "justify_content": null,
            "_view_module": "@jupyter-widgets/base",
            "overflow": null,
            "_model_module_version": "1.2.0",
            "_view_count": null,
            "flex_flow": null,
            "width": null,
            "min_width": null,
            "border": null,
            "align_items": null,
            "bottom": null,
            "_model_module": "@jupyter-widgets/base",
            "top": null,
            "grid_column": null,
            "overflow_y": null,
            "overflow_x": null,
            "grid_auto_flow": null,
            "grid_area": null,
            "grid_template_columns": null,
            "flex": null,
            "_model_name": "LayoutModel",
            "justify_items": null,
            "grid_row": null,
            "max_height": null,
            "align_content": null,
            "visibility": null,
            "align_self": null,
            "height": null,
            "min_height": null,
            "padding": null,
            "grid_auto_rows": null,
            "grid_gap": null,
            "max_width": null,
            "order": null,
            "_view_module_version": "1.2.0",
            "grid_template_areas": null,
            "object_position": null,
            "object_fit": null,
            "grid_auto_columns": null,
            "margin": null,
            "display": null,
            "left": null
          }
        }
      }
    },
    "colab": {
      "name": "Exploratory Data Analysis.ipynb",
      "provenance": [],
      "toc_visible": true,
      "machine_shape": "hm"
    },
    "accelerator": "GPU"
  },
  "cells": [
    {
      "cell_type": "markdown",
      "metadata": {
        "id": "n-XJpGpIl-_x",
        "colab_type": "text"
      },
      "source": [
        "# Toxic Comment Analysis"
      ]
    },
    {
      "cell_type": "markdown",
      "metadata": {
        "id": "t11w3lJkl-_y",
        "colab_type": "text"
      },
      "source": [
        "# Udacity Machine Learning Engineer Nanodegree\n",
        "\n",
        "- _Project from the Kaggle competition: [Jigsaw unintended bias in toxicity classification](https://www.kaggle.com/c/jigsaw-unintended-bias-in-toxicity-classification/overview)_\n",
        "- _Field: Natural Language Processing_<br/>\n",
        "\n",
        "\n",
        "# Definition\n",
        "\n",
        "## Project Overview\n",
        "\n",
        "<span class=\"rubric done\">Student provides a high-level overview of the project in layman's terms. Background information such as the problem domain, the project origin, and related data sets or input data is given.</span>\n",
        "\n",
        "Natural Language Processing is a complex field which is hypothesised to be part of AI-complete set of problems, implying that the difficulty of these computational problems is equivalent to that of solving the central artificial intelligence problem making computers as intelligent as people. <cite data-cite=\"AiComplete\"></cite>\n",
        "With over 90% of data ever generated being produced in the last 2 years <cite data-cite=\"ScienceDaily1\"></cite> and with a great proportion being human generated unstructured text there is an ever increasing need to advance the field of Natural Language Processing.\n",
        "\n",
        "Recent UK Government proposal to have measures to regulate social media companies over harmful content, including \"substantial\" fines and the ability to block services that do not stick to the rules is an example of the regulamentory need to better manage the content that is being generated by users. <cite data-cite=\"BBCSocialMedia\"></cite> \n",
        "\n",
        "Other initiatives like <a href=\"https://www.riotgames.com/en\">Riot Games</a>'s work aimed to predict and reform toxic player behaviour during games <cite data-cite=\"ArsRiotGame\"></cite> is another example of this effort to understand the content being generated by users and moderate toxic content.\n",
        "\n",
        "However, as highlighted by the Kaggle competition [Jigsaw unintended bias in toxicity classification](https://www.kaggle.com/c/jigsaw-unintended-bias-in-toxicity-classification/overview), existing models suffer from unintended bias where models might predict high likelihood of toxicity for content containing certain words (e.g. \"gay\") even when those comments were not actually toxic (such as \"I am a gay woman\"), leaving  machine only classification models still sub-standard.\n",
        "\n",
        "Having tools that are able to flag up toxic content without suffering from unintended bias is of paramount importance to preserve Internet's fairness and freedom of speech.\n",
        "\n",
        "\n",
        "## Problem Statement\n",
        "\n",
        "<span class=\"rubric done\">The problem which needs to be solved is clearly defined. A strategy for solving the problem, including discussion of the expected solution, has been made.</span>\n",
        "\n",
        "From [Kaggle competition page](https://www.kaggle.com/c/jigsaw-unintended-bias-in-toxicity-classification/overview) :\n",
        "\n",
        "_The Conversation AI team, a research initiative founded by Jigsaw and Google (both part of Alphabet), builds technology to protect voices in conversation. A main area of focus is machine learning models that can identify toxicity in online conversations, where toxicity is defined as anything rude, disrespectful or otherwise likely to make someone leave a discussion._\n",
        "\n",
        "_Last year, in the Toxic Comment Classification Challenge, participants built multi-headed models to recognize toxicity and several subtypes of toxicity. This year's competition is a related challenge: building toxicity models that operate fairly across a diverse range of conversations._\n",
        "\n",
        "_Here's the background: When the Conversation AI team first built toxicity models, they found that the models incorrectly learned to associate the names of frequently attacked identities with toxicity. Models predicted a high likelihood of toxicity for comments containing those identities (e.g. \"gay\"), even when those comments were not actually toxic (such as \"I am a gay woman\"). This happens because training data was pulled from available sources where unfortunately, certain identities are overwhelmingly referred to in offensive ways. Training a model from data with these imbalances risks simply mirroring those biases back to users._\n",
        "\n",
        "_In this competition, you're challenged to build a model that recognizes toxicity and minimizes this type of unintended bias with respect to mentions of identities. You'll be using a dataset labeled for identity mentions and optimizing a metric designed to measure unintended bias. Develop strategies to reduce unintended bias in machine learning models, and you'll help the Conversation AI team, and the entire industry, build models that work well for a wide range of conversations._\n",
        "\n",
        "### Strategy\n",
        "\n",
        "A Deep Neural network containing a combination of LSTM units and Linear Layers which trains on both the target label and subgroups and identities. \n",
        "\n",
        "LSTM are particularly powerful when it comes to model sequences, the human language is a perfect candidate.\n",
        "\n",
        "LSTMs are a special type of RNN able to build and retain an internal state (cell memory) that can be passed across different time steps. This is very useful in natural language modeling because of the relationship that words have and how this affects their meaning.\n",
        "\n",
        "\n",
        "## Metrics\n",
        "\n",
        "<span class=\"done rubric\">Metrics used to measure performance of a model or result are clearly defined. Metrics are justified based on the characteristics of the problem.<span>\n",
        "\n",
        "This competition uses a newly developed metric that combines several submetrics to balance overall performance with various aspects of unintended bias.\n",
        "\n",
        "Please refer to [evaluation section](https://www.kaggle.com/c/jigsaw-unintended-bias-in-toxicity-classification/overview/evaluation) of the competition and the provided [benchmark kernel](https://www.kaggle.com/dborkan/benchmark-kernel) with code to calculate the competition evaluation metrics.\n",
        "\n",
        "Here are defined the submetrics:\n",
        "\n",
        "### Overall AUC\n",
        "This is the ROC-AUC for the full evaluation set.\n",
        "\n",
        "\n",
        "### Bias AUCs\n",
        "\n",
        "To measure unintended bias, we again calculate the ROC-AUC, this time on three specific subsets of the test set for each identity, each capturing a different aspect of unintended bias. You can learn more about these metrics in Conversation AI's recent paper *[Nuanced Metrics for Measuring Unintended Bias with Real Data in Text Classification](https://arxiv.org/abs/1903.04561)*. <cite data-cite=\"1903.04561\"></cite>\n",
        "\n",
        "**Subgroup AUC:** Here, we restrict the data set to only the examples that mention the specific identity subgroup. *A low value in this metric means the model does a poor job of distinguishing between toxic and non-toxic comments that mention the identity*.\n",
        "\n",
        "**BPSN (Background Positive, Subgroup Negative) AUC:** Here, we restrict the test set to the non-toxic examples that mention the identity and the toxic examples that do not. *A low value in this metric means that the model confuses non-toxic examples that mention the identity with toxic examples that do not*, likely meaning that the model predicts higher toxicity scores than it should for non-toxic examples mentioning the identity.\n",
        "\n",
        "**BNSP (Background Negative, Subgroup Positive) AUC:** Here, we restrict the test set to the toxic examples that mention the identity and the non-toxic examples that do not. *A low value here means that the model confuses toxic examples that mention the identity with non-toxic examples that do not*, likely meaning that the model predicts lower toxicity scores than it should for toxic examples mentioning the identity.\n",
        "\n",
        "### Generalized Mean of Bias AUCs\n",
        "\n",
        "To combine the per-identity Bias AUCs into one overall measure, we calculate their generalized mean as defined below:\n",
        "\n",
        "\n",
        "$M_p(m_s)=( \\frac{1}{N} \\sum_{s=1}^{N}m_{s}^{p} )^{\\frac{1}{p}}$\n",
        "\n",
        "where:\n",
        "\n",
        "- $M_p$ = the $p^{th}$ power-mean function\n",
        "- $m_s$ = the bias metric mm calculated for subgroup $s$\n",
        "- $N$ = number of identity subgroups\n",
        "\n",
        "For this competition, we use a $p$ value of -5 to encourage competitors to improve the model for the identity subgroups with the lowest model performance.\n",
        "\n",
        "### Final Metric\n",
        "\n",
        "We combine the overall AUC with the generalized mean of the Bias AUCs to calculate the final model score:\n",
        "\n",
        "$score=w_0AUC_{overall}+\\sum_{a=1}^{A}w_aM_p(m_{s,a})$\n",
        "\n",
        "where:\n",
        "\n",
        "- $A$ = number of submetrics (3)\n",
        "- $m_{s,a}$ = bias metric for identity subgroup ss using submetric $a$\n",
        "- $w_a$ = a weighting for the relative importance of each submetric; all four $w$ values set to 0.25\n",
        "\n",
        "While the leaderboard will be determined by this single number, we highly recommend looking at the individual submetric results, [as shown in this kernel](https://www.kaggle.com/dborkan/benchmark-kernel), to guide you as you develop your models.\n",
        "\n",
        "# Analysis\n",
        "\n",
        "## Data Exploration\n",
        "\n",
        "<span class=\"rubric done\">If a dataset is present, features and calculated statistics relevant to the problem have been reported and discussed, along with a sampling of the data. In lieu of a dataset, a thorough description of the input space or input data has been made. Abnormalities or characteristics about the data or input that need to be addressed have been identified.<span>"
      ]
    },
    {
      "cell_type": "markdown",
      "metadata": {
        "id": "zny6Q8Ykl-_z",
        "colab_type": "text"
      },
      "source": [
        ""
      ]
    },
    {
      "cell_type": "code",
      "metadata": {
        "_cell_guid": "79c7e3d0-c299-4dcb-8224-4455121ee9b0",
        "_kg_hide-input": true,
        "_uuid": "d629ff2d2480ee46fbb7e2d37f6b5fab8052498a",
        "id": "_UvEt-QJl-_0",
        "colab_type": "code",
        "colab": {
          "base_uri": "https://localhost:8080/",
          "height": 122
        },
        "outputId": "f33f7a75-a759-4ebd-948e-01a76166c498"
      },
      "source": [
        "# basic imports\n",
        "import string\n",
        "import re\n",
        "import gc\n",
        "from collections import Counter\n",
        "\n",
        "import numpy as np\n",
        "import pandas as pd\n",
        "import matplotlib.pyplot as plt\n",
        "from matplotlib import colors\n",
        "from mpl_toolkits.mplot3d import Axes3D\n",
        "import seaborn as sns\n",
        "import pickle\n",
        "\n",
        "from nltk.tokenize import sent_tokenize, word_tokenize\n",
        "from nltk import pos_tag\n",
        "from nltk.stem.snowball import SnowballStemmer\n",
        "from sklearn.feature_extraction.text import TfidfVectorizer\n",
        "from tqdm._tqdm_notebook import tqdm_notebook as tqdm; tqdm.pandas()\n",
        "\n",
        "from sklearn.naive_bayes import MultinomialNB\n",
        "from sklearn.svm import SVC\n",
        "from sklearn.metrics import confusion_matrix, roc_auc_score, roc_curve\n",
        "from sklearn.decomposition import TruncatedSVD\n",
        "\n",
        "# dataframe options to display the whole comments\n",
        "pd.set_option('display.max_colwidth', -1)\n",
        "\n",
        "# extra config to have better visualization\n",
        "sns.set(\n",
        "    style='whitegrid',\n",
        "    palette='coolwarm',\n",
        "    rc={'grid.color' : '.96'}\n",
        ")\n",
        "plt.rcParams['font.size'] = 12\n",
        "plt.rcParams['axes.labelsize'] = 14\n",
        "plt.rcParams['axes.labelweight'] = 'bold'\n",
        "plt.rcParams['axes.titlesize'] = 20\n",
        "plt.rcParams['axes.titleweight'] = 'bold'\n",
        "plt.rcParams['xtick.labelsize'] = 12\n",
        "plt.rcParams['ytick.labelsize'] = 12\n",
        "plt.rcParams['legend.fontsize'] = 14\n",
        "plt.rcParams['figure.titlesize'] = 30\n",
        "plt.rcParams[\"figure.titleweight\"] = 'bold'"
      ],
      "execution_count": 1,
      "outputs": [
        {
          "output_type": "stream",
          "text": [
            "/usr/local/lib/python3.6/dist-packages/statsmodels/tools/_testing.py:19: FutureWarning: pandas.util.testing is deprecated. Use the functions in the public API at pandas.testing instead.\n",
            "  import pandas.util.testing as tm\n",
            "/usr/local/lib/python3.6/dist-packages/ipykernel_launcher.py:18: TqdmDeprecationWarning: This function will be removed in tqdm==5.0.0\n",
            "Please use `tqdm.notebook.*` instead of `tqdm._tqdm_notebook.*`\n",
            "/usr/local/lib/python3.6/dist-packages/ipykernel_launcher.py:26: FutureWarning: Passing a negative integer is deprecated in version 1.0 and will not be supported in future version. Instead, use None to not limit the column width.\n"
          ],
          "name": "stderr"
        }
      ]
    },
    {
      "cell_type": "code",
      "metadata": {
        "id": "lsjkTjkzl-_3",
        "colab_type": "code",
        "colab": {}
      },
      "source": [
        "# pandas dataframe background gradient to consider all rows and columns.\n",
        "# By default, background gradient styling in pandas only consider by column.\n",
        "# function taken from: https://stackoverflow.com/questions/38931566/pandas-style-background-gradient-both-rows-and-columns\n",
        "def background_gradient(s, m, M, cmap='PuBu', low=0, high=1):\n",
        "    rng = M - m\n",
        "    norm = colors.Normalize(m - (rng * low),\n",
        "                            M + (rng * high))\n",
        "    normed = norm(s.values)\n",
        "    c = [colors.rgb2hex(x) for x in plt.cm.get_cmap(cmap)(normed)]\n",
        "    return ['background-color: %s' % color for color in c]"
      ],
      "execution_count": 0,
      "outputs": []
    },
    {
      "cell_type": "code",
      "metadata": {
        "id": "WWKq2wR6l-_5",
        "colab_type": "code",
        "colab": {
          "resources": {
            "http://localhost:8080/nbextensions/google.colab/files.js": {
              "data": "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",
              "ok": true,
              "headers": [
                [
                  "content-type",
                  "application/javascript"
                ]
              ],
              "status": 200,
              "status_text": ""
            }
          },
          "base_uri": "https://localhost:8080/",
          "height": 649
        },
        "outputId": "a1527031-8cdb-47c0-a89c-0826ed3a18b3"
      },
      "source": [
        "# data loading\n",
        "# use only training set\n",
        "from google.colab import files\n",
        "files.upload()\n",
        "!pip install -q kaggle\n",
        "!mkdir -p ~/.kaggle\n",
        "!cp kaggle.json ~/.kaggle/\n",
        "!chmod 600 /root/.kaggle/kaggle.json\n",
        "!kaggle competitions download -c jigsaw-unintended-bias-in-toxicity-classification\n",
        "\n",
        "\n",
        "\n",
        "train = pd.read_csv(\"train.csv.zip\")\n",
        "test = pd.read_csv(\"test.csv.zip\")\n",
        "train.columns"
      ],
      "execution_count": 3,
      "outputs": [
        {
          "output_type": "display_data",
          "data": {
            "text/html": [
              "\n",
              "     <input type=\"file\" id=\"files-2661d4b6-8229-4ecc-88a5-4201c816089d\" name=\"files[]\" multiple disabled />\n",
              "     <output id=\"result-2661d4b6-8229-4ecc-88a5-4201c816089d\">\n",
              "      Upload widget is only available when the cell has been executed in the\n",
              "      current browser session. Please rerun this cell to enable.\n",
              "      </output>\n",
              "      <script src=\"/nbextensions/google.colab/files.js\"></script> "
            ],
            "text/plain": [
              "<IPython.core.display.HTML object>"
            ]
          },
          "metadata": {
            "tags": []
          }
        },
        {
          "output_type": "stream",
          "text": [
            "Saving kaggle.json to kaggle.json\n",
            "Warning: Looks like you're using an outdated API Version, please consider updating (server 1.5.6 / client 1.5.4)\n",
            "Downloading train.csv.zip to /content\n",
            " 96% 264M/276M [00:01<00:00, 131MB/s]\n",
            "100% 276M/276M [00:02<00:00, 137MB/s]\n",
            "Downloading test_public_expanded.csv.zip to /content\n",
            " 57% 9.00M/15.9M [00:00<00:00, 36.0MB/s]\n",
            "100% 15.9M/15.9M [00:00<00:00, 52.9MB/s]\n",
            "Downloading test_private_expanded.csv.zip to /content\n",
            " 57% 9.00M/15.8M [00:00<00:00, 36.2MB/s]\n",
            "100% 15.8M/15.8M [00:00<00:00, 52.6MB/s]\n",
            "Downloading sample_submission.csv.zip to /content\n",
            "  0% 0.00/224k [00:00<?, ?B/s]\n",
            "100% 224k/224k [00:00<00:00, 201MB/s]\n",
            "Downloading identity_individual_annotations.csv.zip to /content\n",
            " 90% 11.0M/12.3M [00:00<00:00, 38.8MB/s]\n",
            "100% 12.3M/12.3M [00:00<00:00, 48.8MB/s]\n",
            "Downloading test.csv.zip to /content\n",
            " 41% 5.00M/12.1M [00:00<00:00, 51.8MB/s]\n",
            "100% 12.1M/12.1M [00:00<00:00, 77.7MB/s]\n",
            "Downloading toxicity_individual_annotations.csv.zip to /content\n",
            " 79% 51.0M/64.7M [00:00<00:00, 48.4MB/s]\n",
            "100% 64.7M/64.7M [00:00<00:00, 74.1MB/s]\n"
          ],
          "name": "stdout"
        },
        {
          "output_type": "execute_result",
          "data": {
            "text/plain": [
              "Index(['id', 'target', 'comment_text', 'severe_toxicity', 'obscene',\n",
              "       'identity_attack', 'insult', 'threat', 'asian', 'atheist', 'bisexual',\n",
              "       'black', 'buddhist', 'christian', 'female', 'heterosexual', 'hindu',\n",
              "       'homosexual_gay_or_lesbian', 'intellectual_or_learning_disability',\n",
              "       'jewish', 'latino', 'male', 'muslim', 'other_disability',\n",
              "       'other_gender', 'other_race_or_ethnicity', 'other_religion',\n",
              "       'other_sexual_orientation', 'physical_disability',\n",
              "       'psychiatric_or_mental_illness', 'transgender', 'white', 'created_date',\n",
              "       'publication_id', 'parent_id', 'article_id', 'rating', 'funny', 'wow',\n",
              "       'sad', 'likes', 'disagree', 'sexual_explicit',\n",
              "       'identity_annotator_count', 'toxicity_annotator_count'],\n",
              "      dtype='object')"
            ]
          },
          "metadata": {
            "tags": []
          },
          "execution_count": 3
        }
      ]
    },
    {
      "cell_type": "code",
      "metadata": {
        "id": "uxSHm-oDl-_9",
        "colab_type": "code",
        "colab": {}
      },
      "source": [
        "toxic_subtypes = [\n",
        "    'severe_toxicity',\n",
        "    'obscene',\n",
        "    'threat',\n",
        "    'insult',\n",
        "    'identity_attack',\n",
        "    'sexual_explicit'\n",
        "]\n",
        "\n",
        "identity_attrs = [\n",
        "    'asian', 'atheist', 'bisexual',\n",
        "    'black', 'buddhist', 'christian', 'female', 'heterosexual', 'hindu',\n",
        "    'homosexual_gay_or_lesbian', 'intellectual_or_learning_disability',\n",
        "    'jewish', 'latino', 'male', 'muslim', 'other_disability',\n",
        "    'other_gender', 'other_race_or_ethnicity', 'other_religion',\n",
        "    'other_sexual_orientation', 'physical_disability',\n",
        "    'psychiatric_or_mental_illness', 'transgender', 'white',\n",
        "]\n",
        "\n",
        "identity_attrs_group = {\n",
        "    'gender': ['female', 'male', 'transgender', 'other_gender'],\n",
        "    'race': ['asian', 'black', 'jewish', 'latino', 'white', 'other_race_or_ethnicity'],\n",
        "    'religion': ['atheist', 'buddhist', 'christian', 'hindu', 'muslim', 'other_religion'],\n",
        "    'sexual_orientation': ['bisexual', 'heterosexual', 'homosexual_gay_or_lesbian', 'other_sexual_orientation'],\n",
        "    'disability': ['intellectual_or_learning_disability', 'physical_disability', 'psychiatric_or_mental_illness', 'other_disability']\n",
        "}"
      ],
      "execution_count": 0,
      "outputs": []
    },
    {
      "cell_type": "markdown",
      "metadata": {
        "id": "vP0I6Dokl_AB",
        "colab_type": "text"
      },
      "source": [
        "# 1. Understanding Toxic Annotations"
      ]
    },
    {
      "cell_type": "markdown",
      "metadata": {
        "id": "81RFa9cIl_AC",
        "colab_type": "text"
      },
      "source": [
        "The first part examines the dependent variable and potential auxiliary attributes."
      ]
    },
    {
      "cell_type": "markdown",
      "metadata": {
        "id": "2qq1QM9pl_AC",
        "colab_type": "text"
      },
      "source": [
        "## 1.1 Toxic comments distribution"
      ]
    },
    {
      "cell_type": "code",
      "metadata": {
        "id": "mfO-x0Cel_AD",
        "colab_type": "code",
        "colab": {
          "base_uri": "https://localhost:8080/",
          "height": 34
        },
        "outputId": "884d5e22-aa4b-4238-b97b-12a438eb81ff"
      },
      "source": [
        "# create a 0 or 1 column and see the proportion\n",
        "train['is_toxic'] = train['target'] >= 0.5\n",
        "toxic_count = train['is_toxic'].value_counts()\n",
        "toxic_prop = toxic_count / len(train['is_toxic'])\n",
        "print(\"There are {:,} ({:.2f}%) toxic comments out of {:,} comments in the dataset\".format(\n",
        "    toxic_count[True],\n",
        "    toxic_count[True] * 100 / len(train['is_toxic']),\n",
        "    len(train['is_toxic'])\n",
        "))"
      ],
      "execution_count": 7,
      "outputs": [
        {
          "output_type": "stream",
          "text": [
            "There are 144,334 (8.00%) toxic comments out of 1,804,874 comments in the dataset\n"
          ],
          "name": "stdout"
        }
      ]
    },
    {
      "cell_type": "markdown",
      "metadata": {
        "id": "dqeDlmncl_AF",
        "colab_type": "text"
      },
      "source": [
        "Toxic comments account only 8% of the training data, meaning we are dealing with **imbalanced** dataset. How about the actual agreed toxicity level distribution of the annotators?"
      ]
    },
    {
      "cell_type": "code",
      "metadata": {
        "id": "zxy-nOh2l_AG",
        "colab_type": "code",
        "colab": {
          "base_uri": "https://localhost:8080/",
          "height": 479
        },
        "outputId": "4e51cb2e-4687-4e0d-c2aa-0a888278e8df"
      },
      "source": [
        "fig, ax = plt.subplots(figsize=(12, 7.5))\n",
        "_ = sns.kdeplot(train['target'], shade=True, ax=ax)\n",
        "_ = ax.set(xlabel='Annotator Toxicity Agreement', ylabel='Density')"
      ],
      "execution_count": 8,
      "outputs": [
        {
          "output_type": "display_data",
          "data": {
            "image/png": "[encoded data removed]",
            "text/plain": [
              "<Figure size 864x540 with 1 Axes>"
            ]
          },
          "metadata": {
            "tags": [],
            "needs_background": "light"
          }
        }
      ]
    },
    {
      "cell_type": "markdown",
      "metadata": {
        "id": "H4VA1_IZl_AJ",
        "colab_type": "text"
      },
      "source": [
        "As expected, most of the comments were deemed non-toxic by all of the annotators. However, when it comes to toxic comments, it is hardly unanimous. The number of comments with target score equal to 1.0 is really small. Another boggling thing is the number of annotators for each comment can be different. Is it correct to assume that more annotators means more believable? Let's check if the toxicity of a comment is related to the number of annotators."
      ]
    },
    {
      "cell_type": "code",
      "metadata": {
        "id": "6amK0M4wl_AJ",
        "colab_type": "code",
        "colab": {
          "base_uri": "https://localhost:8080/",
          "height": 479
        },
        "outputId": "85173653-3818-4892-c676-c5781d5f49a3"
      },
      "source": [
        "train['log_toxicity_annotator_count'] = np.log10(train['toxicity_annotator_count'])\n",
        "fig, ax = plt.subplots(figsize=(12, 7.5))\n",
        "_ = train['log_toxicity_annotator_count'].hist(bins=15, density=True, ax=ax)\n",
        "_ = ax.set(xlabel='log10(annotator count)', ylabel='Density')"
      ],
      "execution_count": 9,
      "outputs": [
        {
          "output_type": "display_data",
          "data": {
            "image/png": "[encoded data removed]",
            "text/plain": [
              "<Figure size 864x540 with 1 Axes>"
            ]
          },
          "metadata": {
            "tags": [],
            "needs_background": "light"
          }
        }
      ]
    },
    {
      "cell_type": "markdown",
      "metadata": {
        "id": "wVD2znhsl_AL",
        "colab_type": "text"
      },
      "source": [
        "There seems to be two clusters in terms of the number of annotators: below 10^1.5 and above 10^1.5. Is there any difference in the toxicity agreement of those two clusters?"
      ]
    },
    {
      "cell_type": "code",
      "metadata": {
        "id": "wyD1tC02l_AM",
        "colab_type": "code",
        "colab": {
          "base_uri": "https://localhost:8080/",
          "height": 499
        },
        "outputId": "53efc286-367d-45b7-c80e-a1328116066a"
      },
      "source": [
        "train['many_annotators'] = train['log_toxicity_annotator_count'] >= 1.5\n",
        "\n",
        "print(\"There are {:,} comments with number of annotators below 10^1.5 and {:,} above 10^1.5.\".format(\n",
        "    len(train[train['log_toxicity_annotator_count'] < 1.5]),\n",
        "    len(train[train['log_toxicity_annotator_count'] >= 1.5])\n",
        "))\n",
        "\n",
        "f, (ax1, ax2) = plt.subplots(1, 2, figsize=(18, 7.5))\n",
        "\n",
        "_ = sns.kdeplot(\n",
        "    train[~train['many_annotators']]['target'], \n",
        "    shade=True,\n",
        "    ax=ax1\n",
        ")\n",
        "_ = ax1.set_title('number of annotators < 10^1.5')\n",
        "_ = ax1.set_ylabel('density')\n",
        "_ = ax1.set_ylabel('#annotators')\n",
        "\n",
        "_ = sns.kdeplot(\n",
        "    train[train['many_annotators']]['target'], \n",
        "    shade=True,\n",
        "    ax=ax2\n",
        ")\n",
        "_ = ax2.set_title('number of annotators >= 10^1.5')\n",
        "_ = ax2.set_ylabel('density')\n",
        "_ = ax2.set_ylabel('#annotators')\n"
      ],
      "execution_count": 10,
      "outputs": [
        {
          "output_type": "stream",
          "text": [
            "There are 1,729,080 comments with number of annotators below 10^1.5 and 75,794 above 10^1.5.\n"
          ],
          "name": "stdout"
        },
        {
          "output_type": "display_data",
          "data": {
            "image/png": "[encoded data removed]",
            "text/plain": [
              "<Figure size 1296x540 with 2 Axes>"
            ]
          },
          "metadata": {
            "tags": [],
            "needs_background": "light"
          }
        }
      ]
    },
    {
      "cell_type": "markdown",
      "metadata": {
        "id": "rA4RlNo5l_AO",
        "colab_type": "text"
      },
      "source": [
        "The two graphs above reveal some degree of correlation between the number of annotators with the toxic comments. When the number of annotators is more than 10^1.5, the target score peaked towards 0.7. Looking at the data description page, this phenomenon is intentional due to imposed strategy, although we are not presented with the details:\n",
        "> Some comments were seen by many more than 10 annotators (up to thousands), due to sampling and strategies used to enforce rater accuracy.\n",
        "\n",
        "By analysing the number of annotators, we can exploit the information to give more attention to comments with more annotators when we train our model. This initial analysis suggests the possibility of various weight for each comment depending on the number of annotators. \n",
        "\n",
        "The following sub-sections about subtypes and identities are common in other EDA kernels as well, but it is good to re-visit them. I see subtypes are being used as auxiliary attributes during training but not identities, what could be the reason?"
      ]
    },
    {
      "cell_type": "markdown",
      "metadata": {
        "id": "dor18Kgzl_AO",
        "colab_type": "text"
      },
      "source": [
        "## 1.2 Toxic Subtypes Distribution"
      ]
    },
    {
      "cell_type": "markdown",
      "metadata": {
        "id": "7wT_MnOll_AP",
        "colab_type": "text"
      },
      "source": [
        "Let's find out which sub-types are the most common."
      ]
    },
    {
      "cell_type": "code",
      "metadata": {
        "id": "Otybcvcpl_AP",
        "colab_type": "code",
        "colab": {
          "base_uri": "https://localhost:8080/",
          "height": 500
        },
        "outputId": "5bd38940-84e3-4ece-ab08-04ade376ed93"
      },
      "source": [
        "subtypes_count = (train[toxic_subtypes] > 0.5).sum(axis=0).sort_values(ascending=False)\n",
        "subtypes_prop = np.round(subtypes_count * 100 / len(train), 2)\n",
        "fig, ax = plt.subplots(figsize=(12, 7.5))\n",
        "_ = sns.barplot(x=subtypes_count.index, y=subtypes_count.values, ax=ax)\n",
        "_ = ax.set_title('Toxic Subtypes Distribution (with % of all comments)')\n",
        "_ = ax.set_xlabel('Toxic Subtypes')\n",
        "_ = ax.set_ylabel('#Comments')\n",
        "\n",
        "for p, label in zip(ax.patches, subtypes_prop.values):\n",
        "    ax.annotate(\"{:.2f}%\".format(label), (p.get_x()+0.275, p.get_height()+500))"
      ],
      "execution_count": 11,
      "outputs": [
        {
          "output_type": "display_data",
          "data": {
            "image/png": "[encoded data removed]",
            "text/plain": [
              "<Figure size 864x540 with 1 Axes>"
            ]
          },
          "metadata": {
            "tags": [],
            "needs_background": "light"
          }
        }
      ]
    },
    {
      "cell_type": "markdown",
      "metadata": {
        "id": "aFU88pwYl_AS",
        "colab_type": "text"
      },
      "source": [
        "As shown, it is clear that *insult* is the dominant type of toxic comments. The number of *insult* comments is 10x the number of the closest next two categories: *obscene* and *identity_attack*. I am not quite sure what each type means, it is good to see an example for each:"
      ]
    },
    {
      "cell_type": "code",
      "metadata": {
        "id": "H3P91xBMl_AS",
        "colab_type": "code",
        "colab": {
          "base_uri": "https://localhost:8080/",
          "height": 334
        },
        "outputId": "b27c8a30-7dd3-4e55-d4a9-449e01d6ef62"
      },
      "source": [
        "subtype_examples = []\n",
        "for subtype_col in toxic_subtypes:\n",
        "    comment = train[[subtype_col, 'toxicity_annotator_count', 'comment_text']].sort_values(\n",
        "        by=[subtype_col, 'toxicity_annotator_count'], ascending=False).iloc[0]\n",
        "    subtype_examples.append({\n",
        "        'subtype' : subtype_col,\n",
        "        'comment' : comment['comment_text'],\n",
        "        'subtype_toxicity_level' : comment[subtype_col],\n",
        "        'num_annotators' : comment['toxicity_annotator_count']\n",
        "    })\n",
        "subtype_examples_df = pd.DataFrame(subtype_examples).set_index('subtype')\n",
        "subtype_examples_df"
      ],
      "execution_count": 12,
      "outputs": [
        {
          "output_type": "execute_result",
          "data": {
            "text/html": [
              "<div>\n",
              "<style scoped>\n",
              "    .dataframe tbody tr th:only-of-type {\n",
              "        vertical-align: middle;\n",
              "    }\n",
              "\n",
              "    .dataframe tbody tr th {\n",
              "        vertical-align: top;\n",
              "    }\n",
              "\n",
              "    .dataframe thead th {\n",
              "        text-align: right;\n",
              "    }\n",
              "</style>\n",
              "<table border=\"1\" class=\"dataframe\">\n",
              "  <thead>\n",
              "    <tr style=\"text-align: right;\">\n",
              "      <th></th>\n",
              "      <th>comment</th>\n",
              "      <th>subtype_toxicity_level</th>\n",
              "      <th>num_annotators</th>\n",
              "    </tr>\n",
              "    <tr>\n",
              "      <th>subtype</th>\n",
              "      <th></th>\n",
              "      <th></th>\n",
              "      <th></th>\n",
              "    </tr>\n",
              "  </thead>\n",
              "  <tbody>\n",
              "    <tr>\n",
              "      <th>severe_toxicity</th>\n",
              "      <td>Awesome! Lets cut the head off hate! Lets stab it and burn its house down! lets march together and beat hate with rocks and clubs and run out out of town! Hooray for us for showing hate we will not tolerate it and will kill or beat down any that oppose or stance against hate. \\n\\nYeah, that sounds like the good guys. Why is it so hard for people to admit that using violence to achieve a goal is not acceptable in a civil society?</td>\n",
              "      <td>1.0</td>\n",
              "      <td>4</td>\n",
              "    </tr>\n",
              "    <tr>\n",
              "      <th>obscene</th>\n",
              "      <td>Quarantine should end with a bullet between the eyes.  What crap to be attacked by a loose dog.  I hate it when a loose dog comes running up, and the owner says he is friendly.  Bear spray to the face</td>\n",
              "      <td>1.0</td>\n",
              "      <td>10</td>\n",
              "    </tr>\n",
              "    <tr>\n",
              "      <th>threat</th>\n",
              "      <td>WHY do they allow them to plea down? I was abused, he should hang by the neck until dead.</td>\n",
              "      <td>1.0</td>\n",
              "      <td>10</td>\n",
              "    </tr>\n",
              "    <tr>\n",
              "      <th>insult</th>\n",
              "      <td>Typical dumb Anchorage thugs.  I cannot  believe how many of these idiots we have in this town.</td>\n",
              "      <td>1.0</td>\n",
              "      <td>72</td>\n",
              "    </tr>\n",
              "    <tr>\n",
              "      <th>identity_attack</th>\n",
              "      <td>You realize you're equating \"white nationalists\" with Muslim terrorists, murderers, and hate groups.\\n\\nI agree.</td>\n",
              "      <td>1.0</td>\n",
              "      <td>11</td>\n",
              "    </tr>\n",
              "    <tr>\n",
              "      <th>sexual_explicit</th>\n",
              "      <td>Yes, the VAGINA negates everything, unless it's being used for making more rethuglican rugrats, pleasure, or, on rare occasion, shooting Ping Pong balls.\\n\\nAt least that's how the GOP view women.</td>\n",
              "      <td>1.0</td>\n",
              "      <td>10</td>\n",
              "    </tr>\n",
              "  </tbody>\n",
              "</table>\n",
              "</div>"
            ],
            "text/plain": [
              "                                                                                                                                                                                                                                                                                                                                                                                                                                                          comment  ...  num_annotators\n",
              "subtype                                                                                                                                                                                                                                                                                                                                                                                                                                                            ...                \n",
              "severe_toxicity  Awesome! Lets cut the head off hate! Lets stab it and burn its house down! lets march together and beat hate with rocks and clubs and run out out of town! Hooray for us for showing hate we will not tolerate it and will kill or beat down any that oppose or stance against hate. \\n\\nYeah, that sounds like the good guys. Why is it so hard for people to admit that using violence to achieve a goal is not acceptable in a civil society?  ...  4             \n",
              "obscene          Quarantine should end with a bullet between the eyes.  What crap to be attacked by a loose dog.  I hate it when a loose dog comes running up, and the owner says he is friendly.  Bear spray to the face                                                                                                                                                                                                                                          ...  10            \n",
              "threat           WHY do they allow them to plea down? I was abused, he should hang by the neck until dead.                                                                                                                                                                                                                                                                                                                                                         ...  10            \n",
              "insult           Typical dumb Anchorage thugs.  I cannot  believe how many of these idiots we have in this town.                                                                                                                                                                                                                                                                                                                                                   ...  72            \n",
              "identity_attack  You realize you're equating \"white nationalists\" with Muslim terrorists, murderers, and hate groups.\\n\\nI agree.                                                                                                                                                                                                                                                                                                                                  ...  11            \n",
              "sexual_explicit  Yes, the VAGINA negates everything, unless it's being used for making more rethuglican rugrats, pleasure, or, on rare occasion, shooting Ping Pong balls.\\n\\nAt least that's how the GOP view women.                                                                                                                                                                                                                                              ...  10            \n",
              "\n",
              "[6 rows x 3 columns]"
            ]
          },
          "metadata": {
            "tags": []
          },
          "execution_count": 12
        }
      ]
    },
    {
      "cell_type": "markdown",
      "metadata": {
        "id": "DH7_MRval_AU",
        "colab_type": "text"
      },
      "source": [
        "Looking at the examples, it seems this subtypes are not supposed to be mutually exclusive. The example of *sexual_explicit* also has some degree of *insult* (\"...rethuglican rugrats, pleasure, or, on rare occasion, shooting Ping Pong balls...\"). Similarly with the example of *obscene* which include some sort of threat (\"Quarantine should end with a bullet between the eyes ... Bear spray to the face.\"). How related each types and also with the target?"
      ]
    },
    {
      "cell_type": "code",
      "metadata": {
        "id": "-oxZDuEKl_AV",
        "colab_type": "code",
        "colab": {
          "base_uri": "https://localhost:8080/",
          "height": 187
        },
        "outputId": "ffd54e99-32b6-4f43-f9ce-e6b11bd44354"
      },
      "source": [
        "corr = train[toxic_subtypes + ['target']].corr()\n",
        "corr.style.apply(background_gradient, m=corr.min().min(), M=corr.max().max()).set_precision(2)"
      ],
      "execution_count": 13,
      "outputs": [
        {
          "output_type": "execute_result",
          "data": {
            "text/html": [
              "<style  type=\"text/css\" >\n",
              "    #T_7c3965a0_8a0a_11ea_912c_0242ac1c0002row0_col0 {\n",
              "            background-color:  #73a9cf;\n",
              "        }    #T_7c3965a0_8a0a_11ea_912c_0242ac1c0002row0_col1 {\n",
              "            background-color:  #e9e5f1;\n",
              "        }    #T_7c3965a0_8a0a_11ea_912c_0242ac1c0002row0_col2 {\n",
              "            background-color:  #f0eaf4;\n",
              "        }    #T_7c3965a0_8a0a_11ea_912c_0242ac1c0002row0_col3 {\n",
              "            background-color:  #ebe6f2;\n",
              "        }    #T_7c3965a0_8a0a_11ea_912c_0242ac1c0002row0_col4 {\n",
              "            background-color:  #f1ebf5;\n",
              "        }    #T_7c3965a0_8a0a_11ea_912c_0242ac1c0002row0_col5 {\n",
              "            background-color:  #f6eff7;\n",
              "        }    #T_7c3965a0_8a0a_11ea_912c_0242ac1c0002row0_col6 {\n",
              "            background-color:  #e3e0ee;\n",
              "        }    #T_7c3965a0_8a0a_11ea_912c_0242ac1c0002row1_col0 {\n",
              "            background-color:  #e9e5f1;\n",
              "        }    #T_7c3965a0_8a0a_11ea_912c_0242ac1c0002row1_col1 {\n",
              "            background-color:  #73a9cf;\n",
              "        }    #T_7c3965a0_8a0a_11ea_912c_0242ac1c0002row1_col2 {\n",
              "            background-color:  #fff7fb;\n",
              "        }    #T_7c3965a0_8a0a_11ea_912c_0242ac1c0002row1_col3 {\n",
              "            background-color:  #dfddec;\n",
              "        }    #T_7c3965a0_8a0a_11ea_912c_0242ac1c0002row1_col4 {\n",
              "            background-color:  #fcf4fa;\n",
              "        }    #T_7c3965a0_8a0a_11ea_912c_0242ac1c0002row1_col5 {\n",
              "            background-color:  #eae6f1;\n",
              "        }    #T_7c3965a0_8a0a_11ea_912c_0242ac1c0002row1_col6 {\n",
              "            background-color:  #d7d6e9;\n",
              "        }    #T_7c3965a0_8a0a_11ea_912c_0242ac1c0002row2_col0 {\n",
              "            background-color:  #f0eaf4;\n",
              "        }    #T_7c3965a0_8a0a_11ea_912c_0242ac1c0002row2_col1 {\n",
              "            background-color:  #fff7fb;\n",
              "        }    #T_7c3965a0_8a0a_11ea_912c_0242ac1c0002row2_col2 {\n",
              "            background-color:  #73a9cf;\n",
              "        }    #T_7c3965a0_8a0a_11ea_912c_0242ac1c0002row2_col3 {\n",
              "            background-color:  #fef6fa;\n",
              "        }    #T_7c3965a0_8a0a_11ea_912c_0242ac1c0002row2_col4 {\n",
              "            background-color:  #faf3f9;\n",
              "        }    #T_7c3965a0_8a0a_11ea_912c_0242ac1c0002row2_col5 {\n",
              "            background-color:  #fff7fb;\n",
              "        }    #T_7c3965a0_8a0a_11ea_912c_0242ac1c0002row2_col6 {\n",
              "            background-color:  #eee9f3;\n",
              "        }    #T_7c3965a0_8a0a_11ea_912c_0242ac1c0002row3_col0 {\n",
              "            background-color:  #ebe6f2;\n",
              "        }    #T_7c3965a0_8a0a_11ea_912c_0242ac1c0002row3_col1 {\n",
              "            background-color:  #dfddec;\n",
              "        }    #T_7c3965a0_8a0a_11ea_912c_0242ac1c0002row3_col2 {\n",
              "            background-color:  #fef6fa;\n",
              "        }    #T_7c3965a0_8a0a_11ea_912c_0242ac1c0002row3_col3 {\n",
              "            background-color:  #73a9cf;\n",
              "        }    #T_7c3965a0_8a0a_11ea_912c_0242ac1c0002row3_col4 {\n",
              "            background-color:  #ede7f2;\n",
              "        }    #T_7c3965a0_8a0a_11ea_912c_0242ac1c0002row3_col5 {\n",
              "            background-color:  #faf3f9;\n",
              "        }    #T_7c3965a0_8a0a_11ea_912c_0242ac1c0002row3_col6 {\n",
              "            background-color:  #84b0d3;\n",
              "        }    #T_7c3965a0_8a0a_11ea_912c_0242ac1c0002row4_col0 {\n",
              "            background-color:  #f1ebf5;\n",
              "        }    #T_7c3965a0_8a0a_11ea_912c_0242ac1c0002row4_col1 {\n",
              "            background-color:  #fcf4fa;\n",
              "        }    #T_7c3965a0_8a0a_11ea_912c_0242ac1c0002row4_col2 {\n",
              "            background-color:  #faf3f9;\n",
              "        }    #T_7c3965a0_8a0a_11ea_912c_0242ac1c0002row4_col3 {\n",
              "            background-color:  #ede7f2;\n",
              "        }    #T_7c3965a0_8a0a_11ea_912c_0242ac1c0002row4_col4 {\n",
              "            background-color:  #73a9cf;\n",
              "        }    #T_7c3965a0_8a0a_11ea_912c_0242ac1c0002row4_col5 {\n",
              "            background-color:  #fdf5fa;\n",
              "        }    #T_7c3965a0_8a0a_11ea_912c_0242ac1c0002row4_col6 {\n",
              "            background-color:  #dcdaeb;\n",
              "        }    #T_7c3965a0_8a0a_11ea_912c_0242ac1c0002row5_col0 {\n",
              "            background-color:  #f6eff7;\n",
              "        }    #T_7c3965a0_8a0a_11ea_912c_0242ac1c0002row5_col1 {\n",
              "            background-color:  #eae6f1;\n",
              "        }    #T_7c3965a0_8a0a_11ea_912c_0242ac1c0002row5_col2 {\n",
              "            background-color:  #fff7fb;\n",
              "        }    #T_7c3965a0_8a0a_11ea_912c_0242ac1c0002row5_col3 {\n",
              "            background-color:  #faf3f9;\n",
              "        }    #T_7c3965a0_8a0a_11ea_912c_0242ac1c0002row5_col4 {\n",
              "            background-color:  #fdf5fa;\n",
              "        }    #T_7c3965a0_8a0a_11ea_912c_0242ac1c0002row5_col5 {\n",
              "            background-color:  #73a9cf;\n",
              "        }    #T_7c3965a0_8a0a_11ea_912c_0242ac1c0002row5_col6 {\n",
              "            background-color:  #f1ebf5;\n",
              "        }    #T_7c3965a0_8a0a_11ea_912c_0242ac1c0002row6_col0 {\n",
              "            background-color:  #e3e0ee;\n",
              "        }    #T_7c3965a0_8a0a_11ea_912c_0242ac1c0002row6_col1 {\n",
              "            background-color:  #d7d6e9;\n",
              "        }    #T_7c3965a0_8a0a_11ea_912c_0242ac1c0002row6_col2 {\n",
              "            background-color:  #eee9f3;\n",
              "        }    #T_7c3965a0_8a0a_11ea_912c_0242ac1c0002row6_col3 {\n",
              "            background-color:  #84b0d3;\n",
              "        }    #T_7c3965a0_8a0a_11ea_912c_0242ac1c0002row6_col4 {\n",
              "            background-color:  #dcdaeb;\n",
              "        }    #T_7c3965a0_8a0a_11ea_912c_0242ac1c0002row6_col5 {\n",
              "            background-color:  #f1ebf5;\n",
              "        }    #T_7c3965a0_8a0a_11ea_912c_0242ac1c0002row6_col6 {\n",
              "            background-color:  #73a9cf;\n",
              "        }</style><table id=\"T_7c3965a0_8a0a_11ea_912c_0242ac1c0002\" ><thead>    <tr>        <th class=\"blank level0\" ></th>        <th class=\"col_heading level0 col0\" >severe_toxicity</th>        <th class=\"col_heading level0 col1\" >obscene</th>        <th class=\"col_heading level0 col2\" >threat</th>        <th class=\"col_heading level0 col3\" >insult</th>        <th class=\"col_heading level0 col4\" >identity_attack</th>        <th class=\"col_heading level0 col5\" >sexual_explicit</th>        <th class=\"col_heading level0 col6\" >target</th>    </tr></thead><tbody>\n",
              "                <tr>\n",
              "                        <th id=\"T_7c3965a0_8a0a_11ea_912c_0242ac1c0002level0_row0\" class=\"row_heading level0 row0\" >severe_toxicity</th>\n",
              "                        <td id=\"T_7c3965a0_8a0a_11ea_912c_0242ac1c0002row0_col0\" class=\"data row0 col0\" >1.00</td>\n",
              "                        <td id=\"T_7c3965a0_8a0a_11ea_912c_0242ac1c0002row0_col1\" class=\"data row0 col1\" >0.34</td>\n",
              "                        <td id=\"T_7c3965a0_8a0a_11ea_912c_0242ac1c0002row0_col2\" class=\"data row0 col2\" >0.28</td>\n",
              "                        <td id=\"T_7c3965a0_8a0a_11ea_912c_0242ac1c0002row0_col3\" class=\"data row0 col3\" >0.32</td>\n",
              "                        <td id=\"T_7c3965a0_8a0a_11ea_912c_0242ac1c0002row0_col4\" class=\"data row0 col4\" >0.26</td>\n",
              "                        <td id=\"T_7c3965a0_8a0a_11ea_912c_0242ac1c0002row0_col5\" class=\"data row0 col5\" >0.20</td>\n",
              "                        <td id=\"T_7c3965a0_8a0a_11ea_912c_0242ac1c0002row0_col6\" class=\"data row0 col6\" >0.39</td>\n",
              "            </tr>\n",
              "            <tr>\n",
              "                        <th id=\"T_7c3965a0_8a0a_11ea_912c_0242ac1c0002level0_row1\" class=\"row_heading level0 row1\" >obscene</th>\n",
              "                        <td id=\"T_7c3965a0_8a0a_11ea_912c_0242ac1c0002row1_col0\" class=\"data row1 col0\" >0.34</td>\n",
              "                        <td id=\"T_7c3965a0_8a0a_11ea_912c_0242ac1c0002row1_col1\" class=\"data row1 col1\" >1.00</td>\n",
              "                        <td id=\"T_7c3965a0_8a0a_11ea_912c_0242ac1c0002row1_col2\" class=\"data row1 col2\" >0.09</td>\n",
              "                        <td id=\"T_7c3965a0_8a0a_11ea_912c_0242ac1c0002row1_col3\" class=\"data row1 col3\" >0.43</td>\n",
              "                        <td id=\"T_7c3965a0_8a0a_11ea_912c_0242ac1c0002row1_col4\" class=\"data row1 col4\" >0.12</td>\n",
              "                        <td id=\"T_7c3965a0_8a0a_11ea_912c_0242ac1c0002row1_col5\" class=\"data row1 col5\" >0.33</td>\n",
              "                        <td id=\"T_7c3965a0_8a0a_11ea_912c_0242ac1c0002row1_col6\" class=\"data row1 col6\" >0.49</td>\n",
              "            </tr>\n",
              "            <tr>\n",
              "                        <th id=\"T_7c3965a0_8a0a_11ea_912c_0242ac1c0002level0_row2\" class=\"row_heading level0 row2\" >threat</th>\n",
              "                        <td id=\"T_7c3965a0_8a0a_11ea_912c_0242ac1c0002row2_col0\" class=\"data row2 col0\" >0.28</td>\n",
              "                        <td id=\"T_7c3965a0_8a0a_11ea_912c_0242ac1c0002row2_col1\" class=\"data row2 col1\" >0.09</td>\n",
              "                        <td id=\"T_7c3965a0_8a0a_11ea_912c_0242ac1c0002row2_col2\" class=\"data row2 col2\" >1.00</td>\n",
              "                        <td id=\"T_7c3965a0_8a0a_11ea_912c_0242ac1c0002row2_col3\" class=\"data row2 col3\" >0.11</td>\n",
              "                        <td id=\"T_7c3965a0_8a0a_11ea_912c_0242ac1c0002row2_col4\" class=\"data row2 col4\" >0.15</td>\n",
              "                        <td id=\"T_7c3965a0_8a0a_11ea_912c_0242ac1c0002row2_col5\" class=\"data row2 col5\" >0.09</td>\n",
              "                        <td id=\"T_7c3965a0_8a0a_11ea_912c_0242ac1c0002row2_col6\" class=\"data row2 col6\" >0.29</td>\n",
              "            </tr>\n",
              "            <tr>\n",
              "                        <th id=\"T_7c3965a0_8a0a_11ea_912c_0242ac1c0002level0_row3\" class=\"row_heading level0 row3\" >insult</th>\n",
              "                        <td id=\"T_7c3965a0_8a0a_11ea_912c_0242ac1c0002row3_col0\" class=\"data row3 col0\" >0.32</td>\n",
              "                        <td id=\"T_7c3965a0_8a0a_11ea_912c_0242ac1c0002row3_col1\" class=\"data row3 col1\" >0.43</td>\n",
              "                        <td id=\"T_7c3965a0_8a0a_11ea_912c_0242ac1c0002row3_col2\" class=\"data row3 col2\" >0.11</td>\n",
              "                        <td id=\"T_7c3965a0_8a0a_11ea_912c_0242ac1c0002row3_col3\" class=\"data row3 col3\" >1.00</td>\n",
              "                        <td id=\"T_7c3965a0_8a0a_11ea_912c_0242ac1c0002row3_col4\" class=\"data row3 col4\" >0.31</td>\n",
              "                        <td id=\"T_7c3965a0_8a0a_11ea_912c_0242ac1c0002row3_col5\" class=\"data row3 col5\" >0.15</td>\n",
              "                        <td id=\"T_7c3965a0_8a0a_11ea_912c_0242ac1c0002row3_col6\" class=\"data row3 col6\" >0.93</td>\n",
              "            </tr>\n",
              "            <tr>\n",
              "                        <th id=\"T_7c3965a0_8a0a_11ea_912c_0242ac1c0002level0_row4\" class=\"row_heading level0 row4\" >identity_attack</th>\n",
              "                        <td id=\"T_7c3965a0_8a0a_11ea_912c_0242ac1c0002row4_col0\" class=\"data row4 col0\" >0.26</td>\n",
              "                        <td id=\"T_7c3965a0_8a0a_11ea_912c_0242ac1c0002row4_col1\" class=\"data row4 col1\" >0.12</td>\n",
              "                        <td id=\"T_7c3965a0_8a0a_11ea_912c_0242ac1c0002row4_col2\" class=\"data row4 col2\" >0.15</td>\n",
              "                        <td id=\"T_7c3965a0_8a0a_11ea_912c_0242ac1c0002row4_col3\" class=\"data row4 col3\" >0.31</td>\n",
              "                        <td id=\"T_7c3965a0_8a0a_11ea_912c_0242ac1c0002row4_col4\" class=\"data row4 col4\" >1.00</td>\n",
              "                        <td id=\"T_7c3965a0_8a0a_11ea_912c_0242ac1c0002row4_col5\" class=\"data row4 col5\" >0.12</td>\n",
              "                        <td id=\"T_7c3965a0_8a0a_11ea_912c_0242ac1c0002row4_col6\" class=\"data row4 col6\" >0.45</td>\n",
              "            </tr>\n",
              "            <tr>\n",
              "                        <th id=\"T_7c3965a0_8a0a_11ea_912c_0242ac1c0002level0_row5\" class=\"row_heading level0 row5\" >sexual_explicit</th>\n",
              "                        <td id=\"T_7c3965a0_8a0a_11ea_912c_0242ac1c0002row5_col0\" class=\"data row5 col0\" >0.20</td>\n",
              "                        <td id=\"T_7c3965a0_8a0a_11ea_912c_0242ac1c0002row5_col1\" class=\"data row5 col1\" >0.33</td>\n",
              "                        <td id=\"T_7c3965a0_8a0a_11ea_912c_0242ac1c0002row5_col2\" class=\"data row5 col2\" >0.09</td>\n",
              "                        <td id=\"T_7c3965a0_8a0a_11ea_912c_0242ac1c0002row5_col3\" class=\"data row5 col3\" >0.15</td>\n",
              "                        <td id=\"T_7c3965a0_8a0a_11ea_912c_0242ac1c0002row5_col4\" class=\"data row5 col4\" >0.12</td>\n",
              "                        <td id=\"T_7c3965a0_8a0a_11ea_912c_0242ac1c0002row5_col5\" class=\"data row5 col5\" >1.00</td>\n",
              "                        <td id=\"T_7c3965a0_8a0a_11ea_912c_0242ac1c0002row5_col6\" class=\"data row5 col6\" >0.25</td>\n",
              "            </tr>\n",
              "            <tr>\n",
              "                        <th id=\"T_7c3965a0_8a0a_11ea_912c_0242ac1c0002level0_row6\" class=\"row_heading level0 row6\" >target</th>\n",
              "                        <td id=\"T_7c3965a0_8a0a_11ea_912c_0242ac1c0002row6_col0\" class=\"data row6 col0\" >0.39</td>\n",
              "                        <td id=\"T_7c3965a0_8a0a_11ea_912c_0242ac1c0002row6_col1\" class=\"data row6 col1\" >0.49</td>\n",
              "                        <td id=\"T_7c3965a0_8a0a_11ea_912c_0242ac1c0002row6_col2\" class=\"data row6 col2\" >0.29</td>\n",
              "                        <td id=\"T_7c3965a0_8a0a_11ea_912c_0242ac1c0002row6_col3\" class=\"data row6 col3\" >0.93</td>\n",
              "                        <td id=\"T_7c3965a0_8a0a_11ea_912c_0242ac1c0002row6_col4\" class=\"data row6 col4\" >0.45</td>\n",
              "                        <td id=\"T_7c3965a0_8a0a_11ea_912c_0242ac1c0002row6_col5\" class=\"data row6 col5\" >0.25</td>\n",
              "                        <td id=\"T_7c3965a0_8a0a_11ea_912c_0242ac1c0002row6_col6\" class=\"data row6 col6\" >1.00</td>\n",
              "            </tr>\n",
              "    </tbody></table>"
            ],
            "text/plain": [
              "<pandas.io.formats.style.Styler at 0x7fe2dea39128>"
            ]
          },
          "metadata": {
            "tags": []
          },
          "execution_count": 13
        }
      ]
    },
    {
      "cell_type": "markdown",
      "metadata": {
        "id": "n8papyR5l_AX",
        "colab_type": "text"
      },
      "source": [
        "To my surprise, *insult* and *target* correlation score is really high: 0.93! Although *obscene* and *identity_attack* have 0.49 and 0.45, respectively, but 0.93 is just another level. Maybe we should focus on predicting *insult* as the definition of *toxic*?"
      ]
    },
    {
      "cell_type": "markdown",
      "metadata": {
        "id": "D96S9rwQl_AX",
        "colab_type": "text"
      },
      "source": [
        "## 1.3 Identity Distribution"
      ]
    },
    {
      "cell_type": "code",
      "metadata": {
        "id": "TuwkPp6Pl_AX",
        "colab_type": "code",
        "colab": {
          "base_uri": "https://localhost:8080/",
          "height": 34
        },
        "outputId": "28073bff-2ade-4ac1-d23f-00c9b4c900b7"
      },
      "source": [
        "identity_df = train[identity_attrs].dropna(axis=0, how='all')\n",
        "print(\"There are {:,} ({:.2f}% of all training set) identity-labelled comments, out of which {:,} ({:.2f}%) are not identity offensive.\".format(\n",
        "    len(identity_df),\n",
        "    len(identity_df) * 100 / len(train),\n",
        "    len(identity_df[np.sum(identity_df, axis=1) == 0]),\n",
        "    len(identity_df[np.sum(identity_df, axis=1) == 0]) * 100 / len(identity_df)\n",
        "))"
      ],
      "execution_count": 14,
      "outputs": [
        {
          "output_type": "stream",
          "text": [
            "There are 405,130 (22.45% of all training set) identity-labelled comments, out of which 178,896 (44.16%) are not identity offensive.\n"
          ],
          "name": "stdout"
        }
      ]
    },
    {
      "cell_type": "markdown",
      "metadata": {
        "id": "S3jJqfPml_AZ",
        "colab_type": "text"
      },
      "source": [
        "The first reason why identity columns are not as helpful as subtypes is the data availability. Only 22.45% of the training set are labelled and half of them are not considered toxic. Let's explore the distribution of comments that have been labelled with identities:"
      ]
    },
    {
      "cell_type": "code",
      "metadata": {
        "id": "dwPzq0pJl_Aa",
        "colab_type": "code",
        "colab": {
          "base_uri": "https://localhost:8080/",
          "height": 500
        },
        "outputId": "53677974-313f-4ef8-f177-42451646d324"
      },
      "source": [
        "identity_count = (identity_df > 0.5).sum(axis=0).sort_values(ascending=False)\n",
        "identity_prop = np.round(identity_count * 100 / len(identity_df), 2)\n",
        "fig, ax = plt.subplots(figsize=(12, 7.5))\n",
        "_ = sns.barplot(x=identity_count.values, y=identity_count.index, ax=ax)\n",
        "_ = ax.set_title('Identity Distribution (with % of all identity-labeled comments)')\n",
        "_ = ax.set_xlabel('Identity Labels')\n",
        "_ = ax.set_ylabel('#Comments')\n",
        "\n",
        "for p, label in zip(ax.patches, identity_prop.values):\n",
        "    ax.annotate(\"{:.2f}%\".format(label), (p.get_width(), p.get_y()+0.6))"
      ],
      "execution_count": 15,
      "outputs": [
        {
          "output_type": "display_data",
          "data": {
            "image/png": "[encoded data removed]",
            "text/plain": [
              "<Figure size 864x540 with 1 Axes>"
            ]
          },
          "metadata": {
            "tags": [],
            "needs_background": "light"
          }
        }
      ]
    },
    {
      "cell_type": "markdown",
      "metadata": {
        "id": "ErHL8G0ll_Ab",
        "colab_type": "text"
      },
      "source": [
        "And if we group the identity columns:"
      ]
    },
    {
      "cell_type": "code",
      "metadata": {
        "id": "D8i92--Wl_Ac",
        "colab_type": "code",
        "colab": {
          "base_uri": "https://localhost:8080/",
          "height": 500
        },
        "outputId": "44ea54d6-497f-44ad-ef4e-c671800d2937"
      },
      "source": [
        "identity_group_count = pd.Series(\n",
        "    dict(\n",
        "        (g, np.sum(identity_count[identity_count.index.isin(identity_attrs_group[g])])) \n",
        "        for g in identity_attrs_group)\n",
        ").sort_values(ascending=False)\n",
        "identity_group_prop = np.round(identity_group_count * 100 / len(identity_df), 2)\n",
        "fig, ax = plt.subplots(figsize=(12, 7.5))\n",
        "_ = sns.barplot(x=identity_group_count.index, y=identity_group_count.values, ax=ax)\n",
        "_ = ax.set_title('Identity Distribution (with % of all comments w/ identity data)')\n",
        "_ = ax.set_xlabel('Identity Types')\n",
        "_ = ax.set_ylabel('#Comments')\n",
        "\n",
        "for p, label in zip(ax.patches, identity_group_prop.values):\n",
        "    ax.annotate(\"{:.2f}%\".format(label), (p.get_x()+0.275, p.get_height()+500))"
      ],
      "execution_count": 16,
      "outputs": [
        {
          "output_type": "display_data",
          "data": {
            "image/png": "[encoded data removed]",
            "text/plain": [
              "<Figure size 864x540 with 1 Axes>"
            ]
          },
          "metadata": {
            "tags": [],
            "needs_background": "light"
          }
        }
      ]
    },
    {
      "cell_type": "markdown",
      "metadata": {
        "id": "i0c0Cuiql_Ae",
        "colab_type": "text"
      },
      "source": [
        "The most popular identity is regarding *gender* followed by *religion* and *race*, still not so dominating as *insult* subtype. How about the correlation with the *target*?"
      ]
    },
    {
      "cell_type": "code",
      "metadata": {
        "id": "jfHeI7t7l_Ae",
        "colab_type": "code",
        "colab": {
          "base_uri": "https://localhost:8080/",
          "height": 166
        },
        "outputId": "c1a13ea2-5334-4c8a-82a6-e20e2f479c89"
      },
      "source": [
        "identity_group_df = pd.DataFrame()\n",
        "for g in identity_attrs_group:\n",
        "    identity_group_df[g] = np.max(identity_df[identity_attrs_group[g]], axis=1)\n",
        "identity_group_w_target_df = identity_group_df.join(train['target'], how='left')\n",
        "corr = identity_group_w_target_df.corr()\n",
        "corr.style.apply(background_gradient, m=corr.min().min(), M=corr.max().max()).set_precision(2)"
      ],
      "execution_count": 17,
      "outputs": [
        {
          "output_type": "execute_result",
          "data": {
            "text/html": [
              "<style  type=\"text/css\" >\n",
              "    #T_818e1f96_8a0a_11ea_912c_0242ac1c0002row0_col0 {\n",
              "            background-color:  #73a9cf;\n",
              "        }    #T_818e1f96_8a0a_11ea_912c_0242ac1c0002row0_col1 {\n",
              "            background-color:  #fbf3f9;\n",
              "        }    #T_818e1f96_8a0a_11ea_912c_0242ac1c0002row0_col2 {\n",
              "            background-color:  #fff7fb;\n",
              "        }    #T_818e1f96_8a0a_11ea_912c_0242ac1c0002row0_col3 {\n",
              "            background-color:  #f7f0f7;\n",
              "        }    #T_818e1f96_8a0a_11ea_912c_0242ac1c0002row0_col4 {\n",
              "            background-color:  #fdf5fa;\n",
              "        }    #T_818e1f96_8a0a_11ea_912c_0242ac1c0002row0_col5 {\n",
              "            background-color:  #f5eef6;\n",
              "        }    #T_818e1f96_8a0a_11ea_912c_0242ac1c0002row1_col0 {\n",
              "            background-color:  #fbf3f9;\n",
              "        }    #T_818e1f96_8a0a_11ea_912c_0242ac1c0002row1_col1 {\n",
              "            background-color:  #73a9cf;\n",
              "        }    #T_818e1f96_8a0a_11ea_912c_0242ac1c0002row1_col2 {\n",
              "            background-color:  #fbf4f9;\n",
              "        }    #T_818e1f96_8a0a_11ea_912c_0242ac1c0002row1_col3 {\n",
              "            background-color:  #fcf4fa;\n",
              "        }    #T_818e1f96_8a0a_11ea_912c_0242ac1c0002row1_col4 {\n",
              "            background-color:  #fef6fb;\n",
              "        }    #T_818e1f96_8a0a_11ea_912c_0242ac1c0002row1_col5 {\n",
              "            background-color:  #ece7f2;\n",
              "        }    #T_818e1f96_8a0a_11ea_912c_0242ac1c0002row2_col0 {\n",
              "            background-color:  #fff7fb;\n",
              "        }    #T_818e1f96_8a0a_11ea_912c_0242ac1c0002row2_col1 {\n",
              "            background-color:  #fbf4f9;\n",
              "        }    #T_818e1f96_8a0a_11ea_912c_0242ac1c0002row2_col2 {\n",
              "            background-color:  #73a9cf;\n",
              "        }    #T_818e1f96_8a0a_11ea_912c_0242ac1c0002row2_col3 {\n",
              "            background-color:  #f7f0f7;\n",
              "        }    #T_818e1f96_8a0a_11ea_912c_0242ac1c0002row2_col4 {\n",
              "            background-color:  #fff7fb;\n",
              "        }    #T_818e1f96_8a0a_11ea_912c_0242ac1c0002row2_col5 {\n",
              "            background-color:  #f7f0f7;\n",
              "        }    #T_818e1f96_8a0a_11ea_912c_0242ac1c0002row3_col0 {\n",
              "            background-color:  #f7f0f7;\n",
              "        }    #T_818e1f96_8a0a_11ea_912c_0242ac1c0002row3_col1 {\n",
              "            background-color:  #fcf4fa;\n",
              "        }    #T_818e1f96_8a0a_11ea_912c_0242ac1c0002row3_col2 {\n",
              "            background-color:  #f7f0f7;\n",
              "        }    #T_818e1f96_8a0a_11ea_912c_0242ac1c0002row3_col3 {\n",
              "            background-color:  #73a9cf;\n",
              "        }    #T_818e1f96_8a0a_11ea_912c_0242ac1c0002row3_col4 {\n",
              "            background-color:  #fdf5fa;\n",
              "        }    #T_818e1f96_8a0a_11ea_912c_0242ac1c0002row3_col5 {\n",
              "            background-color:  #f2ecf5;\n",
              "        }    #T_818e1f96_8a0a_11ea_912c_0242ac1c0002row4_col0 {\n",
              "            background-color:  #fdf5fa;\n",
              "        }    #T_818e1f96_8a0a_11ea_912c_0242ac1c0002row4_col1 {\n",
              "            background-color:  #fef6fb;\n",
              "        }    #T_818e1f96_8a0a_11ea_912c_0242ac1c0002row4_col2 {\n",
              "            background-color:  #fff7fb;\n",
              "        }    #T_818e1f96_8a0a_11ea_912c_0242ac1c0002row4_col3 {\n",
              "            background-color:  #fdf5fa;\n",
              "        }    #T_818e1f96_8a0a_11ea_912c_0242ac1c0002row4_col4 {\n",
              "            background-color:  #73a9cf;\n",
              "        }    #T_818e1f96_8a0a_11ea_912c_0242ac1c0002row4_col5 {\n",
              "            background-color:  #f8f1f8;\n",
              "        }    #T_818e1f96_8a0a_11ea_912c_0242ac1c0002row5_col0 {\n",
              "            background-color:  #f5eef6;\n",
              "        }    #T_818e1f96_8a0a_11ea_912c_0242ac1c0002row5_col1 {\n",
              "            background-color:  #ece7f2;\n",
              "        }    #T_818e1f96_8a0a_11ea_912c_0242ac1c0002row5_col2 {\n",
              "            background-color:  #f7f0f7;\n",
              "        }    #T_818e1f96_8a0a_11ea_912c_0242ac1c0002row5_col3 {\n",
              "            background-color:  #f2ecf5;\n",
              "        }    #T_818e1f96_8a0a_11ea_912c_0242ac1c0002row5_col4 {\n",
              "            background-color:  #f8f1f8;\n",
              "        }    #T_818e1f96_8a0a_11ea_912c_0242ac1c0002row5_col5 {\n",
              "            background-color:  #73a9cf;\n",
              "        }</style><table id=\"T_818e1f96_8a0a_11ea_912c_0242ac1c0002\" ><thead>    <tr>        <th class=\"blank level0\" ></th>        <th class=\"col_heading level0 col0\" >gender</th>        <th class=\"col_heading level0 col1\" >race</th>        <th class=\"col_heading level0 col2\" >religion</th>        <th class=\"col_heading level0 col3\" >sexual_orientation</th>        <th class=\"col_heading level0 col4\" >disability</th>        <th class=\"col_heading level0 col5\" >target</th>    </tr></thead><tbody>\n",
              "                <tr>\n",
              "                        <th id=\"T_818e1f96_8a0a_11ea_912c_0242ac1c0002level0_row0\" class=\"row_heading level0 row0\" >gender</th>\n",
              "                        <td id=\"T_818e1f96_8a0a_11ea_912c_0242ac1c0002row0_col0\" class=\"data row0 col0\" >1.00</td>\n",
              "                        <td id=\"T_818e1f96_8a0a_11ea_912c_0242ac1c0002row0_col1\" class=\"data row0 col1\" >0.02</td>\n",
              "                        <td id=\"T_818e1f96_8a0a_11ea_912c_0242ac1c0002row0_col2\" class=\"data row0 col2\" >-0.04</td>\n",
              "                        <td id=\"T_818e1f96_8a0a_11ea_912c_0242ac1c0002row0_col3\" class=\"data row0 col3\" >0.07</td>\n",
              "                        <td id=\"T_818e1f96_8a0a_11ea_912c_0242ac1c0002row0_col4\" class=\"data row0 col4\" >-0.01</td>\n",
              "                        <td id=\"T_818e1f96_8a0a_11ea_912c_0242ac1c0002row0_col5\" class=\"data row0 col5\" >0.10</td>\n",
              "            </tr>\n",
              "            <tr>\n",
              "                        <th id=\"T_818e1f96_8a0a_11ea_912c_0242ac1c0002level0_row1\" class=\"row_heading level0 row1\" >race</th>\n",
              "                        <td id=\"T_818e1f96_8a0a_11ea_912c_0242ac1c0002row1_col0\" class=\"data row1 col0\" >0.02</td>\n",
              "                        <td id=\"T_818e1f96_8a0a_11ea_912c_0242ac1c0002row1_col1\" class=\"data row1 col1\" >1.00</td>\n",
              "                        <td id=\"T_818e1f96_8a0a_11ea_912c_0242ac1c0002row1_col2\" class=\"data row1 col2\" >0.01</td>\n",
              "                        <td id=\"T_818e1f96_8a0a_11ea_912c_0242ac1c0002row1_col3\" class=\"data row1 col3\" >0.00</td>\n",
              "                        <td id=\"T_818e1f96_8a0a_11ea_912c_0242ac1c0002row1_col4\" class=\"data row1 col4\" >-0.03</td>\n",
              "                        <td id=\"T_818e1f96_8a0a_11ea_912c_0242ac1c0002row1_col5\" class=\"data row1 col5\" >0.22</td>\n",
              "            </tr>\n",
              "            <tr>\n",
              "                        <th id=\"T_818e1f96_8a0a_11ea_912c_0242ac1c0002level0_row2\" class=\"row_heading level0 row2\" >religion</th>\n",
              "                        <td id=\"T_818e1f96_8a0a_11ea_912c_0242ac1c0002row2_col0\" class=\"data row2 col0\" >-0.04</td>\n",
              "                        <td id=\"T_818e1f96_8a0a_11ea_912c_0242ac1c0002row2_col1\" class=\"data row2 col1\" >0.01</td>\n",
              "                        <td id=\"T_818e1f96_8a0a_11ea_912c_0242ac1c0002row2_col2\" class=\"data row2 col2\" >1.00</td>\n",
              "                        <td id=\"T_818e1f96_8a0a_11ea_912c_0242ac1c0002row2_col3\" class=\"data row2 col3\" >0.07</td>\n",
              "                        <td id=\"T_818e1f96_8a0a_11ea_912c_0242ac1c0002row2_col4\" class=\"data row2 col4\" >-0.04</td>\n",
              "                        <td id=\"T_818e1f96_8a0a_11ea_912c_0242ac1c0002row2_col5\" class=\"data row2 col5\" >0.07</td>\n",
              "            </tr>\n",
              "            <tr>\n",
              "                        <th id=\"T_818e1f96_8a0a_11ea_912c_0242ac1c0002level0_row3\" class=\"row_heading level0 row3\" >sexual_orientation</th>\n",
              "                        <td id=\"T_818e1f96_8a0a_11ea_912c_0242ac1c0002row3_col0\" class=\"data row3 col0\" >0.07</td>\n",
              "                        <td id=\"T_818e1f96_8a0a_11ea_912c_0242ac1c0002row3_col1\" class=\"data row3 col1\" >0.00</td>\n",
              "                        <td id=\"T_818e1f96_8a0a_11ea_912c_0242ac1c0002row3_col2\" class=\"data row3 col2\" >0.07</td>\n",
              "                        <td id=\"T_818e1f96_8a0a_11ea_912c_0242ac1c0002row3_col3\" class=\"data row3 col3\" >1.00</td>\n",
              "                        <td id=\"T_818e1f96_8a0a_11ea_912c_0242ac1c0002row3_col4\" class=\"data row3 col4\" >-0.00</td>\n",
              "                        <td id=\"T_818e1f96_8a0a_11ea_912c_0242ac1c0002row3_col5\" class=\"data row3 col5\" >0.13</td>\n",
              "            </tr>\n",
              "            <tr>\n",
              "                        <th id=\"T_818e1f96_8a0a_11ea_912c_0242ac1c0002level0_row4\" class=\"row_heading level0 row4\" >disability</th>\n",
              "                        <td id=\"T_818e1f96_8a0a_11ea_912c_0242ac1c0002row4_col0\" class=\"data row4 col0\" >-0.01</td>\n",
              "                        <td id=\"T_818e1f96_8a0a_11ea_912c_0242ac1c0002row4_col1\" class=\"data row4 col1\" >-0.03</td>\n",
              "                        <td id=\"T_818e1f96_8a0a_11ea_912c_0242ac1c0002row4_col2\" class=\"data row4 col2\" >-0.04</td>\n",
              "                        <td id=\"T_818e1f96_8a0a_11ea_912c_0242ac1c0002row4_col3\" class=\"data row4 col3\" >-0.00</td>\n",
              "                        <td id=\"T_818e1f96_8a0a_11ea_912c_0242ac1c0002row4_col4\" class=\"data row4 col4\" >1.00</td>\n",
              "                        <td id=\"T_818e1f96_8a0a_11ea_912c_0242ac1c0002row4_col5\" class=\"data row4 col5\" >0.06</td>\n",
              "            </tr>\n",
              "            <tr>\n",
              "                        <th id=\"T_818e1f96_8a0a_11ea_912c_0242ac1c0002level0_row5\" class=\"row_heading level0 row5\" >target</th>\n",
              "                        <td id=\"T_818e1f96_8a0a_11ea_912c_0242ac1c0002row5_col0\" class=\"data row5 col0\" >0.10</td>\n",
              "                        <td id=\"T_818e1f96_8a0a_11ea_912c_0242ac1c0002row5_col1\" class=\"data row5 col1\" >0.22</td>\n",
              "                        <td id=\"T_818e1f96_8a0a_11ea_912c_0242ac1c0002row5_col2\" class=\"data row5 col2\" >0.07</td>\n",
              "                        <td id=\"T_818e1f96_8a0a_11ea_912c_0242ac1c0002row5_col3\" class=\"data row5 col3\" >0.13</td>\n",
              "                        <td id=\"T_818e1f96_8a0a_11ea_912c_0242ac1c0002row5_col4\" class=\"data row5 col4\" >0.06</td>\n",
              "                        <td id=\"T_818e1f96_8a0a_11ea_912c_0242ac1c0002row5_col5\" class=\"data row5 col5\" >1.00</td>\n",
              "            </tr>\n",
              "    </tbody></table>"
            ],
            "text/plain": [
              "<pandas.io.formats.style.Styler at 0x7fe2de6ac198>"
            ]
          },
          "metadata": {
            "tags": []
          },
          "execution_count": 17
        }
      ]
    },
    {
      "cell_type": "markdown",
      "metadata": {
        "id": "y7MqsUDdl_Ah",
        "colab_type": "text"
      },
      "source": [
        "With such low correlation, identity columns are not a promising auxiliary attributes. Except *race* and *sexual_orientation*, the correlation to target is almost 0. Even *race*, which has the highest correlation, only score 0.22."
      ]
    },
    {
      "cell_type": "markdown",
      "metadata": {
        "id": "fEQwEWc4l_Ai",
        "colab_type": "text"
      },
      "source": [
        "## 1.4 Toxic Subtypes and Identity Correlation"
      ]
    },
    {
      "cell_type": "markdown",
      "metadata": {
        "id": "S7wSL-XJl_Ai",
        "colab_type": "text"
      },
      "source": [
        "As we are interested about *insult* subtypes, is there any correlation between the identity columns to the subtypes?"
      ]
    },
    {
      "cell_type": "code",
      "metadata": {
        "id": "oGkdyGoYl_Ai",
        "colab_type": "code",
        "colab": {
          "base_uri": "https://localhost:8080/",
          "height": 166
        },
        "outputId": "413a0fcd-363b-4b15-db78-e39030140fb9"
      },
      "source": [
        "identity_group_w_subtypes_df = identity_group_df.join(train[toxic_subtypes], how='left')\n",
        "corr = identity_group_w_subtypes_df.corr()\n",
        "corr = corr.loc[toxic_subtypes, list(identity_attrs_group.keys())]\n",
        "corr.style.apply(background_gradient, m=corr.min().min(), M=corr.max().max()).set_precision(2)"
      ],
      "execution_count": 18,
      "outputs": [
        {
          "output_type": "execute_result",
          "data": {
            "text/html": [
              "<style  type=\"text/css\" >\n",
              "    #T_82a81044_8a0a_11ea_912c_0242ac1c0002row0_col0 {\n",
              "            background-color:  #f4edf6;\n",
              "        }    #T_82a81044_8a0a_11ea_912c_0242ac1c0002row0_col1 {\n",
              "            background-color:  #e7e3f0;\n",
              "        }    #T_82a81044_8a0a_11ea_912c_0242ac1c0002row0_col2 {\n",
              "            background-color:  #f5eef6;\n",
              "        }    #T_82a81044_8a0a_11ea_912c_0242ac1c0002row0_col3 {\n",
              "            background-color:  #f1ebf4;\n",
              "        }    #T_82a81044_8a0a_11ea_912c_0242ac1c0002row0_col4 {\n",
              "            background-color:  #f8f1f8;\n",
              "        }    #T_82a81044_8a0a_11ea_912c_0242ac1c0002row1_col0 {\n",
              "            background-color:  #f4eef6;\n",
              "        }    #T_82a81044_8a0a_11ea_912c_0242ac1c0002row1_col1 {\n",
              "            background-color:  #f8f1f8;\n",
              "        }    #T_82a81044_8a0a_11ea_912c_0242ac1c0002row1_col2 {\n",
              "            background-color:  #fff7fb;\n",
              "        }    #T_82a81044_8a0a_11ea_912c_0242ac1c0002row1_col3 {\n",
              "            background-color:  #f7f0f7;\n",
              "        }    #T_82a81044_8a0a_11ea_912c_0242ac1c0002row1_col4 {\n",
              "            background-color:  #faf3f9;\n",
              "        }    #T_82a81044_8a0a_11ea_912c_0242ac1c0002row2_col0 {\n",
              "            background-color:  #f6eff7;\n",
              "        }    #T_82a81044_8a0a_11ea_912c_0242ac1c0002row2_col1 {\n",
              "            background-color:  #f2ecf5;\n",
              "        }    #T_82a81044_8a0a_11ea_912c_0242ac1c0002row2_col2 {\n",
              "            background-color:  #f7f0f7;\n",
              "        }    #T_82a81044_8a0a_11ea_912c_0242ac1c0002row2_col3 {\n",
              "            background-color:  #f9f2f8;\n",
              "        }    #T_82a81044_8a0a_11ea_912c_0242ac1c0002row2_col4 {\n",
              "            background-color:  #faf2f8;\n",
              "        }    #T_82a81044_8a0a_11ea_912c_0242ac1c0002row3_col0 {\n",
              "            background-color:  #f0eaf4;\n",
              "        }    #T_82a81044_8a0a_11ea_912c_0242ac1c0002row3_col1 {\n",
              "            background-color:  #e2dfee;\n",
              "        }    #T_82a81044_8a0a_11ea_912c_0242ac1c0002row3_col2 {\n",
              "            background-color:  #faf3f9;\n",
              "        }    #T_82a81044_8a0a_11ea_912c_0242ac1c0002row3_col3 {\n",
              "            background-color:  #f1ebf4;\n",
              "        }    #T_82a81044_8a0a_11ea_912c_0242ac1c0002row3_col4 {\n",
              "            background-color:  #eee9f3;\n",
              "        }    #T_82a81044_8a0a_11ea_912c_0242ac1c0002row4_col0 {\n",
              "            background-color:  #ede8f3;\n",
              "        }    #T_82a81044_8a0a_11ea_912c_0242ac1c0002row4_col1 {\n",
              "            background-color:  #73a9cf;\n",
              "        }    #T_82a81044_8a0a_11ea_912c_0242ac1c0002row4_col2 {\n",
              "            background-color:  #c2cbe2;\n",
              "        }    #T_82a81044_8a0a_11ea_912c_0242ac1c0002row4_col3 {\n",
              "            background-color:  #bdc8e1;\n",
              "        }    #T_82a81044_8a0a_11ea_912c_0242ac1c0002row4_col4 {\n",
              "            background-color:  #fbf3f9;\n",
              "        }    #T_82a81044_8a0a_11ea_912c_0242ac1c0002row5_col0 {\n",
              "            background-color:  #dcdaeb;\n",
              "        }    #T_82a81044_8a0a_11ea_912c_0242ac1c0002row5_col1 {\n",
              "            background-color:  #fff7fb;\n",
              "        }    #T_82a81044_8a0a_11ea_912c_0242ac1c0002row5_col2 {\n",
              "            background-color:  #fcf4fa;\n",
              "        }    #T_82a81044_8a0a_11ea_912c_0242ac1c0002row5_col3 {\n",
              "            background-color:  #e7e3f0;\n",
              "        }    #T_82a81044_8a0a_11ea_912c_0242ac1c0002row5_col4 {\n",
              "            background-color:  #fcf4fa;\n",
              "        }</style><table id=\"T_82a81044_8a0a_11ea_912c_0242ac1c0002\" ><thead>    <tr>        <th class=\"blank level0\" ></th>        <th class=\"col_heading level0 col0\" >gender</th>        <th class=\"col_heading level0 col1\" >race</th>        <th class=\"col_heading level0 col2\" >religion</th>        <th class=\"col_heading level0 col3\" >sexual_orientation</th>        <th class=\"col_heading level0 col4\" >disability</th>    </tr></thead><tbody>\n",
              "                <tr>\n",
              "                        <th id=\"T_82a81044_8a0a_11ea_912c_0242ac1c0002level0_row0\" class=\"row_heading level0 row0\" >severe_toxicity</th>\n",
              "                        <td id=\"T_82a81044_8a0a_11ea_912c_0242ac1c0002row0_col0\" class=\"data row0 col0\" >0.05</td>\n",
              "                        <td id=\"T_82a81044_8a0a_11ea_912c_0242ac1c0002row0_col1\" class=\"data row0 col1\" >0.11</td>\n",
              "                        <td id=\"T_82a81044_8a0a_11ea_912c_0242ac1c0002row0_col2\" class=\"data row0 col2\" >0.04</td>\n",
              "                        <td id=\"T_82a81044_8a0a_11ea_912c_0242ac1c0002row0_col3\" class=\"data row0 col3\" >0.07</td>\n",
              "                        <td id=\"T_82a81044_8a0a_11ea_912c_0242ac1c0002row0_col4\" class=\"data row0 col4\" >0.02</td>\n",
              "            </tr>\n",
              "            <tr>\n",
              "                        <th id=\"T_82a81044_8a0a_11ea_912c_0242ac1c0002level0_row1\" class=\"row_heading level0 row1\" >obscene</th>\n",
              "                        <td id=\"T_82a81044_8a0a_11ea_912c_0242ac1c0002row1_col0\" class=\"data row1 col0\" >0.04</td>\n",
              "                        <td id=\"T_82a81044_8a0a_11ea_912c_0242ac1c0002row1_col1\" class=\"data row1 col1\" >0.02</td>\n",
              "                        <td id=\"T_82a81044_8a0a_11ea_912c_0242ac1c0002row1_col2\" class=\"data row1 col2\" >-0.02</td>\n",
              "                        <td id=\"T_82a81044_8a0a_11ea_912c_0242ac1c0002row1_col3\" class=\"data row1 col3\" >0.03</td>\n",
              "                        <td id=\"T_82a81044_8a0a_11ea_912c_0242ac1c0002row1_col4\" class=\"data row1 col4\" >0.01</td>\n",
              "            </tr>\n",
              "            <tr>\n",
              "                        <th id=\"T_82a81044_8a0a_11ea_912c_0242ac1c0002level0_row2\" class=\"row_heading level0 row2\" >threat</th>\n",
              "                        <td id=\"T_82a81044_8a0a_11ea_912c_0242ac1c0002row2_col0\" class=\"data row2 col0\" >0.03</td>\n",
              "                        <td id=\"T_82a81044_8a0a_11ea_912c_0242ac1c0002row2_col1\" class=\"data row2 col1\" >0.05</td>\n",
              "                        <td id=\"T_82a81044_8a0a_11ea_912c_0242ac1c0002row2_col2\" class=\"data row2 col2\" >0.03</td>\n",
              "                        <td id=\"T_82a81044_8a0a_11ea_912c_0242ac1c0002row2_col3\" class=\"data row2 col3\" >0.02</td>\n",
              "                        <td id=\"T_82a81044_8a0a_11ea_912c_0242ac1c0002row2_col4\" class=\"data row2 col4\" >0.01</td>\n",
              "            </tr>\n",
              "            <tr>\n",
              "                        <th id=\"T_82a81044_8a0a_11ea_912c_0242ac1c0002level0_row3\" class=\"row_heading level0 row3\" >insult</th>\n",
              "                        <td id=\"T_82a81044_8a0a_11ea_912c_0242ac1c0002row3_col0\" class=\"data row3 col0\" >0.07</td>\n",
              "                        <td id=\"T_82a81044_8a0a_11ea_912c_0242ac1c0002row3_col1\" class=\"data row3 col1\" >0.13</td>\n",
              "                        <td id=\"T_82a81044_8a0a_11ea_912c_0242ac1c0002row3_col2\" class=\"data row3 col2\" >0.01</td>\n",
              "                        <td id=\"T_82a81044_8a0a_11ea_912c_0242ac1c0002row3_col3\" class=\"data row3 col3\" >0.06</td>\n",
              "                        <td id=\"T_82a81044_8a0a_11ea_912c_0242ac1c0002row3_col4\" class=\"data row3 col4\" >0.08</td>\n",
              "            </tr>\n",
              "            <tr>\n",
              "                        <th id=\"T_82a81044_8a0a_11ea_912c_0242ac1c0002level0_row4\" class=\"row_heading level0 row4\" >identity_attack</th>\n",
              "                        <td id=\"T_82a81044_8a0a_11ea_912c_0242ac1c0002row4_col0\" class=\"data row4 col0\" >0.08</td>\n",
              "                        <td id=\"T_82a81044_8a0a_11ea_912c_0242ac1c0002row4_col1\" class=\"data row4 col1\" >0.43</td>\n",
              "                        <td id=\"T_82a81044_8a0a_11ea_912c_0242ac1c0002row4_col2\" class=\"data row4 col2\" >0.24</td>\n",
              "                        <td id=\"T_82a81044_8a0a_11ea_912c_0242ac1c0002row4_col3\" class=\"data row4 col3\" >0.25</td>\n",
              "                        <td id=\"T_82a81044_8a0a_11ea_912c_0242ac1c0002row4_col4\" class=\"data row4 col4\" >0.00</td>\n",
              "            </tr>\n",
              "            <tr>\n",
              "                        <th id=\"T_82a81044_8a0a_11ea_912c_0242ac1c0002level0_row5\" class=\"row_heading level0 row5\" >sexual_explicit</th>\n",
              "                        <td id=\"T_82a81044_8a0a_11ea_912c_0242ac1c0002row5_col0\" class=\"data row5 col0\" >0.16</td>\n",
              "                        <td id=\"T_82a81044_8a0a_11ea_912c_0242ac1c0002row5_col1\" class=\"data row5 col1\" >-0.02</td>\n",
              "                        <td id=\"T_82a81044_8a0a_11ea_912c_0242ac1c0002row5_col2\" class=\"data row5 col2\" >-0.00</td>\n",
              "                        <td id=\"T_82a81044_8a0a_11ea_912c_0242ac1c0002row5_col3\" class=\"data row5 col3\" >0.11</td>\n",
              "                        <td id=\"T_82a81044_8a0a_11ea_912c_0242ac1c0002row5_col4\" class=\"data row5 col4\" >-0.00</td>\n",
              "            </tr>\n",
              "    </tbody></table>"
            ],
            "text/plain": [
              "<pandas.io.formats.style.Styler at 0x7fe2dcdb73c8>"
            ]
          },
          "metadata": {
            "tags": []
          },
          "execution_count": 18
        }
      ]
    },
    {
      "cell_type": "markdown",
      "metadata": {
        "id": "NsLZgGKJl_Ak",
        "colab_type": "text"
      },
      "source": [
        "Of course *identity_attack* is somewhat correlated with the identity columns, but we do not find any meaningful correlation between any of the identity groups with either *target* or *insult*. Thus, identity columns are not really helpful when we want to predict *target*."
      ]
    },
    {
      "cell_type": "markdown",
      "metadata": {
        "id": "hvqwCVDEl_Al",
        "colab_type": "text"
      },
      "source": [
        "# 2. Comments Analysis"
      ]
    },
    {
      "cell_type": "markdown",
      "metadata": {
        "id": "eMB9OVhsl_Al",
        "colab_type": "text"
      },
      "source": [
        "## 2.1 Lexical analysis"
      ]
    },
    {
      "cell_type": "markdown",
      "metadata": {
        "id": "Osr4EANRl_Al",
        "colab_type": "text"
      },
      "source": [
        "The purpose of the lexical analysis is to see comments characteristic before moving on to understanding them semantically. Can we get some clue about the toxicity of a comment based on the total number of characters in the comment or the average word length? Another aspect that we can investigate is the part-of-speech. The hypothesis is that toxic comments consist of adjectives. Let's consult the data to find the answer:"
      ]
    },
    {
      "cell_type": "code",
      "metadata": {
        "id": "NJ0LuHpcl_Am",
        "colab_type": "code",
        "colab": {}
      },
      "source": [
        "def plot_cdf(ax, df, col, xlabel):\n",
        "    _ = ax.hist(df[(df['target'] >= 0.5) & (df[col] < df[col].quantile(.99))][col], 200, \n",
        "                               density=True, histtype='step', color='red',\n",
        "                               cumulative=True, label='toxic')\n",
        "    _ = ax.hist(df[(df['target'] < 0.5) & (df[col] < df[col].quantile(.99))][col], 200,\n",
        "                               density=True, histtype='step', color='blue',\n",
        "                               cumulative=True, label='non-toxic')\n",
        "    _ = ax.legend(loc='upper left')\n",
        "    _ = ax.set_xlabel(xlabel)\n",
        "    _ = ax.set_ylabel('Proportion')\n",
        "    \n",
        "    return ax"
      ],
      "execution_count": 0,
      "outputs": []
    },
    {
      "cell_type": "code",
      "metadata": {
        "_kg_hide-output": true,
        "id": "_wDK5l5Ol_Ao",
        "colab_type": "code",
        "colab": {
          "base_uri": "https://localhost:8080/",
          "height": 443,
          "referenced_widgets": [
            "282220fe1f914cd4a18a0b2ce2900d25",
            "7df7b04e394e4b0a9dce0a5188186d48",
            "18459e5327894ba9bb84bd2ad278f431",
            "ced91321d5e4444c87df60adb181f572",
            "321539b99cc4497bb0bfd419eb7c2080",
            "b948b4a7217f446ca25c66d154695df9",
            "2e647b4cad1d4f4294523a3861daafbe",
            "27973db31dac4079ac5ab8b35fb17355",
            "d70bb01f1889464090088e4b9b4021e5",
            "7b81acfc0a46471abd8ea5cd94f0d5f0",
            "97d72477e15f4c42ac30fe3779db5f9f",
            "354f6cde490a419ebb74280fea81c7ec",
            "21fb2373fc994b87a6926c5ebf1d22c6",
            "189d81356d5b4a9e95539094357cf18e",
            "7f2c4a6a660f46bb92fd01119fdbfca4",
            "625aa59a61d44f43a7d3565eb318cd0f",
            "d1f09bbffec54eae88b40348cb6c6e29",
            "af71ccb19cc547269f1ed220284acc53",
            "d4bc1af4ee034901acda50fe0310b9dd",
            "4c5515f52f0140bdab69ea1e630d0200",
            "53322bf59c2a4788b4ad4ba9dd4c5ab3",
            "62599e4eae994416b296a4848b176cd4",
            "b52d7e4bb94d42ad975a6912a449ce9f",
            "0bfb0b07b66f4a3ba412f9cd5098b53e",
            "c58cc0c7ec924a439e1701988f4f6887",
            "4df9a7502cad49aa83c6e9a0344a2e82",
            "8d0f98c4347d48f9bdd8fa5a7aeeb38c",
            "cf73cd906ca548f481e437d608a29d01",
            "614a6396241f47f3862d5f4e4c81d558",
            "cc53d73d9bc644eab6bd7f2973b44d84",
            "f03ce79c10354bca9934ced700d5d3dc",
            "80387985e0ab48aaa1820f34bc6d44e8",
            "c87e414bfaf54dd5a7fcb137099f7637",
            "53e3033f09b644d7be34e39053d63e66",
            "9ba22bd21b7a48f2957211e672883287",
            "8536258695cb4043b60c7caf86f6e095",
            "547d5221f25b47ceb27ce35218682e9c",
            "a1d599c67bc64a25bf8ba4e6b6076f8e",
            "94821f96b90342f69d50f394bcc12cf1",
            "dc44c39d119545af9f7a9913bc2c5282",
            "face1d385fe04f78b742ac4f1ed01026",
            "b82a897edb8d46a89f6910a489397957",
            "135a4ef5699b4a808effec064a5491b8",
            "e313c899574642e2a4337680ba16c5f1",
            "839836e09cfa41fea63090caa786f414",
            "dd076dd0471b4f128234327158c06c95",
            "249d97992b63469fb520898b9ff1f1c8",
            "b9cd71a2e90b46dc862f8561defe5283",
            "961895fee18148fcb95c47ec9ec96e31",
            "6d2862d608014fedb44c419f221c8d5b",
            "ab17d8d0a73d4ee3b851cbeced0936a4",
            "77326c83fd024ad5b6b49c834e8d2b93",
            "02fd3070ef634f59818dfef42c39a74d",
            "bf1e968b4c8e4a0ca495bd27427f276e",
            "6fc661eb52b5465ea08a00cac7ae6ff1",
            "952357d9d92e4c46b56aad29bf862d90",
            "48b88bfb9dd74204a23bacea7d5b6c09",
            "6d4d7a611ed04bdbaf55f889dd477f82",
            "b5a10aada115426da3ee47cceebc0c5f",
            "ec17ffe9287c4946a3ee8d42f272a423",
            "9ba3050837084927b4e6b0e926a86bb7",
            "25b9215571f24d69b38048fa5b54b6e9",
            "f4e64ce0ee2f42ca8e71807dbc13b18b",
            "cd25233554514e4689940ff84b3adf9a"
          ]
        },
        "outputId": "88b509c7-c1b1-4fd5-eb18-046e540111b3"
      },
      "source": [
        "import nltk\n",
        "nltk.download('punkt')\n",
        "train['char_length'] = train['comment_text'].progress_apply(lambda c: len(c))\n",
        "train['tokenized_comment'] = train['comment_text'].progress_apply(\n",
        "    lambda c: [t.lower() for t in re.split(\"[\\s\\-—]+\", c.translate(str.maketrans('', '', string.punctuation))) if len(t) > 0]\n",
        ")\n",
        "train['num_tokens'] = train['tokenized_comment'].progress_apply(lambda c: len(c))\n",
        "train['average_token_length'] = train['tokenized_comment'].progress_apply(lambda c: np.mean([len(t) for t in c]) if len(c) > 0 else 0)\n",
        "train['comment_sentences'] = train['comment_text'].progress_apply(lambda c: sent_tokenize(c))\n",
        "train['number_of_sentences'] = train['comment_sentences'].progress_apply(lambda s: len(s))\n",
        "train['capital_letters_prop'] = train['comment_text'].progress_apply(lambda c: sum(1 for i in c if i.isupper()) / len(c))\n",
        "train['non_alphanumeric_prop'] = train['comment_text'].progress_apply(lambda c: sum(1 for t in c if not t.isalnum()) / len(c))"
      ],
      "execution_count": 20,
      "outputs": [
        {
          "output_type": "stream",
          "text": [
            "[nltk_data] Downloading package punkt to /root/nltk_data...\n",
            "[nltk_data]   Unzipping tokenizers/punkt.zip.\n"
          ],
          "name": "stdout"
        },
        {
          "output_type": "display_data",
          "data": {
            "application/vnd.jupyter.widget-view+json": {
              "model_id": "282220fe1f914cd4a18a0b2ce2900d25",
              "version_minor": 0,
              "version_major": 2
            },
            "text/plain": [
              "HBox(children=(IntProgress(value=0, max=1804874), HTML(value='')))"
            ]
          },
          "metadata": {
            "tags": []
          }
        },
        {
          "output_type": "stream",
          "text": [
            "\n"
          ],
          "name": "stdout"
        },
        {
          "output_type": "display_data",
          "data": {
            "application/vnd.jupyter.widget-view+json": {
              "model_id": "d70bb01f1889464090088e4b9b4021e5",
              "version_minor": 0,
              "version_major": 2
            },
            "text/plain": [
              "HBox(children=(IntProgress(value=0, max=1804874), HTML(value='')))"
            ]
          },
          "metadata": {
            "tags": []
          }
        },
        {
          "output_type": "stream",
          "text": [
            "\n"
          ],
          "name": "stdout"
        },
        {
          "output_type": "display_data",
          "data": {
            "application/vnd.jupyter.widget-view+json": {
              "model_id": "d1f09bbffec54eae88b40348cb6c6e29",
              "version_minor": 0,
              "version_major": 2
            },
            "text/plain": [
              "HBox(children=(IntProgress(value=0, max=1804874), HTML(value='')))"
            ]
          },
          "metadata": {
            "tags": []
          }
        },
        {
          "output_type": "stream",
          "text": [
            "\n"
          ],
          "name": "stdout"
        },
        {
          "output_type": "display_data",
          "data": {
            "application/vnd.jupyter.widget-view+json": {
              "model_id": "c58cc0c7ec924a439e1701988f4f6887",
              "version_minor": 0,
              "version_major": 2
            },
            "text/plain": [
              "HBox(children=(IntProgress(value=0, max=1804874), HTML(value='')))"
            ]
          },
          "metadata": {
            "tags": []
          }
        },
        {
          "output_type": "stream",
          "text": [
            "\n"
          ],
          "name": "stdout"
        },
        {
          "output_type": "display_data",
          "data": {
            "application/vnd.jupyter.widget-view+json": {
              "model_id": "c87e414bfaf54dd5a7fcb137099f7637",
              "version_minor": 0,
              "version_major": 2
            },
            "text/plain": [
              "HBox(children=(IntProgress(value=0, max=1804874), HTML(value='')))"
            ]
          },
          "metadata": {
            "tags": []
          }
        },
        {
          "output_type": "stream",
          "text": [
            "\n"
          ],
          "name": "stdout"
        },
        {
          "output_type": "display_data",
          "data": {
            "application/vnd.jupyter.widget-view+json": {
              "model_id": "face1d385fe04f78b742ac4f1ed01026",
              "version_minor": 0,
              "version_major": 2
            },
            "text/plain": [
              "HBox(children=(IntProgress(value=0, max=1804874), HTML(value='')))"
            ]
          },
          "metadata": {
            "tags": []
          }
        },
        {
          "output_type": "stream",
          "text": [
            "\n"
          ],
          "name": "stdout"
        },
        {
          "output_type": "display_data",
          "data": {
            "application/vnd.jupyter.widget-view+json": {
              "model_id": "961895fee18148fcb95c47ec9ec96e31",
              "version_minor": 0,
              "version_major": 2
            },
            "text/plain": [
              "HBox(children=(IntProgress(value=0, max=1804874), HTML(value='')))"
            ]
          },
          "metadata": {
            "tags": []
          }
        },
        {
          "output_type": "stream",
          "text": [
            "\n"
          ],
          "name": "stdout"
        },
        {
          "output_type": "display_data",
          "data": {
            "application/vnd.jupyter.widget-view+json": {
              "model_id": "48b88bfb9dd74204a23bacea7d5b6c09",
              "version_minor": 0,
              "version_major": 2
            },
            "text/plain": [
              "HBox(children=(IntProgress(value=0, max=1804874), HTML(value='')))"
            ]
          },
          "metadata": {
            "tags": []
          }
        },
        {
          "output_type": "stream",
          "text": [
            "\n"
          ],
          "name": "stdout"
        }
      ]
    },
    {
      "cell_type": "code",
      "metadata": {
        "id": "K7Yep9QYl_Ar",
        "colab_type": "code",
        "colab": {
          "base_uri": "https://localhost:8080/",
          "height": 1000
        },
        "outputId": "dd2d7777-0104-48a1-cbed-09f3691de396"
      },
      "source": [
        "fig, axs = plt.subplots(nrows=3, ncols=2, sharey=True, figsize=(18, 18))\n",
        "plt.suptitle('Lexical CDF')\n",
        "\n",
        "_ = plot_cdf(axs[0,0], train, 'char_length', 'Number of Characters')\n",
        "_ = plot_cdf(axs[0,1], train, 'num_tokens', 'Number of Tokens')\n",
        "_ = plot_cdf(axs[1,0], train, 'average_token_length', 'Average Token Length')\n",
        "_ = plot_cdf(axs[1,1], train, 'number_of_sentences', 'Number Of Sentences')\n",
        "_ = plot_cdf(axs[2,0], train, 'capital_letters_prop', 'Capital Letters Proportion')\n",
        "_ = plot_cdf(axs[2,1], train, 'non_alphanumeric_prop', 'Non-Alphanumeric Proportion')"
      ],
      "execution_count": 21,
      "outputs": [
        {
          "output_type": "display_data",
          "data": {
            "image/png": "[encoded data removed]",
            "text/plain": [
              "<Figure size 1296x1296 with 6 Axes>"
            ]
          },
          "metadata": {
            "tags": [],
            "needs_background": "light"
          }
        }
      ]
    },
    {
      "cell_type": "markdown",
      "metadata": {
        "id": "ydrsXVc0l_At",
        "colab_type": "text"
      },
      "source": [
        "Well, there is no significant difference between toxic and safe comments in any of the plots. We can observe, barely, that toxic comments tend to be longer with more number of tokens (or words). However, there is an usual spike for non-toxic comments with more than 950 characters. Seems some safe comments are (extremely) elaborative, but in general the longer means more likely to be toxic, also as shown by the number of sentences plot.\n",
        "\n",
        "Another hypothesis is that using a lot of capital letters and punctuation marks (e.g. a burst of exclamation or question marks) might signal toxic comments. However, there is no evidence of such thing in terms of capital letters and non-alphanumeric proportion. If that's the case, then using lower-case and removing alpha-numeric should be fine. It is worth to take another look at this with POS analysis."
      ]
    },
    {
      "cell_type": "markdown",
      "metadata": {
        "id": "EdenLTTsl_Au",
        "colab_type": "text"
      },
      "source": [
        "## 2.2 POS analysis"
      ]
    },
    {
      "cell_type": "markdown",
      "metadata": {
        "id": "bgQ3JRxdl_Au",
        "colab_type": "text"
      },
      "source": [
        "It is remarkable how a human can call another human with obscure words in an online forum. Based on personal observation, I suspect toxic comments contain more adjective than safe comments. Fortunately, NLTK has a default POS tagger for english. It might not work that well for online forum contents due to colloquial languages, but it can help us to some extent in verifying our hypothesis.\n",
        "\n",
        "For the POS analysis, I am going to use downsampling for the non-toxic class mainly due to memory limitation. Downsampling is done randomly."
      ]
    },
    {
      "cell_type": "code",
      "metadata": {
        "id": "Pp_24DV9l_Av",
        "colab_type": "code",
        "colab": {
          "base_uri": "https://localhost:8080/",
          "height": 34
        },
        "outputId": "465a4e87-9d96-493c-c172-d46eccef0834"
      },
      "source": [
        "n = len(train[train['target'] >= 0.5])\n",
        "train_sample = pd.concat([train[train['target'] >= 0.5].sample(n=n, random_state=1336), train[train['target'] < 0.5].sample(n=2*n, random_state=1337)])\n",
        "del identity_df\n",
        "del train\n",
        "_ = gc.collect()\n",
        "\n",
        "n_train_sample = len(train_sample)\n",
        "print(\"The number of samples: {:,}\".format(n_train_sample))"
      ],
      "execution_count": 22,
      "outputs": [
        {
          "output_type": "stream",
          "text": [
            "The number of samples: 433,002\n"
          ],
          "name": "stdout"
        }
      ]
    },
    {
      "cell_type": "code",
      "metadata": {
        "_kg_hide-output": true,
        "id": "KQWGt9N3l_Ax",
        "colab_type": "code",
        "colab": {
          "base_uri": "https://localhost:8080/",
          "height": 171,
          "referenced_widgets": [
            "4d9c12b397624fc981357239ef31049d",
            "8b0cfc09196e45d1b1e73c7dddfce367",
            "5d04523048d340d2b592c3bdc963f473",
            "c3a0520debb94e89b9391f143646ae6c",
            "5b3c005963044a04ad343a93c88f8a26",
            "a4e82333b55e424889f6d3fd8ef32f3c",
            "692c51719061400cb21c2dd03dd5f4a1",
            "b21efed9e1694463984bcb8ff9fdf7af"
          ]
        },
        "outputId": "c77911ee-0b19-4f5c-8fd7-310c83552409"
      },
      "source": [
        "nltk.download('averaged_perceptron_tagger')\n",
        "train_sample_pos = train_sample.join(\n",
        "    train_sample['tokenized_comment'].progress_apply(\n",
        "        lambda c: pd.Series(Counter('POS_' + p[:2] + '_prop' for w,p in pos_tag(c))) / len(c)\n",
        "    )\n",
        ")"
      ],
      "execution_count": 24,
      "outputs": [
        {
          "output_type": "stream",
          "text": [
            "[nltk_data] Downloading package averaged_perceptron_tagger to\n",
            "[nltk_data]     /root/nltk_data...\n",
            "[nltk_data]   Unzipping taggers/averaged_perceptron_tagger.zip.\n"
          ],
          "name": "stdout"
        },
        {
          "output_type": "display_data",
          "data": {
            "application/vnd.jupyter.widget-view+json": {
              "model_id": "4d9c12b397624fc981357239ef31049d",
              "version_minor": 0,
              "version_major": 2
            },
            "text/plain": [
              "HBox(children=(IntProgress(value=0, max=433002), HTML(value='')))"
            ]
          },
          "metadata": {
            "tags": []
          }
        },
        {
          "output_type": "stream",
          "text": [
            "/usr/local/lib/python3.6/dist-packages/ipykernel_launcher.py:4: DeprecationWarning: The default dtype for empty Series will be 'object' instead of 'float64' in a future version. Specify a dtype explicitly to silence this warning.\n",
            "  after removing the cwd from sys.path.\n"
          ],
          "name": "stderr"
        },
        {
          "output_type": "stream",
          "text": [
            "\n"
          ],
          "name": "stdout"
        }
      ]
    },
    {
      "cell_type": "code",
      "metadata": {
        "id": "tvTTwv-1l_Az",
        "colab_type": "code",
        "colab": {
          "base_uri": "https://localhost:8080/",
          "height": 408
        },
        "outputId": "b5a95adc-dc5b-4a0a-c6c7-fcd27a7944e5"
      },
      "source": [
        "pos_columns = ['POS_JJ_prop', 'POS_NN_prop', 'POS_IN_prop',\n",
        "       'POS_PR_prop', 'POS_VB_prop', 'POS_CC_prop', 'POS_MD_prop',\n",
        "       'POS_RB_prop', 'POS_TO_prop', 'POS_DT_prop', 'POS_WD_prop',\n",
        "       'POS_EX_prop', 'POS_WP_prop', 'POS_CD_prop', 'POS_WR_prop',\n",
        "       'POS_PD_prop', 'POS_RP_prop', 'POS_UH_prop', 'POS_FW_prop',\n",
        "       'POS_\\'\\'_prop', 'POS_PO_prop', 'POS_$_prop']\n",
        "train_sample_pos[pos_columns + ['target']].corr()['target'].sort_values(ascending=False)[1:]"
      ],
      "execution_count": 25,
      "outputs": [
        {
          "output_type": "execute_result",
          "data": {
            "text/plain": [
              "POS_PR_prop    0.055128\n",
              "POS_PD_prop    0.053550\n",
              "POS_JJ_prop    0.051554\n",
              "POS_RP_prop    0.046285\n",
              "POS_CC_prop    0.021666\n",
              "POS_FW_prop    0.020492\n",
              "POS_WP_prop    0.019195\n",
              "POS_WD_prop    0.005486\n",
              "POS_VB_prop    0.000945\n",
              "POS_EX_prop   -0.000353\n",
              "POS_DT_prop   -0.002836\n",
              "POS_''_prop   -0.017624\n",
              "POS_NN_prop   -0.021231\n",
              "POS_TO_prop   -0.025364\n",
              "POS_MD_prop   -0.026682\n",
              "POS_WR_prop   -0.028601\n",
              "POS_RB_prop   -0.033749\n",
              "POS_$_prop    -0.068161\n",
              "POS_IN_prop   -0.083119\n",
              "POS_UH_prop   -0.083723\n",
              "POS_CD_prop   -0.089425\n",
              "POS_PO_prop   -0.111784\n",
              "Name: target, dtype: float64"
            ]
          },
          "metadata": {
            "tags": []
          },
          "execution_count": 25
        }
      ]
    },
    {
      "cell_type": "markdown",
      "metadata": {
        "id": "7QawXkI4l_A1",
        "colab_type": "text"
      },
      "source": [
        "Although small, these POS tags have positive correlation with the target value:\n",
        "1. PR: pronouns (her, hers, himself)\n",
        "2. PD: predeterminers (all, half, both)\n",
        "3. JJ: adjectives\n",
        "4. RP: particles (about)\n",
        "\n",
        "They are not as significant as expected, but we can get a sense of the construction of a toxic comment. Let's see the CFD:"
      ]
    },
    {
      "cell_type": "code",
      "metadata": {
        "id": "JCr4Si4Bl_A1",
        "colab_type": "code",
        "colab": {
          "base_uri": "https://localhost:8080/",
          "height": 810
        },
        "outputId": "26f10486-7263-436b-f7cc-2930676ba61e"
      },
      "source": [
        "fig, axs = plt.subplots(nrows=2, ncols=2, sharey=True, figsize=(18, 12))\n",
        "plt.suptitle('POS CDF')\n",
        "\n",
        "_ = plot_cdf(axs[0,0], train_sample_pos, 'POS_PR_prop', 'Pronoun Proportion')\n",
        "_ = plot_cdf(axs[0,1], train_sample_pos, 'POS_PD_prop', 'Predeterminer Proportion')\n",
        "_ = plot_cdf(axs[1,0], train_sample_pos, 'POS_JJ_prop', 'Adjectives Proportion')\n",
        "_ = plot_cdf(axs[1,1], train_sample_pos, 'POS_RP_prop', 'Particles Proportion')"
      ],
      "execution_count": 26,
      "outputs": [
        {
          "output_type": "display_data",
          "data": {
            "image/png": "[encoded data removed]",
            "text/plain": [
              "<Figure size 1296x864 with 4 Axes>"
            ]
          },
          "metadata": {
            "tags": [],
            "needs_background": "light"
          }
        }
      ]
    },
    {
      "cell_type": "markdown",
      "metadata": {
        "id": "k2QLaA_pl_A3",
        "colab_type": "text"
      },
      "source": [
        "On the other side, these POS tags are a sign of a safe comments:\n",
        "1. PO: possessive ending (person's)\n",
        "2. CD: digits\n",
        "3. UH: interjection (uh, yeah, ah)\n",
        "4. IN: preposition/conjunction (on, in, but)\n",
        "\n",
        "This means, we should put more attention when we are handling those words during preprocessing. It is better to keep numbers, but maybe we can change them as a same token (\"DIGIT\"). Handling possesive ending seems relevant. Interjection, which seems to be meaningless, is worth a second look. Lastly, we need to be cautious about stopwords removal, does it remove prepositions? Before concluding, see in details for those 4 POS tags:"
      ]
    },
    {
      "cell_type": "code",
      "metadata": {
        "id": "jjOC28H8l_A3",
        "colab_type": "code",
        "colab": {
          "base_uri": "https://localhost:8080/",
          "height": 810
        },
        "outputId": "cd28f5c1-e1b5-4979-bddc-a37f027d09f2"
      },
      "source": [
        "fig, axs = plt.subplots(nrows=2, ncols=2, sharey=True, figsize=(18, 12))\n",
        "plt.suptitle('POS CDF')\n",
        "\n",
        "_ = plot_cdf(axs[0,0], train_sample_pos, 'POS_PO_prop', 'Possessive Ending Proportion')\n",
        "_ = plot_cdf(axs[0,1], train_sample_pos, 'POS_CD_prop', 'Digits Proportion')\n",
        "_ = plot_cdf(axs[1,0], train_sample_pos, 'POS_UH_prop', 'Interjection Proportion')\n",
        "_ = plot_cdf(axs[1,1], train_sample_pos, 'POS_IN_prop', 'Preposition Proportion')"
      ],
      "execution_count": 27,
      "outputs": [
        {
          "output_type": "display_data",
          "data": {
            "image/png": "[encoded data removed]",
            "text/plain": [
              "<Figure size 1296x864 with 4 Axes>"
            ]
          },
          "metadata": {
            "tags": [],
            "needs_background": "light"
          }
        }
      ]
    },
    {
      "cell_type": "markdown",
      "metadata": {
        "id": "axIY5yLMl_A6",
        "colab_type": "text"
      },
      "source": [
        "For possessive endings, there are not many occurrences of the POS (looking at the number of \"steps\" in the chart) and it might be overfitting to those specific comments. This may also be the case for interjection. In terms of digits and preposition, however, higher proportion tend to be a safe comment.\n",
        "\n",
        "Note that since the POS tags correlation with the target value is really small either for positive and negative, it might not be that useful for predicting target value. Nevertheless, it offers a hint if using stopwords provide better results than removing them."
      ]
    },
    {
      "cell_type": "markdown",
      "metadata": {
        "id": "I7IZsYfnl_A6",
        "colab_type": "text"
      },
      "source": [
        "# 3. Vocabulary"
      ]
    },
    {
      "cell_type": "markdown",
      "metadata": {
        "id": "JvBc-KGZl_A7",
        "colab_type": "text"
      },
      "source": [
        "After we analyse the lexical characteristic of the comments, we are ready to touch the surface of semantic analysis. I am using a simple method called Term Frequency - Inverse Document Frequency (TF-IDF) to capture the importance of a word in a comment. TF-IDF has many flaws, of course, but it is a quick way of feature engineering without building any models. Moreover, it is definitely better than just a frequency-based bag-of-words. Subsequently, I use (yet another) simple naive bayes model to find which terms are important predictors."
      ]
    },
    {
      "cell_type": "markdown",
      "metadata": {
        "id": "7kT-vwg2l_A7",
        "colab_type": "text"
      },
      "source": [
        "## 3.1 TF-IDF"
      ]
    },
    {
      "cell_type": "markdown",
      "metadata": {
        "id": "Ka3nkbWGl_A7",
        "colab_type": "text"
      },
      "source": [
        "One of the weakness of TF-IDF is the inability to capture the similarity of the same word on different forms. As an illustration, \"available\" and \"availability\" are just as different as \"apple\" and \"duck\". The only way to capture the relationship between words are their co-occurrences in sentences. To handle this, I am using a stemmer. Stemming is not a fool-proof technique because we will lose some degree of information by doing so. However, as I want to analyze which word is the most relevant for a toxic/safe comments, not building the most accurate model, stemming should come in handy for now. Also, stopwords are not removed as preposition and interjection are positively correlated with safe comments."
      ]
    },
    {
      "cell_type": "code",
      "metadata": {
        "_kg_hide-output": true,
        "id": "U4eA_-jvl_A8",
        "colab_type": "code",
        "colab": {
          "base_uri": "https://localhost:8080/",
          "height": 66,
          "referenced_widgets": [
            "0192a5b58ba443b5bb054311bab601bd",
            "c0893f44f2974336aa3097b9f6d7b09f",
            "9a5fa0a599be413e842cb498342c3d6e",
            "b013aee35a484fc7b3063a9358880951",
            "0f1de6d47ec942608bd30bd3d3924b9f",
            "16c4eac3477a4eaaa442974b79cfcb9f",
            "74e7a918b5a84ee3ae2358c64c601040",
            "f74dcd42e611420ba3ede22888c33852"
          ]
        },
        "outputId": "022e69d9-d4e4-4905-c210-4e5f6a3fc9c5"
      },
      "source": [
        "stemmer = SnowballStemmer(\"english\")\n",
        "train_sample['stemmed_comment'] = train_sample['tokenized_comment'].progress_map(lambda c: ' '.join([stemmer.stem(t) for t in c]))\n",
        "comment_df = train_sample[['comment_text', 'stemmed_comment', 'toxicity_annotator_count', 'target']].sample(frac=1, random_state=1338)\n",
        "del train_sample_pos\n",
        "del train_sample\n",
        "_ = gc.collect()"
      ],
      "execution_count": 28,
      "outputs": [
        {
          "output_type": "display_data",
          "data": {
            "application/vnd.jupyter.widget-view+json": {
              "model_id": "0192a5b58ba443b5bb054311bab601bd",
              "version_minor": 0,
              "version_major": 2
            },
            "text/plain": [
              "HBox(children=(IntProgress(value=0, max=433002), HTML(value='')))"
            ]
          },
          "metadata": {
            "tags": []
          }
        },
        {
          "output_type": "stream",
          "text": [
            "\n"
          ],
          "name": "stdout"
        }
      ]
    },
    {
      "cell_type": "code",
      "metadata": {
        "id": "hOYU7RjXl_A-",
        "colab_type": "code",
        "colab": {
          "base_uri": "https://localhost:8080/",
          "height": 34
        },
        "outputId": "dabc21fd-f109-4343-cf29-a468de7e334f"
      },
      "source": [
        "# constructing TF-IDF term-weighting vocabulary\n",
        "# Only words that occur in at least 50 comments are included\n",
        "vectorizer = TfidfVectorizer(min_df=50, max_df=.15, ngram_range=(1, 2))\n",
        "train_n = int(0.1 * n_train_sample)\n",
        "X_train = vectorizer.fit_transform(comment_df[:train_n]['stemmed_comment'])\n",
        "X_test = vectorizer.transform(comment_df[train_n:]['stemmed_comment'])\n",
        "y_train = comment_df[:train_n]['target'] >= 0.5\n",
        "y_test = comment_df[train_n:]['target'] >= 0.5\n",
        "print(\"Number of vocabulary: {:,}\".format(len(vectorizer.get_feature_names())))"
      ],
      "execution_count": 29,
      "outputs": [
        {
          "output_type": "stream",
          "text": [
            "Number of vocabulary: 6,857\n"
          ],
          "name": "stdout"
        }
      ]
    },
    {
      "cell_type": "markdown",
      "metadata": {
        "id": "16a2CEQsl_BA",
        "colab_type": "text"
      },
      "source": [
        "We can see which terms have the highest weight by using the average of TF-IDF value:"
      ]
    },
    {
      "cell_type": "code",
      "metadata": {
        "id": "uQMExXgYl_BA",
        "colab_type": "code",
        "colab": {
          "base_uri": "https://localhost:8080/",
          "height": 824
        },
        "outputId": "d53d60a2-6458-476d-c21b-4dd31058f53a"
      },
      "source": [
        "avg_tfidf = np.asarray(X_train.mean(axis=0)).ravel().tolist()\n",
        "weights_df = pd.DataFrame({'term': vectorizer.get_feature_names(), 'avg_tfidf': avg_tfidf})\n",
        "weights_df.sort_values(by='avg_tfidf', ascending=False).head(25)"
      ],
      "execution_count": 30,
      "outputs": [
        {
          "output_type": "execute_result",
          "data": {
            "text/html": [
              "<div>\n",
              "<style scoped>\n",
              "    .dataframe tbody tr th:only-of-type {\n",
              "        vertical-align: middle;\n",
              "    }\n",
              "\n",
              "    .dataframe tbody tr th {\n",
              "        vertical-align: top;\n",
              "    }\n",
              "\n",
              "    .dataframe thead th {\n",
              "        text-align: right;\n",
              "    }\n",
              "</style>\n",
              "<table border=\"1\" class=\"dataframe\">\n",
              "  <thead>\n",
              "    <tr style=\"text-align: right;\">\n",
              "      <th></th>\n",
              "      <th>term</th>\n",
              "      <th>avg_tfidf</th>\n",
              "    </tr>\n",
              "  </thead>\n",
              "  <tbody>\n",
              "    <tr>\n",
              "      <th>2373</th>\n",
              "      <td>he</td>\n",
              "      <td>0.016199</td>\n",
              "    </tr>\n",
              "    <tr>\n",
              "      <th>6147</th>\n",
              "      <td>trump</td>\n",
              "      <td>0.013824</td>\n",
              "    </tr>\n",
              "    <tr>\n",
              "      <th>6580</th>\n",
              "      <td>will</td>\n",
              "      <td>0.013758</td>\n",
              "    </tr>\n",
              "    <tr>\n",
              "      <th>6387</th>\n",
              "      <td>we</td>\n",
              "      <td>0.013245</td>\n",
              "    </tr>\n",
              "    <tr>\n",
              "      <th>3240</th>\n",
              "      <td>like</td>\n",
              "      <td>0.012794</td>\n",
              "    </tr>\n",
              "    <tr>\n",
              "      <th>3648</th>\n",
              "      <td>no</td>\n",
              "      <td>0.012777</td>\n",
              "    </tr>\n",
              "    <tr>\n",
              "      <th>2475</th>\n",
              "      <td>his</td>\n",
              "      <td>0.012621</td>\n",
              "    </tr>\n",
              "    <tr>\n",
              "      <th>5674</th>\n",
              "      <td>their</td>\n",
              "      <td>0.012594</td>\n",
              "    </tr>\n",
              "    <tr>\n",
              "      <th>4885</th>\n",
              "      <td>so</td>\n",
              "      <td>0.012414</td>\n",
              "    </tr>\n",
              "    <tr>\n",
              "      <th>2078</th>\n",
              "      <td>from</td>\n",
              "      <td>0.012059</td>\n",
              "    </tr>\n",
              "    <tr>\n",
              "      <th>4114</th>\n",
              "      <td>peopl</td>\n",
              "      <td>0.012055</td>\n",
              "    </tr>\n",
              "    <tr>\n",
              "      <th>6543</th>\n",
              "      <td>who</td>\n",
              "      <td>0.011873</td>\n",
              "    </tr>\n",
              "    <tr>\n",
              "      <th>951</th>\n",
              "      <td>by</td>\n",
              "      <td>0.011827</td>\n",
              "    </tr>\n",
              "    <tr>\n",
              "      <th>3047</th>\n",
              "      <td>just</td>\n",
              "      <td>0.011823</td>\n",
              "    </tr>\n",
              "    <tr>\n",
              "      <th>597</th>\n",
              "      <td>at</td>\n",
              "      <td>0.011651</td>\n",
              "    </tr>\n",
              "    <tr>\n",
              "      <th>59</th>\n",
              "      <td>about</td>\n",
              "      <td>0.011548</td>\n",
              "    </tr>\n",
              "    <tr>\n",
              "      <th>6691</th>\n",
              "      <td>would</td>\n",
              "      <td>0.011478</td>\n",
              "    </tr>\n",
              "    <tr>\n",
              "      <th>258</th>\n",
              "      <td>an</td>\n",
              "      <td>0.011250</td>\n",
              "    </tr>\n",
              "    <tr>\n",
              "      <th>2310</th>\n",
              "      <td>has</td>\n",
              "      <td>0.010971</td>\n",
              "    </tr>\n",
              "    <tr>\n",
              "      <th>3924</th>\n",
              "      <td>one</td>\n",
              "      <td>0.010955</td>\n",
              "    </tr>\n",
              "    <tr>\n",
              "      <th>5719</th>\n",
              "      <td>there</td>\n",
              "      <td>0.010902</td>\n",
              "    </tr>\n",
              "    <tr>\n",
              "      <th>2137</th>\n",
              "      <td>get</td>\n",
              "      <td>0.010794</td>\n",
              "    </tr>\n",
              "    <tr>\n",
              "      <th>3525</th>\n",
              "      <td>more</td>\n",
              "      <td>0.010702</td>\n",
              "    </tr>\n",
              "    <tr>\n",
              "      <th>984</th>\n",
              "      <td>can</td>\n",
              "      <td>0.009945</td>\n",
              "    </tr>\n",
              "    <tr>\n",
              "      <th>1595</th>\n",
              "      <td>dont</td>\n",
              "      <td>0.009766</td>\n",
              "    </tr>\n",
              "  </tbody>\n",
              "</table>\n",
              "</div>"
            ],
            "text/plain": [
              "       term  avg_tfidf\n",
              "2373  he     0.016199 \n",
              "6147  trump  0.013824 \n",
              "6580  will   0.013758 \n",
              "6387  we     0.013245 \n",
              "3240  like   0.012794 \n",
              "3648  no     0.012777 \n",
              "2475  his    0.012621 \n",
              "5674  their  0.012594 \n",
              "4885  so     0.012414 \n",
              "2078  from   0.012059 \n",
              "4114  peopl  0.012055 \n",
              "6543  who    0.011873 \n",
              "951   by     0.011827 \n",
              "3047  just   0.011823 \n",
              "597   at     0.011651 \n",
              "59    about  0.011548 \n",
              "6691  would  0.011478 \n",
              "258   an     0.011250 \n",
              "2310  has    0.010971 \n",
              "3924  one    0.010955 \n",
              "5719  there  0.010902 \n",
              "2137  get    0.010794 \n",
              "3525  more   0.010702 \n",
              "984   can    0.009945 \n",
              "1595  dont   0.009766 "
            ]
          },
          "metadata": {
            "tags": []
          },
          "execution_count": 30
        }
      ]
    },
    {
      "cell_type": "markdown",
      "metadata": {
        "id": "bWD0BF9al_BC",
        "colab_type": "text"
      },
      "source": [
        "It is interesting to see that among the highest average tf-idf are mostly what are usually considered as stopwords (he, so, an). We can see that those terms have the highest weights, but are they a good predictor for toxic comments? Naive Bayes to the rescue."
      ]
    },
    {
      "cell_type": "markdown",
      "metadata": {
        "id": "i2jvHQD3l_BD",
        "colab_type": "text"
      },
      "source": [
        "## 3.2 Naive Bayes"
      ]
    },
    {
      "cell_type": "markdown",
      "metadata": {
        "id": "7IHuEnZtl_BD",
        "colab_type": "text"
      },
      "source": [
        "We want to model a comment being toxic given the term weights of words in the comment. We calculate the probability by looking at the probability of a toxic comments among all comments, probability of each word in a toxic comment, and the probability of the word itself among all corpora.\n",
        "\n",
        "Because we have 6.857 words in our vocabulary, each comment is represented as a vector with length 6.857, and most of the elements are zeros. In the end, our goal is to see which words are predictors of toxic/safe comments."
      ]
    },
    {
      "cell_type": "code",
      "metadata": {
        "id": "ZjwUrMO-l_BF",
        "colab_type": "code",
        "colab": {}
      },
      "source": [
        "def informative_features(vectorizer, clf, n=20):\n",
        "    feature_names = vectorizer.get_feature_names()\n",
        "    coefs_with_fns = sorted(zip(clf.coef_[0], feature_names))\n",
        "    top = zip(coefs_with_fns[:n], coefs_with_fns[:-(n + 1):-1])\n",
        "    for (coef_1, fn_1), (coef_2, fn_2) in top:\n",
        "        print(\"\\t{:8.4f} * {:15}\\t\\t{:8.4f} * {:15}\".format(coef_1, fn_1, coef_2, fn_2))"
      ],
      "execution_count": 0,
      "outputs": []
    },
    {
      "cell_type": "markdown",
      "metadata": {
        "id": "Apxk1bSsl_BH",
        "colab_type": "text"
      },
      "source": [
        "Because we are dealing with imbalanced dataset, I am using sample weighting. As the number of safe comments are twice the number of toxic comments in the sample, the weight of the toxic comments are twice the weight of a safe comment during training. In other words, we force the model to perform well on predicting a toxic comment correctly."
      ]
    },
    {
      "cell_type": "code",
      "metadata": {
        "id": "Oi84jgVCl_BH",
        "colab_type": "code",
        "colab": {
          "base_uri": "https://localhost:8080/",
          "height": 51
        },
        "outputId": "5ced70ca-d952-4d67-8ab7-62bb1bd28e23"
      },
      "source": [
        "nb_model = MultinomialNB()\n",
        "nb_model.fit(X_train, y_train, sample_weight=list(y_train * 0.5 + 0.5))\n",
        "y_pred_nb = nb_model.predict(X_test)\n",
        "y_prob_nb = nb_model.predict_proba(X_test)[:,1]\n",
        "roc_auc = roc_auc_score(y_test, y_prob_nb)\n",
        "fpr, tpr, threshold = roc_curve(y_test, y_prob_nb)\n",
        "print(confusion_matrix(y_test, y_pred_nb))"
      ],
      "execution_count": 32,
      "outputs": [
        {
          "output_type": "stream",
          "text": [
            "[[192361  67462]\n",
            " [ 26207 103672]]\n"
          ],
          "name": "stdout"
        }
      ]
    },
    {
      "cell_type": "code",
      "metadata": {
        "id": "6jpfH8aNl_BK",
        "colab_type": "code",
        "colab": {
          "base_uri": "https://localhost:8080/",
          "height": 500
        },
        "outputId": "0ff10079-e45a-4ba8-b5c0-a0b1ea991a2d"
      },
      "source": [
        "fig, ax = plt.subplots(figsize=(12, 7.5))\n",
        "_ = ax.plot(fpr, tpr, 'b', label = 'AUC = %0.2f' % roc_auc)\n",
        "_ = ax.legend(loc = 'lower right')\n",
        "_ = ax.plot([0, 1], [0, 1],'r--')\n",
        "_ = ax.set_title('Receiver Operating Characteristic')\n",
        "_ = ax.set_ylabel('True Positive Rate')\n",
        "_ = ax.set_xlabel('False Positive Rate')"
      ],
      "execution_count": 33,
      "outputs": [
        {
          "output_type": "display_data",
          "data": {
            "image/png": "[encoded data removed]",
            "text/plain": [
              "<Figure size 864x540 with 1 Axes>"
            ]
          },
          "metadata": {
            "tags": [],
            "needs_background": "light"
          }
        }
      ]
    },
    {
      "cell_type": "code",
      "metadata": {
        "id": "MysmoqzDl_BM",
        "colab_type": "code",
        "colab": {
          "base_uri": "https://localhost:8080/",
          "height": 357
        },
        "outputId": "49867740-82a9-4f65-cd54-0afdb8f0d2a1"
      },
      "source": [
        "informative_features(vectorizer, nb_model)"
      ],
      "execution_count": 34,
      "outputs": [
        {
          "output_type": "stream",
          "text": [
            "\t-11.0309 * incent         \t\t -5.6573 * trump          \n",
            "\t-10.8728 * updat          \t\t -5.6644 * he             \n",
            "\t-10.7768 * suffici        \t\t -5.8585 * stupid         \n",
            "\t-10.7668 * the latter     \t\t -5.8966 * his            \n",
            "\t-10.7648 * the fund       \t\t -5.9671 * like           \n",
            "\t-10.7634 * risk of        \t\t -5.9859 * peopl          \n",
            "\t-10.7380 * entiti         \t\t -6.0399 * just           \n",
            "\t-10.7277 * rental         \t\t -6.0536 * who            \n",
            "\t-10.7122 * compani that   \t\t -6.0788 * no             \n",
            "\t-10.6975 * innov          \t\t -6.0881 * their          \n",
            "\t-10.6967 * tax is         \t\t -6.0970 * so             \n",
            "\t-10.6810 * year it        \t\t -6.1160 * will           \n",
            "\t-10.6797 * will still     \t\t -6.1346 * we             \n",
            "\t-10.6714 * exempt         \t\t -6.1460 * an             \n",
            "\t-10.6567 * in oregon      \t\t -6.1982 * about          \n",
            "\t-10.6563 * reduc the      \t\t -6.2093 * by             \n",
            "\t-10.6411 * of oil         \t\t -6.2136 * idiot          \n",
            "\t-10.6208 * the purpos     \t\t -6.2142 * get            \n",
            "\t-10.6207 * upper          \t\t -6.2542 * from           \n",
            "\t-10.6202 * than what      \t\t -6.2811 * out            \n"
          ],
          "name": "stdout"
        }
      ]
    },
    {
      "cell_type": "markdown",
      "metadata": {
        "id": "N3ecGiejl_BN",
        "colab_type": "text"
      },
      "source": [
        "The left and right column shows keywords that contribute the most to predict as safe and toxic, respectively. Indeed some stopwords are a good predictor (his, will, an, by), so definitely we have to tailor which stopwords to be removed. Stopwords like \"the\" and \"of\" can still be removed, because they appeared in the list but does not contribute to the meaning itself (\"latter\" should suffice as a standalone token as it has the same meaning as \"the latter\")."
      ]
    },
    {
      "cell_type": "code",
      "metadata": {
        "id": "uUp9q01Cl_BO",
        "colab_type": "code",
        "colab": {
          "base_uri": "https://localhost:8080/",
          "height": 1000
        },
        "outputId": "184c5fba-0f52-47be-b9fd-78c5557efa9a"
      },
      "source": [
        "pred_df = pd.DataFrame()\n",
        "pred_df['true'] = y_test.astype(int)\n",
        "pred_df['prob'] = y_prob_nb\n",
        "fp_indices = pred_df[(pred_df['true'] == 0) & (pred_df['prob'] >= 0.5)]['prob'].sort_values(ascending=False).index\n",
        "tp_indices = pred_df[(pred_df['true'] == 0) & (pred_df['prob'] < 0.5)]['prob'].index\n",
        "comment_df.loc[fp_indices[:25]][['comment_text', 'target', 'toxicity_annotator_count']].sort_values(['target'])"
      ],
      "execution_count": 35,
      "outputs": [
        {
          "output_type": "execute_result",
          "data": {
            "text/html": [
              "<div>\n",
              "<style scoped>\n",
              "    .dataframe tbody tr th:only-of-type {\n",
              "        vertical-align: middle;\n",
              "    }\n",
              "\n",
              "    .dataframe tbody tr th {\n",
              "        vertical-align: top;\n",
              "    }\n",
              "\n",
              "    .dataframe thead th {\n",
              "        text-align: right;\n",
              "    }\n",
              "</style>\n",
              "<table border=\"1\" class=\"dataframe\">\n",
              "  <thead>\n",
              "    <tr style=\"text-align: right;\">\n",
              "      <th></th>\n",
              "      <th>comment_text</th>\n",
              "      <th>target</th>\n",
              "      <th>toxicity_annotator_count</th>\n",
              "    </tr>\n",
              "  </thead>\n",
              "  <tbody>\n",
              "    <tr>\n",
              "      <th>1342734</th>\n",
              "      <td>China has not exactly been any American president's best friend when it comes to North Korea.  Obama actually accomplished a tad bit more than Bush.  It was Clinton that lost the best opportunity to actually be effective.  \\n\\nI have been watching the despicable events unfolding in Charlottesville, and once again the man you voted for refuses to identify white supremacy as a problem.  I really and truly pray that every white pro life Christian that voted for the supposedly 'pro life' president meditates on the license they have given for others to hate and hate and hate and be proud of their 'patriotic' hate.  Please don't ever again tell anyone here their 'hatred of Mr Trump color everything', when Trump supporters are marching to paint this country exclusively white.  The silence from the white Christian Trump supporter is as equally despicable as the virulent white men screaming 'blood and soil'.</td>\n",
              "      <td>0.000000</td>\n",
              "      <td>4</td>\n",
              "    </tr>\n",
              "    <tr>\n",
              "      <th>1766043</th>\n",
              "      <td>You're a stone-cold MO-Ron.</td>\n",
              "      <td>0.000000</td>\n",
              "      <td>4</td>\n",
              "    </tr>\n",
              "    <tr>\n",
              "      <th>1658663</th>\n",
              "      <td>There is no white supremacist in the White House.</td>\n",
              "      <td>0.000000</td>\n",
              "      <td>4</td>\n",
              "    </tr>\n",
              "    <tr>\n",
              "      <th>1729610</th>\n",
              "      <td>Not clowns?</td>\n",
              "      <td>0.000000</td>\n",
              "      <td>4</td>\n",
              "    </tr>\n",
              "    <tr>\n",
              "      <th>582489</th>\n",
              "      <td>the sooner the left wing nut jobs like you realize trump is going no where since the GOP are clearly with him the better you can start looking inward at the left's issues that are the ones needing to be \"Impeached\" from society.  the usa goes on regardless of the ignorance and hate left wingers live in</td>\n",
              "      <td>0.000000</td>\n",
              "      <td>4</td>\n",
              "    </tr>\n",
              "    <tr>\n",
              "      <th>908836</th>\n",
              "      <td>There was a small cohort of anarchist who split off, but far and away the marchers were orderly. You lie by omission, and for a partisan purpose. Here's the straight story about Trump rallies:  https://www.nytimes.com/video/us/politics/100000004533191/unfiltered-voices-from-donald-trumps-crowds.html\\nYou probably won't look at it this time, either, but these videos show how truly awful Trump's base is. Nonstop cursing, assaults, incredible stupidity and ignorance. You asked for it, you got it, you deserve it, Donald J Trump. The ignorance and brutish behavior of Trump's base is more than disgusting, it's unbelievable that such hate and filth can emanate from so many of our citizens. Go ahead Motley, watch the video. That's you screaming lunacy.</td>\n",
              "      <td>0.166667</td>\n",
              "      <td>6</td>\n",
              "    </tr>\n",
              "    <tr>\n",
              "      <th>1366618</th>\n",
              "      <td>Here's a letter for patriotic Americans to send to Trump:\\n\\nDear Mr. President,\\nI’m sickened by your behavior this past week. Your refusal to seriously denounce White Supremacists and Nazis is an embarrassment to this country.\\nThis is UNACCEPTABLE and UNAMERICAN.\\nThat’s why I’m sending this letter, calling for your immediate resignation.\\n\\nIf you don't resign, every bit of effort and every extra dollar I have will go towards destroying the Republican party and voting Democrats into office.\\nI reject your xenophobic, racist and sexist agenda. And I REFUSE to let your hateful and bigoted comments go unanswered. I am committed to fighting for what’s right, and that means making sure you and your Republican backers are voted out of office.\\n\\nYour shameful moral character and self-serving leadership makes you absolutely unfit to be President of the United States.\\n\\nYour presidency is an absolute disaster. And your power is coming to an end.\\n\\nSincerely,\\n\\nRTD</td>\n",
              "      <td>0.200000</td>\n",
              "      <td>10</td>\n",
              "    </tr>\n",
              "    <tr>\n",
              "      <th>1361316</th>\n",
              "      <td>Stop deflecting to the past.  You and everybody else with eyes know who now coddles and makes concessions to the KKK, neo-nazis and white supremacists.  Not every republican is a white supremacist, but every white supremacist is a republican!</td>\n",
              "      <td>0.200000</td>\n",
              "      <td>10</td>\n",
              "    </tr>\n",
              "    <tr>\n",
              "      <th>1289839</th>\n",
              "      <td>... WHAT A PHONEY LIAR FAKEY SPOILED BRAT 'christian' ...</td>\n",
              "      <td>0.254545</td>\n",
              "      <td>55</td>\n",
              "    </tr>\n",
              "    <tr>\n",
              "      <th>1053981</th>\n",
              "      <td>Crooked Jerk!</td>\n",
              "      <td>0.366667</td>\n",
              "      <td>60</td>\n",
              "    </tr>\n",
              "    <tr>\n",
              "      <th>1035772</th>\n",
              "      <td>Do you want a liar and leaker in the White House?</td>\n",
              "      <td>0.377049</td>\n",
              "      <td>61</td>\n",
              "    </tr>\n",
              "    <tr>\n",
              "      <th>932875</th>\n",
              "      <td>it is amazing that there are still some here full of hate brain washed by the bias nut job left , believing any nut job accuasion with no facts to support it , that keeps repeating the usual hate and lies,, You left wing nut jobs are the loose cannons we are laughing at</td>\n",
              "      <td>0.400000</td>\n",
              "      <td>10</td>\n",
              "    </tr>\n",
              "    <tr>\n",
              "      <th>1481127</th>\n",
              "      <td>Aw, more hurt feelings? \\n\\nI wouldn't say democrats hate white people. Just the white supremacists.</td>\n",
              "      <td>0.400000</td>\n",
              "      <td>10</td>\n",
              "    </tr>\n",
              "    <tr>\n",
              "      <th>1379096</th>\n",
              "      <td>Another sore loser piling on. Smh</td>\n",
              "      <td>0.400000</td>\n",
              "      <td>10</td>\n",
              "    </tr>\n",
              "    <tr>\n",
              "      <th>1365312</th>\n",
              "      <td>\"Racism is evil, and those who cause violence in its name are criminals and thugs, including the KKK, neo-Nazis and white supremacists and other hate groups that are repugnant to everything we hold dear as Americans,\" the president said from the White House.\\n\\nEnough said.  DNC Chair Tom Perez is delusional.</td>\n",
              "      <td>0.400000</td>\n",
              "      <td>10</td>\n",
              "    </tr>\n",
              "    <tr>\n",
              "      <th>1687789</th>\n",
              "      <td>Yeah.  Morons.  :-)</td>\n",
              "      <td>0.406780</td>\n",
              "      <td>59</td>\n",
              "    </tr>\n",
              "    <tr>\n",
              "      <th>691368</th>\n",
              "      <td>Effin moron....</td>\n",
              "      <td>0.453125</td>\n",
              "      <td>64</td>\n",
              "    </tr>\n",
              "    <tr>\n",
              "      <th>1425810</th>\n",
              "      <td>NO - everyone is not racist.  A child is not born racist.  Racism is learned and not equally across cultures, races or regions.  I was not taught racism.  In fact, I (caucasion) had a black doll in the 1950s. My parents encouraged me to play with the (few) black children in my school. They believed in equality.  I am not racist.  I do notice the color of skin and celebrate differences that can enrich us as a society.\\n\\nI also think immigrants are good for this country and dilute the hate and entitlement from white people.  Immigrants start businesses too while white people who voted for tRump think America should save them.\\n\\nYou accuse Ozy of \"intolerance and hatred\".  What I have noticed in you and your illegitimate President is that when someone throws out accusations - they are really the guilty ones.  tRump accuses the real media of fake news and lying when he is the perpetrator.  You accuse Ozy of hate and intolerance and racism when you are the one who appears to be that.</td>\n",
              "      <td>0.454545</td>\n",
              "      <td>11</td>\n",
              "    </tr>\n",
              "    <tr>\n",
              "      <th>1394576</th>\n",
              "      <td>do not forget the BLM and black panther groups they are just like the KKK and white supremacist except there black so now you have the black KKK and black supremacist so there all the same but different colored people.</td>\n",
              "      <td>0.472973</td>\n",
              "      <td>74</td>\n",
              "    </tr>\n",
              "    <tr>\n",
              "      <th>1356546</th>\n",
              "      <td>What do you expect,\\nDonald denounced \"all\" Racists and Haters\\nDonald being pressured to be PC specifically denounced White Racist and not the Black Racist and Haters of Free Speech!\\nDonald should have stuck to his guns grouping All racist and haters! that uses violence.</td>\n",
              "      <td>0.473684</td>\n",
              "      <td>76</td>\n",
              "    </tr>\n",
              "    <tr>\n",
              "      <th>1408589</th>\n",
              "      <td>Duh, yes a White Supremacist would be white. \\n\\nAnd a Black or Brown Supremacist would be black or brown. \\n\\nDang, you're just so smart, arncha?</td>\n",
              "      <td>0.475000</td>\n",
              "      <td>80</td>\n",
              "    </tr>\n",
              "    <tr>\n",
              "      <th>724263</th>\n",
              "      <td>White supremacist bigot works</td>\n",
              "      <td>0.475000</td>\n",
              "      <td>80</td>\n",
              "    </tr>\n",
              "    <tr>\n",
              "      <th>512417</th>\n",
              "      <td>Yes, it certainly does. Putrumpski is a pathological liar.  Tell me, Beav, what does that make him? Oh, and you and all the others who either know he's a pathological liar and voted for him anyway, or blindly believed every lie he spouted? Sad.</td>\n",
              "      <td>0.480000</td>\n",
              "      <td>75</td>\n",
              "    </tr>\n",
              "    <tr>\n",
              "      <th>696192</th>\n",
              "      <td>Trumpy the Clown killed RIngling Bros.</td>\n",
              "      <td>0.487500</td>\n",
              "      <td>80</td>\n",
              "    </tr>\n",
              "    <tr>\n",
              "      <th>1545752</th>\n",
              "      <td>Overpaid, childish, Morons</td>\n",
              "      <td>0.492958</td>\n",
              "      <td>71</td>\n",
              "    </tr>\n",
              "  </tbody>\n",
              "</table>\n",
              "</div>"
            ],
            "text/plain": [
              "                                                                                                                                                                                                                                                                                                                                                                                                                                                                                                                                                                                                                                                                                                                                                                                                                                                                                                                                                                                                                                comment_text  ...  toxicity_annotator_count\n",
              "1342734  China has not exactly been any American president's best friend when it comes to North Korea.  Obama actually accomplished a tad bit more than Bush.  It was Clinton that lost the best opportunity to actually be effective.  \\n\\nI have been watching the despicable events unfolding in Charlottesville, and once again the man you voted for refuses to identify white supremacy as a problem.  I really and truly pray that every white pro life Christian that voted for the supposedly 'pro life' president meditates on the license they have given for others to hate and hate and hate and be proud of their 'patriotic' hate.  Please don't ever again tell anyone here their 'hatred of Mr Trump color everything', when Trump supporters are marching to paint this country exclusively white.  The silence from the white Christian Trump supporter is as equally despicable as the virulent white men screaming 'blood and soil'.                                                                                     ...  4                       \n",
              "1766043  You're a stone-cold MO-Ron.                                                                                                                                                                                                                                                                                                                                                                                                                                                                                                                                                                                                                                                                                                                                                                                                                                                                                                                                                                                                          ...  4                       \n",
              "1658663  There is no white supremacist in the White House.                                                                                                                                                                                                                                                                                                                                                                                                                                                                                                                                                                                                                                                                                                                                                                                                                                                                                                                                                                                    ...  4                       \n",
              "1729610  Not clowns?                                                                                                                                                                                                                                                                                                                                                                                                                                                                                                                                                                                                                                                                                                                                                                                                                                                                                                                                                                                                                          ...  4                       \n",
              "582489   the sooner the left wing nut jobs like you realize trump is going no where since the GOP are clearly with him the better you can start looking inward at the left's issues that are the ones needing to be \"Impeached\" from society.  the usa goes on regardless of the ignorance and hate left wingers live in                                                                                                                                                                                                                                                                                                                                                                                                                                                                                                                                                                                                                                                                                                                      ...  4                       \n",
              "908836   There was a small cohort of anarchist who split off, but far and away the marchers were orderly. You lie by omission, and for a partisan purpose. Here's the straight story about Trump rallies:  https://www.nytimes.com/video/us/politics/100000004533191/unfiltered-voices-from-donald-trumps-crowds.html\\nYou probably won't look at it this time, either, but these videos show how truly awful Trump's base is. Nonstop cursing, assaults, incredible stupidity and ignorance. You asked for it, you got it, you deserve it, Donald J Trump. The ignorance and brutish behavior of Trump's base is more than disgusting, it's unbelievable that such hate and filth can emanate from so many of our citizens. Go ahead Motley, watch the video. That's you screaming lunacy.                                                                                                                                                                                                                                                   ...  6                       \n",
              "1366618  Here's a letter for patriotic Americans to send to Trump:\\n\\nDear Mr. President,\\nI’m sickened by your behavior this past week. Your refusal to seriously denounce White Supremacists and Nazis is an embarrassment to this country.\\nThis is UNACCEPTABLE and UNAMERICAN.\\nThat’s why I’m sending this letter, calling for your immediate resignation.\\n\\nIf you don't resign, every bit of effort and every extra dollar I have will go towards destroying the Republican party and voting Democrats into office.\\nI reject your xenophobic, racist and sexist agenda. And I REFUSE to let your hateful and bigoted comments go unanswered. I am committed to fighting for what’s right, and that means making sure you and your Republican backers are voted out of office.\\n\\nYour shameful moral character and self-serving leadership makes you absolutely unfit to be President of the United States.\\n\\nYour presidency is an absolute disaster. And your power is coming to an end.\\n\\nSincerely,\\n\\nRTD                    ...  10                      \n",
              "1361316  Stop deflecting to the past.  You and everybody else with eyes know who now coddles and makes concessions to the KKK, neo-nazis and white supremacists.  Not every republican is a white supremacist, but every white supremacist is a republican!                                                                                                                                                                                                                                                                                                                                                                                                                                                                                                                                                                                                                                                                                                                                                                                   ...  10                      \n",
              "1289839  ... WHAT A PHONEY LIAR FAKEY SPOILED BRAT 'christian' ...                                                                                                                                                                                                                                                                                                                                                                                                                                                                                                                                                                                                                                                                                                                                                                                                                                                                                                                                                                            ...  55                      \n",
              "1053981  Crooked Jerk!                                                                                                                                                                                                                                                                                                                                                                                                                                                                                                                                                                                                                                                                                                                                                                                                                                                                                                                                                                                                                        ...  60                      \n",
              "1035772  Do you want a liar and leaker in the White House?                                                                                                                                                                                                                                                                                                                                                                                                                                                                                                                                                                                                                                                                                                                                                                                                                                                                                                                                                                                    ...  61                      \n",
              "932875   it is amazing that there are still some here full of hate brain washed by the bias nut job left , believing any nut job accuasion with no facts to support it , that keeps repeating the usual hate and lies,, You left wing nut jobs are the loose cannons we are laughing at                                                                                                                                                                                                                                                                                                                                                                                                                                                                                                                                                                                                                                                                                                                                                       ...  10                      \n",
              "1481127  Aw, more hurt feelings? \\n\\nI wouldn't say democrats hate white people. Just the white supremacists.                                                                                                                                                                                                                                                                                                                                                                                                                                                                                                                                                                                                                                                                                                                                                                                                                                                                                                                                 ...  10                      \n",
              "1379096  Another sore loser piling on. Smh                                                                                                                                                                                                                                                                                                                                                                                                                                                                                                                                                                                                                                                                                                                                                                                                                                                                                                                                                                                                    ...  10                      \n",
              "1365312  \"Racism is evil, and those who cause violence in its name are criminals and thugs, including the KKK, neo-Nazis and white supremacists and other hate groups that are repugnant to everything we hold dear as Americans,\" the president said from the White House.\\n\\nEnough said.  DNC Chair Tom Perez is delusional.                                                                                                                                                                                                                                                                                                                                                                                                                                                                                                                                                                                                                                                                                                               ...  10                      \n",
              "1687789  Yeah.  Morons.  :-)                                                                                                                                                                                                                                                                                                                                                                                                                                                                                                                                                                                                                                                                                                                                                                                                                                                                                                                                                                                                                  ...  59                      \n",
              "691368   Effin moron....                                                                                                                                                                                                                                                                                                                                                                                                                                                                                                                                                                                                                                                                                                                                                                                                                                                                                                                                                                                                                      ...  64                      \n",
              "1425810  NO - everyone is not racist.  A child is not born racist.  Racism is learned and not equally across cultures, races or regions.  I was not taught racism.  In fact, I (caucasion) had a black doll in the 1950s. My parents encouraged me to play with the (few) black children in my school. They believed in equality.  I am not racist.  I do notice the color of skin and celebrate differences that can enrich us as a society.\\n\\nI also think immigrants are good for this country and dilute the hate and entitlement from white people.  Immigrants start businesses too while white people who voted for tRump think America should save them.\\n\\nYou accuse Ozy of \"intolerance and hatred\".  What I have noticed in you and your illegitimate President is that when someone throws out accusations - they are really the guilty ones.  tRump accuses the real media of fake news and lying when he is the perpetrator.  You accuse Ozy of hate and intolerance and racism when you are the one who appears to be that.  ...  11                      \n",
              "1394576  do not forget the BLM and black panther groups they are just like the KKK and white supremacist except there black so now you have the black KKK and black supremacist so there all the same but different colored people.                                                                                                                                                                                                                                                                                                                                                                                                                                                                                                                                                                                                                                                                                                                                                                                                           ...  74                      \n",
              "1356546  What do you expect,\\nDonald denounced \"all\" Racists and Haters\\nDonald being pressured to be PC specifically denounced White Racist and not the Black Racist and Haters of Free Speech!\\nDonald should have stuck to his guns grouping All racist and haters! that uses violence.                                                                                                                                                                                                                                                                                                                                                                                                                                                                                                                                                                                                                                                                                                                                                    ...  76                      \n",
              "1408589  Duh, yes a White Supremacist would be white. \\n\\nAnd a Black or Brown Supremacist would be black or brown. \\n\\nDang, you're just so smart, arncha?                                                                                                                                                                                                                                                                                                                                                                                                                                                                                                                                                                                                                                                                                                                                                                                                                                                                                   ...  80                      \n",
              "724263   White supremacist bigot works                                                                                                                                                                                                                                                                                                                                                                                                                                                                                                                                                                                                                                                                                                                                                                                                                                                                                                                                                                                                        ...  80                      \n",
              "512417   Yes, it certainly does. Putrumpski is a pathological liar.  Tell me, Beav, what does that make him? Oh, and you and all the others who either know he's a pathological liar and voted for him anyway, or blindly believed every lie he spouted? Sad.                                                                                                                                                                                                                                                                                                                                                                                                                                                                                                                                                                                                                                                                                                                                                                                 ...  75                      \n",
              "696192   Trumpy the Clown killed RIngling Bros.                                                                                                                                                                                                                                                                                                                                                                                                                                                                                                                                                                                                                                                                                                                                                                                                                                                                                                                                                                                               ...  80                      \n",
              "1545752  Overpaid, childish, Morons                                                                                                                                                                                                                                                                                                                                                                                                                                                                                                                                                                                                                                                                                                                                                                                                                                                                                                                                                                                                           ...  71                      \n",
              "\n",
              "[25 rows x 3 columns]"
            ]
          },
          "metadata": {
            "tags": []
          },
          "execution_count": 35
        }
      ]
    },
    {
      "cell_type": "markdown",
      "metadata": {
        "id": "Z4Bi8Igjl_BQ",
        "colab_type": "text"
      },
      "source": [
        "Looking at some examples of false positive, we can observe some comments that have arguable target value. I cannot understand why \"Effin moron\" and \"Crooked Jerk!\" are not considered toxic comments. Even a comment like \"You're a stone-cold MO-Ron.\" has a target value of 0. Those might suggest that we have to take extra measure in cleaning the dataset.\n",
        "\n",
        "We can also see comments that have target value really close to the toxic threshold (0.5) have be rounded as \"safe\" comments questionably. \"Overpaid, childish, morons\" is definitely an insult, but still half of 71 annotators considered it to be safe. As the data is imbalanced, it is considerable to neglect comments with doubtful target value during training, maybe it is good to ignore comments that has value between 0.4 to 0.6.\n",
        "\n",
        "Finally, we can see the \"biased\" classification of a comment if we are using keyword-based modeling. As this competition suggested, using keywords only is not sufficient to predict toxic comments. Many safe comments are labelled as toxic due to the keywords, while it really depends on the context. \"There is no white supremacist in the White House.\" is an excellent example of a safe comment (target value = 0) that might be mis-classified due to 2 occurrences of \"white\" word. And we know that this is a difficult task when the model is only presented with a two-word comment \"Not clowns?\" and asked to determine whether it is toxic or not without any additional context when the word \"clown\" is used in other comments with a mixed sentiment. Hard, even for sequence-based models. Or is it?"
      ]
    },
    {
      "cell_type": "markdown",
      "metadata": {
        "id": "I31gHzHRl_BQ",
        "colab_type": "text"
      },
      "source": [
        "# 4. Lesson Learned"
      ]
    },
    {
      "cell_type": "markdown",
      "metadata": {
        "id": "5Jmc833Jl_BR",
        "colab_type": "text"
      },
      "source": [
        "These are the key insights I have gathered from this EDA that should help during preprocessing and when building the actual model:\n",
        "1. We are dealing with imbalanced dataset (92% vs 8%). I do not see any public kernels talk about how to handle this issue (or if we **should** handle this issue).\n",
        "2. There is a correlation between the number of annotators and the toxicity value, which might suggest to take number of annotators into account during training. Not as feature, of course, because the test set does not provide the number of annotators. It can be useful as a sample-weighting method.\n",
        "3. The most popular toxic subtypes is insult, it dominates other subtypes. Even more intriguing, it has a (really) high correlation with target value, which bear a thought if the toxic definition in this dataset is actually \"insulting\".\n",
        "4. Identity attributes are not helpful to predict target value due to the low label availability and absence of correlation.\n",
        "5. There is a negligible difference in comment length, capital letters proportion, and alpha-numeric occurrence between toxic and safe comments. One can consider to do lowercase transformation and remove punctuations.\n",
        "6. Some measurement into preprocessing: Don't remove digits (rather, replace to a \"DIGIT\" token, for example). It is an indication of a safe comment. Also, not all stopwords should be removed.\n",
        "7. Some comments have a questionable target value, which means cleaning the (noisy) dataset is important before training the model. How to detect them? This is a subject for another kernel.\n",
        "8. Comments with target value in the edge of the threshold is not reliable, consider ignoring comments with target value too close to 0.5. Or better yet, train a separate model to identify this (Ensemble?)."
      ]
    },
    {
      "cell_type": "code",
      "metadata": {
        "id": "kITjkJqSrZ1m",
        "colab_type": "code",
        "colab": {}
      },
      "source": [
        ""
      ],
      "execution_count": 0,
      "outputs": []
    }
  ]
}