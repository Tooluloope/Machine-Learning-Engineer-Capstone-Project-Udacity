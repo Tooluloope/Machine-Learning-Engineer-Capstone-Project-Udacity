{
 "cells": [
  {
   "cell_type": "markdown",
   "metadata": {},
   "source": [
    "# Toxic Comment Analysis"
   ]
  },
  {
   "cell_type": "markdown",
   "metadata": {},
   "source": [
    "The internet has given people the freedom of speech like no other. Yet, quoting the late Uncle Ben:\n",
    "> with great internet connection, comes great responsibility\n",
    "\n",
    "Indeed, it is tempting to just use word embedding combined with a sequence-based model such as LSTM , but I won't understand why does it work in this case. Does it really solve the biased prediction problem? Not to mention why auxiliary attributes improve the performance of the model and is widely used. For this reason, I reside to the \"traditional\" EDA method, hoping to get a better sense of the dataset before preprocessing or developing any models. There is no fancy stuff going on, but I believe we can still learn a thing or two using simple methods.\n",
    "\n",
    "In this kernel, I explore some features of the toxic comments that is not commonly discussed in other EDA kernels. First, I look into annotators and their labels. Since every comments can have different number of annotators, is there any difference in the agreement level? Next, I revisited toxic subtypes and identity columns to see whether those attributes can help us identify toxic comments. I continue with lexical analysis, hoping to find any distinguishable characteristics between toxic and safe comments. Finally, I dig deeper into the unintended bias and see what kind of comments are misclassified using a simple keyword-based prediction.\n",
    "\n",
    "Can we capture some toxic villains today?"
   ]
  },
  {
   "cell_type": "markdown",
   "metadata": {},
   "source": [
    "<img src=\"https://media.giphy.com/media/3xz2BIIBBvBS8iDofm/giphy.gif\" alt=\"internet-fight-spiderman\" /> <br />\n",
    "*(source: giphy)*"
   ]
  },
  {
   "cell_type": "code",
   "execution_count": 1,
   "metadata": {
    "_cell_guid": "79c7e3d0-c299-4dcb-8224-4455121ee9b0",
    "_kg_hide-input": true,
    "_uuid": "d629ff2d2480ee46fbb7e2d37f6b5fab8052498a"
   },
   "outputs": [],
   "source": [
    "# basic imports\n",
    "import string\n",
    "import re\n",
    "import gc\n",
    "from collections import Counter\n",
    "\n",
    "import numpy as np\n",
    "import pandas as pd\n",
    "import matplotlib.pyplot as plt\n",
    "from matplotlib import colors\n",
    "from mpl_toolkits.mplot3d import Axes3D\n",
    "import seaborn as sns\n",
    "import pickle\n",
    "\n",
    "from nltk.tokenize import sent_tokenize, word_tokenize\n",
    "from nltk import pos_tag\n",
    "from nltk.stem.snowball import SnowballStemmer\n",
    "from sklearn.feature_extraction.text import TfidfVectorizer\n",
    "from tqdm._tqdm_notebook import tqdm_notebook as tqdm; tqdm.pandas()\n",
    "\n",
    "from sklearn.naive_bayes import MultinomialNB\n",
    "from sklearn.svm import SVC\n",
    "from sklearn.metrics import confusion_matrix, roc_auc_score, roc_curve\n",
    "from sklearn.decomposition import TruncatedSVD\n",
    "\n",
    "# dataframe options to display the whole comments\n",
    "pd.set_option('display.max_colwidth', -1)\n",
    "\n",
    "# extra config to have better visualization\n",
    "sns.set(\n",
    "    style='whitegrid',\n",
    "    palette='coolwarm',\n",
    "    rc={'grid.color' : '.96'}\n",
    ")\n",
    "plt.rcParams['font.size'] = 12\n",
    "plt.rcParams['axes.labelsize'] = 14\n",
    "plt.rcParams['axes.labelweight'] = 'bold'\n",
    "plt.rcParams['axes.titlesize'] = 20\n",
    "plt.rcParams['axes.titleweight'] = 'bold'\n",
    "plt.rcParams['xtick.labelsize'] = 12\n",
    "plt.rcParams['ytick.labelsize'] = 12\n",
    "plt.rcParams['legend.fontsize'] = 14\n",
    "plt.rcParams['figure.titlesize'] = 30\n",
    "plt.rcParams[\"figure.titleweight\"] = 'bold'"
   ]
  },
  {
   "cell_type": "code",
   "execution_count": 2,
   "metadata": {},
   "outputs": [],
   "source": [
    "# pandas dataframe background gradient to consider all rows and columns.\n",
    "# By default, background gradient styling in pandas only consider by column.\n",
    "# function taken from: https://stackoverflow.com/questions/38931566/pandas-style-background-gradient-both-rows-and-columns\n",
    "def background_gradient(s, m, M, cmap='PuBu', low=0, high=1):\n",
    "    rng = M - m\n",
    "    norm = colors.Normalize(m - (rng * low),\n",
    "                            M + (rng * high))\n",
    "    normed = norm(s.values)\n",
    "    c = [colors.rgb2hex(x) for x in plt.cm.get_cmap(cmap)(normed)]\n",
    "    return ['background-color: %s' % color for color in c]"
   ]
  },
  {
   "cell_type": "code",
   "execution_count": 3,
   "metadata": {},
   "outputs": [
    {
     "data": {
      "text/plain": [
       "Index(['id', 'target', 'comment_text', 'severe_toxicity', 'obscene',\n",
       "       'identity_attack', 'insult', 'threat', 'asian', 'atheist', 'bisexual',\n",
       "       'black', 'buddhist', 'christian', 'female', 'heterosexual', 'hindu',\n",
       "       'homosexual_gay_or_lesbian', 'intellectual_or_learning_disability',\n",
       "       'jewish', 'latino', 'male', 'muslim', 'other_disability',\n",
       "       'other_gender', 'other_race_or_ethnicity', 'other_religion',\n",
       "       'other_sexual_orientation', 'physical_disability',\n",
       "       'psychiatric_or_mental_illness', 'transgender', 'white', 'created_date',\n",
       "       'publication_id', 'parent_id', 'article_id', 'rating', 'funny', 'wow',\n",
       "       'sad', 'likes', 'disagree', 'sexual_explicit',\n",
       "       'identity_annotator_count', 'toxicity_annotator_count'],\n",
       "      dtype='object')"
      ]
     },
     "execution_count": 3,
     "metadata": {},
     "output_type": "execute_result"
    }
   ],
   "source": [
    "# data loading\n",
    "# use only training set\n",
    "train = pd.read_csv('../input/train.csv')\n",
    "train.columns"
   ]
  },
  {
   "cell_type": "code",
   "execution_count": 4,
   "metadata": {},
   "outputs": [],
   "source": [
    "toxic_subtypes = [\n",
    "    'severe_toxicity',\n",
    "    'obscene',\n",
    "    'threat',\n",
    "    'insult',\n",
    "    'identity_attack',\n",
    "    'sexual_explicit'\n",
    "]\n",
    "\n",
    "identity_attrs = [\n",
    "    'asian', 'atheist', 'bisexual',\n",
    "    'black', 'buddhist', 'christian', 'female', 'heterosexual', 'hindu',\n",
    "    'homosexual_gay_or_lesbian', 'intellectual_or_learning_disability',\n",
    "    'jewish', 'latino', 'male', 'muslim', 'other_disability',\n",
    "    'other_gender', 'other_race_or_ethnicity', 'other_religion',\n",
    "    'other_sexual_orientation', 'physical_disability',\n",
    "    'psychiatric_or_mental_illness', 'transgender', 'white',\n",
    "]\n",
    "\n",
    "identity_attrs_group = {\n",
    "    'gender': ['female', 'male', 'transgender', 'other_gender'],\n",
    "    'race': ['asian', 'black', 'jewish', 'latino', 'white', 'other_race_or_ethnicity'],\n",
    "    'religion': ['atheist', 'buddhist', 'christian', 'hindu', 'muslim', 'other_religion'],\n",
    "    'sexual_orientation': ['bisexual', 'heterosexual', 'homosexual_gay_or_lesbian', 'other_sexual_orientation'],\n",
    "    'disability': ['intellectual_or_learning_disability', 'physical_disability', 'psychiatric_or_mental_illness', 'other_disability']\n",
    "}"
   ]
  },
  {
   "cell_type": "markdown",
   "metadata": {},
   "source": [
    "# 1. Understanding Toxic Annotations"
   ]
  },
  {
   "cell_type": "markdown",
   "metadata": {},
   "source": [
    "The first part examines the dependent variable and potential auxiliary attributes."
   ]
  },
  {
   "cell_type": "markdown",
   "metadata": {},
   "source": [
    "## 1.1 Toxic comments distribution"
   ]
  },
  {
   "cell_type": "code",
   "execution_count": 5,
   "metadata": {},
   "outputs": [
    {
     "name": "stdout",
     "output_type": "stream",
     "text": [
      "There are 144,334 (8.00%) toxic comments out of 1,804,874 comments in the dataset\n"
     ]
    }
   ],
   "source": [
    "# create a 0 or 1 column and see the proportion\n",
    "train['is_toxic'] = train['target'] >= 0.5\n",
    "toxic_count = train['is_toxic'].value_counts()\n",
    "toxic_prop = toxic_count / len(train['is_toxic'])\n",
    "print(\"There are {:,} ({:.2f}%) toxic comments out of {:,} comments in the dataset\".format(\n",
    "    toxic_count[True],\n",
    "    toxic_count[True] * 100 / len(train['is_toxic']),\n",
    "    len(train['is_toxic'])\n",
    "))"
   ]
  },
  {
   "cell_type": "markdown",
   "metadata": {},
   "source": [
    "Toxic comments account only 8% of the training data, meaning we are dealing with **imbalanced** dataset. How about the actual agreed toxicity level distribution of the annotators?"
   ]
  },
  {
   "cell_type": "code",
   "execution_count": 6,
   "metadata": {},
   "outputs": [
    {
     "data": {
      "image/png": "[encoded data removed]",
      "text/plain": [
       "<Figure size 864x540 with 1 Axes>"
      ]
     },
     "metadata": {
      "needs_background": "light"
     },
     "output_type": "display_data"
    }
   ],
   "source": [
    "fig, ax = plt.subplots(figsize=(12, 7.5))\n",
    "_ = sns.kdeplot(train['target'], shade=True, ax=ax)\n",
    "_ = ax.set(xlabel='Annotator Toxicity Agreement', ylabel='Density')"
   ]
  },
  {
   "cell_type": "markdown",
   "metadata": {},
   "source": [
    "As expected, most of the comments were deemed non-toxic by all of the annotators. However, when it comes to toxic comments, it is hardly unanimous. The number of comments with target score equal to 1.0 is really small. Another boggling thing is the number of annotators for each comment can be different. Is it correct to assume that more annotators means more believable? Let's check if the toxicity of a comment is related to the number of annotators."
   ]
  },
  {
   "cell_type": "code",
   "execution_count": 7,
   "metadata": {},
   "outputs": [
    {
     "data": {
      "image/png": "[encoded data removed]",
      "text/plain": [
       "<Figure size 864x540 with 1 Axes>"
      ]
     },
     "metadata": {
      "needs_background": "light"
     },
     "output_type": "display_data"
    }
   ],
   "source": [
    "train['log_toxicity_annotator_count'] = np.log10(train['toxicity_annotator_count'])\n",
    "fig, ax = plt.subplots(figsize=(12, 7.5))\n",
    "_ = train['log_toxicity_annotator_count'].hist(bins=15, density=True, ax=ax)\n",
    "_ = ax.set(xlabel='log10(annotator count)', ylabel='Density')"
   ]
  },
  {
   "cell_type": "markdown",
   "metadata": {},
   "source": [
    "There seems to be two clusters in terms of the number of annotators: below 10^1.5 and above 10^1.5. Is there any difference in the toxicity agreement of those two clusters?"
   ]
  },
  {
   "cell_type": "code",
   "execution_count": 8,
   "metadata": {},
   "outputs": [
    {
     "name": "stdout",
     "output_type": "stream",
     "text": [
      "There are 1,729,080 comments with number of annotators below 10^1.5 and 75,794 above 10^1.5.\n"
     ]
    },
    {
     "data": {
      "image/png": "[encoded data removed]",
      "text/plain": [
       "<Figure size 1296x540 with 2 Axes>"
      ]
     },
     "metadata": {
      "needs_background": "light"
     },
     "output_type": "display_data"
    }
   ],
   "source": [
    "train['many_annotators'] = train['log_toxicity_annotator_count'] >= 1.5\n",
    "\n",
    "print(\"There are {:,} comments with number of annotators below 10^1.5 and {:,} above 10^1.5.\".format(\n",
    "    len(train[train['log_toxicity_annotator_count'] < 1.5]),\n",
    "    len(train[train['log_toxicity_annotator_count'] >= 1.5])\n",
    "))\n",
    "\n",
    "f, (ax1, ax2) = plt.subplots(1, 2, figsize=(18, 7.5))\n",
    "\n",
    "_ = sns.kdeplot(\n",
    "    train[~train['many_annotators']]['target'], \n",
    "    shade=True,\n",
    "    ax=ax1\n",
    ")\n",
    "_ = ax1.set_title('number of annotators < 10^1.5')\n",
    "_ = ax1.set_ylabel('density')\n",
    "_ = ax1.set_ylabel('#annotators')\n",
    "\n",
    "_ = sns.kdeplot(\n",
    "    train[train['many_annotators']]['target'], \n",
    "    shade=True,\n",
    "    ax=ax2\n",
    ")\n",
    "_ = ax2.set_title('number of annotators >= 10^1.5')\n",
    "_ = ax2.set_ylabel('density')\n",
    "_ = ax2.set_ylabel('#annotators')\n"
   ]
  },
  {
   "cell_type": "markdown",
   "metadata": {},
   "source": [
    "The two graphs above reveal some degree of correlation between the number of annotators with the toxic comments. When the number of annotators is more than 10^1.5, the target score peaked towards 0.7. Looking at the data description page, this phenomenon is intentional due to imposed strategy, although we are not presented with the details:\n",
    "> Some comments were seen by many more than 10 annotators (up to thousands), due to sampling and strategies used to enforce rater accuracy.\n",
    "\n",
    "By analysing the number of annotators, we can exploit the information to give more attention to comments with more annotators when we train our model. This initial analysis suggests the possibility of various weight for each comment depending on the number of annotators. \n",
    "\n",
    "The following sub-sections about subtypes and identities are common in other EDA kernels as well, but it is good to re-visit them. I see subtypes are being used as auxiliary attributes during training but not identities, what could be the reason?"
   ]
  },
  {
   "cell_type": "markdown",
   "metadata": {},
   "source": [
    "## 1.2 Toxic Subtypes Distribution"
   ]
  },
  {
   "cell_type": "markdown",
   "metadata": {},
   "source": [
    "Let's find out which sub-types are the most common."
   ]
  },
  {
   "cell_type": "code",
   "execution_count": 9,
   "metadata": {},
   "outputs": [
    {
     "data": {
      "image/png": "[encoded data removed]",
      "text/plain": [
       "<Figure size 864x540 with 1 Axes>"
      ]
     },
     "metadata": {
      "needs_background": "light"
     },
     "output_type": "display_data"
    }
   ],
   "source": [
    "subtypes_count = (train[toxic_subtypes] > 0.5).sum(axis=0).sort_values(ascending=False)\n",
    "subtypes_prop = np.round(subtypes_count * 100 / len(train), 2)\n",
    "fig, ax = plt.subplots(figsize=(12, 7.5))\n",
    "_ = sns.barplot(x=subtypes_count.index, y=subtypes_count.values, ax=ax)\n",
    "_ = ax.set_title('Toxic Subtypes Distribution (with % of all comments)')\n",
    "_ = ax.set_xlabel('Toxic Subtypes')\n",
    "_ = ax.set_ylabel('#Comments')\n",
    "\n",
    "for p, label in zip(ax.patches, subtypes_prop.values):\n",
    "    ax.annotate(\"{:.2f}%\".format(label), (p.get_x()+0.275, p.get_height()+500))"
   ]
  },
  {
   "cell_type": "markdown",
   "metadata": {},
   "source": [
    "As shown, it is clear that *insult* is the dominant type of toxic comments. The number of *insult* comments is 10x the number of the closest next two categories: *obscene* and *identity_attack*. I am not quite sure what each type means, it is good to see an example for each:"
   ]
  },
  {
   "cell_type": "code",
   "execution_count": 10,
   "metadata": {},
   "outputs": [
    {
     "data": {
      "text/html": [
       "<div>\n",
       "<style scoped>\n",
       "    .dataframe tbody tr th:only-of-type {\n",
       "        vertical-align: middle;\n",
       "    }\n",
       "\n",
       "    .dataframe tbody tr th {\n",
       "        vertical-align: top;\n",
       "    }\n",
       "\n",
       "    .dataframe thead th {\n",
       "        text-align: right;\n",
       "    }\n",
       "</style>\n",
       "<table border=\"1\" class=\"dataframe\">\n",
       "  <thead>\n",
       "    <tr style=\"text-align: right;\">\n",
       "      <th></th>\n",
       "      <th>comment</th>\n",
       "      <th>num_annotators</th>\n",
       "      <th>subtype_toxicity_level</th>\n",
       "    </tr>\n",
       "    <tr>\n",
       "      <th>subtype</th>\n",
       "      <th></th>\n",
       "      <th></th>\n",
       "      <th></th>\n",
       "    </tr>\n",
       "  </thead>\n",
       "  <tbody>\n",
       "    <tr>\n",
       "      <th>severe_toxicity</th>\n",
       "      <td>Awesome! Lets cut the head off hate! Lets stab it and burn its house down! lets march together and beat hate with rocks and clubs and run out out of town! Hooray for us for showing hate we will not tolerate it and will kill or beat down any that oppose or stance against hate. \\n\\nYeah, that sounds like the good guys. Why is it so hard for people to admit that using violence to achieve a goal is not acceptable in a civil society?</td>\n",
       "      <td>4</td>\n",
       "      <td>1.0</td>\n",
       "    </tr>\n",
       "    <tr>\n",
       "      <th>obscene</th>\n",
       "      <td>Quarantine should end with a bullet between the eyes.  What crap to be attacked by a loose dog.  I hate it when a loose dog comes running up, and the owner says he is friendly.  Bear spray to the face</td>\n",
       "      <td>10</td>\n",
       "      <td>1.0</td>\n",
       "    </tr>\n",
       "    <tr>\n",
       "      <th>threat</th>\n",
       "      <td>WHY do they allow them to plea down? I was abused, he should hang by the neck until dead.</td>\n",
       "      <td>10</td>\n",
       "      <td>1.0</td>\n",
       "    </tr>\n",
       "    <tr>\n",
       "      <th>insult</th>\n",
       "      <td>Typical dumb Anchorage thugs.  I cannot  believe how many of these idiots we have in this town.</td>\n",
       "      <td>72</td>\n",
       "      <td>1.0</td>\n",
       "    </tr>\n",
       "    <tr>\n",
       "      <th>identity_attack</th>\n",
       "      <td>You realize you're equating \"white nationalists\" with Muslim terrorists, murderers, and hate groups.\\n\\nI agree.</td>\n",
       "      <td>11</td>\n",
       "      <td>1.0</td>\n",
       "    </tr>\n",
       "    <tr>\n",
       "      <th>sexual_explicit</th>\n",
       "      <td>Yes, the VAGINA negates everything, unless it's being used for making more rethuglican rugrats, pleasure, or, on rare occasion, shooting Ping Pong balls.\\n\\nAt least that's how the GOP view women.</td>\n",
       "      <td>10</td>\n",
       "      <td>1.0</td>\n",
       "    </tr>\n",
       "  </tbody>\n",
       "</table>\n",
       "</div>"
      ],
      "text/plain": [
       "                                                                                                                                                                                                                                                                                                                                                                                                                                                          comment           ...            subtype_toxicity_level\n",
       "subtype                                                                                                                                                                                                                                                                                                                                                                                                                                                                     ...                                  \n",
       "severe_toxicity  Awesome! Lets cut the head off hate! Lets stab it and burn its house down! lets march together and beat hate with rocks and clubs and run out out of town! Hooray for us for showing hate we will not tolerate it and will kill or beat down any that oppose or stance against hate. \\n\\nYeah, that sounds like the good guys. Why is it so hard for people to admit that using violence to achieve a goal is not acceptable in a civil society?           ...            1.0                   \n",
       "obscene          Quarantine should end with a bullet between the eyes.  What crap to be attacked by a loose dog.  I hate it when a loose dog comes running up, and the owner says he is friendly.  Bear spray to the face                                                                                                                                                                                                                                                   ...            1.0                   \n",
       "threat           WHY do they allow them to plea down? I was abused, he should hang by the neck until dead.                                                                                                                                                                                                                                                                                                                                                                  ...            1.0                   \n",
       "insult           Typical dumb Anchorage thugs.  I cannot  believe how many of these idiots we have in this town.                                                                                                                                                                                                                                                                                                                                                            ...            1.0                   \n",
       "identity_attack  You realize you're equating \"white nationalists\" with Muslim terrorists, murderers, and hate groups.\\n\\nI agree.                                                                                                                                                                                                                                                                                                                                           ...            1.0                   \n",
       "sexual_explicit  Yes, the VAGINA negates everything, unless it's being used for making more rethuglican rugrats, pleasure, or, on rare occasion, shooting Ping Pong balls.\\n\\nAt least that's how the GOP view women.                                                                                                                                                                                                                                                       ...            1.0                   \n",
       "\n",
       "[6 rows x 3 columns]"
      ]
     },
     "execution_count": 10,
     "metadata": {},
     "output_type": "execute_result"
    }
   ],
   "source": [
    "subtype_examples = []\n",
    "for subtype_col in toxic_subtypes:\n",
    "    comment = train[[subtype_col, 'toxicity_annotator_count', 'comment_text']].sort_values(\n",
    "        by=[subtype_col, 'toxicity_annotator_count'], ascending=False).iloc[0]\n",
    "    subtype_examples.append({\n",
    "        'subtype' : subtype_col,\n",
    "        'comment' : comment['comment_text'],\n",
    "        'subtype_toxicity_level' : comment[subtype_col],\n",
    "        'num_annotators' : comment['toxicity_annotator_count']\n",
    "    })\n",
    "subtype_examples_df = pd.DataFrame(subtype_examples).set_index('subtype')\n",
    "subtype_examples_df"
   ]
  },
  {
   "cell_type": "markdown",
   "metadata": {},
   "source": [
    "Looking at the examples, it seems this subtypes are not supposed to be mutually exclusive. The example of *sexual_explicit* also has some degree of *insult* (\"...rethuglican rugrats, pleasure, or, on rare occasion, shooting Ping Pong balls...\"). Similarly with the example of *obscene* which include some sort of threat (\"Quarantine should end with a bullet between the eyes ... Bear spray to the face.\"). How related each types and also with the target?"
   ]
  },
  {
   "cell_type": "code",
   "execution_count": 11,
   "metadata": {},
   "outputs": [
    {
     "data": {
      "text/html": [
       "<style  type=\"text/css\" >\n",
       "    #T_5257e0f4_a4c3_11e9_9b09_8767185b652brow0_col0 {\n",
       "            background-color:  #73a9cf;\n",
       "        }    #T_5257e0f4_a4c3_11e9_9b09_8767185b652brow0_col1 {\n",
       "            background-color:  #e9e5f1;\n",
       "        }    #T_5257e0f4_a4c3_11e9_9b09_8767185b652brow0_col2 {\n",
       "            background-color:  #f0eaf4;\n",
       "        }    #T_5257e0f4_a4c3_11e9_9b09_8767185b652brow0_col3 {\n",
       "            background-color:  #ebe6f2;\n",
       "        }    #T_5257e0f4_a4c3_11e9_9b09_8767185b652brow0_col4 {\n",
       "            background-color:  #f1ebf5;\n",
       "        }    #T_5257e0f4_a4c3_11e9_9b09_8767185b652brow0_col5 {\n",
       "            background-color:  #f6eff7;\n",
       "        }    #T_5257e0f4_a4c3_11e9_9b09_8767185b652brow0_col6 {\n",
       "            background-color:  #e3e0ee;\n",
       "        }    #T_5257e0f4_a4c3_11e9_9b09_8767185b652brow1_col0 {\n",
       "            background-color:  #e9e5f1;\n",
       "        }    #T_5257e0f4_a4c3_11e9_9b09_8767185b652brow1_col1 {\n",
       "            background-color:  #73a9cf;\n",
       "        }    #T_5257e0f4_a4c3_11e9_9b09_8767185b652brow1_col2 {\n",
       "            background-color:  #fff7fb;\n",
       "        }    #T_5257e0f4_a4c3_11e9_9b09_8767185b652brow1_col3 {\n",
       "            background-color:  #dfddec;\n",
       "        }    #T_5257e0f4_a4c3_11e9_9b09_8767185b652brow1_col4 {\n",
       "            background-color:  #fcf4fa;\n",
       "        }    #T_5257e0f4_a4c3_11e9_9b09_8767185b652brow1_col5 {\n",
       "            background-color:  #eae6f1;\n",
       "        }    #T_5257e0f4_a4c3_11e9_9b09_8767185b652brow1_col6 {\n",
       "            background-color:  #d7d6e9;\n",
       "        }    #T_5257e0f4_a4c3_11e9_9b09_8767185b652brow2_col0 {\n",
       "            background-color:  #f0eaf4;\n",
       "        }    #T_5257e0f4_a4c3_11e9_9b09_8767185b652brow2_col1 {\n",
       "            background-color:  #fff7fb;\n",
       "        }    #T_5257e0f4_a4c3_11e9_9b09_8767185b652brow2_col2 {\n",
       "            background-color:  #73a9cf;\n",
       "        }    #T_5257e0f4_a4c3_11e9_9b09_8767185b652brow2_col3 {\n",
       "            background-color:  #fef6fa;\n",
       "        }    #T_5257e0f4_a4c3_11e9_9b09_8767185b652brow2_col4 {\n",
       "            background-color:  #faf3f9;\n",
       "        }    #T_5257e0f4_a4c3_11e9_9b09_8767185b652brow2_col5 {\n",
       "            background-color:  #fff7fb;\n",
       "        }    #T_5257e0f4_a4c3_11e9_9b09_8767185b652brow2_col6 {\n",
       "            background-color:  #eee9f3;\n",
       "        }    #T_5257e0f4_a4c3_11e9_9b09_8767185b652brow3_col0 {\n",
       "            background-color:  #ebe6f2;\n",
       "        }    #T_5257e0f4_a4c3_11e9_9b09_8767185b652brow3_col1 {\n",
       "            background-color:  #dfddec;\n",
       "        }    #T_5257e0f4_a4c3_11e9_9b09_8767185b652brow3_col2 {\n",
       "            background-color:  #fef6fa;\n",
       "        }    #T_5257e0f4_a4c3_11e9_9b09_8767185b652brow3_col3 {\n",
       "            background-color:  #73a9cf;\n",
       "        }    #T_5257e0f4_a4c3_11e9_9b09_8767185b652brow3_col4 {\n",
       "            background-color:  #ede7f2;\n",
       "        }    #T_5257e0f4_a4c3_11e9_9b09_8767185b652brow3_col5 {\n",
       "            background-color:  #faf3f9;\n",
       "        }    #T_5257e0f4_a4c3_11e9_9b09_8767185b652brow3_col6 {\n",
       "            background-color:  #84b0d3;\n",
       "        }    #T_5257e0f4_a4c3_11e9_9b09_8767185b652brow4_col0 {\n",
       "            background-color:  #f1ebf5;\n",
       "        }    #T_5257e0f4_a4c3_11e9_9b09_8767185b652brow4_col1 {\n",
       "            background-color:  #fcf4fa;\n",
       "        }    #T_5257e0f4_a4c3_11e9_9b09_8767185b652brow4_col2 {\n",
       "            background-color:  #faf3f9;\n",
       "        }    #T_5257e0f4_a4c3_11e9_9b09_8767185b652brow4_col3 {\n",
       "            background-color:  #ede7f2;\n",
       "        }    #T_5257e0f4_a4c3_11e9_9b09_8767185b652brow4_col4 {\n",
       "            background-color:  #73a9cf;\n",
       "        }    #T_5257e0f4_a4c3_11e9_9b09_8767185b652brow4_col5 {\n",
       "            background-color:  #fdf5fa;\n",
       "        }    #T_5257e0f4_a4c3_11e9_9b09_8767185b652brow4_col6 {\n",
       "            background-color:  #dcdaeb;\n",
       "        }    #T_5257e0f4_a4c3_11e9_9b09_8767185b652brow5_col0 {\n",
       "            background-color:  #f6eff7;\n",
       "        }    #T_5257e0f4_a4c3_11e9_9b09_8767185b652brow5_col1 {\n",
       "            background-color:  #eae6f1;\n",
       "        }    #T_5257e0f4_a4c3_11e9_9b09_8767185b652brow5_col2 {\n",
       "            background-color:  #fff7fb;\n",
       "        }    #T_5257e0f4_a4c3_11e9_9b09_8767185b652brow5_col3 {\n",
       "            background-color:  #faf3f9;\n",
       "        }    #T_5257e0f4_a4c3_11e9_9b09_8767185b652brow5_col4 {\n",
       "            background-color:  #fdf5fa;\n",
       "        }    #T_5257e0f4_a4c3_11e9_9b09_8767185b652brow5_col5 {\n",
       "            background-color:  #73a9cf;\n",
       "        }    #T_5257e0f4_a4c3_11e9_9b09_8767185b652brow5_col6 {\n",
       "            background-color:  #f1ebf5;\n",
       "        }    #T_5257e0f4_a4c3_11e9_9b09_8767185b652brow6_col0 {\n",
       "            background-color:  #e3e0ee;\n",
       "        }    #T_5257e0f4_a4c3_11e9_9b09_8767185b652brow6_col1 {\n",
       "            background-color:  #d7d6e9;\n",
       "        }    #T_5257e0f4_a4c3_11e9_9b09_8767185b652brow6_col2 {\n",
       "            background-color:  #eee9f3;\n",
       "        }    #T_5257e0f4_a4c3_11e9_9b09_8767185b652brow6_col3 {\n",
       "            background-color:  #84b0d3;\n",
       "        }    #T_5257e0f4_a4c3_11e9_9b09_8767185b652brow6_col4 {\n",
       "            background-color:  #dcdaeb;\n",
       "        }    #T_5257e0f4_a4c3_11e9_9b09_8767185b652brow6_col5 {\n",
       "            background-color:  #f1ebf5;\n",
       "        }    #T_5257e0f4_a4c3_11e9_9b09_8767185b652brow6_col6 {\n",
       "            background-color:  #73a9cf;\n",
       "        }</style>  \n",
       "<table id=\"T_5257e0f4_a4c3_11e9_9b09_8767185b652b\" > \n",
       "<thead>    <tr> \n",
       "        <th class=\"blank level0\" ></th> \n",
       "        <th class=\"col_heading level0 col0\" >severe_toxicity</th> \n",
       "        <th class=\"col_heading level0 col1\" >obscene</th> \n",
       "        <th class=\"col_heading level0 col2\" >threat</th> \n",
       "        <th class=\"col_heading level0 col3\" >insult</th> \n",
       "        <th class=\"col_heading level0 col4\" >identity_attack</th> \n",
       "        <th class=\"col_heading level0 col5\" >sexual_explicit</th> \n",
       "        <th class=\"col_heading level0 col6\" >target</th> \n",
       "    </tr></thead> \n",
       "<tbody>    <tr> \n",
       "        <th id=\"T_5257e0f4_a4c3_11e9_9b09_8767185b652blevel0_row0\" class=\"row_heading level0 row0\" >severe_toxicity</th> \n",
       "        <td id=\"T_5257e0f4_a4c3_11e9_9b09_8767185b652brow0_col0\" class=\"data row0 col0\" >1</td> \n",
       "        <td id=\"T_5257e0f4_a4c3_11e9_9b09_8767185b652brow0_col1\" class=\"data row0 col1\" >0.34</td> \n",
       "        <td id=\"T_5257e0f4_a4c3_11e9_9b09_8767185b652brow0_col2\" class=\"data row0 col2\" >0.28</td> \n",
       "        <td id=\"T_5257e0f4_a4c3_11e9_9b09_8767185b652brow0_col3\" class=\"data row0 col3\" >0.32</td> \n",
       "        <td id=\"T_5257e0f4_a4c3_11e9_9b09_8767185b652brow0_col4\" class=\"data row0 col4\" >0.26</td> \n",
       "        <td id=\"T_5257e0f4_a4c3_11e9_9b09_8767185b652brow0_col5\" class=\"data row0 col5\" >0.2</td> \n",
       "        <td id=\"T_5257e0f4_a4c3_11e9_9b09_8767185b652brow0_col6\" class=\"data row0 col6\" >0.39</td> \n",
       "    </tr>    <tr> \n",
       "        <th id=\"T_5257e0f4_a4c3_11e9_9b09_8767185b652blevel0_row1\" class=\"row_heading level0 row1\" >obscene</th> \n",
       "        <td id=\"T_5257e0f4_a4c3_11e9_9b09_8767185b652brow1_col0\" class=\"data row1 col0\" >0.34</td> \n",
       "        <td id=\"T_5257e0f4_a4c3_11e9_9b09_8767185b652brow1_col1\" class=\"data row1 col1\" >1</td> \n",
       "        <td id=\"T_5257e0f4_a4c3_11e9_9b09_8767185b652brow1_col2\" class=\"data row1 col2\" >0.091</td> \n",
       "        <td id=\"T_5257e0f4_a4c3_11e9_9b09_8767185b652brow1_col3\" class=\"data row1 col3\" >0.43</td> \n",
       "        <td id=\"T_5257e0f4_a4c3_11e9_9b09_8767185b652brow1_col4\" class=\"data row1 col4\" >0.12</td> \n",
       "        <td id=\"T_5257e0f4_a4c3_11e9_9b09_8767185b652brow1_col5\" class=\"data row1 col5\" >0.33</td> \n",
       "        <td id=\"T_5257e0f4_a4c3_11e9_9b09_8767185b652brow1_col6\" class=\"data row1 col6\" >0.49</td> \n",
       "    </tr>    <tr> \n",
       "        <th id=\"T_5257e0f4_a4c3_11e9_9b09_8767185b652blevel0_row2\" class=\"row_heading level0 row2\" >threat</th> \n",
       "        <td id=\"T_5257e0f4_a4c3_11e9_9b09_8767185b652brow2_col0\" class=\"data row2 col0\" >0.28</td> \n",
       "        <td id=\"T_5257e0f4_a4c3_11e9_9b09_8767185b652brow2_col1\" class=\"data row2 col1\" >0.091</td> \n",
       "        <td id=\"T_5257e0f4_a4c3_11e9_9b09_8767185b652brow2_col2\" class=\"data row2 col2\" >1</td> \n",
       "        <td id=\"T_5257e0f4_a4c3_11e9_9b09_8767185b652brow2_col3\" class=\"data row2 col3\" >0.11</td> \n",
       "        <td id=\"T_5257e0f4_a4c3_11e9_9b09_8767185b652brow2_col4\" class=\"data row2 col4\" >0.15</td> \n",
       "        <td id=\"T_5257e0f4_a4c3_11e9_9b09_8767185b652brow2_col5\" class=\"data row2 col5\" >0.088</td> \n",
       "        <td id=\"T_5257e0f4_a4c3_11e9_9b09_8767185b652brow2_col6\" class=\"data row2 col6\" >0.29</td> \n",
       "    </tr>    <tr> \n",
       "        <th id=\"T_5257e0f4_a4c3_11e9_9b09_8767185b652blevel0_row3\" class=\"row_heading level0 row3\" >insult</th> \n",
       "        <td id=\"T_5257e0f4_a4c3_11e9_9b09_8767185b652brow3_col0\" class=\"data row3 col0\" >0.32</td> \n",
       "        <td id=\"T_5257e0f4_a4c3_11e9_9b09_8767185b652brow3_col1\" class=\"data row3 col1\" >0.43</td> \n",
       "        <td id=\"T_5257e0f4_a4c3_11e9_9b09_8767185b652brow3_col2\" class=\"data row3 col2\" >0.11</td> \n",
       "        <td id=\"T_5257e0f4_a4c3_11e9_9b09_8767185b652brow3_col3\" class=\"data row3 col3\" >1</td> \n",
       "        <td id=\"T_5257e0f4_a4c3_11e9_9b09_8767185b652brow3_col4\" class=\"data row3 col4\" >0.31</td> \n",
       "        <td id=\"T_5257e0f4_a4c3_11e9_9b09_8767185b652brow3_col5\" class=\"data row3 col5\" >0.15</td> \n",
       "        <td id=\"T_5257e0f4_a4c3_11e9_9b09_8767185b652brow3_col6\" class=\"data row3 col6\" >0.93</td> \n",
       "    </tr>    <tr> \n",
       "        <th id=\"T_5257e0f4_a4c3_11e9_9b09_8767185b652blevel0_row4\" class=\"row_heading level0 row4\" >identity_attack</th> \n",
       "        <td id=\"T_5257e0f4_a4c3_11e9_9b09_8767185b652brow4_col0\" class=\"data row4 col0\" >0.26</td> \n",
       "        <td id=\"T_5257e0f4_a4c3_11e9_9b09_8767185b652brow4_col1\" class=\"data row4 col1\" >0.12</td> \n",
       "        <td id=\"T_5257e0f4_a4c3_11e9_9b09_8767185b652brow4_col2\" class=\"data row4 col2\" >0.15</td> \n",
       "        <td id=\"T_5257e0f4_a4c3_11e9_9b09_8767185b652brow4_col3\" class=\"data row4 col3\" >0.31</td> \n",
       "        <td id=\"T_5257e0f4_a4c3_11e9_9b09_8767185b652brow4_col4\" class=\"data row4 col4\" >1</td> \n",
       "        <td id=\"T_5257e0f4_a4c3_11e9_9b09_8767185b652brow4_col5\" class=\"data row4 col5\" >0.12</td> \n",
       "        <td id=\"T_5257e0f4_a4c3_11e9_9b09_8767185b652brow4_col6\" class=\"data row4 col6\" >0.45</td> \n",
       "    </tr>    <tr> \n",
       "        <th id=\"T_5257e0f4_a4c3_11e9_9b09_8767185b652blevel0_row5\" class=\"row_heading level0 row5\" >sexual_explicit</th> \n",
       "        <td id=\"T_5257e0f4_a4c3_11e9_9b09_8767185b652brow5_col0\" class=\"data row5 col0\" >0.2</td> \n",
       "        <td id=\"T_5257e0f4_a4c3_11e9_9b09_8767185b652brow5_col1\" class=\"data row5 col1\" >0.33</td> \n",
       "        <td id=\"T_5257e0f4_a4c3_11e9_9b09_8767185b652brow5_col2\" class=\"data row5 col2\" >0.088</td> \n",
       "        <td id=\"T_5257e0f4_a4c3_11e9_9b09_8767185b652brow5_col3\" class=\"data row5 col3\" >0.15</td> \n",
       "        <td id=\"T_5257e0f4_a4c3_11e9_9b09_8767185b652brow5_col4\" class=\"data row5 col4\" >0.12</td> \n",
       "        <td id=\"T_5257e0f4_a4c3_11e9_9b09_8767185b652brow5_col5\" class=\"data row5 col5\" >1</td> \n",
       "        <td id=\"T_5257e0f4_a4c3_11e9_9b09_8767185b652brow5_col6\" class=\"data row5 col6\" >0.25</td> \n",
       "    </tr>    <tr> \n",
       "        <th id=\"T_5257e0f4_a4c3_11e9_9b09_8767185b652blevel0_row6\" class=\"row_heading level0 row6\" >target</th> \n",
       "        <td id=\"T_5257e0f4_a4c3_11e9_9b09_8767185b652brow6_col0\" class=\"data row6 col0\" >0.39</td> \n",
       "        <td id=\"T_5257e0f4_a4c3_11e9_9b09_8767185b652brow6_col1\" class=\"data row6 col1\" >0.49</td> \n",
       "        <td id=\"T_5257e0f4_a4c3_11e9_9b09_8767185b652brow6_col2\" class=\"data row6 col2\" >0.29</td> \n",
       "        <td id=\"T_5257e0f4_a4c3_11e9_9b09_8767185b652brow6_col3\" class=\"data row6 col3\" >0.93</td> \n",
       "        <td id=\"T_5257e0f4_a4c3_11e9_9b09_8767185b652brow6_col4\" class=\"data row6 col4\" >0.45</td> \n",
       "        <td id=\"T_5257e0f4_a4c3_11e9_9b09_8767185b652brow6_col5\" class=\"data row6 col5\" >0.25</td> \n",
       "        <td id=\"T_5257e0f4_a4c3_11e9_9b09_8767185b652brow6_col6\" class=\"data row6 col6\" >1</td> \n",
       "    </tr></tbody> \n",
       "</table> "
      ],
      "text/plain": [
       "<pandas.io.formats.style.Styler at 0x7fe22bb2dc18>"
      ]
     },
     "execution_count": 11,
     "metadata": {},
     "output_type": "execute_result"
    }
   ],
   "source": [
    "corr = train[toxic_subtypes + ['target']].corr()\n",
    "corr.style.apply(background_gradient, m=corr.min().min(), M=corr.max().max()).set_precision(2)"
   ]
  },
  {
   "cell_type": "markdown",
   "metadata": {},
   "source": [
    "To my surprise, *insult* and *target* correlation score is really high: 0.93! Although *obscene* and *identity_attack* have 0.49 and 0.45, respectively, but 0.93 is just another level. Maybe we should focus on predicting *insult* as the definition of *toxic*?"
   ]
  },
  {
   "cell_type": "markdown",
   "metadata": {},
   "source": [
    "## 1.3 Identity Distribution"
   ]
  },
  {
   "cell_type": "code",
   "execution_count": 12,
   "metadata": {},
   "outputs": [
    {
     "name": "stdout",
     "output_type": "stream",
     "text": [
      "There are 405,130 (22.45% of all training set) identity-labelled comments, out of which 178,896 (44.16%) are not identity offensive.\n"
     ]
    }
   ],
   "source": [
    "identity_df = train[identity_attrs].dropna(axis=0, how='all')\n",
    "print(\"There are {:,} ({:.2f}% of all training set) identity-labelled comments, out of which {:,} ({:.2f}%) are not identity offensive.\".format(\n",
    "    len(identity_df),\n",
    "    len(identity_df) * 100 / len(train),\n",
    "    len(identity_df[np.sum(identity_df, axis=1) == 0]),\n",
    "    len(identity_df[np.sum(identity_df, axis=1) == 0]) * 100 / len(identity_df)\n",
    "))"
   ]
  },
  {
   "cell_type": "markdown",
   "metadata": {},
   "source": [
    "The first reason why identity columns are not as helpful as subtypes is the data availability. Only 22.45% of the training set are labelled and half of them are not considered toxic. Let's explore the distribution of comments that have been labelled with identities:"
   ]
  },
  {
   "cell_type": "code",
   "execution_count": 13,
   "metadata": {},
   "outputs": [
    {
     "data": {
      "image/png": "[encoded data removed]",
      "text/plain": [
       "<Figure size 864x540 with 1 Axes>"
      ]
     },
     "metadata": {
      "needs_background": "light"
     },
     "output_type": "display_data"
    }
   ],
   "source": [
    "identity_count = (identity_df > 0.5).sum(axis=0).sort_values(ascending=False)\n",
    "identity_prop = np.round(identity_count * 100 / len(identity_df), 2)\n",
    "fig, ax = plt.subplots(figsize=(12, 7.5))\n",
    "_ = sns.barplot(x=identity_count.values, y=identity_count.index, ax=ax)\n",
    "_ = ax.set_title('Identity Distribution (with % of all identity-labeled comments)')\n",
    "_ = ax.set_xlabel('Identity Labels')\n",
    "_ = ax.set_ylabel('#Comments')\n",
    "\n",
    "for p, label in zip(ax.patches, identity_prop.values):\n",
    "    ax.annotate(\"{:.2f}%\".format(label), (p.get_width(), p.get_y()+0.6))"
   ]
  },
  {
   "cell_type": "markdown",
   "metadata": {},
   "source": [
    "And if we group the identity columns:"
   ]
  },
  {
   "cell_type": "code",
   "execution_count": 14,
   "metadata": {},
   "outputs": [
    {
     "data": {
      "image/png": "[encoded data removed]",
      "text/plain": [
       "<Figure size 864x540 with 1 Axes>"
      ]
     },
     "metadata": {
      "needs_background": "light"
     },
     "output_type": "display_data"
    }
   ],
   "source": [
    "identity_group_count = pd.Series(\n",
    "    dict(\n",
    "        (g, np.sum(identity_count[identity_count.index.isin(identity_attrs_group[g])])) \n",
    "        for g in identity_attrs_group)\n",
    ").sort_values(ascending=False)\n",
    "identity_group_prop = np.round(identity_group_count * 100 / len(identity_df), 2)\n",
    "fig, ax = plt.subplots(figsize=(12, 7.5))\n",
    "_ = sns.barplot(x=identity_group_count.index, y=identity_group_count.values, ax=ax)\n",
    "_ = ax.set_title('Identity Distribution (with % of all comments w/ identity data)')\n",
    "_ = ax.set_xlabel('Identity Types')\n",
    "_ = ax.set_ylabel('#Comments')\n",
    "\n",
    "for p, label in zip(ax.patches, identity_group_prop.values):\n",
    "    ax.annotate(\"{:.2f}%\".format(label), (p.get_x()+0.275, p.get_height()+500))"
   ]
  },
  {
   "cell_type": "markdown",
   "metadata": {},
   "source": [
    "The most popular identity is regarding *gender* followed by *religion* and *race*, still not so dominating as *insult* subtype. How about the correlation with the *target*?"
   ]
  },
  {
   "cell_type": "code",
   "execution_count": 15,
   "metadata": {},
   "outputs": [
    {
     "data": {
      "text/html": [
       "<style  type=\"text/css\" >\n",
       "    #T_545a175a_a4c3_11e9_9b09_8767185b652brow0_col0 {\n",
       "            background-color:  #73a9cf;\n",
       "        }    #T_545a175a_a4c3_11e9_9b09_8767185b652brow0_col1 {\n",
       "            background-color:  #fbf3f9;\n",
       "        }    #T_545a175a_a4c3_11e9_9b09_8767185b652brow0_col2 {\n",
       "            background-color:  #fff7fb;\n",
       "        }    #T_545a175a_a4c3_11e9_9b09_8767185b652brow0_col3 {\n",
       "            background-color:  #f7f0f7;\n",
       "        }    #T_545a175a_a4c3_11e9_9b09_8767185b652brow0_col4 {\n",
       "            background-color:  #fdf5fa;\n",
       "        }    #T_545a175a_a4c3_11e9_9b09_8767185b652brow0_col5 {\n",
       "            background-color:  #f5eef6;\n",
       "        }    #T_545a175a_a4c3_11e9_9b09_8767185b652brow1_col0 {\n",
       "            background-color:  #fbf3f9;\n",
       "        }    #T_545a175a_a4c3_11e9_9b09_8767185b652brow1_col1 {\n",
       "            background-color:  #73a9cf;\n",
       "        }    #T_545a175a_a4c3_11e9_9b09_8767185b652brow1_col2 {\n",
       "            background-color:  #fbf4f9;\n",
       "        }    #T_545a175a_a4c3_11e9_9b09_8767185b652brow1_col3 {\n",
       "            background-color:  #fcf4fa;\n",
       "        }    #T_545a175a_a4c3_11e9_9b09_8767185b652brow1_col4 {\n",
       "            background-color:  #fef6fb;\n",
       "        }    #T_545a175a_a4c3_11e9_9b09_8767185b652brow1_col5 {\n",
       "            background-color:  #ece7f2;\n",
       "        }    #T_545a175a_a4c3_11e9_9b09_8767185b652brow2_col0 {\n",
       "            background-color:  #fff7fb;\n",
       "        }    #T_545a175a_a4c3_11e9_9b09_8767185b652brow2_col1 {\n",
       "            background-color:  #fbf4f9;\n",
       "        }    #T_545a175a_a4c3_11e9_9b09_8767185b652brow2_col2 {\n",
       "            background-color:  #73a9cf;\n",
       "        }    #T_545a175a_a4c3_11e9_9b09_8767185b652brow2_col3 {\n",
       "            background-color:  #f7f0f7;\n",
       "        }    #T_545a175a_a4c3_11e9_9b09_8767185b652brow2_col4 {\n",
       "            background-color:  #fff7fb;\n",
       "        }    #T_545a175a_a4c3_11e9_9b09_8767185b652brow2_col5 {\n",
       "            background-color:  #f7f0f7;\n",
       "        }    #T_545a175a_a4c3_11e9_9b09_8767185b652brow3_col0 {\n",
       "            background-color:  #f7f0f7;\n",
       "        }    #T_545a175a_a4c3_11e9_9b09_8767185b652brow3_col1 {\n",
       "            background-color:  #fcf4fa;\n",
       "        }    #T_545a175a_a4c3_11e9_9b09_8767185b652brow3_col2 {\n",
       "            background-color:  #f7f0f7;\n",
       "        }    #T_545a175a_a4c3_11e9_9b09_8767185b652brow3_col3 {\n",
       "            background-color:  #73a9cf;\n",
       "        }    #T_545a175a_a4c3_11e9_9b09_8767185b652brow3_col4 {\n",
       "            background-color:  #fdf5fa;\n",
       "        }    #T_545a175a_a4c3_11e9_9b09_8767185b652brow3_col5 {\n",
       "            background-color:  #f2ecf5;\n",
       "        }    #T_545a175a_a4c3_11e9_9b09_8767185b652brow4_col0 {\n",
       "            background-color:  #fdf5fa;\n",
       "        }    #T_545a175a_a4c3_11e9_9b09_8767185b652brow4_col1 {\n",
       "            background-color:  #fef6fb;\n",
       "        }    #T_545a175a_a4c3_11e9_9b09_8767185b652brow4_col2 {\n",
       "            background-color:  #fff7fb;\n",
       "        }    #T_545a175a_a4c3_11e9_9b09_8767185b652brow4_col3 {\n",
       "            background-color:  #fdf5fa;\n",
       "        }    #T_545a175a_a4c3_11e9_9b09_8767185b652brow4_col4 {\n",
       "            background-color:  #73a9cf;\n",
       "        }    #T_545a175a_a4c3_11e9_9b09_8767185b652brow4_col5 {\n",
       "            background-color:  #f8f1f8;\n",
       "        }    #T_545a175a_a4c3_11e9_9b09_8767185b652brow5_col0 {\n",
       "            background-color:  #f5eef6;\n",
       "        }    #T_545a175a_a4c3_11e9_9b09_8767185b652brow5_col1 {\n",
       "            background-color:  #ece7f2;\n",
       "        }    #T_545a175a_a4c3_11e9_9b09_8767185b652brow5_col2 {\n",
       "            background-color:  #f7f0f7;\n",
       "        }    #T_545a175a_a4c3_11e9_9b09_8767185b652brow5_col3 {\n",
       "            background-color:  #f2ecf5;\n",
       "        }    #T_545a175a_a4c3_11e9_9b09_8767185b652brow5_col4 {\n",
       "            background-color:  #f8f1f8;\n",
       "        }    #T_545a175a_a4c3_11e9_9b09_8767185b652brow5_col5 {\n",
       "            background-color:  #73a9cf;\n",
       "        }</style>  \n",
       "<table id=\"T_545a175a_a4c3_11e9_9b09_8767185b652b\" > \n",
       "<thead>    <tr> \n",
       "        <th class=\"blank level0\" ></th> \n",
       "        <th class=\"col_heading level0 col0\" >gender</th> \n",
       "        <th class=\"col_heading level0 col1\" >race</th> \n",
       "        <th class=\"col_heading level0 col2\" >religion</th> \n",
       "        <th class=\"col_heading level0 col3\" >sexual_orientation</th> \n",
       "        <th class=\"col_heading level0 col4\" >disability</th> \n",
       "        <th class=\"col_heading level0 col5\" >target</th> \n",
       "    </tr></thead> \n",
       "<tbody>    <tr> \n",
       "        <th id=\"T_545a175a_a4c3_11e9_9b09_8767185b652blevel0_row0\" class=\"row_heading level0 row0\" >gender</th> \n",
       "        <td id=\"T_545a175a_a4c3_11e9_9b09_8767185b652brow0_col0\" class=\"data row0 col0\" >1</td> \n",
       "        <td id=\"T_545a175a_a4c3_11e9_9b09_8767185b652brow0_col1\" class=\"data row0 col1\" >0.019</td> \n",
       "        <td id=\"T_545a175a_a4c3_11e9_9b09_8767185b652brow0_col2\" class=\"data row0 col2\" >-0.043</td> \n",
       "        <td id=\"T_545a175a_a4c3_11e9_9b09_8767185b652brow0_col3\" class=\"data row0 col3\" >0.068</td> \n",
       "        <td id=\"T_545a175a_a4c3_11e9_9b09_8767185b652brow0_col4\" class=\"data row0 col4\" >-0.0094</td> \n",
       "        <td id=\"T_545a175a_a4c3_11e9_9b09_8767185b652brow0_col5\" class=\"data row0 col5\" >0.097</td> \n",
       "    </tr>    <tr> \n",
       "        <th id=\"T_545a175a_a4c3_11e9_9b09_8767185b652blevel0_row1\" class=\"row_heading level0 row1\" >race</th> \n",
       "        <td id=\"T_545a175a_a4c3_11e9_9b09_8767185b652brow1_col0\" class=\"data row1 col0\" >0.019</td> \n",
       "        <td id=\"T_545a175a_a4c3_11e9_9b09_8767185b652brow1_col1\" class=\"data row1 col1\" >1</td> \n",
       "        <td id=\"T_545a175a_a4c3_11e9_9b09_8767185b652brow1_col2\" class=\"data row1 col2\" >0.0074</td> \n",
       "        <td id=\"T_545a175a_a4c3_11e9_9b09_8767185b652brow1_col3\" class=\"data row1 col3\" >0.0047</td> \n",
       "        <td id=\"T_545a175a_a4c3_11e9_9b09_8767185b652brow1_col4\" class=\"data row1 col4\" >-0.027</td> \n",
       "        <td id=\"T_545a175a_a4c3_11e9_9b09_8767185b652brow1_col5\" class=\"data row1 col5\" >0.22</td> \n",
       "    </tr>    <tr> \n",
       "        <th id=\"T_545a175a_a4c3_11e9_9b09_8767185b652blevel0_row2\" class=\"row_heading level0 row2\" >religion</th> \n",
       "        <td id=\"T_545a175a_a4c3_11e9_9b09_8767185b652brow2_col0\" class=\"data row2 col0\" >-0.043</td> \n",
       "        <td id=\"T_545a175a_a4c3_11e9_9b09_8767185b652brow2_col1\" class=\"data row2 col1\" >0.0074</td> \n",
       "        <td id=\"T_545a175a_a4c3_11e9_9b09_8767185b652brow2_col2\" class=\"data row2 col2\" >1</td> \n",
       "        <td id=\"T_545a175a_a4c3_11e9_9b09_8767185b652brow2_col3\" class=\"data row2 col3\" >0.066</td> \n",
       "        <td id=\"T_545a175a_a4c3_11e9_9b09_8767185b652brow2_col4\" class=\"data row2 col4\" >-0.037</td> \n",
       "        <td id=\"T_545a175a_a4c3_11e9_9b09_8767185b652brow2_col5\" class=\"data row2 col5\" >0.071</td> \n",
       "    </tr>    <tr> \n",
       "        <th id=\"T_545a175a_a4c3_11e9_9b09_8767185b652blevel0_row3\" class=\"row_heading level0 row3\" >sexual_orientation</th> \n",
       "        <td id=\"T_545a175a_a4c3_11e9_9b09_8767185b652brow3_col0\" class=\"data row3 col0\" >0.068</td> \n",
       "        <td id=\"T_545a175a_a4c3_11e9_9b09_8767185b652brow3_col1\" class=\"data row3 col1\" >0.0047</td> \n",
       "        <td id=\"T_545a175a_a4c3_11e9_9b09_8767185b652brow3_col2\" class=\"data row3 col2\" >0.066</td> \n",
       "        <td id=\"T_545a175a_a4c3_11e9_9b09_8767185b652brow3_col3\" class=\"data row3 col3\" >1</td> \n",
       "        <td id=\"T_545a175a_a4c3_11e9_9b09_8767185b652brow3_col4\" class=\"data row3 col4\" >-0.0027</td> \n",
       "        <td id=\"T_545a175a_a4c3_11e9_9b09_8767185b652brow3_col5\" class=\"data row3 col5\" >0.13</td> \n",
       "    </tr>    <tr> \n",
       "        <th id=\"T_545a175a_a4c3_11e9_9b09_8767185b652blevel0_row4\" class=\"row_heading level0 row4\" >disability</th> \n",
       "        <td id=\"T_545a175a_a4c3_11e9_9b09_8767185b652brow4_col0\" class=\"data row4 col0\" >-0.0094</td> \n",
       "        <td id=\"T_545a175a_a4c3_11e9_9b09_8767185b652brow4_col1\" class=\"data row4 col1\" >-0.027</td> \n",
       "        <td id=\"T_545a175a_a4c3_11e9_9b09_8767185b652brow4_col2\" class=\"data row4 col2\" >-0.037</td> \n",
       "        <td id=\"T_545a175a_a4c3_11e9_9b09_8767185b652brow4_col3\" class=\"data row4 col3\" >-0.0027</td> \n",
       "        <td id=\"T_545a175a_a4c3_11e9_9b09_8767185b652brow4_col4\" class=\"data row4 col4\" >1</td> \n",
       "        <td id=\"T_545a175a_a4c3_11e9_9b09_8767185b652brow4_col5\" class=\"data row4 col5\" >0.061</td> \n",
       "    </tr>    <tr> \n",
       "        <th id=\"T_545a175a_a4c3_11e9_9b09_8767185b652blevel0_row5\" class=\"row_heading level0 row5\" >target</th> \n",
       "        <td id=\"T_545a175a_a4c3_11e9_9b09_8767185b652brow5_col0\" class=\"data row5 col0\" >0.097</td> \n",
       "        <td id=\"T_545a175a_a4c3_11e9_9b09_8767185b652brow5_col1\" class=\"data row5 col1\" >0.22</td> \n",
       "        <td id=\"T_545a175a_a4c3_11e9_9b09_8767185b652brow5_col2\" class=\"data row5 col2\" >0.071</td> \n",
       "        <td id=\"T_545a175a_a4c3_11e9_9b09_8767185b652brow5_col3\" class=\"data row5 col3\" >0.13</td> \n",
       "        <td id=\"T_545a175a_a4c3_11e9_9b09_8767185b652brow5_col4\" class=\"data row5 col4\" >0.061</td> \n",
       "        <td id=\"T_545a175a_a4c3_11e9_9b09_8767185b652brow5_col5\" class=\"data row5 col5\" >1</td> \n",
       "    </tr></tbody> \n",
       "</table> "
      ],
      "text/plain": [
       "<pandas.io.formats.style.Styler at 0x7fe22b7b4da0>"
      ]
     },
     "execution_count": 15,
     "metadata": {},
     "output_type": "execute_result"
    }
   ],
   "source": [
    "identity_group_df = pd.DataFrame()\n",
    "for g in identity_attrs_group:\n",
    "    identity_group_df[g] = np.max(identity_df[identity_attrs_group[g]], axis=1)\n",
    "identity_group_w_target_df = identity_group_df.join(train['target'], how='left')\n",
    "corr = identity_group_w_target_df.corr()\n",
    "corr.style.apply(background_gradient, m=corr.min().min(), M=corr.max().max()).set_precision(2)"
   ]
  },
  {
   "cell_type": "markdown",
   "metadata": {},
   "source": [
    "With such low correlation, identity columns are not a promising auxiliary attributes. Except *race* and *sexual_orientation*, the correlation to target is almost 0. Even *race*, which has the highest correlation, only score 0.22."
   ]
  },
  {
   "cell_type": "markdown",
   "metadata": {},
   "source": [
    "## 1.4 Toxic Subtypes and Identity Correlation"
   ]
  },
  {
   "cell_type": "markdown",
   "metadata": {},
   "source": [
    "As we are interested about *insult* subtypes, is there any correlation between the identity columns to the subtypes?"
   ]
  },
  {
   "cell_type": "code",
   "execution_count": 16,
   "metadata": {},
   "outputs": [
    {
     "data": {
      "text/html": [
       "<style  type=\"text/css\" >\n",
       "    #T_548f9dc6_a4c3_11e9_9b09_8767185b652brow0_col0 {\n",
       "            background-color:  #f4edf6;\n",
       "        }    #T_548f9dc6_a4c3_11e9_9b09_8767185b652brow0_col1 {\n",
       "            background-color:  #e7e3f0;\n",
       "        }    #T_548f9dc6_a4c3_11e9_9b09_8767185b652brow0_col2 {\n",
       "            background-color:  #f5eef6;\n",
       "        }    #T_548f9dc6_a4c3_11e9_9b09_8767185b652brow0_col3 {\n",
       "            background-color:  #f1ebf4;\n",
       "        }    #T_548f9dc6_a4c3_11e9_9b09_8767185b652brow0_col4 {\n",
       "            background-color:  #f8f1f8;\n",
       "        }    #T_548f9dc6_a4c3_11e9_9b09_8767185b652brow1_col0 {\n",
       "            background-color:  #f4eef6;\n",
       "        }    #T_548f9dc6_a4c3_11e9_9b09_8767185b652brow1_col1 {\n",
       "            background-color:  #f8f1f8;\n",
       "        }    #T_548f9dc6_a4c3_11e9_9b09_8767185b652brow1_col2 {\n",
       "            background-color:  #fff7fb;\n",
       "        }    #T_548f9dc6_a4c3_11e9_9b09_8767185b652brow1_col3 {\n",
       "            background-color:  #f7f0f7;\n",
       "        }    #T_548f9dc6_a4c3_11e9_9b09_8767185b652brow1_col4 {\n",
       "            background-color:  #faf3f9;\n",
       "        }    #T_548f9dc6_a4c3_11e9_9b09_8767185b652brow2_col0 {\n",
       "            background-color:  #f6eff7;\n",
       "        }    #T_548f9dc6_a4c3_11e9_9b09_8767185b652brow2_col1 {\n",
       "            background-color:  #f2ecf5;\n",
       "        }    #T_548f9dc6_a4c3_11e9_9b09_8767185b652brow2_col2 {\n",
       "            background-color:  #f7f0f7;\n",
       "        }    #T_548f9dc6_a4c3_11e9_9b09_8767185b652brow2_col3 {\n",
       "            background-color:  #f9f2f8;\n",
       "        }    #T_548f9dc6_a4c3_11e9_9b09_8767185b652brow2_col4 {\n",
       "            background-color:  #faf2f8;\n",
       "        }    #T_548f9dc6_a4c3_11e9_9b09_8767185b652brow3_col0 {\n",
       "            background-color:  #f0eaf4;\n",
       "        }    #T_548f9dc6_a4c3_11e9_9b09_8767185b652brow3_col1 {\n",
       "            background-color:  #e2dfee;\n",
       "        }    #T_548f9dc6_a4c3_11e9_9b09_8767185b652brow3_col2 {\n",
       "            background-color:  #faf3f9;\n",
       "        }    #T_548f9dc6_a4c3_11e9_9b09_8767185b652brow3_col3 {\n",
       "            background-color:  #f1ebf4;\n",
       "        }    #T_548f9dc6_a4c3_11e9_9b09_8767185b652brow3_col4 {\n",
       "            background-color:  #eee9f3;\n",
       "        }    #T_548f9dc6_a4c3_11e9_9b09_8767185b652brow4_col0 {\n",
       "            background-color:  #ede8f3;\n",
       "        }    #T_548f9dc6_a4c3_11e9_9b09_8767185b652brow4_col1 {\n",
       "            background-color:  #73a9cf;\n",
       "        }    #T_548f9dc6_a4c3_11e9_9b09_8767185b652brow4_col2 {\n",
       "            background-color:  #c2cbe2;\n",
       "        }    #T_548f9dc6_a4c3_11e9_9b09_8767185b652brow4_col3 {\n",
       "            background-color:  #bdc8e1;\n",
       "        }    #T_548f9dc6_a4c3_11e9_9b09_8767185b652brow4_col4 {\n",
       "            background-color:  #fbf3f9;\n",
       "        }    #T_548f9dc6_a4c3_11e9_9b09_8767185b652brow5_col0 {\n",
       "            background-color:  #dcdaeb;\n",
       "        }    #T_548f9dc6_a4c3_11e9_9b09_8767185b652brow5_col1 {\n",
       "            background-color:  #fff7fb;\n",
       "        }    #T_548f9dc6_a4c3_11e9_9b09_8767185b652brow5_col2 {\n",
       "            background-color:  #fcf4fa;\n",
       "        }    #T_548f9dc6_a4c3_11e9_9b09_8767185b652brow5_col3 {\n",
       "            background-color:  #e7e3f0;\n",
       "        }    #T_548f9dc6_a4c3_11e9_9b09_8767185b652brow5_col4 {\n",
       "            background-color:  #fcf4fa;\n",
       "        }</style>  \n",
       "<table id=\"T_548f9dc6_a4c3_11e9_9b09_8767185b652b\" > \n",
       "<thead>    <tr> \n",
       "        <th class=\"blank level0\" ></th> \n",
       "        <th class=\"col_heading level0 col0\" >gender</th> \n",
       "        <th class=\"col_heading level0 col1\" >race</th> \n",
       "        <th class=\"col_heading level0 col2\" >religion</th> \n",
       "        <th class=\"col_heading level0 col3\" >sexual_orientation</th> \n",
       "        <th class=\"col_heading level0 col4\" >disability</th> \n",
       "    </tr></thead> \n",
       "<tbody>    <tr> \n",
       "        <th id=\"T_548f9dc6_a4c3_11e9_9b09_8767185b652blevel0_row0\" class=\"row_heading level0 row0\" >severe_toxicity</th> \n",
       "        <td id=\"T_548f9dc6_a4c3_11e9_9b09_8767185b652brow0_col0\" class=\"data row0 col0\" >0.046</td> \n",
       "        <td id=\"T_548f9dc6_a4c3_11e9_9b09_8767185b652brow0_col1\" class=\"data row0 col1\" >0.11</td> \n",
       "        <td id=\"T_548f9dc6_a4c3_11e9_9b09_8767185b652brow0_col2\" class=\"data row0 col2\" >0.039</td> \n",
       "        <td id=\"T_548f9dc6_a4c3_11e9_9b09_8767185b652brow0_col3\" class=\"data row0 col3\" >0.065</td> \n",
       "        <td id=\"T_548f9dc6_a4c3_11e9_9b09_8767185b652brow0_col4\" class=\"data row0 col4\" >0.02</td> \n",
       "    </tr>    <tr> \n",
       "        <th id=\"T_548f9dc6_a4c3_11e9_9b09_8767185b652blevel0_row1\" class=\"row_heading level0 row1\" >obscene</th> \n",
       "        <td id=\"T_548f9dc6_a4c3_11e9_9b09_8767185b652brow1_col0\" class=\"data row1 col0\" >0.044</td> \n",
       "        <td id=\"T_548f9dc6_a4c3_11e9_9b09_8767185b652brow1_col1\" class=\"data row1 col1\" >0.023</td> \n",
       "        <td id=\"T_548f9dc6_a4c3_11e9_9b09_8767185b652brow1_col2\" class=\"data row1 col2\" >-0.021</td> \n",
       "        <td id=\"T_548f9dc6_a4c3_11e9_9b09_8767185b652brow1_col3\" class=\"data row1 col3\" >0.027</td> \n",
       "        <td id=\"T_548f9dc6_a4c3_11e9_9b09_8767185b652brow1_col4\" class=\"data row1 col4\" >0.0074</td> \n",
       "    </tr>    <tr> \n",
       "        <th id=\"T_548f9dc6_a4c3_11e9_9b09_8767185b652blevel0_row2\" class=\"row_heading level0 row2\" >threat</th> \n",
       "        <td id=\"T_548f9dc6_a4c3_11e9_9b09_8767185b652brow2_col0\" class=\"data row2 col0\" >0.033</td> \n",
       "        <td id=\"T_548f9dc6_a4c3_11e9_9b09_8767185b652brow2_col1\" class=\"data row2 col1\" >0.054</td> \n",
       "        <td id=\"T_548f9dc6_a4c3_11e9_9b09_8767185b652brow2_col2\" class=\"data row2 col2\" >0.026</td> \n",
       "        <td id=\"T_548f9dc6_a4c3_11e9_9b09_8767185b652brow2_col3\" class=\"data row2 col3\" >0.016</td> \n",
       "        <td id=\"T_548f9dc6_a4c3_11e9_9b09_8767185b652brow2_col4\" class=\"data row2 col4\" >0.012</td> \n",
       "    </tr>    <tr> \n",
       "        <th id=\"T_548f9dc6_a4c3_11e9_9b09_8767185b652blevel0_row3\" class=\"row_heading level0 row3\" >insult</th> \n",
       "        <td id=\"T_548f9dc6_a4c3_11e9_9b09_8767185b652brow3_col0\" class=\"data row3 col0\" >0.067</td> \n",
       "        <td id=\"T_548f9dc6_a4c3_11e9_9b09_8767185b652brow3_col1\" class=\"data row3 col1\" >0.13</td> \n",
       "        <td id=\"T_548f9dc6_a4c3_11e9_9b09_8767185b652brow3_col2\" class=\"data row3 col2\" >0.0086</td> \n",
       "        <td id=\"T_548f9dc6_a4c3_11e9_9b09_8767185b652brow3_col3\" class=\"data row3 col3\" >0.063</td> \n",
       "        <td id=\"T_548f9dc6_a4c3_11e9_9b09_8767185b652brow3_col4\" class=\"data row3 col4\" >0.078</td> \n",
       "    </tr>    <tr> \n",
       "        <th id=\"T_548f9dc6_a4c3_11e9_9b09_8767185b652blevel0_row4\" class=\"row_heading level0 row4\" >identity_attack</th> \n",
       "        <td id=\"T_548f9dc6_a4c3_11e9_9b09_8767185b652brow4_col0\" class=\"data row4 col0\" >0.085</td> \n",
       "        <td id=\"T_548f9dc6_a4c3_11e9_9b09_8767185b652brow4_col1\" class=\"data row4 col1\" >0.43</td> \n",
       "        <td id=\"T_548f9dc6_a4c3_11e9_9b09_8767185b652brow4_col2\" class=\"data row4 col2\" >0.24</td> \n",
       "        <td id=\"T_548f9dc6_a4c3_11e9_9b09_8767185b652brow4_col3\" class=\"data row4 col3\" >0.25</td> \n",
       "        <td id=\"T_548f9dc6_a4c3_11e9_9b09_8767185b652brow4_col4\" class=\"data row4 col4\" >0.0033</td> \n",
       "    </tr>    <tr> \n",
       "        <th id=\"T_548f9dc6_a4c3_11e9_9b09_8767185b652blevel0_row5\" class=\"row_heading level0 row5\" >sexual_explicit</th> \n",
       "        <td id=\"T_548f9dc6_a4c3_11e9_9b09_8767185b652brow5_col0\" class=\"data row5 col0\" >0.16</td> \n",
       "        <td id=\"T_548f9dc6_a4c3_11e9_9b09_8767185b652brow5_col1\" class=\"data row5 col1\" >-0.019</td> \n",
       "        <td id=\"T_548f9dc6_a4c3_11e9_9b09_8767185b652brow5_col2\" class=\"data row5 col2\" >-0.0016</td> \n",
       "        <td id=\"T_548f9dc6_a4c3_11e9_9b09_8767185b652brow5_col3\" class=\"data row5 col3\" >0.11</td> \n",
       "        <td id=\"T_548f9dc6_a4c3_11e9_9b09_8767185b652brow5_col4\" class=\"data row5 col4\" >-0.0036</td> \n",
       "    </tr></tbody> \n",
       "</table> "
      ],
      "text/plain": [
       "<pandas.io.formats.style.Styler at 0x7fe22b7b46d8>"
      ]
     },
     "execution_count": 16,
     "metadata": {},
     "output_type": "execute_result"
    }
   ],
   "source": [
    "identity_group_w_subtypes_df = identity_group_df.join(train[toxic_subtypes], how='left')\n",
    "corr = identity_group_w_subtypes_df.corr()\n",
    "corr = corr.loc[toxic_subtypes, list(identity_attrs_group.keys())]\n",
    "corr.style.apply(background_gradient, m=corr.min().min(), M=corr.max().max()).set_precision(2)"
   ]
  },
  {
   "cell_type": "markdown",
   "metadata": {},
   "source": [
    "Of course *identity_attack* is somewhat correlated with the identity columns, but we do not find any meaningful correlation between any of the identity groups with either *target* or *insult*. Thus, identity columns are not really helpful when we want to predict *target*."
   ]
  },
  {
   "cell_type": "markdown",
   "metadata": {},
   "source": [
    "# 2. Comments Analysis"
   ]
  },
  {
   "cell_type": "markdown",
   "metadata": {},
   "source": [
    "## 2.1 Lexical analysis"
   ]
  },
  {
   "cell_type": "markdown",
   "metadata": {},
   "source": [
    "The purpose of the lexical analysis is to see comments characteristic before moving on to understanding them semantically. Can we get some clue about the toxicity of a comment based on the total number of characters in the comment or the average word length? Another aspect that we can investigate is the part-of-speech. The hypothesis is that toxic comments consist of adjectives. Let's consult the data to find the answer:"
   ]
  },
  {
   "cell_type": "code",
   "execution_count": 17,
   "metadata": {},
   "outputs": [],
   "source": [
    "def plot_cdf(ax, df, col, xlabel):\n",
    "    _ = ax.hist(df[(df['target'] >= 0.5) & (df[col] < df[col].quantile(.99))][col], 200, \n",
    "                               density=True, histtype='step', color='red',\n",
    "                               cumulative=True, label='toxic')\n",
    "    _ = ax.hist(df[(df['target'] < 0.5) & (df[col] < df[col].quantile(.99))][col], 200,\n",
    "                               density=True, histtype='step', color='blue',\n",
    "                               cumulative=True, label='non-toxic')\n",
    "    _ = ax.legend(loc='upper left')\n",
    "    _ = ax.set_xlabel(xlabel)\n",
    "    _ = ax.set_ylabel('Proportion')\n",
    "    \n",
    "    return ax"
   ]
  },
  {
   "cell_type": "code",
   "execution_count": 18,
   "metadata": {
    "_kg_hide-output": true
   },
   "outputs": [
    {
     "data": {
      "application/vnd.jupyter.widget-view+json": {
       "model_id": "d867243802ea484ba973f59d1ba16c01",
       "version_major": 2,
       "version_minor": 0
      },
      "text/plain": [
       "HBox(children=(IntProgress(value=0, max=1804874), HTML(value='')))"
      ]
     },
     "metadata": {},
     "output_type": "display_data"
    },
    {
     "name": "stdout",
     "output_type": "stream",
     "text": [
      "\n"
     ]
    },
    {
     "data": {
      "application/vnd.jupyter.widget-view+json": {
       "model_id": "3019e79c5eda4d29aa603a7813030e51",
       "version_major": 2,
       "version_minor": 0
      },
      "text/plain": [
       "HBox(children=(IntProgress(value=0, max=1804874), HTML(value='')))"
      ]
     },
     "metadata": {},
     "output_type": "display_data"
    },
    {
     "name": "stdout",
     "output_type": "stream",
     "text": [
      "\n"
     ]
    },
    {
     "data": {
      "application/vnd.jupyter.widget-view+json": {
       "model_id": "cb76806dcb7f4d439d23600cca04bf6e",
       "version_major": 2,
       "version_minor": 0
      },
      "text/plain": [
       "HBox(children=(IntProgress(value=0, max=1804874), HTML(value='')))"
      ]
     },
     "metadata": {},
     "output_type": "display_data"
    },
    {
     "name": "stdout",
     "output_type": "stream",
     "text": [
      "\n"
     ]
    },
    {
     "data": {
      "application/vnd.jupyter.widget-view+json": {
       "model_id": "95ce6517779b4af19a27fdb13894e3f6",
       "version_major": 2,
       "version_minor": 0
      },
      "text/plain": [
       "HBox(children=(IntProgress(value=0, max=1804874), HTML(value='')))"
      ]
     },
     "metadata": {},
     "output_type": "display_data"
    },
    {
     "name": "stdout",
     "output_type": "stream",
     "text": [
      "\n"
     ]
    },
    {
     "data": {
      "application/vnd.jupyter.widget-view+json": {
       "model_id": "fbe7d24673f84307a564465e7ce9dd8d",
       "version_major": 2,
       "version_minor": 0
      },
      "text/plain": [
       "HBox(children=(IntProgress(value=0, max=1804874), HTML(value='')))"
      ]
     },
     "metadata": {},
     "output_type": "display_data"
    }
   ],
   "source": [
    "train['char_length'] = train['comment_text'].progress_apply(lambda c: len(c))\n",
    "train['tokenized_comment'] = train['comment_text'].progress_apply(\n",
    "    lambda c: [t.lower() for t in re.split(\"[\\s\\-—]+\", c.translate(str.maketrans('', '', string.punctuation))) if len(t) > 0]\n",
    ")\n",
    "train['num_tokens'] = train['tokenized_comment'].progress_apply(lambda c: len(c))\n",
    "train['average_token_length'] = train['tokenized_comment'].progress_apply(lambda c: np.mean([len(t) for t in c]) if len(c) > 0 else 0)\n",
    "train['comment_sentences'] = train['comment_text'].progress_apply(lambda c: sent_tokenize(c))\n",
    "train['number_of_sentences'] = train['comment_sentences'].progress_apply(lambda s: len(s))\n",
    "train['capital_letters_prop'] = train['comment_text'].progress_apply(lambda c: sum(1 for i in c if i.isupper()) / len(c))\n",
    "train['non_alphanumeric_prop'] = train['comment_text'].progress_apply(lambda c: sum(1 for t in c if not t.isalnum()) / len(c))"
   ]
  },
  {
   "cell_type": "code",
   "execution_count": 19,
   "metadata": {},
   "outputs": [
    {
     "data": {
      "image/png": "[encoded data removed]",
      "text/plain": [
       "<Figure size 1296x1296 with 6 Axes>"
      ]
     },
     "metadata": {
      "needs_background": "light"
     },
     "output_type": "display_data"
    }
   ],
   "source": [
    "fig, axs = plt.subplots(nrows=3, ncols=2, sharey=True, figsize=(18, 18))\n",
    "plt.suptitle('Lexical CDF')\n",
    "\n",
    "_ = plot_cdf(axs[0,0], train, 'char_length', 'Number of Characters')\n",
    "_ = plot_cdf(axs[0,1], train, 'num_tokens', 'Number of Tokens')\n",
    "_ = plot_cdf(axs[1,0], train, 'average_token_length', 'Average Token Length')\n",
    "_ = plot_cdf(axs[1,1], train, 'number_of_sentences', 'Number Of Sentences')\n",
    "_ = plot_cdf(axs[2,0], train, 'capital_letters_prop', 'Capital Letters Proportion')\n",
    "_ = plot_cdf(axs[2,1], train, 'non_alphanumeric_prop', 'Non-Alphanumeric Proportion')"
   ]
  },
  {
   "cell_type": "markdown",
   "metadata": {},
   "source": [
    "Well, there is no significant difference between toxic and safe comments in any of the plots. We can observe, barely, that toxic comments tend to be longer with more number of tokens (or words). However, there is an usual spike for non-toxic comments with more than 950 characters. Seems some safe comments are (extremely) elaborative, but in general the longer means more likely to be toxic, also as shown by the number of sentences plot.\n",
    "\n",
    "Another hypothesis is that using a lot of capital letters and punctuation marks (e.g. a burst of exclamation or question marks) might signal toxic comments. However, there is no evidence of such thing in terms of capital letters and non-alphanumeric proportion. If that's the case, then using lower-case and removing alpha-numeric should be fine. It is worth to take another look at this with POS analysis."
   ]
  },
  {
   "cell_type": "markdown",
   "metadata": {},
   "source": [
    "## 2.2 POS analysis"
   ]
  },
  {
   "cell_type": "markdown",
   "metadata": {},
   "source": [
    "It is remarkable how a human can call another human with obscure words in an online forum. Based on personal observation, I suspect toxic comments contain more adjective than safe comments. Fortunately, NLTK has a default POS tagger for english. It might not work that well for online forum contents due to colloquial languages, but it can help us to some extent in verifying our hypothesis.\n",
    "\n",
    "For the POS analysis, I am going to use downsampling for the non-toxic class mainly due to memory limitation. Downsampling is done randomly."
   ]
  },
  {
   "cell_type": "code",
   "execution_count": 20,
   "metadata": {},
   "outputs": [
    {
     "name": "stdout",
     "output_type": "stream",
     "text": [
      "The number of samples: 433,002\n"
     ]
    }
   ],
   "source": [
    "n = len(train[train['target'] >= 0.5])\n",
    "train_sample = pd.concat([train[train['target'] >= 0.5].sample(n=n, random_state=1336), train[train['target'] < 0.5].sample(n=2*n, random_state=1337)])\n",
    "del identity_df\n",
    "del train\n",
    "_ = gc.collect()\n",
    "\n",
    "n_train_sample = len(train_sample)\n",
    "print(\"The number of samples: {:,}\".format(n_train_sample))"
   ]
  },
  {
   "cell_type": "code",
   "execution_count": 21,
   "metadata": {
    "_kg_hide-output": true
   },
   "outputs": [
    {
     "data": {
      "application/vnd.jupyter.widget-view+json": {
       "model_id": "a82881af11694e57a6f5cc0a96844dec",
       "version_major": 2,
       "version_minor": 0
      },
      "text/plain": [
       "HBox(children=(IntProgress(value=0, max=433002), HTML(value='')))"
      ]
     },
     "metadata": {},
     "output_type": "display_data"
    }
   ],
   "source": [
    "train_sample_pos = train_sample.join(\n",
    "    train_sample['tokenized_comment'].progress_apply(\n",
    "        lambda c: pd.Series(Counter('POS_' + p[:2] + '_prop' for w,p in pos_tag(c))) / len(c)\n",
    "    )\n",
    ")"
   ]
  },
  {
   "cell_type": "code",
   "execution_count": 22,
   "metadata": {},
   "outputs": [
    {
     "data": {
      "text/plain": [
       "POS_PR_prop    0.055128\n",
       "POS_PD_prop    0.053550\n",
       "POS_JJ_prop    0.051554\n",
       "POS_RP_prop    0.046285\n",
       "POS_CC_prop    0.021666\n",
       "POS_FW_prop    0.020492\n",
       "POS_WP_prop    0.019195\n",
       "POS_WD_prop    0.005486\n",
       "POS_VB_prop    0.000945\n",
       "POS_EX_prop   -0.000353\n",
       "POS_DT_prop   -0.002836\n",
       "POS_''_prop   -0.017624\n",
       "POS_NN_prop   -0.021231\n",
       "POS_TO_prop   -0.025364\n",
       "POS_MD_prop   -0.026682\n",
       "POS_WR_prop   -0.028601\n",
       "POS_RB_prop   -0.033749\n",
       "POS_$_prop    -0.068161\n",
       "POS_IN_prop   -0.083119\n",
       "POS_UH_prop   -0.083723\n",
       "POS_CD_prop   -0.089425\n",
       "POS_PO_prop   -0.111784\n",
       "Name: target, dtype: float64"
      ]
     },
     "execution_count": 22,
     "metadata": {},
     "output_type": "execute_result"
    }
   ],
   "source": [
    "pos_columns = ['POS_JJ_prop', 'POS_NN_prop', 'POS_IN_prop',\n",
    "       'POS_PR_prop', 'POS_VB_prop', 'POS_CC_prop', 'POS_MD_prop',\n",
    "       'POS_RB_prop', 'POS_TO_prop', 'POS_DT_prop', 'POS_WD_prop',\n",
    "       'POS_EX_prop', 'POS_WP_prop', 'POS_CD_prop', 'POS_WR_prop',\n",
    "       'POS_PD_prop', 'POS_RP_prop', 'POS_UH_prop', 'POS_FW_prop',\n",
    "       'POS_\\'\\'_prop', 'POS_PO_prop', 'POS_$_prop']\n",
    "train_sample_pos[pos_columns + ['target']].corr()['target'].sort_values(ascending=False)[1:]"
   ]
  },
  {
   "cell_type": "markdown",
   "metadata": {},
   "source": [
    "Although small, these POS tags have positive correlation with the target value:\n",
    "1. PR: pronouns (her, hers, himself)\n",
    "2. PD: predeterminers (all, half, both)\n",
    "3. JJ: adjectives\n",
    "4. RP: particles (about)\n",
    "\n",
    "They are not as significant as expected, but we can get a sense of the construction of a toxic comment. Let's see the CFD:"
   ]
  },
  {
   "cell_type": "code",
   "execution_count": 23,
   "metadata": {},
   "outputs": [
    {
     "data": {
      "image/png": "[encoded data removed]",
      "text/plain": [
       "<Figure size 1296x864 with 4 Axes>"
      ]
     },
     "metadata": {
      "needs_background": "light"
     },
     "output_type": "display_data"
    }
   ],
   "source": [
    "fig, axs = plt.subplots(nrows=2, ncols=2, sharey=True, figsize=(18, 12))\n",
    "plt.suptitle('POS CDF')\n",
    "\n",
    "_ = plot_cdf(axs[0,0], train_sample_pos, 'POS_PR_prop', 'Pronoun Proportion')\n",
    "_ = plot_cdf(axs[0,1], train_sample_pos, 'POS_PD_prop', 'Predeterminer Proportion')\n",
    "_ = plot_cdf(axs[1,0], train_sample_pos, 'POS_JJ_prop', 'Adjectives Proportion')\n",
    "_ = plot_cdf(axs[1,1], train_sample_pos, 'POS_RP_prop', 'Particles Proportion')"
   ]
  },
  {
   "cell_type": "markdown",
   "metadata": {},
   "source": [
    "On the other side, these POS tags are a sign of a safe comments:\n",
    "1. PO: possessive ending (person's)\n",
    "2. CD: digits\n",
    "3. UH: interjection (uh, yeah, ah)\n",
    "4. IN: preposition/conjunction (on, in, but)\n",
    "\n",
    "This means, we should put more attention when we are handling those words during preprocessing. It is better to keep numbers, but maybe we can change them as a same token (\"DIGIT\"). Handling possesive ending seems relevant. Interjection, which seems to be meaningless, is worth a second look. Lastly, we need to be cautious about stopwords removal, does it remove prepositions? Before concluding, see in details for those 4 POS tags:"
   ]
  },
  {
   "cell_type": "code",
   "execution_count": 24,
   "metadata": {},
   "outputs": [
    {
     "data": {
      "image/png": "[encoded data removed]",
      "text/plain": [
       "<Figure size 1296x864 with 4 Axes>"
      ]
     },
     "metadata": {
      "needs_background": "light"
     },
     "output_type": "display_data"
    }
   ],
   "source": [
    "fig, axs = plt.subplots(nrows=2, ncols=2, sharey=True, figsize=(18, 12))\n",
    "plt.suptitle('POS CDF')\n",
    "\n",
    "_ = plot_cdf(axs[0,0], train_sample_pos, 'POS_PO_prop', 'Possessive Ending Proportion')\n",
    "_ = plot_cdf(axs[0,1], train_sample_pos, 'POS_CD_prop', 'Digits Proportion')\n",
    "_ = plot_cdf(axs[1,0], train_sample_pos, 'POS_UH_prop', 'Interjection Proportion')\n",
    "_ = plot_cdf(axs[1,1], train_sample_pos, 'POS_IN_prop', 'Preposition Proportion')"
   ]
  },
  {
   "cell_type": "markdown",
   "metadata": {},
   "source": [
    "For possessive endings, there are not many occurrences of the POS (looking at the number of \"steps\" in the chart) and it might be overfitting to those specific comments. This may also be the case for interjection. In terms of digits and preposition, however, higher proportion tend to be a safe comment.\n",
    "\n",
    "Note that since the POS tags correlation with the target value is really small either for positive and negative, it might not be that useful for predicting target value. Nevertheless, it offers a hint if using stopwords provide better results than removing them."
   ]
  },
  {
   "cell_type": "markdown",
   "metadata": {},
   "source": [
    "# 3. Vocabulary"
   ]
  },
  {
   "cell_type": "markdown",
   "metadata": {},
   "source": [
    "After we analyse the lexical characteristic of the comments, we are ready to touch the surface of semantic analysis. I am using a simple method called Term Frequency - Inverse Document Frequency (TF-IDF) to capture the importance of a word in a comment. TF-IDF has many flaws, of course, but it is a quick way of feature engineering without building any models. Moreover, it is definitely better than just a frequency-based bag-of-words. Subsequently, I use (yet another) simple naive bayes model to find which terms are important predictors."
   ]
  },
  {
   "cell_type": "markdown",
   "metadata": {},
   "source": [
    "## 3.1 TF-IDF"
   ]
  },
  {
   "cell_type": "markdown",
   "metadata": {},
   "source": [
    "One of the weakness of TF-IDF is the inability to capture the similarity of the same word on different forms. As an illustration, \"available\" and \"availability\" are just as different as \"apple\" and \"duck\". The only way to capture the relationship between words are their co-occurrences in sentences. To handle this, I am using a stemmer. Stemming is not a fool-proof technique because we will lose some degree of information by doing so. However, as I want to analyze which word is the most relevant for a toxic/safe comments, not building the most accurate model, stemming should come in handy for now. Also, stopwords are not removed as preposition and interjection are positively correlated with safe comments."
   ]
  },
  {
   "cell_type": "code",
   "execution_count": 25,
   "metadata": {
    "_kg_hide-output": true
   },
   "outputs": [
    {
     "data": {
      "application/vnd.jupyter.widget-view+json": {
       "model_id": "a2594662d81a467f9a424cb8f5c7dae3",
       "version_major": 2,
       "version_minor": 0
      },
      "text/plain": [
       "HBox(children=(IntProgress(value=0, max=433002), HTML(value='')))"
      ]
     },
     "metadata": {},
     "output_type": "display_data"
    },
    {
     "name": "stdout",
     "output_type": "stream",
     "text": [
      "\n"
     ]
    }
   ],
   "source": [
    "stemmer = SnowballStemmer(\"english\")\n",
    "train_sample['stemmed_comment'] = train_sample['tokenized_comment'].progress_map(lambda c: ' '.join([stemmer.stem(t) for t in c]))\n",
    "comment_df = train_sample[['comment_text', 'stemmed_comment', 'toxicity_annotator_count', 'target']].sample(frac=1, random_state=1338)\n",
    "del train_sample_pos\n",
    "del train_sample\n",
    "_ = gc.collect()"
   ]
  },
  {
   "cell_type": "code",
   "execution_count": 26,
   "metadata": {},
   "outputs": [
    {
     "name": "stdout",
     "output_type": "stream",
     "text": [
      "Number of vocabulary: 6,857\n"
     ]
    }
   ],
   "source": [
    "# constructing TF-IDF term-weighting vocabulary\n",
    "# Only words that occur in at least 50 comments are included\n",
    "vectorizer = TfidfVectorizer(min_df=50, max_df=.15, ngram_range=(1, 2))\n",
    "train_n = int(0.1 * n_train_sample)\n",
    "X_train = vectorizer.fit_transform(comment_df[:train_n]['stemmed_comment'])\n",
    "X_test = vectorizer.transform(comment_df[train_n:]['stemmed_comment'])\n",
    "y_train = comment_df[:train_n]['target'] >= 0.5\n",
    "y_test = comment_df[train_n:]['target'] >= 0.5\n",
    "print(\"Number of vocabulary: {:,}\".format(len(vectorizer.get_feature_names())))"
   ]
  },
  {
   "cell_type": "markdown",
   "metadata": {},
   "source": [
    "We can see which terms have the highest weight by using the average of TF-IDF value:"
   ]
  },
  {
   "cell_type": "code",
   "execution_count": 27,
   "metadata": {},
   "outputs": [
    {
     "data": {
      "text/html": [
       "<div>\n",
       "<style scoped>\n",
       "    .dataframe tbody tr th:only-of-type {\n",
       "        vertical-align: middle;\n",
       "    }\n",
       "\n",
       "    .dataframe tbody tr th {\n",
       "        vertical-align: top;\n",
       "    }\n",
       "\n",
       "    .dataframe thead th {\n",
       "        text-align: right;\n",
       "    }\n",
       "</style>\n",
       "<table border=\"1\" class=\"dataframe\">\n",
       "  <thead>\n",
       "    <tr style=\"text-align: right;\">\n",
       "      <th></th>\n",
       "      <th>term</th>\n",
       "      <th>avg_tfidf</th>\n",
       "    </tr>\n",
       "  </thead>\n",
       "  <tbody>\n",
       "    <tr>\n",
       "      <th>2373</th>\n",
       "      <td>he</td>\n",
       "      <td>0.016199</td>\n",
       "    </tr>\n",
       "    <tr>\n",
       "      <th>6147</th>\n",
       "      <td>trump</td>\n",
       "      <td>0.013824</td>\n",
       "    </tr>\n",
       "    <tr>\n",
       "      <th>6580</th>\n",
       "      <td>will</td>\n",
       "      <td>0.013758</td>\n",
       "    </tr>\n",
       "    <tr>\n",
       "      <th>6387</th>\n",
       "      <td>we</td>\n",
       "      <td>0.013245</td>\n",
       "    </tr>\n",
       "    <tr>\n",
       "      <th>3240</th>\n",
       "      <td>like</td>\n",
       "      <td>0.012794</td>\n",
       "    </tr>\n",
       "    <tr>\n",
       "      <th>3648</th>\n",
       "      <td>no</td>\n",
       "      <td>0.012777</td>\n",
       "    </tr>\n",
       "    <tr>\n",
       "      <th>2475</th>\n",
       "      <td>his</td>\n",
       "      <td>0.012621</td>\n",
       "    </tr>\n",
       "    <tr>\n",
       "      <th>5674</th>\n",
       "      <td>their</td>\n",
       "      <td>0.012594</td>\n",
       "    </tr>\n",
       "    <tr>\n",
       "      <th>4885</th>\n",
       "      <td>so</td>\n",
       "      <td>0.012414</td>\n",
       "    </tr>\n",
       "    <tr>\n",
       "      <th>2078</th>\n",
       "      <td>from</td>\n",
       "      <td>0.012059</td>\n",
       "    </tr>\n",
       "    <tr>\n",
       "      <th>4114</th>\n",
       "      <td>peopl</td>\n",
       "      <td>0.012055</td>\n",
       "    </tr>\n",
       "    <tr>\n",
       "      <th>6543</th>\n",
       "      <td>who</td>\n",
       "      <td>0.011873</td>\n",
       "    </tr>\n",
       "    <tr>\n",
       "      <th>951</th>\n",
       "      <td>by</td>\n",
       "      <td>0.011827</td>\n",
       "    </tr>\n",
       "    <tr>\n",
       "      <th>3047</th>\n",
       "      <td>just</td>\n",
       "      <td>0.011823</td>\n",
       "    </tr>\n",
       "    <tr>\n",
       "      <th>597</th>\n",
       "      <td>at</td>\n",
       "      <td>0.011651</td>\n",
       "    </tr>\n",
       "    <tr>\n",
       "      <th>59</th>\n",
       "      <td>about</td>\n",
       "      <td>0.011548</td>\n",
       "    </tr>\n",
       "    <tr>\n",
       "      <th>6691</th>\n",
       "      <td>would</td>\n",
       "      <td>0.011478</td>\n",
       "    </tr>\n",
       "    <tr>\n",
       "      <th>258</th>\n",
       "      <td>an</td>\n",
       "      <td>0.011250</td>\n",
       "    </tr>\n",
       "    <tr>\n",
       "      <th>2310</th>\n",
       "      <td>has</td>\n",
       "      <td>0.010971</td>\n",
       "    </tr>\n",
       "    <tr>\n",
       "      <th>3924</th>\n",
       "      <td>one</td>\n",
       "      <td>0.010955</td>\n",
       "    </tr>\n",
       "    <tr>\n",
       "      <th>5719</th>\n",
       "      <td>there</td>\n",
       "      <td>0.010902</td>\n",
       "    </tr>\n",
       "    <tr>\n",
       "      <th>2137</th>\n",
       "      <td>get</td>\n",
       "      <td>0.010794</td>\n",
       "    </tr>\n",
       "    <tr>\n",
       "      <th>3525</th>\n",
       "      <td>more</td>\n",
       "      <td>0.010702</td>\n",
       "    </tr>\n",
       "    <tr>\n",
       "      <th>984</th>\n",
       "      <td>can</td>\n",
       "      <td>0.009945</td>\n",
       "    </tr>\n",
       "    <tr>\n",
       "      <th>1595</th>\n",
       "      <td>dont</td>\n",
       "      <td>0.009766</td>\n",
       "    </tr>\n",
       "  </tbody>\n",
       "</table>\n",
       "</div>"
      ],
      "text/plain": [
       "       term  avg_tfidf\n",
       "2373  he     0.016199 \n",
       "6147  trump  0.013824 \n",
       "6580  will   0.013758 \n",
       "6387  we     0.013245 \n",
       "3240  like   0.012794 \n",
       "3648  no     0.012777 \n",
       "2475  his    0.012621 \n",
       "5674  their  0.012594 \n",
       "4885  so     0.012414 \n",
       "2078  from   0.012059 \n",
       "4114  peopl  0.012055 \n",
       "6543  who    0.011873 \n",
       "951   by     0.011827 \n",
       "3047  just   0.011823 \n",
       "597   at     0.011651 \n",
       "59    about  0.011548 \n",
       "6691  would  0.011478 \n",
       "258   an     0.011250 \n",
       "2310  has    0.010971 \n",
       "3924  one    0.010955 \n",
       "5719  there  0.010902 \n",
       "2137  get    0.010794 \n",
       "3525  more   0.010702 \n",
       "984   can    0.009945 \n",
       "1595  dont   0.009766 "
      ]
     },
     "execution_count": 27,
     "metadata": {},
     "output_type": "execute_result"
    }
   ],
   "source": [
    "avg_tfidf = np.asarray(X_train.mean(axis=0)).ravel().tolist()\n",
    "weights_df = pd.DataFrame({'term': vectorizer.get_feature_names(), 'avg_tfidf': avg_tfidf})\n",
    "weights_df.sort_values(by='avg_tfidf', ascending=False).head(25)"
   ]
  },
  {
   "cell_type": "markdown",
   "metadata": {},
   "source": [
    "It is interesting to see that among the highest average tf-idf are mostly what are usually considered as stopwords (he, so, an). We can see that those terms have the highest weights, but are they a good predictor for toxic comments? Naive Bayes to the rescue."
   ]
  },
  {
   "cell_type": "markdown",
   "metadata": {},
   "source": [
    "## 3.2 Naive Bayes"
   ]
  },
  {
   "cell_type": "markdown",
   "metadata": {},
   "source": [
    "We want to model a comment being toxic given the term weights of words in the comment. We calculate the probability by looking at the probability of a toxic comments among all comments, probability of each word in a toxic comment, and the probability of the word itself among all corpora.\n",
    "\n",
    "Because we have 6.857 words in our vocabulary, each comment is represented as a vector with length 6.857, and most of the elements are zeros. In the end, our goal is to see which words are predictors of toxic/safe comments."
   ]
  },
  {
   "cell_type": "code",
   "execution_count": 28,
   "metadata": {},
   "outputs": [],
   "source": [
    "def informative_features(vectorizer, clf, n=20):\n",
    "    feature_names = vectorizer.get_feature_names()\n",
    "    coefs_with_fns = sorted(zip(clf.coef_[0], feature_names))\n",
    "    top = zip(coefs_with_fns[:n], coefs_with_fns[:-(n + 1):-1])\n",
    "    for (coef_1, fn_1), (coef_2, fn_2) in top:\n",
    "        print(\"\\t{:8.4f} * {:15}\\t\\t{:8.4f} * {:15}\".format(coef_1, fn_1, coef_2, fn_2))"
   ]
  },
  {
   "cell_type": "markdown",
   "metadata": {},
   "source": [
    "Because we are dealing with imbalanced dataset, I am using sample weighting. As the number of safe comments are twice the number of toxic comments in the sample, the weight of the toxic comments are twice the weight of a safe comment during training. In other words, we force the model to perform well on predicting a toxic comment correctly."
   ]
  },
  {
   "cell_type": "code",
   "execution_count": 29,
   "metadata": {},
   "outputs": [
    {
     "name": "stdout",
     "output_type": "stream",
     "text": [
      "[[192361  67462]\n",
      " [ 26207 103672]]\n"
     ]
    }
   ],
   "source": [
    "nb_model = MultinomialNB()\n",
    "nb_model.fit(X_train, y_train, sample_weight=list(y_train * 0.5 + 0.5))\n",
    "y_pred_nb = nb_model.predict(X_test)\n",
    "y_prob_nb = nb_model.predict_proba(X_test)[:,1]\n",
    "roc_auc = roc_auc_score(y_test, y_prob_nb)\n",
    "fpr, tpr, threshold = roc_curve(y_test, y_prob_nb)\n",
    "print(confusion_matrix(y_test, y_pred_nb))"
   ]
  },
  {
   "cell_type": "code",
   "execution_count": 30,
   "metadata": {},
   "outputs": [
    {
     "data": {
      "image/png": "[encoded data removed]",
      "text/plain": [
       "<Figure size 864x540 with 1 Axes>"
      ]
     },
     "metadata": {
      "needs_background": "light"
     },
     "output_type": "display_data"
    }
   ],
   "source": [
    "fig, ax = plt.subplots(figsize=(12, 7.5))\n",
    "_ = ax.plot(fpr, tpr, 'b', label = 'AUC = %0.2f' % roc_auc)\n",
    "_ = ax.legend(loc = 'lower right')\n",
    "_ = ax.plot([0, 1], [0, 1],'r--')\n",
    "_ = ax.set_title('Receiver Operating Characteristic')\n",
    "_ = ax.set_ylabel('True Positive Rate')\n",
    "_ = ax.set_xlabel('False Positive Rate')"
   ]
  },
  {
   "cell_type": "code",
   "execution_count": 31,
   "metadata": {},
   "outputs": [
    {
     "name": "stdout",
     "output_type": "stream",
     "text": [
      "\t-11.0309 * incent         \t\t -5.6573 * trump          \n",
      "\t-10.8728 * updat          \t\t -5.6644 * he             \n",
      "\t-10.7768 * suffici        \t\t -5.8585 * stupid         \n",
      "\t-10.7668 * the latter     \t\t -5.8966 * his            \n",
      "\t-10.7648 * the fund       \t\t -5.9671 * like           \n",
      "\t-10.7634 * risk of        \t\t -5.9859 * peopl          \n",
      "\t-10.7380 * entiti         \t\t -6.0399 * just           \n",
      "\t-10.7277 * rental         \t\t -6.0536 * who            \n",
      "\t-10.7122 * compani that   \t\t -6.0788 * no             \n",
      "\t-10.6975 * innov          \t\t -6.0881 * their          \n",
      "\t-10.6967 * tax is         \t\t -6.0970 * so             \n",
      "\t-10.6810 * year it        \t\t -6.1160 * will           \n",
      "\t-10.6797 * will still     \t\t -6.1346 * we             \n",
      "\t-10.6714 * exempt         \t\t -6.1460 * an             \n",
      "\t-10.6567 * in oregon      \t\t -6.1982 * about          \n",
      "\t-10.6563 * reduc the      \t\t -6.2093 * by             \n",
      "\t-10.6411 * of oil         \t\t -6.2136 * idiot          \n",
      "\t-10.6208 * the purpos     \t\t -6.2142 * get            \n",
      "\t-10.6207 * upper          \t\t -6.2542 * from           \n",
      "\t-10.6202 * than what      \t\t -6.2811 * out            \n"
     ]
    }
   ],
   "source": [
    "informative_features(vectorizer, nb_model)"
   ]
  },
  {
   "cell_type": "markdown",
   "metadata": {},
   "source": [
    "The left and right column shows keywords that contribute the most to predict as safe and toxic, respectively. Indeed some stopwords are a good predictor (his, will, an, by), so definitely we have to tailor which stopwords to be removed. Stopwords like \"the\" and \"of\" can still be removed, because they appeared in the list but does not contribute to the meaning itself (\"latter\" should suffice as a standalone token as it has the same meaning as \"the latter\")."
   ]
  },
  {
   "cell_type": "code",
   "execution_count": 32,
   "metadata": {},
   "outputs": [
    {
     "data": {
      "text/html": [
       "<div>\n",
       "<style scoped>\n",
       "    .dataframe tbody tr th:only-of-type {\n",
       "        vertical-align: middle;\n",
       "    }\n",
       "\n",
       "    .dataframe tbody tr th {\n",
       "        vertical-align: top;\n",
       "    }\n",
       "\n",
       "    .dataframe thead th {\n",
       "        text-align: right;\n",
       "    }\n",
       "</style>\n",
       "<table border=\"1\" class=\"dataframe\">\n",
       "  <thead>\n",
       "    <tr style=\"text-align: right;\">\n",
       "      <th></th>\n",
       "      <th>comment_text</th>\n",
       "      <th>target</th>\n",
       "      <th>toxicity_annotator_count</th>\n",
       "    </tr>\n",
       "  </thead>\n",
       "  <tbody>\n",
       "    <tr>\n",
       "      <th>1342734</th>\n",
       "      <td>China has not exactly been any American president's best friend when it comes to North Korea.  Obama actually accomplished a tad bit more than Bush.  It was Clinton that lost the best opportunity to actually be effective.  \\n\\nI have been watching the despicable events unfolding in Charlottesville, and once again the man you voted for refuses to identify white supremacy as a problem.  I really and truly pray that every white pro life Christian that voted for the supposedly 'pro life' president meditates on the license they have given for others to hate and hate and hate and be proud of their 'patriotic' hate.  Please don't ever again tell anyone here their 'hatred of Mr Trump color everything', when Trump supporters are marching to paint this country exclusively white.  The silence from the white Christian Trump supporter is as equally despicable as the virulent white men screaming 'blood and soil'.</td>\n",
       "      <td>0.000000</td>\n",
       "      <td>4</td>\n",
       "    </tr>\n",
       "    <tr>\n",
       "      <th>1766043</th>\n",
       "      <td>You're a stone-cold MO-Ron.</td>\n",
       "      <td>0.000000</td>\n",
       "      <td>4</td>\n",
       "    </tr>\n",
       "    <tr>\n",
       "      <th>1658663</th>\n",
       "      <td>There is no white supremacist in the White House.</td>\n",
       "      <td>0.000000</td>\n",
       "      <td>4</td>\n",
       "    </tr>\n",
       "    <tr>\n",
       "      <th>1729610</th>\n",
       "      <td>Not clowns?</td>\n",
       "      <td>0.000000</td>\n",
       "      <td>4</td>\n",
       "    </tr>\n",
       "    <tr>\n",
       "      <th>582489</th>\n",
       "      <td>the sooner the left wing nut jobs like you realize trump is going no where since the GOP are clearly with him the better you can start looking inward at the left's issues that are the ones needing to be \"Impeached\" from society.  the usa goes on regardless of the ignorance and hate left wingers live in</td>\n",
       "      <td>0.000000</td>\n",
       "      <td>4</td>\n",
       "    </tr>\n",
       "    <tr>\n",
       "      <th>908836</th>\n",
       "      <td>There was a small cohort of anarchist who split off, but far and away the marchers were orderly. You lie by omission, and for a partisan purpose. Here's the straight story about Trump rallies:  https://www.nytimes.com/video/us/politics/100000004533191/unfiltered-voices-from-donald-trumps-crowds.html\\nYou probably won't look at it this time, either, but these videos show how truly awful Trump's base is. Nonstop cursing, assaults, incredible stupidity and ignorance. You asked for it, you got it, you deserve it, Donald J Trump. The ignorance and brutish behavior of Trump's base is more than disgusting, it's unbelievable that such hate and filth can emanate from so many of our citizens. Go ahead Motley, watch the video. That's you screaming lunacy.</td>\n",
       "      <td>0.166667</td>\n",
       "      <td>6</td>\n",
       "    </tr>\n",
       "    <tr>\n",
       "      <th>1366618</th>\n",
       "      <td>Here's a letter for patriotic Americans to send to Trump:\\n\\nDear Mr. President,\\nI’m sickened by your behavior this past week. Your refusal to seriously denounce White Supremacists and Nazis is an embarrassment to this country.\\nThis is UNACCEPTABLE and UNAMERICAN.\\nThat’s why I’m sending this letter, calling for your immediate resignation.\\n\\nIf you don't resign, every bit of effort and every extra dollar I have will go towards destroying the Republican party and voting Democrats into office.\\nI reject your xenophobic, racist and sexist agenda. And I REFUSE to let your hateful and bigoted comments go unanswered. I am committed to fighting for what’s right, and that means making sure you and your Republican backers are voted out of office.\\n\\nYour shameful moral character and self-serving leadership makes you absolutely unfit to be President of the United States.\\n\\nYour presidency is an absolute disaster. And your power is coming to an end.\\n\\nSincerely,\\n\\nRTD</td>\n",
       "      <td>0.200000</td>\n",
       "      <td>10</td>\n",
       "    </tr>\n",
       "    <tr>\n",
       "      <th>1361316</th>\n",
       "      <td>Stop deflecting to the past.  You and everybody else with eyes know who now coddles and makes concessions to the KKK, neo-nazis and white supremacists.  Not every republican is a white supremacist, but every white supremacist is a republican!</td>\n",
       "      <td>0.200000</td>\n",
       "      <td>10</td>\n",
       "    </tr>\n",
       "    <tr>\n",
       "      <th>1289839</th>\n",
       "      <td>... WHAT A PHONEY LIAR FAKEY SPOILED BRAT 'christian' ...</td>\n",
       "      <td>0.254545</td>\n",
       "      <td>55</td>\n",
       "    </tr>\n",
       "    <tr>\n",
       "      <th>1053981</th>\n",
       "      <td>Crooked Jerk!</td>\n",
       "      <td>0.366667</td>\n",
       "      <td>60</td>\n",
       "    </tr>\n",
       "    <tr>\n",
       "      <th>1035772</th>\n",
       "      <td>Do you want a liar and leaker in the White House?</td>\n",
       "      <td>0.377049</td>\n",
       "      <td>61</td>\n",
       "    </tr>\n",
       "    <tr>\n",
       "      <th>932875</th>\n",
       "      <td>it is amazing that there are still some here full of hate brain washed by the bias nut job left , believing any nut job accuasion with no facts to support it , that keeps repeating the usual hate and lies,, You left wing nut jobs are the loose cannons we are laughing at</td>\n",
       "      <td>0.400000</td>\n",
       "      <td>10</td>\n",
       "    </tr>\n",
       "    <tr>\n",
       "      <th>1481127</th>\n",
       "      <td>Aw, more hurt feelings? \\n\\nI wouldn't say democrats hate white people. Just the white supremacists.</td>\n",
       "      <td>0.400000</td>\n",
       "      <td>10</td>\n",
       "    </tr>\n",
       "    <tr>\n",
       "      <th>1379096</th>\n",
       "      <td>Another sore loser piling on. Smh</td>\n",
       "      <td>0.400000</td>\n",
       "      <td>10</td>\n",
       "    </tr>\n",
       "    <tr>\n",
       "      <th>1365312</th>\n",
       "      <td>\"Racism is evil, and those who cause violence in its name are criminals and thugs, including the KKK, neo-Nazis and white supremacists and other hate groups that are repugnant to everything we hold dear as Americans,\" the president said from the White House.\\n\\nEnough said.  DNC Chair Tom Perez is delusional.</td>\n",
       "      <td>0.400000</td>\n",
       "      <td>10</td>\n",
       "    </tr>\n",
       "    <tr>\n",
       "      <th>1687789</th>\n",
       "      <td>Yeah.  Morons.  :-)</td>\n",
       "      <td>0.406780</td>\n",
       "      <td>59</td>\n",
       "    </tr>\n",
       "    <tr>\n",
       "      <th>691368</th>\n",
       "      <td>Effin moron....</td>\n",
       "      <td>0.453125</td>\n",
       "      <td>64</td>\n",
       "    </tr>\n",
       "    <tr>\n",
       "      <th>1425810</th>\n",
       "      <td>NO - everyone is not racist.  A child is not born racist.  Racism is learned and not equally across cultures, races or regions.  I was not taught racism.  In fact, I (caucasion) had a black doll in the 1950s. My parents encouraged me to play with the (few) black children in my school. They believed in equality.  I am not racist.  I do notice the color of skin and celebrate differences that can enrich us as a society.\\n\\nI also think immigrants are good for this country and dilute the hate and entitlement from white people.  Immigrants start businesses too while white people who voted for tRump think America should save them.\\n\\nYou accuse Ozy of \"intolerance and hatred\".  What I have noticed in you and your illegitimate President is that when someone throws out accusations - they are really the guilty ones.  tRump accuses the real media of fake news and lying when he is the perpetrator.  You accuse Ozy of hate and intolerance and racism when you are the one who appears to be that.</td>\n",
       "      <td>0.454545</td>\n",
       "      <td>11</td>\n",
       "    </tr>\n",
       "    <tr>\n",
       "      <th>1394576</th>\n",
       "      <td>do not forget the BLM and black panther groups they are just like the KKK and white supremacist except there black so now you have the black KKK and black supremacist so there all the same but different colored people.</td>\n",
       "      <td>0.472973</td>\n",
       "      <td>74</td>\n",
       "    </tr>\n",
       "    <tr>\n",
       "      <th>1356546</th>\n",
       "      <td>What do you expect,\\nDonald denounced \"all\" Racists and Haters\\nDonald being pressured to be PC specifically denounced White Racist and not the Black Racist and Haters of Free Speech!\\nDonald should have stuck to his guns grouping All racist and haters! that uses violence.</td>\n",
       "      <td>0.473684</td>\n",
       "      <td>76</td>\n",
       "    </tr>\n",
       "    <tr>\n",
       "      <th>1408589</th>\n",
       "      <td>Duh, yes a White Supremacist would be white. \\n\\nAnd a Black or Brown Supremacist would be black or brown. \\n\\nDang, you're just so smart, arncha?</td>\n",
       "      <td>0.475000</td>\n",
       "      <td>80</td>\n",
       "    </tr>\n",
       "    <tr>\n",
       "      <th>724263</th>\n",
       "      <td>White supremacist bigot works</td>\n",
       "      <td>0.475000</td>\n",
       "      <td>80</td>\n",
       "    </tr>\n",
       "    <tr>\n",
       "      <th>512417</th>\n",
       "      <td>Yes, it certainly does. Putrumpski is a pathological liar.  Tell me, Beav, what does that make him? Oh, and you and all the others who either know he's a pathological liar and voted for him anyway, or blindly believed every lie he spouted? Sad.</td>\n",
       "      <td>0.480000</td>\n",
       "      <td>75</td>\n",
       "    </tr>\n",
       "    <tr>\n",
       "      <th>696192</th>\n",
       "      <td>Trumpy the Clown killed RIngling Bros.</td>\n",
       "      <td>0.487500</td>\n",
       "      <td>80</td>\n",
       "    </tr>\n",
       "    <tr>\n",
       "      <th>1545752</th>\n",
       "      <td>Overpaid, childish, Morons</td>\n",
       "      <td>0.492958</td>\n",
       "      <td>71</td>\n",
       "    </tr>\n",
       "  </tbody>\n",
       "</table>\n",
       "</div>"
      ],
      "text/plain": [
       "                                                                                                                                                                                                                                                                                                                                                                                                                                                                                                                                                                                                                                                                                                                                                                                                                                                                                                                                                                                                                                comment_text            ...             toxicity_annotator_count\n",
       "1342734  China has not exactly been any American president's best friend when it comes to North Korea.  Obama actually accomplished a tad bit more than Bush.  It was Clinton that lost the best opportunity to actually be effective.  \\n\\nI have been watching the despicable events unfolding in Charlottesville, and once again the man you voted for refuses to identify white supremacy as a problem.  I really and truly pray that every white pro life Christian that voted for the supposedly 'pro life' president meditates on the license they have given for others to hate and hate and hate and be proud of their 'patriotic' hate.  Please don't ever again tell anyone here their 'hatred of Mr Trump color everything', when Trump supporters are marching to paint this country exclusively white.  The silence from the white Christian Trump supporter is as equally despicable as the virulent white men screaming 'blood and soil'.                                                                                               ...             4                       \n",
       "1766043  You're a stone-cold MO-Ron.                                                                                                                                                                                                                                                                                                                                                                                                                                                                                                                                                                                                                                                                                                                                                                                                                                                                                                                                                                                                                    ...             4                       \n",
       "1658663  There is no white supremacist in the White House.                                                                                                                                                                                                                                                                                                                                                                                                                                                                                                                                                                                                                                                                                                                                                                                                                                                                                                                                                                                              ...             4                       \n",
       "1729610  Not clowns?                                                                                                                                                                                                                                                                                                                                                                                                                                                                                                                                                                                                                                                                                                                                                                                                                                                                                                                                                                                                                                    ...             4                       \n",
       "582489   the sooner the left wing nut jobs like you realize trump is going no where since the GOP are clearly with him the better you can start looking inward at the left's issues that are the ones needing to be \"Impeached\" from society.  the usa goes on regardless of the ignorance and hate left wingers live in                                                                                                                                                                                                                                                                                                                                                                                                                                                                                                                                                                                                                                                                                                                                ...             4                       \n",
       "908836   There was a small cohort of anarchist who split off, but far and away the marchers were orderly. You lie by omission, and for a partisan purpose. Here's the straight story about Trump rallies:  https://www.nytimes.com/video/us/politics/100000004533191/unfiltered-voices-from-donald-trumps-crowds.html\\nYou probably won't look at it this time, either, but these videos show how truly awful Trump's base is. Nonstop cursing, assaults, incredible stupidity and ignorance. You asked for it, you got it, you deserve it, Donald J Trump. The ignorance and brutish behavior of Trump's base is more than disgusting, it's unbelievable that such hate and filth can emanate from so many of our citizens. Go ahead Motley, watch the video. That's you screaming lunacy.                                                                                                                                                                                                                                                             ...             6                       \n",
       "1366618  Here's a letter for patriotic Americans to send to Trump:\\n\\nDear Mr. President,\\nI’m sickened by your behavior this past week. Your refusal to seriously denounce White Supremacists and Nazis is an embarrassment to this country.\\nThis is UNACCEPTABLE and UNAMERICAN.\\nThat’s why I’m sending this letter, calling for your immediate resignation.\\n\\nIf you don't resign, every bit of effort and every extra dollar I have will go towards destroying the Republican party and voting Democrats into office.\\nI reject your xenophobic, racist and sexist agenda. And I REFUSE to let your hateful and bigoted comments go unanswered. I am committed to fighting for what’s right, and that means making sure you and your Republican backers are voted out of office.\\n\\nYour shameful moral character and self-serving leadership makes you absolutely unfit to be President of the United States.\\n\\nYour presidency is an absolute disaster. And your power is coming to an end.\\n\\nSincerely,\\n\\nRTD                              ...             10                      \n",
       "1361316  Stop deflecting to the past.  You and everybody else with eyes know who now coddles and makes concessions to the KKK, neo-nazis and white supremacists.  Not every republican is a white supremacist, but every white supremacist is a republican!                                                                                                                                                                                                                                                                                                                                                                                                                                                                                                                                                                                                                                                                                                                                                                                             ...             10                      \n",
       "1289839  ... WHAT A PHONEY LIAR FAKEY SPOILED BRAT 'christian' ...                                                                                                                                                                                                                                                                                                                                                                                                                                                                                                                                                                                                                                                                                                                                                                                                                                                                                                                                                                                      ...             55                      \n",
       "1053981  Crooked Jerk!                                                                                                                                                                                                                                                                                                                                                                                                                                                                                                                                                                                                                                                                                                                                                                                                                                                                                                                                                                                                                                  ...             60                      \n",
       "1035772  Do you want a liar and leaker in the White House?                                                                                                                                                                                                                                                                                                                                                                                                                                                                                                                                                                                                                                                                                                                                                                                                                                                                                                                                                                                              ...             61                      \n",
       "932875   it is amazing that there are still some here full of hate brain washed by the bias nut job left , believing any nut job accuasion with no facts to support it , that keeps repeating the usual hate and lies,, You left wing nut jobs are the loose cannons we are laughing at                                                                                                                                                                                                                                                                                                                                                                                                                                                                                                                                                                                                                                                                                                                                                                 ...             10                      \n",
       "1481127  Aw, more hurt feelings? \\n\\nI wouldn't say democrats hate white people. Just the white supremacists.                                                                                                                                                                                                                                                                                                                                                                                                                                                                                                                                                                                                                                                                                                                                                                                                                                                                                                                                           ...             10                      \n",
       "1379096  Another sore loser piling on. Smh                                                                                                                                                                                                                                                                                                                                                                                                                                                                                                                                                                                                                                                                                                                                                                                                                                                                                                                                                                                                              ...             10                      \n",
       "1365312  \"Racism is evil, and those who cause violence in its name are criminals and thugs, including the KKK, neo-Nazis and white supremacists and other hate groups that are repugnant to everything we hold dear as Americans,\" the president said from the White House.\\n\\nEnough said.  DNC Chair Tom Perez is delusional.                                                                                                                                                                                                                                                                                                                                                                                                                                                                                                                                                                                                                                                                                                                         ...             10                      \n",
       "1687789  Yeah.  Morons.  :-)                                                                                                                                                                                                                                                                                                                                                                                                                                                                                                                                                                                                                                                                                                                                                                                                                                                                                                                                                                                                                            ...             59                      \n",
       "691368   Effin moron....                                                                                                                                                                                                                                                                                                                                                                                                                                                                                                                                                                                                                                                                                                                                                                                                                                                                                                                                                                                                                                ...             64                      \n",
       "1425810  NO - everyone is not racist.  A child is not born racist.  Racism is learned and not equally across cultures, races or regions.  I was not taught racism.  In fact, I (caucasion) had a black doll in the 1950s. My parents encouraged me to play with the (few) black children in my school. They believed in equality.  I am not racist.  I do notice the color of skin and celebrate differences that can enrich us as a society.\\n\\nI also think immigrants are good for this country and dilute the hate and entitlement from white people.  Immigrants start businesses too while white people who voted for tRump think America should save them.\\n\\nYou accuse Ozy of \"intolerance and hatred\".  What I have noticed in you and your illegitimate President is that when someone throws out accusations - they are really the guilty ones.  tRump accuses the real media of fake news and lying when he is the perpetrator.  You accuse Ozy of hate and intolerance and racism when you are the one who appears to be that.            ...             11                      \n",
       "1394576  do not forget the BLM and black panther groups they are just like the KKK and white supremacist except there black so now you have the black KKK and black supremacist so there all the same but different colored people.                                                                                                                                                                                                                                                                                                                                                                                                                                                                                                                                                                                                                                                                                                                                                                                                                     ...             74                      \n",
       "1356546  What do you expect,\\nDonald denounced \"all\" Racists and Haters\\nDonald being pressured to be PC specifically denounced White Racist and not the Black Racist and Haters of Free Speech!\\nDonald should have stuck to his guns grouping All racist and haters! that uses violence.                                                                                                                                                                                                                                                                                                                                                                                                                                                                                                                                                                                                                                                                                                                                                              ...             76                      \n",
       "1408589  Duh, yes a White Supremacist would be white. \\n\\nAnd a Black or Brown Supremacist would be black or brown. \\n\\nDang, you're just so smart, arncha?                                                                                                                                                                                                                                                                                                                                                                                                                                                                                                                                                                                                                                                                                                                                                                                                                                                                                             ...             80                      \n",
       "724263   White supremacist bigot works                                                                                                                                                                                                                                                                                                                                                                                                                                                                                                                                                                                                                                                                                                                                                                                                                                                                                                                                                                                                                  ...             80                      \n",
       "512417   Yes, it certainly does. Putrumpski is a pathological liar.  Tell me, Beav, what does that make him? Oh, and you and all the others who either know he's a pathological liar and voted for him anyway, or blindly believed every lie he spouted? Sad.                                                                                                                                                                                                                                                                                                                                                                                                                                                                                                                                                                                                                                                                                                                                                                                           ...             75                      \n",
       "696192   Trumpy the Clown killed RIngling Bros.                                                                                                                                                                                                                                                                                                                                                                                                                                                                                                                                                                                                                                                                                                                                                                                                                                                                                                                                                                                                         ...             80                      \n",
       "1545752  Overpaid, childish, Morons                                                                                                                                                                                                                                                                                                                                                                                                                                                                                                                                                                                                                                                                                                                                                                                                                                                                                                                                                                                                                     ...             71                      \n",
       "\n",
       "[25 rows x 3 columns]"
      ]
     },
     "execution_count": 32,
     "metadata": {},
     "output_type": "execute_result"
    }
   ],
   "source": [
    "pred_df = pd.DataFrame()\n",
    "pred_df['true'] = y_test.astype(int)\n",
    "pred_df['prob'] = y_prob_nb\n",
    "fp_indices = pred_df[(pred_df['true'] == 0) & (pred_df['prob'] >= 0.5)]['prob'].sort_values(ascending=False).index\n",
    "tp_indices = pred_df[(pred_df['true'] == 0) & (pred_df['prob'] < 0.5)]['prob'].index\n",
    "comment_df.loc[fp_indices[:25]][['comment_text', 'target', 'toxicity_annotator_count']].sort_values(['target'])"
   ]
  },
  {
   "cell_type": "markdown",
   "metadata": {},
   "source": [
    "Looking at some examples of false positive, we can observe some comments that have arguable target value. I cannot understand why \"Effin moron\" and \"Crooked Jerk!\" are not considered toxic comments. Even a comment like \"You're a stone-cold MO-Ron.\" has a target value of 0. Those might suggest that we have to take extra measure in cleaning the dataset.\n",
    "\n",
    "We can also see comments that have target value really close to the toxic threshold (0.5) have be rounded as \"safe\" comments questionably. \"Overpaid, childish, morons\" is definitely an insult, but still half of 71 annotators considered it to be safe. As the data is imbalanced, it is considerable to neglect comments with doubtful target value during training, maybe it is good to ignore comments that has value between 0.4 to 0.6.\n",
    "\n",
    "Finally, we can see the \"biased\" classification of a comment if we are using keyword-based modeling. As this competition suggested, using keywords only is not sufficient to predict toxic comments. Many safe comments are labelled as toxic due to the keywords, while it really depends on the context. \"There is no white supremacist in the White House.\" is an excellent example of a safe comment (target value = 0) that might be mis-classified due to 2 occurrences of \"white\" word. And we know that this is a difficult task when the model is only presented with a two-word comment \"Not clowns?\" and asked to determine whether it is toxic or not without any additional context when the word \"clown\" is used in other comments with a mixed sentiment. Hard, even for sequence-based models. Or is it?"
   ]
  },
  {
   "cell_type": "markdown",
   "metadata": {},
   "source": [
    "# 4. Lesson Learned"
   ]
  },
  {
   "cell_type": "markdown",
   "metadata": {},
   "source": [
    "These are the key insights I have gathered from this EDA that should help during preprocessing and when building the actual model:\n",
    "1. We are dealing with imbalanced dataset (92% vs 8%). I do not see any public kernels talk about how to handle this issue (or if we **should** handle this issue).\n",
    "2. There is a correlation between the number of annotators and the toxicity value, which might suggest to take number of annotators into account during training. Not as feature, of course, because the test set does not provide the number of annotators. It can be useful as a sample-weighting method.\n",
    "3. The most popular toxic subtypes is insult, it dominates other subtypes. Even more intriguing, it has a (really) high correlation with target value, which bear a thought if the toxic definition in this dataset is actually \"insulting\".\n",
    "4. Identity attributes are not helpful to predict target value due to the low label availability and absence of correlation.\n",
    "5. There is a negligible difference in comment length, capital letters proportion, and alpha-numeric occurrence between toxic and safe comments. One can consider to do lowercase transformation and remove punctuations.\n",
    "6. Some measurement into preprocessing: Don't remove digits (rather, replace to a \"DIGIT\" token, for example). It is an indication of a safe comment. Also, not all stopwords should be removed.\n",
    "7. Some comments have a questionable target value, which means cleaning the (noisy) dataset is important before training the model. How to detect them? This is a subject for another kernel.\n",
    "8. Comments with target value in the edge of the threshold is not reliable, consider ignoring comments with target value too close to 0.5. Or better yet, train a separate model to identify this (Ensemble?)."
   ]
  },
  {
   "cell_type": "markdown",
   "metadata": {},
   "source": [
    "**FIN**: If you find anything wrong with my approach or something can be improved, kindly write in the comment below. All comments are welcome, but no toxic comments please ;)"
   ]
  }
 ],
 "metadata": {
  "kernelspec": {
   "display_name": "Python 3",
   "language": "python",
   "name": "python3"
  },
  "language_info": {
   "codemirror_mode": {
    "name": "ipython",
    "version": 3
   },
   "file_extension": ".py",
   "mimetype": "text/x-python",
   "name": "python",
   "nbconvert_exporter": "python",
   "pygments_lexer": "ipython3",
   "version": "3.6.6"
  },
  "widgets": {
   "application/vnd.jupyter.widget-state+json": {
    "state": {
     "0da976072bba49ceb004339a94c1f0b1": {
      "model_module": "@jupyter-widgets/controls",
      "model_module_version": "1.4.0",
      "model_name": "ProgressStyleModel",
      "state": {
       "_model_module": "@jupyter-widgets/controls",
       "_model_module_version": "1.4.0",
       "_model_name": "ProgressStyleModel",
       "_view_count": null,
       "_view_module": "@jupyter-widgets/base",
       "_view_module_version": "1.1.0",
       "_view_name": "StyleView",
       "bar_color": null,
       "description_width": ""
      }
     },
     "1b52ae12e1db429898ba847fc255a208": {
      "model_module": "@jupyter-widgets/controls",
      "model_module_version": "1.4.0",
      "model_name": "IntProgressModel",
      "state": {
       "_dom_classes": [],
       "_model_module": "@jupyter-widgets/controls",
       "_model_module_version": "1.4.0",
       "_model_name": "IntProgressModel",
       "_view_count": null,
       "_view_module": "@jupyter-widgets/controls",
       "_view_module_version": "1.4.0",
       "_view_name": "ProgressView",
       "bar_style": "success",
       "description": "",
       "description_tooltip": null,
       "layout": "IPY_MODEL_40a474c262d9456fb18db6a02328bfdc",
       "max": 1804874,
       "min": 0,
       "orientation": "horizontal",
       "style": "IPY_MODEL_91ebdde0685949438a6a82ac599b71a3",
       "value": 1804874
      }
     },
     "1e617e25d93b4fbcba135bc5ab9fcc75": {
      "model_module": "@jupyter-widgets/base",
      "model_module_version": "1.1.0",
      "model_name": "LayoutModel",
      "state": {
       "_model_module": "@jupyter-widgets/base",
       "_model_module_version": "1.1.0",
       "_model_name": "LayoutModel",
       "_view_count": null,
       "_view_module": "@jupyter-widgets/base",
       "_view_module_version": "1.1.0",
       "_view_name": "LayoutView",
       "align_content": null,
       "align_items": null,
       "align_self": null,
       "border": null,
       "bottom": null,
       "display": null,
       "flex": null,
       "flex_flow": null,
       "grid_area": null,
       "grid_auto_columns": null,
       "grid_auto_flow": null,
       "grid_auto_rows": null,
       "grid_column": null,
       "grid_gap": null,
       "grid_row": null,
       "grid_template_areas": null,
       "grid_template_columns": null,
       "grid_template_rows": null,
       "height": null,
       "justify_content": null,
       "left": null,
       "margin": null,
       "max_height": null,
       "max_width": null,
       "min_height": null,
       "min_width": null,
       "order": null,
       "overflow": null,
       "overflow_x": null,
       "overflow_y": null,
       "padding": null,
       "right": null,
       "top": null,
       "visibility": null,
       "width": null
      }
     },
     "213157d3d48e4a1681ff8bda153caa0c": {
      "model_module": "@jupyter-widgets/controls",
      "model_module_version": "1.4.0",
      "model_name": "HTMLModel",
      "state": {
       "_dom_classes": [],
       "_model_module": "@jupyter-widgets/controls",
       "_model_module_version": "1.4.0",
       "_model_name": "HTMLModel",
       "_view_count": null,
       "_view_module": "@jupyter-widgets/controls",
       "_view_module_version": "1.4.0",
       "_view_name": "HTMLView",
       "description": "",
       "description_tooltip": null,
       "layout": "IPY_MODEL_2d46a1f5cdf84032877bc08eae408df8",
       "placeholder": "​",
       "style": "IPY_MODEL_8604cb7182df45a7a1676d6b3ece8faf",
       "value": "100% 1804874/1804874 [00:04&lt;00:00, 394249.41it/s]"
      }
     },
     "26cfc353632942199bc5beed0eb9a43d": {
      "model_module": "@jupyter-widgets/controls",
      "model_module_version": "1.4.0",
      "model_name": "DescriptionStyleModel",
      "state": {
       "_model_module": "@jupyter-widgets/controls",
       "_model_module_version": "1.4.0",
       "_model_name": "DescriptionStyleModel",
       "_view_count": null,
       "_view_module": "@jupyter-widgets/base",
       "_view_module_version": "1.1.0",
       "_view_name": "StyleView",
       "description_width": ""
      }
     },
     "2d46a1f5cdf84032877bc08eae408df8": {
      "model_module": "@jupyter-widgets/base",
      "model_module_version": "1.1.0",
      "model_name": "LayoutModel",
      "state": {
       "_model_module": "@jupyter-widgets/base",
       "_model_module_version": "1.1.0",
       "_model_name": "LayoutModel",
       "_view_count": null,
       "_view_module": "@jupyter-widgets/base",
       "_view_module_version": "1.1.0",
       "_view_name": "LayoutView",
       "align_content": null,
       "align_items": null,
       "align_self": null,
       "border": null,
       "bottom": null,
       "display": null,
       "flex": null,
       "flex_flow": null,
       "grid_area": null,
       "grid_auto_columns": null,
       "grid_auto_flow": null,
       "grid_auto_rows": null,
       "grid_column": null,
       "grid_gap": null,
       "grid_row": null,
       "grid_template_areas": null,
       "grid_template_columns": null,
       "grid_template_rows": null,
       "height": null,
       "justify_content": null,
       "left": null,
       "margin": null,
       "max_height": null,
       "max_width": null,
       "min_height": null,
       "min_width": null,
       "order": null,
       "overflow": null,
       "overflow_x": null,
       "overflow_y": null,
       "padding": null,
       "right": null,
       "top": null,
       "visibility": null,
       "width": null
      }
     },
     "3019e79c5eda4d29aa603a7813030e51": {
      "model_module": "@jupyter-widgets/controls",
      "model_module_version": "1.4.0",
      "model_name": "HBoxModel",
      "state": {
       "_dom_classes": [],
       "_model_module": "@jupyter-widgets/controls",
       "_model_module_version": "1.4.0",
       "_model_name": "HBoxModel",
       "_view_count": null,
       "_view_module": "@jupyter-widgets/controls",
       "_view_module_version": "1.4.0",
       "_view_name": "HBoxView",
       "box_style": "",
       "children": [
        "IPY_MODEL_d2600793acbb42bcb829175e8c7c44f8",
        "IPY_MODEL_469ad567d504422799b01643da10b1b4"
       ],
       "layout": "IPY_MODEL_89b07fb812d44e638d8fcbfbfb65cfea"
      }
     },
     "32d16e62a89f4581a6ca2bdef054ab57": {
      "model_module": "@jupyter-widgets/base",
      "model_module_version": "1.1.0",
      "model_name": "LayoutModel",
      "state": {
       "_model_module": "@jupyter-widgets/base",
       "_model_module_version": "1.1.0",
       "_model_name": "LayoutModel",
       "_view_count": null,
       "_view_module": "@jupyter-widgets/base",
       "_view_module_version": "1.1.0",
       "_view_name": "LayoutView",
       "align_content": null,
       "align_items": null,
       "align_self": null,
       "border": null,
       "bottom": null,
       "display": null,
       "flex": null,
       "flex_flow": null,
       "grid_area": null,
       "grid_auto_columns": null,
       "grid_auto_flow": null,
       "grid_auto_rows": null,
       "grid_column": null,
       "grid_gap": null,
       "grid_row": null,
       "grid_template_areas": null,
       "grid_template_columns": null,
       "grid_template_rows": null,
       "height": null,
       "justify_content": null,
       "left": null,
       "margin": null,
       "max_height": null,
       "max_width": null,
       "min_height": null,
       "min_width": null,
       "order": null,
       "overflow": null,
       "overflow_x": null,
       "overflow_y": null,
       "padding": null,
       "right": null,
       "top": null,
       "visibility": null,
       "width": null
      }
     },
     "36461bd241f9426cbb6c1261a6c78434": {
      "model_module": "@jupyter-widgets/controls",
      "model_module_version": "1.4.0",
      "model_name": "IntProgressModel",
      "state": {
       "_dom_classes": [],
       "_model_module": "@jupyter-widgets/controls",
       "_model_module_version": "1.4.0",
       "_model_name": "IntProgressModel",
       "_view_count": null,
       "_view_module": "@jupyter-widgets/controls",
       "_view_module_version": "1.4.0",
       "_view_name": "ProgressView",
       "bar_style": "success",
       "description": "",
       "description_tooltip": null,
       "layout": "IPY_MODEL_c082c0245b784e8784419c9dd8e39334",
       "max": 1804874,
       "min": 0,
       "orientation": "horizontal",
       "style": "IPY_MODEL_0da976072bba49ceb004339a94c1f0b1",
       "value": 1804874
      }
     },
     "3ac16ee44bfd4128be0d92e9bf5a518e": {
      "model_module": "@jupyter-widgets/controls",
      "model_module_version": "1.4.0",
      "model_name": "IntProgressModel",
      "state": {
       "_dom_classes": [],
       "_model_module": "@jupyter-widgets/controls",
       "_model_module_version": "1.4.0",
       "_model_name": "IntProgressModel",
       "_view_count": null,
       "_view_module": "@jupyter-widgets/controls",
       "_view_module_version": "1.4.0",
       "_view_name": "ProgressView",
       "bar_style": "success",
       "description": "",
       "description_tooltip": null,
       "layout": "IPY_MODEL_cbc1cbbba9e144be82e86d60b5af50c6",
       "max": 1804874,
       "min": 0,
       "orientation": "horizontal",
       "style": "IPY_MODEL_4f7e6a87c5c64c5abb4c3aeb5184a15c",
       "value": 1804874
      }
     },
     "40a474c262d9456fb18db6a02328bfdc": {
      "model_module": "@jupyter-widgets/base",
      "model_module_version": "1.1.0",
      "model_name": "LayoutModel",
      "state": {
       "_model_module": "@jupyter-widgets/base",
       "_model_module_version": "1.1.0",
       "_model_name": "LayoutModel",
       "_view_count": null,
       "_view_module": "@jupyter-widgets/base",
       "_view_module_version": "1.1.0",
       "_view_name": "LayoutView",
       "align_content": null,
       "align_items": null,
       "align_self": null,
       "border": null,
       "bottom": null,
       "display": null,
       "flex": null,
       "flex_flow": null,
       "grid_area": null,
       "grid_auto_columns": null,
       "grid_auto_flow": null,
       "grid_auto_rows": null,
       "grid_column": null,
       "grid_gap": null,
       "grid_row": null,
       "grid_template_areas": null,
       "grid_template_columns": null,
       "grid_template_rows": null,
       "height": null,
       "justify_content": null,
       "left": null,
       "margin": null,
       "max_height": null,
       "max_width": null,
       "min_height": null,
       "min_width": null,
       "order": null,
       "overflow": null,
       "overflow_x": null,
       "overflow_y": null,
       "padding": null,
       "right": null,
       "top": null,
       "visibility": null,
       "width": null
      }
     },
     "427d107b40a346258345790b49bbbaa3": {
      "model_module": "@jupyter-widgets/controls",
      "model_module_version": "1.4.0",
      "model_name": "ProgressStyleModel",
      "state": {
       "_model_module": "@jupyter-widgets/controls",
       "_model_module_version": "1.4.0",
       "_model_name": "ProgressStyleModel",
       "_view_count": null,
       "_view_module": "@jupyter-widgets/base",
       "_view_module_version": "1.1.0",
       "_view_name": "StyleView",
       "bar_color": null,
       "description_width": ""
      }
     },
     "469ad567d504422799b01643da10b1b4": {
      "model_module": "@jupyter-widgets/controls",
      "model_module_version": "1.4.0",
      "model_name": "HTMLModel",
      "state": {
       "_dom_classes": [],
       "_model_module": "@jupyter-widgets/controls",
       "_model_module_version": "1.4.0",
       "_model_name": "HTMLModel",
       "_view_count": null,
       "_view_module": "@jupyter-widgets/controls",
       "_view_module_version": "1.4.0",
       "_view_name": "HTMLView",
       "description": "",
       "description_tooltip": null,
       "layout": "IPY_MODEL_e2dd14b14d014e3d8d4db45ed94a53ef",
       "placeholder": "​",
       "style": "IPY_MODEL_9aaeb0063fb64888ad8416334d70293a",
       "value": "100% 1804874/1804874 [01:50&lt;00:00, 16260.82it/s]"
      }
     },
     "4f7e6a87c5c64c5abb4c3aeb5184a15c": {
      "model_module": "@jupyter-widgets/controls",
      "model_module_version": "1.4.0",
      "model_name": "ProgressStyleModel",
      "state": {
       "_model_module": "@jupyter-widgets/controls",
       "_model_module_version": "1.4.0",
       "_model_name": "ProgressStyleModel",
       "_view_count": null,
       "_view_module": "@jupyter-widgets/base",
       "_view_module_version": "1.1.0",
       "_view_name": "StyleView",
       "bar_color": null,
       "description_width": ""
      }
     },
     "560fec443f6e45c68b56e497e1f4122f": {
      "model_module": "@jupyter-widgets/base",
      "model_module_version": "1.1.0",
      "model_name": "LayoutModel",
      "state": {
       "_model_module": "@jupyter-widgets/base",
       "_model_module_version": "1.1.0",
       "_model_name": "LayoutModel",
       "_view_count": null,
       "_view_module": "@jupyter-widgets/base",
       "_view_module_version": "1.1.0",
       "_view_name": "LayoutView",
       "align_content": null,
       "align_items": null,
       "align_self": null,
       "border": null,
       "bottom": null,
       "display": null,
       "flex": null,
       "flex_flow": null,
       "grid_area": null,
       "grid_auto_columns": null,
       "grid_auto_flow": null,
       "grid_auto_rows": null,
       "grid_column": null,
       "grid_gap": null,
       "grid_row": null,
       "grid_template_areas": null,
       "grid_template_columns": null,
       "grid_template_rows": null,
       "height": null,
       "justify_content": null,
       "left": null,
       "margin": null,
       "max_height": null,
       "max_width": null,
       "min_height": null,
       "min_width": null,
       "order": null,
       "overflow": null,
       "overflow_x": null,
       "overflow_y": null,
       "padding": null,
       "right": null,
       "top": null,
       "visibility": null,
       "width": null
      }
     },
     "5887e6c7a63844c286d8ae4e9a5ad1ab": {
      "model_module": "@jupyter-widgets/controls",
      "model_module_version": "1.4.0",
      "model_name": "HTMLModel",
      "state": {
       "_dom_classes": [],
       "_model_module": "@jupyter-widgets/controls",
       "_model_module_version": "1.4.0",
       "_model_name": "HTMLModel",
       "_view_count": null,
       "_view_module": "@jupyter-widgets/controls",
       "_view_module_version": "1.4.0",
       "_view_name": "HTMLView",
       "description": "",
       "description_tooltip": null,
       "layout": "IPY_MODEL_9c59e61bd77e47148074d2022cbffce0",
       "placeholder": "​",
       "style": "IPY_MODEL_cb060c0709c04ae1a8a4336ab74a0502",
       "value": "100% 433002/433002 [05:21&lt;00:00, 1345.02it/s]"
      }
     },
     "5a3fab02d7b245798266289e479b63a8": {
      "model_module": "@jupyter-widgets/base",
      "model_module_version": "1.1.0",
      "model_name": "LayoutModel",
      "state": {
       "_model_module": "@jupyter-widgets/base",
       "_model_module_version": "1.1.0",
       "_model_name": "LayoutModel",
       "_view_count": null,
       "_view_module": "@jupyter-widgets/base",
       "_view_module_version": "1.1.0",
       "_view_name": "LayoutView",
       "align_content": null,
       "align_items": null,
       "align_self": null,
       "border": null,
       "bottom": null,
       "display": null,
       "flex": null,
       "flex_flow": null,
       "grid_area": null,
       "grid_auto_columns": null,
       "grid_auto_flow": null,
       "grid_auto_rows": null,
       "grid_column": null,
       "grid_gap": null,
       "grid_row": null,
       "grid_template_areas": null,
       "grid_template_columns": null,
       "grid_template_rows": null,
       "height": null,
       "justify_content": null,
       "left": null,
       "margin": null,
       "max_height": null,
       "max_width": null,
       "min_height": null,
       "min_width": null,
       "order": null,
       "overflow": null,
       "overflow_x": null,
       "overflow_y": null,
       "padding": null,
       "right": null,
       "top": null,
       "visibility": null,
       "width": null
      }
     },
     "72f08a478e224d3ead838333f6fabdc8": {
      "model_module": "@jupyter-widgets/base",
      "model_module_version": "1.1.0",
      "model_name": "LayoutModel",
      "state": {
       "_model_module": "@jupyter-widgets/base",
       "_model_module_version": "1.1.0",
       "_model_name": "LayoutModel",
       "_view_count": null,
       "_view_module": "@jupyter-widgets/base",
       "_view_module_version": "1.1.0",
       "_view_name": "LayoutView",
       "align_content": null,
       "align_items": null,
       "align_self": null,
       "border": null,
       "bottom": null,
       "display": null,
       "flex": null,
       "flex_flow": null,
       "grid_area": null,
       "grid_auto_columns": null,
       "grid_auto_flow": null,
       "grid_auto_rows": null,
       "grid_column": null,
       "grid_gap": null,
       "grid_row": null,
       "grid_template_areas": null,
       "grid_template_columns": null,
       "grid_template_rows": null,
       "height": null,
       "justify_content": null,
       "left": null,
       "margin": null,
       "max_height": null,
       "max_width": null,
       "min_height": null,
       "min_width": null,
       "order": null,
       "overflow": null,
       "overflow_x": null,
       "overflow_y": null,
       "padding": null,
       "right": null,
       "top": null,
       "visibility": null,
       "width": null
      }
     },
     "795a77e0c4744e099aeaea2b817b20a6": {
      "model_module": "@jupyter-widgets/controls",
      "model_module_version": "1.4.0",
      "model_name": "HTMLModel",
      "state": {
       "_dom_classes": [],
       "_model_module": "@jupyter-widgets/controls",
       "_model_module_version": "1.4.0",
       "_model_name": "HTMLModel",
       "_view_count": null,
       "_view_module": "@jupyter-widgets/controls",
       "_view_module_version": "1.4.0",
       "_view_name": "HTMLView",
       "description": "",
       "description_tooltip": null,
       "layout": "IPY_MODEL_560fec443f6e45c68b56e497e1f4122f",
       "placeholder": "​",
       "style": "IPY_MODEL_a83c92065bb54ac2bf70dc29afe9543f",
       "value": " 94% 1693427/1804874 [04:44&lt;00:17, 6412.21it/s]"
      }
     },
     "8604cb7182df45a7a1676d6b3ece8faf": {
      "model_module": "@jupyter-widgets/controls",
      "model_module_version": "1.4.0",
      "model_name": "DescriptionStyleModel",
      "state": {
       "_model_module": "@jupyter-widgets/controls",
       "_model_module_version": "1.4.0",
       "_model_name": "DescriptionStyleModel",
       "_view_count": null,
       "_view_module": "@jupyter-widgets/base",
       "_view_module_version": "1.1.0",
       "_view_name": "StyleView",
       "description_width": ""
      }
     },
     "89b07fb812d44e638d8fcbfbfb65cfea": {
      "model_module": "@jupyter-widgets/base",
      "model_module_version": "1.1.0",
      "model_name": "LayoutModel",
      "state": {
       "_model_module": "@jupyter-widgets/base",
       "_model_module_version": "1.1.0",
       "_model_name": "LayoutModel",
       "_view_count": null,
       "_view_module": "@jupyter-widgets/base",
       "_view_module_version": "1.1.0",
       "_view_name": "LayoutView",
       "align_content": null,
       "align_items": null,
       "align_self": null,
       "border": null,
       "bottom": null,
       "display": null,
       "flex": null,
       "flex_flow": null,
       "grid_area": null,
       "grid_auto_columns": null,
       "grid_auto_flow": null,
       "grid_auto_rows": null,
       "grid_column": null,
       "grid_gap": null,
       "grid_row": null,
       "grid_template_areas": null,
       "grid_template_columns": null,
       "grid_template_rows": null,
       "height": null,
       "justify_content": null,
       "left": null,
       "margin": null,
       "max_height": null,
       "max_width": null,
       "min_height": null,
       "min_width": null,
       "order": null,
       "overflow": null,
       "overflow_x": null,
       "overflow_y": null,
       "padding": null,
       "right": null,
       "top": null,
       "visibility": null,
       "width": null
      }
     },
     "8d6c776b415f4e2aace6ea99a852366c": {
      "model_module": "@jupyter-widgets/base",
      "model_module_version": "1.1.0",
      "model_name": "LayoutModel",
      "state": {
       "_model_module": "@jupyter-widgets/base",
       "_model_module_version": "1.1.0",
       "_model_name": "LayoutModel",
       "_view_count": null,
       "_view_module": "@jupyter-widgets/base",
       "_view_module_version": "1.1.0",
       "_view_name": "LayoutView",
       "align_content": null,
       "align_items": null,
       "align_self": null,
       "border": null,
       "bottom": null,
       "display": null,
       "flex": null,
       "flex_flow": null,
       "grid_area": null,
       "grid_auto_columns": null,
       "grid_auto_flow": null,
       "grid_auto_rows": null,
       "grid_column": null,
       "grid_gap": null,
       "grid_row": null,
       "grid_template_areas": null,
       "grid_template_columns": null,
       "grid_template_rows": null,
       "height": null,
       "justify_content": null,
       "left": null,
       "margin": null,
       "max_height": null,
       "max_width": null,
       "min_height": null,
       "min_width": null,
       "order": null,
       "overflow": null,
       "overflow_x": null,
       "overflow_y": null,
       "padding": null,
       "right": null,
       "top": null,
       "visibility": null,
       "width": null
      }
     },
     "90f4977402fe4f149b8df09eeb8fc484": {
      "model_module": "@jupyter-widgets/base",
      "model_module_version": "1.1.0",
      "model_name": "LayoutModel",
      "state": {
       "_model_module": "@jupyter-widgets/base",
       "_model_module_version": "1.1.0",
       "_model_name": "LayoutModel",
       "_view_count": null,
       "_view_module": "@jupyter-widgets/base",
       "_view_module_version": "1.1.0",
       "_view_name": "LayoutView",
       "align_content": null,
       "align_items": null,
       "align_self": null,
       "border": null,
       "bottom": null,
       "display": null,
       "flex": null,
       "flex_flow": null,
       "grid_area": null,
       "grid_auto_columns": null,
       "grid_auto_flow": null,
       "grid_auto_rows": null,
       "grid_column": null,
       "grid_gap": null,
       "grid_row": null,
       "grid_template_areas": null,
       "grid_template_columns": null,
       "grid_template_rows": null,
       "height": null,
       "justify_content": null,
       "left": null,
       "margin": null,
       "max_height": null,
       "max_width": null,
       "min_height": null,
       "min_width": null,
       "order": null,
       "overflow": null,
       "overflow_x": null,
       "overflow_y": null,
       "padding": null,
       "right": null,
       "top": null,
       "visibility": null,
       "width": null
      }
     },
     "91ebdde0685949438a6a82ac599b71a3": {
      "model_module": "@jupyter-widgets/controls",
      "model_module_version": "1.4.0",
      "model_name": "ProgressStyleModel",
      "state": {
       "_model_module": "@jupyter-widgets/controls",
       "_model_module_version": "1.4.0",
       "_model_name": "ProgressStyleModel",
       "_view_count": null,
       "_view_module": "@jupyter-widgets/base",
       "_view_module_version": "1.1.0",
       "_view_name": "StyleView",
       "bar_color": null,
       "description_width": ""
      }
     },
     "95ce6517779b4af19a27fdb13894e3f6": {
      "model_module": "@jupyter-widgets/controls",
      "model_module_version": "1.4.0",
      "model_name": "HBoxModel",
      "state": {
       "_dom_classes": [],
       "_model_module": "@jupyter-widgets/controls",
       "_model_module_version": "1.4.0",
       "_model_name": "HBoxModel",
       "_view_count": null,
       "_view_module": "@jupyter-widgets/controls",
       "_view_module_version": "1.4.0",
       "_view_name": "HBoxView",
       "box_style": "",
       "children": [
        "IPY_MODEL_36461bd241f9426cbb6c1261a6c78434",
        "IPY_MODEL_dbc9cf3210e64aba829320d4fe8a9238"
       ],
       "layout": "IPY_MODEL_9a4f03114391474fbea968f064ad906b"
      }
     },
     "9603487f220a4c2985bc0f893ada060b": {
      "model_module": "@jupyter-widgets/controls",
      "model_module_version": "1.4.0",
      "model_name": "DescriptionStyleModel",
      "state": {
       "_model_module": "@jupyter-widgets/controls",
       "_model_module_version": "1.4.0",
       "_model_name": "DescriptionStyleModel",
       "_view_count": null,
       "_view_module": "@jupyter-widgets/base",
       "_view_module_version": "1.1.0",
       "_view_name": "StyleView",
       "description_width": ""
      }
     },
     "982c795479be4574acd8947aaf0b71b6": {
      "model_module": "@jupyter-widgets/base",
      "model_module_version": "1.1.0",
      "model_name": "LayoutModel",
      "state": {
       "_model_module": "@jupyter-widgets/base",
       "_model_module_version": "1.1.0",
       "_model_name": "LayoutModel",
       "_view_count": null,
       "_view_module": "@jupyter-widgets/base",
       "_view_module_version": "1.1.0",
       "_view_name": "LayoutView",
       "align_content": null,
       "align_items": null,
       "align_self": null,
       "border": null,
       "bottom": null,
       "display": null,
       "flex": null,
       "flex_flow": null,
       "grid_area": null,
       "grid_auto_columns": null,
       "grid_auto_flow": null,
       "grid_auto_rows": null,
       "grid_column": null,
       "grid_gap": null,
       "grid_row": null,
       "grid_template_areas": null,
       "grid_template_columns": null,
       "grid_template_rows": null,
       "height": null,
       "justify_content": null,
       "left": null,
       "margin": null,
       "max_height": null,
       "max_width": null,
       "min_height": null,
       "min_width": null,
       "order": null,
       "overflow": null,
       "overflow_x": null,
       "overflow_y": null,
       "padding": null,
       "right": null,
       "top": null,
       "visibility": null,
       "width": null
      }
     },
     "9a4f03114391474fbea968f064ad906b": {
      "model_module": "@jupyter-widgets/base",
      "model_module_version": "1.1.0",
      "model_name": "LayoutModel",
      "state": {
       "_model_module": "@jupyter-widgets/base",
       "_model_module_version": "1.1.0",
       "_model_name": "LayoutModel",
       "_view_count": null,
       "_view_module": "@jupyter-widgets/base",
       "_view_module_version": "1.1.0",
       "_view_name": "LayoutView",
       "align_content": null,
       "align_items": null,
       "align_self": null,
       "border": null,
       "bottom": null,
       "display": null,
       "flex": null,
       "flex_flow": null,
       "grid_area": null,
       "grid_auto_columns": null,
       "grid_auto_flow": null,
       "grid_auto_rows": null,
       "grid_column": null,
       "grid_gap": null,
       "grid_row": null,
       "grid_template_areas": null,
       "grid_template_columns": null,
       "grid_template_rows": null,
       "height": null,
       "justify_content": null,
       "left": null,
       "margin": null,
       "max_height": null,
       "max_width": null,
       "min_height": null,
       "min_width": null,
       "order": null,
       "overflow": null,
       "overflow_x": null,
       "overflow_y": null,
       "padding": null,
       "right": null,
       "top": null,
       "visibility": null,
       "width": null
      }
     },
     "9aaeb0063fb64888ad8416334d70293a": {
      "model_module": "@jupyter-widgets/controls",
      "model_module_version": "1.4.0",
      "model_name": "DescriptionStyleModel",
      "state": {
       "_model_module": "@jupyter-widgets/controls",
       "_model_module_version": "1.4.0",
       "_model_name": "DescriptionStyleModel",
       "_view_count": null,
       "_view_module": "@jupyter-widgets/base",
       "_view_module_version": "1.1.0",
       "_view_name": "StyleView",
       "description_width": ""
      }
     },
     "9c59e61bd77e47148074d2022cbffce0": {
      "model_module": "@jupyter-widgets/base",
      "model_module_version": "1.1.0",
      "model_name": "LayoutModel",
      "state": {
       "_model_module": "@jupyter-widgets/base",
       "_model_module_version": "1.1.0",
       "_model_name": "LayoutModel",
       "_view_count": null,
       "_view_module": "@jupyter-widgets/base",
       "_view_module_version": "1.1.0",
       "_view_name": "LayoutView",
       "align_content": null,
       "align_items": null,
       "align_self": null,
       "border": null,
       "bottom": null,
       "display": null,
       "flex": null,
       "flex_flow": null,
       "grid_area": null,
       "grid_auto_columns": null,
       "grid_auto_flow": null,
       "grid_auto_rows": null,
       "grid_column": null,
       "grid_gap": null,
       "grid_row": null,
       "grid_template_areas": null,
       "grid_template_columns": null,
       "grid_template_rows": null,
       "height": null,
       "justify_content": null,
       "left": null,
       "margin": null,
       "max_height": null,
       "max_width": null,
       "min_height": null,
       "min_width": null,
       "order": null,
       "overflow": null,
       "overflow_x": null,
       "overflow_y": null,
       "padding": null,
       "right": null,
       "top": null,
       "visibility": null,
       "width": null
      }
     },
     "9dd05ddbd707421abcd60430a553c91a": {
      "model_module": "@jupyter-widgets/controls",
      "model_module_version": "1.4.0",
      "model_name": "DescriptionStyleModel",
      "state": {
       "_model_module": "@jupyter-widgets/controls",
       "_model_module_version": "1.4.0",
       "_model_name": "DescriptionStyleModel",
       "_view_count": null,
       "_view_module": "@jupyter-widgets/base",
       "_view_module_version": "1.1.0",
       "_view_name": "StyleView",
       "description_width": ""
      }
     },
     "a2594662d81a467f9a424cb8f5c7dae3": {
      "model_module": "@jupyter-widgets/controls",
      "model_module_version": "1.4.0",
      "model_name": "HBoxModel",
      "state": {
       "_dom_classes": [],
       "_model_module": "@jupyter-widgets/controls",
       "_model_module_version": "1.4.0",
       "_model_name": "HBoxModel",
       "_view_count": null,
       "_view_module": "@jupyter-widgets/controls",
       "_view_module_version": "1.4.0",
       "_view_name": "HBoxView",
       "box_style": "",
       "children": [
        "IPY_MODEL_bdd798d9f03743ba8fe816a2b1e9096f",
        "IPY_MODEL_5887e6c7a63844c286d8ae4e9a5ad1ab"
       ],
       "layout": "IPY_MODEL_a269990fb4da4030ab8d4442e2f87351"
      }
     },
     "a269990fb4da4030ab8d4442e2f87351": {
      "model_module": "@jupyter-widgets/base",
      "model_module_version": "1.1.0",
      "model_name": "LayoutModel",
      "state": {
       "_model_module": "@jupyter-widgets/base",
       "_model_module_version": "1.1.0",
       "_model_name": "LayoutModel",
       "_view_count": null,
       "_view_module": "@jupyter-widgets/base",
       "_view_module_version": "1.1.0",
       "_view_name": "LayoutView",
       "align_content": null,
       "align_items": null,
       "align_self": null,
       "border": null,
       "bottom": null,
       "display": null,
       "flex": null,
       "flex_flow": null,
       "grid_area": null,
       "grid_auto_columns": null,
       "grid_auto_flow": null,
       "grid_auto_rows": null,
       "grid_column": null,
       "grid_gap": null,
       "grid_row": null,
       "grid_template_areas": null,
       "grid_template_columns": null,
       "grid_template_rows": null,
       "height": null,
       "justify_content": null,
       "left": null,
       "margin": null,
       "max_height": null,
       "max_width": null,
       "min_height": null,
       "min_width": null,
       "order": null,
       "overflow": null,
       "overflow_x": null,
       "overflow_y": null,
       "padding": null,
       "right": null,
       "top": null,
       "visibility": null,
       "width": null
      }
     },
     "a586a37c46804c56ae72b56790f58aee": {
      "model_module": "@jupyter-widgets/controls",
      "model_module_version": "1.4.0",
      "model_name": "HTMLModel",
      "state": {
       "_dom_classes": [],
       "_model_module": "@jupyter-widgets/controls",
       "_model_module_version": "1.4.0",
       "_model_name": "HTMLModel",
       "_view_count": null,
       "_view_module": "@jupyter-widgets/controls",
       "_view_module_version": "1.4.0",
       "_view_name": "HTMLView",
       "description": "",
       "description_tooltip": null,
       "layout": "IPY_MODEL_cc287af493214685b65f9c07948fce6a",
       "placeholder": "​",
       "style": "IPY_MODEL_9dd05ddbd707421abcd60430a553c91a",
       "value": "100% 1804874/1804874 [00:04&lt;00:00, 402845.42it/s]"
      }
     },
     "a58fd5038c634490bd8907b03d5a746c": {
      "model_module": "@jupyter-widgets/controls",
      "model_module_version": "1.4.0",
      "model_name": "HTMLModel",
      "state": {
       "_dom_classes": [],
       "_model_module": "@jupyter-widgets/controls",
       "_model_module_version": "1.4.0",
       "_model_name": "HTMLModel",
       "_view_count": null,
       "_view_module": "@jupyter-widgets/controls",
       "_view_module_version": "1.4.0",
       "_view_name": "HTMLView",
       "description": "",
       "description_tooltip": null,
       "layout": "IPY_MODEL_8d6c776b415f4e2aace6ea99a852366c",
       "placeholder": "​",
       "style": "IPY_MODEL_9603487f220a4c2985bc0f893ada060b",
       "value": " 52% 223554/433002 [14:43&lt;14:41, 237.55it/s]"
      }
     },
     "a82881af11694e57a6f5cc0a96844dec": {
      "model_module": "@jupyter-widgets/controls",
      "model_module_version": "1.4.0",
      "model_name": "HBoxModel",
      "state": {
       "_dom_classes": [],
       "_model_module": "@jupyter-widgets/controls",
       "_model_module_version": "1.4.0",
       "_model_name": "HBoxModel",
       "_view_count": null,
       "_view_module": "@jupyter-widgets/controls",
       "_view_module_version": "1.4.0",
       "_view_name": "HBoxView",
       "box_style": "",
       "children": [
        "IPY_MODEL_f002b9383b1d49fcb6e0a5eeb1d7dd80",
        "IPY_MODEL_a58fd5038c634490bd8907b03d5a746c"
       ],
       "layout": "IPY_MODEL_f21b463d2a224fafa015bea6872c0896"
      }
     },
     "a83c92065bb54ac2bf70dc29afe9543f": {
      "model_module": "@jupyter-widgets/controls",
      "model_module_version": "1.4.0",
      "model_name": "DescriptionStyleModel",
      "state": {
       "_model_module": "@jupyter-widgets/controls",
       "_model_module_version": "1.4.0",
       "_model_name": "DescriptionStyleModel",
       "_view_count": null,
       "_view_module": "@jupyter-widgets/base",
       "_view_module_version": "1.1.0",
       "_view_name": "StyleView",
       "description_width": ""
      }
     },
     "bdd798d9f03743ba8fe816a2b1e9096f": {
      "model_module": "@jupyter-widgets/controls",
      "model_module_version": "1.4.0",
      "model_name": "IntProgressModel",
      "state": {
       "_dom_classes": [],
       "_model_module": "@jupyter-widgets/controls",
       "_model_module_version": "1.4.0",
       "_model_name": "IntProgressModel",
       "_view_count": null,
       "_view_module": "@jupyter-widgets/controls",
       "_view_module_version": "1.4.0",
       "_view_name": "ProgressView",
       "bar_style": "success",
       "description": "",
       "description_tooltip": null,
       "layout": "IPY_MODEL_fb1635ffe99f415589587089d520c4c9",
       "max": 433002,
       "min": 0,
       "orientation": "horizontal",
       "style": "IPY_MODEL_f5b0344e2a444787a7800cdd4174d1a9",
       "value": 433002
      }
     },
     "c082c0245b784e8784419c9dd8e39334": {
      "model_module": "@jupyter-widgets/base",
      "model_module_version": "1.1.0",
      "model_name": "LayoutModel",
      "state": {
       "_model_module": "@jupyter-widgets/base",
       "_model_module_version": "1.1.0",
       "_model_name": "LayoutModel",
       "_view_count": null,
       "_view_module": "@jupyter-widgets/base",
       "_view_module_version": "1.1.0",
       "_view_name": "LayoutView",
       "align_content": null,
       "align_items": null,
       "align_self": null,
       "border": null,
       "bottom": null,
       "display": null,
       "flex": null,
       "flex_flow": null,
       "grid_area": null,
       "grid_auto_columns": null,
       "grid_auto_flow": null,
       "grid_auto_rows": null,
       "grid_column": null,
       "grid_gap": null,
       "grid_row": null,
       "grid_template_areas": null,
       "grid_template_columns": null,
       "grid_template_rows": null,
       "height": null,
       "justify_content": null,
       "left": null,
       "margin": null,
       "max_height": null,
       "max_width": null,
       "min_height": null,
       "min_width": null,
       "order": null,
       "overflow": null,
       "overflow_x": null,
       "overflow_y": null,
       "padding": null,
       "right": null,
       "top": null,
       "visibility": null,
       "width": null
      }
     },
     "c9c71533c2d745198f909a269377e5a6": {
      "model_module": "@jupyter-widgets/base",
      "model_module_version": "1.1.0",
      "model_name": "LayoutModel",
      "state": {
       "_model_module": "@jupyter-widgets/base",
       "_model_module_version": "1.1.0",
       "_model_name": "LayoutModel",
       "_view_count": null,
       "_view_module": "@jupyter-widgets/base",
       "_view_module_version": "1.1.0",
       "_view_name": "LayoutView",
       "align_content": null,
       "align_items": null,
       "align_self": null,
       "border": null,
       "bottom": null,
       "display": null,
       "flex": null,
       "flex_flow": null,
       "grid_area": null,
       "grid_auto_columns": null,
       "grid_auto_flow": null,
       "grid_auto_rows": null,
       "grid_column": null,
       "grid_gap": null,
       "grid_row": null,
       "grid_template_areas": null,
       "grid_template_columns": null,
       "grid_template_rows": null,
       "height": null,
       "justify_content": null,
       "left": null,
       "margin": null,
       "max_height": null,
       "max_width": null,
       "min_height": null,
       "min_width": null,
       "order": null,
       "overflow": null,
       "overflow_x": null,
       "overflow_y": null,
       "padding": null,
       "right": null,
       "top": null,
       "visibility": null,
       "width": null
      }
     },
     "cb060c0709c04ae1a8a4336ab74a0502": {
      "model_module": "@jupyter-widgets/controls",
      "model_module_version": "1.4.0",
      "model_name": "DescriptionStyleModel",
      "state": {
       "_model_module": "@jupyter-widgets/controls",
       "_model_module_version": "1.4.0",
       "_model_name": "DescriptionStyleModel",
       "_view_count": null,
       "_view_module": "@jupyter-widgets/base",
       "_view_module_version": "1.1.0",
       "_view_name": "StyleView",
       "description_width": ""
      }
     },
     "cb76806dcb7f4d439d23600cca04bf6e": {
      "model_module": "@jupyter-widgets/controls",
      "model_module_version": "1.4.0",
      "model_name": "HBoxModel",
      "state": {
       "_dom_classes": [],
       "_model_module": "@jupyter-widgets/controls",
       "_model_module_version": "1.4.0",
       "_model_name": "HBoxModel",
       "_view_count": null,
       "_view_module": "@jupyter-widgets/controls",
       "_view_module_version": "1.4.0",
       "_view_name": "HBoxView",
       "box_style": "",
       "children": [
        "IPY_MODEL_1b52ae12e1db429898ba847fc255a208",
        "IPY_MODEL_213157d3d48e4a1681ff8bda153caa0c"
       ],
       "layout": "IPY_MODEL_72f08a478e224d3ead838333f6fabdc8"
      }
     },
     "cbc1cbbba9e144be82e86d60b5af50c6": {
      "model_module": "@jupyter-widgets/base",
      "model_module_version": "1.1.0",
      "model_name": "LayoutModel",
      "state": {
       "_model_module": "@jupyter-widgets/base",
       "_model_module_version": "1.1.0",
       "_model_name": "LayoutModel",
       "_view_count": null,
       "_view_module": "@jupyter-widgets/base",
       "_view_module_version": "1.1.0",
       "_view_name": "LayoutView",
       "align_content": null,
       "align_items": null,
       "align_self": null,
       "border": null,
       "bottom": null,
       "display": null,
       "flex": null,
       "flex_flow": null,
       "grid_area": null,
       "grid_auto_columns": null,
       "grid_auto_flow": null,
       "grid_auto_rows": null,
       "grid_column": null,
       "grid_gap": null,
       "grid_row": null,
       "grid_template_areas": null,
       "grid_template_columns": null,
       "grid_template_rows": null,
       "height": null,
       "justify_content": null,
       "left": null,
       "margin": null,
       "max_height": null,
       "max_width": null,
       "min_height": null,
       "min_width": null,
       "order": null,
       "overflow": null,
       "overflow_x": null,
       "overflow_y": null,
       "padding": null,
       "right": null,
       "top": null,
       "visibility": null,
       "width": null
      }
     },
     "cc287af493214685b65f9c07948fce6a": {
      "model_module": "@jupyter-widgets/base",
      "model_module_version": "1.1.0",
      "model_name": "LayoutModel",
      "state": {
       "_model_module": "@jupyter-widgets/base",
       "_model_module_version": "1.1.0",
       "_model_name": "LayoutModel",
       "_view_count": null,
       "_view_module": "@jupyter-widgets/base",
       "_view_module_version": "1.1.0",
       "_view_name": "LayoutView",
       "align_content": null,
       "align_items": null,
       "align_self": null,
       "border": null,
       "bottom": null,
       "display": null,
       "flex": null,
       "flex_flow": null,
       "grid_area": null,
       "grid_auto_columns": null,
       "grid_auto_flow": null,
       "grid_auto_rows": null,
       "grid_column": null,
       "grid_gap": null,
       "grid_row": null,
       "grid_template_areas": null,
       "grid_template_columns": null,
       "grid_template_rows": null,
       "height": null,
       "justify_content": null,
       "left": null,
       "margin": null,
       "max_height": null,
       "max_width": null,
       "min_height": null,
       "min_width": null,
       "order": null,
       "overflow": null,
       "overflow_x": null,
       "overflow_y": null,
       "padding": null,
       "right": null,
       "top": null,
       "visibility": null,
       "width": null
      }
     },
     "d2600793acbb42bcb829175e8c7c44f8": {
      "model_module": "@jupyter-widgets/controls",
      "model_module_version": "1.4.0",
      "model_name": "IntProgressModel",
      "state": {
       "_dom_classes": [],
       "_model_module": "@jupyter-widgets/controls",
       "_model_module_version": "1.4.0",
       "_model_name": "IntProgressModel",
       "_view_count": null,
       "_view_module": "@jupyter-widgets/controls",
       "_view_module_version": "1.4.0",
       "_view_name": "ProgressView",
       "bar_style": "success",
       "description": "",
       "description_tooltip": null,
       "layout": "IPY_MODEL_90f4977402fe4f149b8df09eeb8fc484",
       "max": 1804874,
       "min": 0,
       "orientation": "horizontal",
       "style": "IPY_MODEL_dada809645f444b48b634dff0ef4ab44",
       "value": 1804874
      }
     },
     "d35e5a0e39aa42ae80f4492162223c6f": {
      "model_module": "@jupyter-widgets/controls",
      "model_module_version": "1.4.0",
      "model_name": "IntProgressModel",
      "state": {
       "_dom_classes": [],
       "_model_module": "@jupyter-widgets/controls",
       "_model_module_version": "1.4.0",
       "_model_name": "IntProgressModel",
       "_view_count": null,
       "_view_module": "@jupyter-widgets/controls",
       "_view_module_version": "1.4.0",
       "_view_name": "ProgressView",
       "bar_style": "",
       "description": "",
       "description_tooltip": null,
       "layout": "IPY_MODEL_32d16e62a89f4581a6ca2bdef054ab57",
       "max": 1804874,
       "min": 0,
       "orientation": "horizontal",
       "style": "IPY_MODEL_427d107b40a346258345790b49bbbaa3",
       "value": 1693427
      }
     },
     "d7609394084d4afe92c73c66be16c9d9": {
      "model_module": "@jupyter-widgets/controls",
      "model_module_version": "1.4.0",
      "model_name": "ProgressStyleModel",
      "state": {
       "_model_module": "@jupyter-widgets/controls",
       "_model_module_version": "1.4.0",
       "_model_name": "ProgressStyleModel",
       "_view_count": null,
       "_view_module": "@jupyter-widgets/base",
       "_view_module_version": "1.1.0",
       "_view_name": "StyleView",
       "bar_color": null,
       "description_width": ""
      }
     },
     "d867243802ea484ba973f59d1ba16c01": {
      "model_module": "@jupyter-widgets/controls",
      "model_module_version": "1.4.0",
      "model_name": "HBoxModel",
      "state": {
       "_dom_classes": [],
       "_model_module": "@jupyter-widgets/controls",
       "_model_module_version": "1.4.0",
       "_model_name": "HBoxModel",
       "_view_count": null,
       "_view_module": "@jupyter-widgets/controls",
       "_view_module_version": "1.4.0",
       "_view_name": "HBoxView",
       "box_style": "",
       "children": [
        "IPY_MODEL_3ac16ee44bfd4128be0d92e9bf5a518e",
        "IPY_MODEL_a586a37c46804c56ae72b56790f58aee"
       ],
       "layout": "IPY_MODEL_5a3fab02d7b245798266289e479b63a8"
      }
     },
     "dada809645f444b48b634dff0ef4ab44": {
      "model_module": "@jupyter-widgets/controls",
      "model_module_version": "1.4.0",
      "model_name": "ProgressStyleModel",
      "state": {
       "_model_module": "@jupyter-widgets/controls",
       "_model_module_version": "1.4.0",
       "_model_name": "ProgressStyleModel",
       "_view_count": null,
       "_view_module": "@jupyter-widgets/base",
       "_view_module_version": "1.1.0",
       "_view_name": "StyleView",
       "bar_color": null,
       "description_width": ""
      }
     },
     "dbc9cf3210e64aba829320d4fe8a9238": {
      "model_module": "@jupyter-widgets/controls",
      "model_module_version": "1.4.0",
      "model_name": "HTMLModel",
      "state": {
       "_dom_classes": [],
       "_model_module": "@jupyter-widgets/controls",
       "_model_module_version": "1.4.0",
       "_model_name": "HTMLModel",
       "_view_count": null,
       "_view_module": "@jupyter-widgets/controls",
       "_view_module_version": "1.4.0",
       "_view_name": "HTMLView",
       "description": "",
       "description_tooltip": null,
       "layout": "IPY_MODEL_1e617e25d93b4fbcba135bc5ab9fcc75",
       "placeholder": "​",
       "style": "IPY_MODEL_26cfc353632942199bc5beed0eb9a43d",
       "value": "100% 1804874/1804874 [00:48&lt;00:00, 37265.76it/s]"
      }
     },
     "e2dd14b14d014e3d8d4db45ed94a53ef": {
      "model_module": "@jupyter-widgets/base",
      "model_module_version": "1.1.0",
      "model_name": "LayoutModel",
      "state": {
       "_model_module": "@jupyter-widgets/base",
       "_model_module_version": "1.1.0",
       "_model_name": "LayoutModel",
       "_view_count": null,
       "_view_module": "@jupyter-widgets/base",
       "_view_module_version": "1.1.0",
       "_view_name": "LayoutView",
       "align_content": null,
       "align_items": null,
       "align_self": null,
       "border": null,
       "bottom": null,
       "display": null,
       "flex": null,
       "flex_flow": null,
       "grid_area": null,
       "grid_auto_columns": null,
       "grid_auto_flow": null,
       "grid_auto_rows": null,
       "grid_column": null,
       "grid_gap": null,
       "grid_row": null,
       "grid_template_areas": null,
       "grid_template_columns": null,
       "grid_template_rows": null,
       "height": null,
       "justify_content": null,
       "left": null,
       "margin": null,
       "max_height": null,
       "max_width": null,
       "min_height": null,
       "min_width": null,
       "order": null,
       "overflow": null,
       "overflow_x": null,
       "overflow_y": null,
       "padding": null,
       "right": null,
       "top": null,
       "visibility": null,
       "width": null
      }
     },
     "f002b9383b1d49fcb6e0a5eeb1d7dd80": {
      "model_module": "@jupyter-widgets/controls",
      "model_module_version": "1.4.0",
      "model_name": "IntProgressModel",
      "state": {
       "_dom_classes": [],
       "_model_module": "@jupyter-widgets/controls",
       "_model_module_version": "1.4.0",
       "_model_name": "IntProgressModel",
       "_view_count": null,
       "_view_module": "@jupyter-widgets/controls",
       "_view_module_version": "1.4.0",
       "_view_name": "ProgressView",
       "bar_style": "",
       "description": "",
       "description_tooltip": null,
       "layout": "IPY_MODEL_c9c71533c2d745198f909a269377e5a6",
       "max": 433002,
       "min": 0,
       "orientation": "horizontal",
       "style": "IPY_MODEL_d7609394084d4afe92c73c66be16c9d9",
       "value": 223554
      }
     },
     "f21b463d2a224fafa015bea6872c0896": {
      "model_module": "@jupyter-widgets/base",
      "model_module_version": "1.1.0",
      "model_name": "LayoutModel",
      "state": {
       "_model_module": "@jupyter-widgets/base",
       "_model_module_version": "1.1.0",
       "_model_name": "LayoutModel",
       "_view_count": null,
       "_view_module": "@jupyter-widgets/base",
       "_view_module_version": "1.1.0",
       "_view_name": "LayoutView",
       "align_content": null,
       "align_items": null,
       "align_self": null,
       "border": null,
       "bottom": null,
       "display": null,
       "flex": null,
       "flex_flow": null,
       "grid_area": null,
       "grid_auto_columns": null,
       "grid_auto_flow": null,
       "grid_auto_rows": null,
       "grid_column": null,
       "grid_gap": null,
       "grid_row": null,
       "grid_template_areas": null,
       "grid_template_columns": null,
       "grid_template_rows": null,
       "height": null,
       "justify_content": null,
       "left": null,
       "margin": null,
       "max_height": null,
       "max_width": null,
       "min_height": null,
       "min_width": null,
       "order": null,
       "overflow": null,
       "overflow_x": null,
       "overflow_y": null,
       "padding": null,
       "right": null,
       "top": null,
       "visibility": null,
       "width": null
      }
     },
     "f5b0344e2a444787a7800cdd4174d1a9": {
      "model_module": "@jupyter-widgets/controls",
      "model_module_version": "1.4.0",
      "model_name": "ProgressStyleModel",
      "state": {
       "_model_module": "@jupyter-widgets/controls",
       "_model_module_version": "1.4.0",
       "_model_name": "ProgressStyleModel",
       "_view_count": null,
       "_view_module": "@jupyter-widgets/base",
       "_view_module_version": "1.1.0",
       "_view_name": "StyleView",
       "bar_color": null,
       "description_width": ""
      }
     },
     "fb1635ffe99f415589587089d520c4c9": {
      "model_module": "@jupyter-widgets/base",
      "model_module_version": "1.1.0",
      "model_name": "LayoutModel",
      "state": {
       "_model_module": "@jupyter-widgets/base",
       "_model_module_version": "1.1.0",
       "_model_name": "LayoutModel",
       "_view_count": null,
       "_view_module": "@jupyter-widgets/base",
       "_view_module_version": "1.1.0",
       "_view_name": "LayoutView",
       "align_content": null,
       "align_items": null,
       "align_self": null,
       "border": null,
       "bottom": null,
       "display": null,
       "flex": null,
       "flex_flow": null,
       "grid_area": null,
       "grid_auto_columns": null,
       "grid_auto_flow": null,
       "grid_auto_rows": null,
       "grid_column": null,
       "grid_gap": null,
       "grid_row": null,
       "grid_template_areas": null,
       "grid_template_columns": null,
       "grid_template_rows": null,
       "height": null,
       "justify_content": null,
       "left": null,
       "margin": null,
       "max_height": null,
       "max_width": null,
       "min_height": null,
       "min_width": null,
       "order": null,
       "overflow": null,
       "overflow_x": null,
       "overflow_y": null,
       "padding": null,
       "right": null,
       "top": null,
       "visibility": null,
       "width": null
      }
     },
     "fbe7d24673f84307a564465e7ce9dd8d": {
      "model_module": "@jupyter-widgets/controls",
      "model_module_version": "1.4.0",
      "model_name": "HBoxModel",
      "state": {
       "_dom_classes": [],
       "_model_module": "@jupyter-widgets/controls",
       "_model_module_version": "1.4.0",
       "_model_name": "HBoxModel",
       "_view_count": null,
       "_view_module": "@jupyter-widgets/controls",
       "_view_module_version": "1.4.0",
       "_view_name": "HBoxView",
       "box_style": "",
       "children": [
        "IPY_MODEL_d35e5a0e39aa42ae80f4492162223c6f",
        "IPY_MODEL_795a77e0c4744e099aeaea2b817b20a6"
       ],
       "layout": "IPY_MODEL_982c795479be4574acd8947aaf0b71b6"
      }
     }
    },
    "version_major": 2,
    "version_minor": 0
   }
  }
 },
 "nbformat": 4,
 "nbformat_minor": 1
}
