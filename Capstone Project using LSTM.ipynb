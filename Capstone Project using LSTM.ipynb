{
  "nbformat": 4,
  "nbformat_minor": 0,
  "metadata": {
    "kernelspec": {
      "display_name": "Python 3",
      "language": "python",
      "name": "python3"
    },
    "language_info": {
      "codemirror_mode": {
        "name": "ipython",
        "version": 3
      },
      "file_extension": ".py",
      "mimetype": "text/x-python",
      "name": "python",
      "nbconvert_exporter": "python",
      "pygments_lexer": "ipython3",
      "version": "3.6.6"
    },
    "widgets": {
      "application/vnd.jupyter.widget-state+json": {
        "369a4a1bee194d14b34bbb35a6bcce6d": {
          "model_module": "@jupyter-widgets/controls",
          "model_name": "HBoxModel",
          "state": {
            "_view_name": "HBoxView",
            "_dom_classes": [],
            "_model_name": "HBoxModel",
            "_view_module": "@jupyter-widgets/controls",
            "_model_module_version": "1.5.0",
            "_view_count": null,
            "_view_module_version": "1.5.0",
            "box_style": "",
            "layout": "IPY_MODEL_4d5d8e7f27864312956e4b59ea1d4078",
            "_model_module": "@jupyter-widgets/controls",
            "children": [
              "IPY_MODEL_19a46c0a82cf47458106ec7b34411e7b",
              "IPY_MODEL_c816b69e712749a7bbc0f56d6e2a4801"
            ]
          }
        },
        "4d5d8e7f27864312956e4b59ea1d4078": {
          "model_module": "@jupyter-widgets/base",
          "model_name": "LayoutModel",
          "state": {
            "_view_name": "LayoutView",
            "grid_template_rows": null,
            "right": null,
            "justify_content": null,
            "_view_module": "@jupyter-widgets/base",
            "overflow": null,
            "_model_module_version": "1.2.0",
            "_view_count": null,
            "flex_flow": null,
            "width": null,
            "min_width": null,
            "border": null,
            "align_items": null,
            "bottom": null,
            "_model_module": "@jupyter-widgets/base",
            "top": null,
            "grid_column": null,
            "overflow_y": null,
            "overflow_x": null,
            "grid_auto_flow": null,
            "grid_area": null,
            "grid_template_columns": null,
            "flex": null,
            "_model_name": "LayoutModel",
            "justify_items": null,
            "grid_row": null,
            "max_height": null,
            "align_content": null,
            "visibility": null,
            "align_self": null,
            "height": null,
            "min_height": null,
            "padding": null,
            "grid_auto_rows": null,
            "grid_gap": null,
            "max_width": null,
            "order": null,
            "_view_module_version": "1.2.0",
            "grid_template_areas": null,
            "object_position": null,
            "object_fit": null,
            "grid_auto_columns": null,
            "margin": null,
            "display": null,
            "left": null
          }
        },
        "19a46c0a82cf47458106ec7b34411e7b": {
          "model_module": "@jupyter-widgets/controls",
          "model_name": "IntProgressModel",
          "state": {
            "_view_name": "ProgressView",
            "style": "IPY_MODEL_c275027f8a224380b0b418daaa407d95",
            "_dom_classes": [],
            "description": "100%",
            "_model_name": "IntProgressModel",
            "bar_style": "success",
            "max": 1100032,
            "_view_module": "@jupyter-widgets/controls",
            "_model_module_version": "1.5.0",
            "value": 1100032,
            "_view_count": null,
            "_view_module_version": "1.5.0",
            "orientation": "horizontal",
            "min": 0,
            "description_tooltip": null,
            "_model_module": "@jupyter-widgets/controls",
            "layout": "IPY_MODEL_23d0f5d4738f4dd9b2da0aa443d5b86a"
          }
        },
        "c816b69e712749a7bbc0f56d6e2a4801": {
          "model_module": "@jupyter-widgets/controls",
          "model_name": "HTMLModel",
          "state": {
            "_view_name": "HTMLView",
            "style": "IPY_MODEL_84871b79a5894e0f8381ba4df055704b",
            "_dom_classes": [],
            "description": "",
            "_model_name": "HTMLModel",
            "placeholder": "​",
            "_view_module": "@jupyter-widgets/controls",
            "_model_module_version": "1.5.0",
            "value": " 1100032/1100032 [08:17&lt;00:00, 2211.73it/s]",
            "_view_count": null,
            "_view_module_version": "1.5.0",
            "description_tooltip": null,
            "_model_module": "@jupyter-widgets/controls",
            "layout": "IPY_MODEL_8bbba8abe0ad422ba720c1eeb7bfa7ae"
          }
        },
        "c275027f8a224380b0b418daaa407d95": {
          "model_module": "@jupyter-widgets/controls",
          "model_name": "ProgressStyleModel",
          "state": {
            "_view_name": "StyleView",
            "_model_name": "ProgressStyleModel",
            "description_width": "initial",
            "_view_module": "@jupyter-widgets/base",
            "_model_module_version": "1.5.0",
            "_view_count": null,
            "_view_module_version": "1.2.0",
            "bar_color": null,
            "_model_module": "@jupyter-widgets/controls"
          }
        },
        "23d0f5d4738f4dd9b2da0aa443d5b86a": {
          "model_module": "@jupyter-widgets/base",
          "model_name": "LayoutModel",
          "state": {
            "_view_name": "LayoutView",
            "grid_template_rows": null,
            "right": null,
            "justify_content": null,
            "_view_module": "@jupyter-widgets/base",
            "overflow": null,
            "_model_module_version": "1.2.0",
            "_view_count": null,
            "flex_flow": null,
            "width": null,
            "min_width": null,
            "border": null,
            "align_items": null,
            "bottom": null,
            "_model_module": "@jupyter-widgets/base",
            "top": null,
            "grid_column": null,
            "overflow_y": null,
            "overflow_x": null,
            "grid_auto_flow": null,
            "grid_area": null,
            "grid_template_columns": null,
            "flex": null,
            "_model_name": "LayoutModel",
            "justify_items": null,
            "grid_row": null,
            "max_height": null,
            "align_content": null,
            "visibility": null,
            "align_self": null,
            "height": null,
            "min_height": null,
            "padding": null,
            "grid_auto_rows": null,
            "grid_gap": null,
            "max_width": null,
            "order": null,
            "_view_module_version": "1.2.0",
            "grid_template_areas": null,
            "object_position": null,
            "object_fit": null,
            "grid_auto_columns": null,
            "margin": null,
            "display": null,
            "left": null
          }
        },
        "84871b79a5894e0f8381ba4df055704b": {
          "model_module": "@jupyter-widgets/controls",
          "model_name": "DescriptionStyleModel",
          "state": {
            "_view_name": "StyleView",
            "_model_name": "DescriptionStyleModel",
            "description_width": "",
            "_view_module": "@jupyter-widgets/base",
            "_model_module_version": "1.5.0",
            "_view_count": null,
            "_view_module_version": "1.2.0",
            "_model_module": "@jupyter-widgets/controls"
          }
        },
        "8bbba8abe0ad422ba720c1eeb7bfa7ae": {
          "model_module": "@jupyter-widgets/base",
          "model_name": "LayoutModel",
          "state": {
            "_view_name": "LayoutView",
            "grid_template_rows": null,
            "right": null,
            "justify_content": null,
            "_view_module": "@jupyter-widgets/base",
            "overflow": null,
            "_model_module_version": "1.2.0",
            "_view_count": null,
            "flex_flow": null,
            "width": null,
            "min_width": null,
            "border": null,
            "align_items": null,
            "bottom": null,
            "_model_module": "@jupyter-widgets/base",
            "top": null,
            "grid_column": null,
            "overflow_y": null,
            "overflow_x": null,
            "grid_auto_flow": null,
            "grid_area": null,
            "grid_template_columns": null,
            "flex": null,
            "_model_name": "LayoutModel",
            "justify_items": null,
            "grid_row": null,
            "max_height": null,
            "align_content": null,
            "visibility": null,
            "align_self": null,
            "height": null,
            "min_height": null,
            "padding": null,
            "grid_auto_rows": null,
            "grid_gap": null,
            "max_width": null,
            "order": null,
            "_view_module_version": "1.2.0",
            "grid_template_areas": null,
            "object_position": null,
            "object_fit": null,
            "grid_auto_columns": null,
            "margin": null,
            "display": null,
            "left": null
          }
        },
        "c4b3e8267630497eb375dc25d7ea1896": {
          "model_module": "@jupyter-widgets/controls",
          "model_name": "HBoxModel",
          "state": {
            "_view_name": "HBoxView",
            "_dom_classes": [],
            "_model_name": "HBoxModel",
            "_view_module": "@jupyter-widgets/controls",
            "_model_module_version": "1.5.0",
            "_view_count": null,
            "_view_module_version": "1.5.0",
            "box_style": "",
            "layout": "IPY_MODEL_edabb293a9434fac97d1e9c915820965",
            "_model_module": "@jupyter-widgets/controls",
            "children": [
              "IPY_MODEL_cee2de43714e492db92ffe1dc34fd7e0",
              "IPY_MODEL_d72f35be4b98498da9b63a9038d55415"
            ]
          }
        },
        "edabb293a9434fac97d1e9c915820965": {
          "model_module": "@jupyter-widgets/base",
          "model_name": "LayoutModel",
          "state": {
            "_view_name": "LayoutView",
            "grid_template_rows": null,
            "right": null,
            "justify_content": null,
            "_view_module": "@jupyter-widgets/base",
            "overflow": null,
            "_model_module_version": "1.2.0",
            "_view_count": null,
            "flex_flow": null,
            "width": null,
            "min_width": null,
            "border": null,
            "align_items": null,
            "bottom": null,
            "_model_module": "@jupyter-widgets/base",
            "top": null,
            "grid_column": null,
            "overflow_y": null,
            "overflow_x": null,
            "grid_auto_flow": null,
            "grid_area": null,
            "grid_template_columns": null,
            "flex": null,
            "_model_name": "LayoutModel",
            "justify_items": null,
            "grid_row": null,
            "max_height": null,
            "align_content": null,
            "visibility": null,
            "align_self": null,
            "height": null,
            "min_height": null,
            "padding": null,
            "grid_auto_rows": null,
            "grid_gap": null,
            "max_width": null,
            "order": null,
            "_view_module_version": "1.2.0",
            "grid_template_areas": null,
            "object_position": null,
            "object_fit": null,
            "grid_auto_columns": null,
            "margin": null,
            "display": null,
            "left": null
          }
        },
        "cee2de43714e492db92ffe1dc34fd7e0": {
          "model_module": "@jupyter-widgets/controls",
          "model_name": "IntProgressModel",
          "state": {
            "_view_name": "ProgressView",
            "style": "IPY_MODEL_e7829230f8f84ee7bd294dd229b21f02",
            "_dom_classes": [],
            "description": "100%",
            "_model_name": "IntProgressModel",
            "bar_style": "success",
            "max": 1100032,
            "_view_module": "@jupyter-widgets/controls",
            "_model_module_version": "1.5.0",
            "value": 1100032,
            "_view_count": null,
            "_view_module_version": "1.5.0",
            "orientation": "horizontal",
            "min": 0,
            "description_tooltip": null,
            "_model_module": "@jupyter-widgets/controls",
            "layout": "IPY_MODEL_5584dd9d3c9549799d53ef693a963f10"
          }
        },
        "d72f35be4b98498da9b63a9038d55415": {
          "model_module": "@jupyter-widgets/controls",
          "model_name": "HTMLModel",
          "state": {
            "_view_name": "HTMLView",
            "style": "IPY_MODEL_6488f36079c64336ae622aeaf5dd70b8",
            "_dom_classes": [],
            "description": "",
            "_model_name": "HTMLModel",
            "placeholder": "​",
            "_view_module": "@jupyter-widgets/controls",
            "_model_module_version": "1.5.0",
            "value": " 1100032/1100032 [07:48&lt;00:00, 2347.37it/s]",
            "_view_count": null,
            "_view_module_version": "1.5.0",
            "description_tooltip": null,
            "_model_module": "@jupyter-widgets/controls",
            "layout": "IPY_MODEL_a5245db0b3f14809940004f45b05c9d2"
          }
        },
        "e7829230f8f84ee7bd294dd229b21f02": {
          "model_module": "@jupyter-widgets/controls",
          "model_name": "ProgressStyleModel",
          "state": {
            "_view_name": "StyleView",
            "_model_name": "ProgressStyleModel",
            "description_width": "initial",
            "_view_module": "@jupyter-widgets/base",
            "_model_module_version": "1.5.0",
            "_view_count": null,
            "_view_module_version": "1.2.0",
            "bar_color": null,
            "_model_module": "@jupyter-widgets/controls"
          }
        },
        "5584dd9d3c9549799d53ef693a963f10": {
          "model_module": "@jupyter-widgets/base",
          "model_name": "LayoutModel",
          "state": {
            "_view_name": "LayoutView",
            "grid_template_rows": null,
            "right": null,
            "justify_content": null,
            "_view_module": "@jupyter-widgets/base",
            "overflow": null,
            "_model_module_version": "1.2.0",
            "_view_count": null,
            "flex_flow": null,
            "width": null,
            "min_width": null,
            "border": null,
            "align_items": null,
            "bottom": null,
            "_model_module": "@jupyter-widgets/base",
            "top": null,
            "grid_column": null,
            "overflow_y": null,
            "overflow_x": null,
            "grid_auto_flow": null,
            "grid_area": null,
            "grid_template_columns": null,
            "flex": null,
            "_model_name": "LayoutModel",
            "justify_items": null,
            "grid_row": null,
            "max_height": null,
            "align_content": null,
            "visibility": null,
            "align_self": null,
            "height": null,
            "min_height": null,
            "padding": null,
            "grid_auto_rows": null,
            "grid_gap": null,
            "max_width": null,
            "order": null,
            "_view_module_version": "1.2.0",
            "grid_template_areas": null,
            "object_position": null,
            "object_fit": null,
            "grid_auto_columns": null,
            "margin": null,
            "display": null,
            "left": null
          }
        },
        "6488f36079c64336ae622aeaf5dd70b8": {
          "model_module": "@jupyter-widgets/controls",
          "model_name": "DescriptionStyleModel",
          "state": {
            "_view_name": "StyleView",
            "_model_name": "DescriptionStyleModel",
            "description_width": "",
            "_view_module": "@jupyter-widgets/base",
            "_model_module_version": "1.5.0",
            "_view_count": null,
            "_view_module_version": "1.2.0",
            "_model_module": "@jupyter-widgets/controls"
          }
        },
        "a5245db0b3f14809940004f45b05c9d2": {
          "model_module": "@jupyter-widgets/base",
          "model_name": "LayoutModel",
          "state": {
            "_view_name": "LayoutView",
            "grid_template_rows": null,
            "right": null,
            "justify_content": null,
            "_view_module": "@jupyter-widgets/base",
            "overflow": null,
            "_model_module_version": "1.2.0",
            "_view_count": null,
            "flex_flow": null,
            "width": null,
            "min_width": null,
            "border": null,
            "align_items": null,
            "bottom": null,
            "_model_module": "@jupyter-widgets/base",
            "top": null,
            "grid_column": null,
            "overflow_y": null,
            "overflow_x": null,
            "grid_auto_flow": null,
            "grid_area": null,
            "grid_template_columns": null,
            "flex": null,
            "_model_name": "LayoutModel",
            "justify_items": null,
            "grid_row": null,
            "max_height": null,
            "align_content": null,
            "visibility": null,
            "align_self": null,
            "height": null,
            "min_height": null,
            "padding": null,
            "grid_auto_rows": null,
            "grid_gap": null,
            "max_width": null,
            "order": null,
            "_view_module_version": "1.2.0",
            "grid_template_areas": null,
            "object_position": null,
            "object_fit": null,
            "grid_auto_columns": null,
            "margin": null,
            "display": null,
            "left": null
          }
        },
        "b9626e3ff4954d55b3dd6a7e4754ab1f": {
          "model_module": "@jupyter-widgets/controls",
          "model_name": "HBoxModel",
          "state": {
            "_view_name": "HBoxView",
            "_dom_classes": [],
            "_model_name": "HBoxModel",
            "_view_module": "@jupyter-widgets/controls",
            "_model_module_version": "1.5.0",
            "_view_count": null,
            "_view_module_version": "1.5.0",
            "box_style": "",
            "layout": "IPY_MODEL_8a520156a6464bc3ad47c73991c6e516",
            "_model_module": "@jupyter-widgets/controls",
            "children": [
              "IPY_MODEL_7e82015554564743a069621162cb58a5",
              "IPY_MODEL_733cd16db88a47da9dd6921f6e0fd51e"
            ]
          }
        },
        "8a520156a6464bc3ad47c73991c6e516": {
          "model_module": "@jupyter-widgets/base",
          "model_name": "LayoutModel",
          "state": {
            "_view_name": "LayoutView",
            "grid_template_rows": null,
            "right": null,
            "justify_content": null,
            "_view_module": "@jupyter-widgets/base",
            "overflow": null,
            "_model_module_version": "1.2.0",
            "_view_count": null,
            "flex_flow": null,
            "width": null,
            "min_width": null,
            "border": null,
            "align_items": null,
            "bottom": null,
            "_model_module": "@jupyter-widgets/base",
            "top": null,
            "grid_column": null,
            "overflow_y": null,
            "overflow_x": null,
            "grid_auto_flow": null,
            "grid_area": null,
            "grid_template_columns": null,
            "flex": null,
            "_model_name": "LayoutModel",
            "justify_items": null,
            "grid_row": null,
            "max_height": null,
            "align_content": null,
            "visibility": null,
            "align_self": null,
            "height": null,
            "min_height": null,
            "padding": null,
            "grid_auto_rows": null,
            "grid_gap": null,
            "max_width": null,
            "order": null,
            "_view_module_version": "1.2.0",
            "grid_template_areas": null,
            "object_position": null,
            "object_fit": null,
            "grid_auto_columns": null,
            "margin": null,
            "display": null,
            "left": null
          }
        },
        "7e82015554564743a069621162cb58a5": {
          "model_module": "@jupyter-widgets/controls",
          "model_name": "IntProgressModel",
          "state": {
            "_view_name": "ProgressView",
            "style": "IPY_MODEL_a7967057003746e0909ca35853ea3208",
            "_dom_classes": [],
            "description": "100%",
            "_model_name": "IntProgressModel",
            "bar_style": "success",
            "max": 180487,
            "_view_module": "@jupyter-widgets/controls",
            "_model_module_version": "1.5.0",
            "value": 180487,
            "_view_count": null,
            "_view_module_version": "1.5.0",
            "orientation": "horizontal",
            "min": 0,
            "description_tooltip": null,
            "_model_module": "@jupyter-widgets/controls",
            "layout": "IPY_MODEL_05496555d75d475c9ed9ac15551347c8"
          }
        },
        "733cd16db88a47da9dd6921f6e0fd51e": {
          "model_module": "@jupyter-widgets/controls",
          "model_name": "HTMLModel",
          "state": {
            "_view_name": "HTMLView",
            "style": "IPY_MODEL_a72494af465243a4a8ce075ac19087d3",
            "_dom_classes": [],
            "description": "",
            "_model_name": "HTMLModel",
            "placeholder": "​",
            "_view_module": "@jupyter-widgets/controls",
            "_model_module_version": "1.5.0",
            "value": " 180487/180487 [01:39&lt;00:00, 1817.70it/s]",
            "_view_count": null,
            "_view_module_version": "1.5.0",
            "description_tooltip": null,
            "_model_module": "@jupyter-widgets/controls",
            "layout": "IPY_MODEL_379c5e3ebfe1440f80077f64f89bd745"
          }
        },
        "a7967057003746e0909ca35853ea3208": {
          "model_module": "@jupyter-widgets/controls",
          "model_name": "ProgressStyleModel",
          "state": {
            "_view_name": "StyleView",
            "_model_name": "ProgressStyleModel",
            "description_width": "initial",
            "_view_module": "@jupyter-widgets/base",
            "_model_module_version": "1.5.0",
            "_view_count": null,
            "_view_module_version": "1.2.0",
            "bar_color": null,
            "_model_module": "@jupyter-widgets/controls"
          }
        },
        "05496555d75d475c9ed9ac15551347c8": {
          "model_module": "@jupyter-widgets/base",
          "model_name": "LayoutModel",
          "state": {
            "_view_name": "LayoutView",
            "grid_template_rows": null,
            "right": null,
            "justify_content": null,
            "_view_module": "@jupyter-widgets/base",
            "overflow": null,
            "_model_module_version": "1.2.0",
            "_view_count": null,
            "flex_flow": null,
            "width": null,
            "min_width": null,
            "border": null,
            "align_items": null,
            "bottom": null,
            "_model_module": "@jupyter-widgets/base",
            "top": null,
            "grid_column": null,
            "overflow_y": null,
            "overflow_x": null,
            "grid_auto_flow": null,
            "grid_area": null,
            "grid_template_columns": null,
            "flex": null,
            "_model_name": "LayoutModel",
            "justify_items": null,
            "grid_row": null,
            "max_height": null,
            "align_content": null,
            "visibility": null,
            "align_self": null,
            "height": null,
            "min_height": null,
            "padding": null,
            "grid_auto_rows": null,
            "grid_gap": null,
            "max_width": null,
            "order": null,
            "_view_module_version": "1.2.0",
            "grid_template_areas": null,
            "object_position": null,
            "object_fit": null,
            "grid_auto_columns": null,
            "margin": null,
            "display": null,
            "left": null
          }
        },
        "a72494af465243a4a8ce075ac19087d3": {
          "model_module": "@jupyter-widgets/controls",
          "model_name": "DescriptionStyleModel",
          "state": {
            "_view_name": "StyleView",
            "_model_name": "DescriptionStyleModel",
            "description_width": "",
            "_view_module": "@jupyter-widgets/base",
            "_model_module_version": "1.5.0",
            "_view_count": null,
            "_view_module_version": "1.2.0",
            "_model_module": "@jupyter-widgets/controls"
          }
        },
        "379c5e3ebfe1440f80077f64f89bd745": {
          "model_module": "@jupyter-widgets/base",
          "model_name": "LayoutModel",
          "state": {
            "_view_name": "LayoutView",
            "grid_template_rows": null,
            "right": null,
            "justify_content": null,
            "_view_module": "@jupyter-widgets/base",
            "overflow": null,
            "_model_module_version": "1.2.0",
            "_view_count": null,
            "flex_flow": null,
            "width": null,
            "min_width": null,
            "border": null,
            "align_items": null,
            "bottom": null,
            "_model_module": "@jupyter-widgets/base",
            "top": null,
            "grid_column": null,
            "overflow_y": null,
            "overflow_x": null,
            "grid_auto_flow": null,
            "grid_area": null,
            "grid_template_columns": null,
            "flex": null,
            "_model_name": "LayoutModel",
            "justify_items": null,
            "grid_row": null,
            "max_height": null,
            "align_content": null,
            "visibility": null,
            "align_self": null,
            "height": null,
            "min_height": null,
            "padding": null,
            "grid_auto_rows": null,
            "grid_gap": null,
            "max_width": null,
            "order": null,
            "_view_module_version": "1.2.0",
            "grid_template_areas": null,
            "object_position": null,
            "object_fit": null,
            "grid_auto_columns": null,
            "margin": null,
            "display": null,
            "left": null
          }
        },
        "65e93759b50f4d9f82529e7f7a50bbf7": {
          "model_module": "@jupyter-widgets/controls",
          "model_name": "HBoxModel",
          "state": {
            "_view_name": "HBoxView",
            "_dom_classes": [],
            "_model_name": "HBoxModel",
            "_view_module": "@jupyter-widgets/controls",
            "_model_module_version": "1.5.0",
            "_view_count": null,
            "_view_module_version": "1.5.0",
            "box_style": "",
            "layout": "IPY_MODEL_83ff579acf1d45278a71a650d3367db5",
            "_model_module": "@jupyter-widgets/controls",
            "children": [
              "IPY_MODEL_28f8625b554b4f2fb299e2e7a4e49cee",
              "IPY_MODEL_13a3f6f873b44717a145e8036fe23275"
            ]
          }
        },
        "83ff579acf1d45278a71a650d3367db5": {
          "model_module": "@jupyter-widgets/base",
          "model_name": "LayoutModel",
          "state": {
            "_view_name": "LayoutView",
            "grid_template_rows": null,
            "right": null,
            "justify_content": null,
            "_view_module": "@jupyter-widgets/base",
            "overflow": null,
            "_model_module_version": "1.2.0",
            "_view_count": null,
            "flex_flow": null,
            "width": null,
            "min_width": null,
            "border": null,
            "align_items": null,
            "bottom": null,
            "_model_module": "@jupyter-widgets/base",
            "top": null,
            "grid_column": null,
            "overflow_y": null,
            "overflow_x": null,
            "grid_auto_flow": null,
            "grid_area": null,
            "grid_template_columns": null,
            "flex": null,
            "_model_name": "LayoutModel",
            "justify_items": null,
            "grid_row": null,
            "max_height": null,
            "align_content": null,
            "visibility": null,
            "align_self": null,
            "height": null,
            "min_height": null,
            "padding": null,
            "grid_auto_rows": null,
            "grid_gap": null,
            "max_width": null,
            "order": null,
            "_view_module_version": "1.2.0",
            "grid_template_areas": null,
            "object_position": null,
            "object_fit": null,
            "grid_auto_columns": null,
            "margin": null,
            "display": null,
            "left": null
          }
        },
        "28f8625b554b4f2fb299e2e7a4e49cee": {
          "model_module": "@jupyter-widgets/controls",
          "model_name": "IntProgressModel",
          "state": {
            "_view_name": "ProgressView",
            "style": "IPY_MODEL_bbe43269c64d47ebb55491156c842098",
            "_dom_classes": [],
            "description": "100%",
            "_model_name": "IntProgressModel",
            "bar_style": "success",
            "max": 180488,
            "_view_module": "@jupyter-widgets/controls",
            "_model_module_version": "1.5.0",
            "value": 180488,
            "_view_count": null,
            "_view_module_version": "1.5.0",
            "orientation": "horizontal",
            "min": 0,
            "description_tooltip": null,
            "_model_module": "@jupyter-widgets/controls",
            "layout": "IPY_MODEL_6c907055997043eb892e48ad815a49a1"
          }
        },
        "13a3f6f873b44717a145e8036fe23275": {
          "model_module": "@jupyter-widgets/controls",
          "model_name": "HTMLModel",
          "state": {
            "_view_name": "HTMLView",
            "style": "IPY_MODEL_0ad538fad1cf49db845d0524ac71dcd5",
            "_dom_classes": [],
            "description": "",
            "_model_name": "HTMLModel",
            "placeholder": "​",
            "_view_module": "@jupyter-widgets/controls",
            "_model_module_version": "1.5.0",
            "value": " 180488/180488 [00:49&lt;00:00, 3624.92it/s]",
            "_view_count": null,
            "_view_module_version": "1.5.0",
            "description_tooltip": null,
            "_model_module": "@jupyter-widgets/controls",
            "layout": "IPY_MODEL_061086e053c34c2cb1aff0445d53d470"
          }
        },
        "bbe43269c64d47ebb55491156c842098": {
          "model_module": "@jupyter-widgets/controls",
          "model_name": "ProgressStyleModel",
          "state": {
            "_view_name": "StyleView",
            "_model_name": "ProgressStyleModel",
            "description_width": "initial",
            "_view_module": "@jupyter-widgets/base",
            "_model_module_version": "1.5.0",
            "_view_count": null,
            "_view_module_version": "1.2.0",
            "bar_color": null,
            "_model_module": "@jupyter-widgets/controls"
          }
        },
        "6c907055997043eb892e48ad815a49a1": {
          "model_module": "@jupyter-widgets/base",
          "model_name": "LayoutModel",
          "state": {
            "_view_name": "LayoutView",
            "grid_template_rows": null,
            "right": null,
            "justify_content": null,
            "_view_module": "@jupyter-widgets/base",
            "overflow": null,
            "_model_module_version": "1.2.0",
            "_view_count": null,
            "flex_flow": null,
            "width": null,
            "min_width": null,
            "border": null,
            "align_items": null,
            "bottom": null,
            "_model_module": "@jupyter-widgets/base",
            "top": null,
            "grid_column": null,
            "overflow_y": null,
            "overflow_x": null,
            "grid_auto_flow": null,
            "grid_area": null,
            "grid_template_columns": null,
            "flex": null,
            "_model_name": "LayoutModel",
            "justify_items": null,
            "grid_row": null,
            "max_height": null,
            "align_content": null,
            "visibility": null,
            "align_self": null,
            "height": null,
            "min_height": null,
            "padding": null,
            "grid_auto_rows": null,
            "grid_gap": null,
            "max_width": null,
            "order": null,
            "_view_module_version": "1.2.0",
            "grid_template_areas": null,
            "object_position": null,
            "object_fit": null,
            "grid_auto_columns": null,
            "margin": null,
            "display": null,
            "left": null
          }
        },
        "0ad538fad1cf49db845d0524ac71dcd5": {
          "model_module": "@jupyter-widgets/controls",
          "model_name": "DescriptionStyleModel",
          "state": {
            "_view_name": "StyleView",
            "_model_name": "DescriptionStyleModel",
            "description_width": "",
            "_view_module": "@jupyter-widgets/base",
            "_model_module_version": "1.5.0",
            "_view_count": null,
            "_view_module_version": "1.2.0",
            "_model_module": "@jupyter-widgets/controls"
          }
        },
        "061086e053c34c2cb1aff0445d53d470": {
          "model_module": "@jupyter-widgets/base",
          "model_name": "LayoutModel",
          "state": {
            "_view_name": "LayoutView",
            "grid_template_rows": null,
            "right": null,
            "justify_content": null,
            "_view_module": "@jupyter-widgets/base",
            "overflow": null,
            "_model_module_version": "1.2.0",
            "_view_count": null,
            "flex_flow": null,
            "width": null,
            "min_width": null,
            "border": null,
            "align_items": null,
            "bottom": null,
            "_model_module": "@jupyter-widgets/base",
            "top": null,
            "grid_column": null,
            "overflow_y": null,
            "overflow_x": null,
            "grid_auto_flow": null,
            "grid_area": null,
            "grid_template_columns": null,
            "flex": null,
            "_model_name": "LayoutModel",
            "justify_items": null,
            "grid_row": null,
            "max_height": null,
            "align_content": null,
            "visibility": null,
            "align_self": null,
            "height": null,
            "min_height": null,
            "padding": null,
            "grid_auto_rows": null,
            "grid_gap": null,
            "max_width": null,
            "order": null,
            "_view_module_version": "1.2.0",
            "grid_template_areas": null,
            "object_position": null,
            "object_fit": null,
            "grid_auto_columns": null,
            "margin": null,
            "display": null,
            "left": null
          }
        },
        "f8c0f134bb69463095d04a464e61ff4a": {
          "model_module": "@jupyter-widgets/controls",
          "model_name": "HBoxModel",
          "state": {
            "_view_name": "HBoxView",
            "_dom_classes": [],
            "_model_name": "HBoxModel",
            "_view_module": "@jupyter-widgets/controls",
            "_model_module_version": "1.5.0",
            "_view_count": null,
            "_view_module_version": "1.5.0",
            "box_style": "",
            "layout": "IPY_MODEL_b594251740c4409ab2b87c04394940be",
            "_model_module": "@jupyter-widgets/controls",
            "children": [
              "IPY_MODEL_69eeb8ffad164a6b84eb6cc8c17dd291",
              "IPY_MODEL_67c3be7b005f4befb9f51ef9292e19d3"
            ]
          }
        },
        "b594251740c4409ab2b87c04394940be": {
          "model_module": "@jupyter-widgets/base",
          "model_name": "LayoutModel",
          "state": {
            "_view_name": "LayoutView",
            "grid_template_rows": null,
            "right": null,
            "justify_content": null,
            "_view_module": "@jupyter-widgets/base",
            "overflow": null,
            "_model_module_version": "1.2.0",
            "_view_count": null,
            "flex_flow": null,
            "width": null,
            "min_width": null,
            "border": null,
            "align_items": null,
            "bottom": null,
            "_model_module": "@jupyter-widgets/base",
            "top": null,
            "grid_column": null,
            "overflow_y": null,
            "overflow_x": null,
            "grid_auto_flow": null,
            "grid_area": null,
            "grid_template_columns": null,
            "flex": null,
            "_model_name": "LayoutModel",
            "justify_items": null,
            "grid_row": null,
            "max_height": null,
            "align_content": null,
            "visibility": null,
            "align_self": null,
            "height": null,
            "min_height": null,
            "padding": null,
            "grid_auto_rows": null,
            "grid_gap": null,
            "max_width": null,
            "order": null,
            "_view_module_version": "1.2.0",
            "grid_template_areas": null,
            "object_position": null,
            "object_fit": null,
            "grid_auto_columns": null,
            "margin": null,
            "display": null,
            "left": null
          }
        },
        "69eeb8ffad164a6b84eb6cc8c17dd291": {
          "model_module": "@jupyter-widgets/controls",
          "model_name": "IntProgressModel",
          "state": {
            "_view_name": "ProgressView",
            "style": "IPY_MODEL_ff53ce7d78c142b68f695a0b244f06f6",
            "_dom_classes": [],
            "description": "100%",
            "_model_name": "IntProgressModel",
            "bar_style": "success",
            "max": 97320,
            "_view_module": "@jupyter-widgets/controls",
            "_model_module_version": "1.5.0",
            "value": 97320,
            "_view_count": null,
            "_view_module_version": "1.5.0",
            "orientation": "horizontal",
            "min": 0,
            "description_tooltip": null,
            "_model_module": "@jupyter-widgets/controls",
            "layout": "IPY_MODEL_86743b3f9ef84d40b26a76e1bc364dce"
          }
        },
        "67c3be7b005f4befb9f51ef9292e19d3": {
          "model_module": "@jupyter-widgets/controls",
          "model_name": "HTMLModel",
          "state": {
            "_view_name": "HTMLView",
            "style": "IPY_MODEL_d04232857dad4356903c07ed79864df4",
            "_dom_classes": [],
            "description": "",
            "_model_name": "HTMLModel",
            "placeholder": "​",
            "_view_module": "@jupyter-widgets/controls",
            "_model_module_version": "1.5.0",
            "value": " 97320/97320 [01:09&lt;00:00, 1391.51it/s]",
            "_view_count": null,
            "_view_module_version": "1.5.0",
            "description_tooltip": null,
            "_model_module": "@jupyter-widgets/controls",
            "layout": "IPY_MODEL_a359ea5dcb924a039d645903e28b8df9"
          }
        },
        "ff53ce7d78c142b68f695a0b244f06f6": {
          "model_module": "@jupyter-widgets/controls",
          "model_name": "ProgressStyleModel",
          "state": {
            "_view_name": "StyleView",
            "_model_name": "ProgressStyleModel",
            "description_width": "initial",
            "_view_module": "@jupyter-widgets/base",
            "_model_module_version": "1.5.0",
            "_view_count": null,
            "_view_module_version": "1.2.0",
            "bar_color": null,
            "_model_module": "@jupyter-widgets/controls"
          }
        },
        "86743b3f9ef84d40b26a76e1bc364dce": {
          "model_module": "@jupyter-widgets/base",
          "model_name": "LayoutModel",
          "state": {
            "_view_name": "LayoutView",
            "grid_template_rows": null,
            "right": null,
            "justify_content": null,
            "_view_module": "@jupyter-widgets/base",
            "overflow": null,
            "_model_module_version": "1.2.0",
            "_view_count": null,
            "flex_flow": null,
            "width": null,
            "min_width": null,
            "border": null,
            "align_items": null,
            "bottom": null,
            "_model_module": "@jupyter-widgets/base",
            "top": null,
            "grid_column": null,
            "overflow_y": null,
            "overflow_x": null,
            "grid_auto_flow": null,
            "grid_area": null,
            "grid_template_columns": null,
            "flex": null,
            "_model_name": "LayoutModel",
            "justify_items": null,
            "grid_row": null,
            "max_height": null,
            "align_content": null,
            "visibility": null,
            "align_self": null,
            "height": null,
            "min_height": null,
            "padding": null,
            "grid_auto_rows": null,
            "grid_gap": null,
            "max_width": null,
            "order": null,
            "_view_module_version": "1.2.0",
            "grid_template_areas": null,
            "object_position": null,
            "object_fit": null,
            "grid_auto_columns": null,
            "margin": null,
            "display": null,
            "left": null
          }
        },
        "d04232857dad4356903c07ed79864df4": {
          "model_module": "@jupyter-widgets/controls",
          "model_name": "DescriptionStyleModel",
          "state": {
            "_view_name": "StyleView",
            "_model_name": "DescriptionStyleModel",
            "description_width": "",
            "_view_module": "@jupyter-widgets/base",
            "_model_module_version": "1.5.0",
            "_view_count": null,
            "_view_module_version": "1.2.0",
            "_model_module": "@jupyter-widgets/controls"
          }
        },
        "a359ea5dcb924a039d645903e28b8df9": {
          "model_module": "@jupyter-widgets/base",
          "model_name": "LayoutModel",
          "state": {
            "_view_name": "LayoutView",
            "grid_template_rows": null,
            "right": null,
            "justify_content": null,
            "_view_module": "@jupyter-widgets/base",
            "overflow": null,
            "_model_module_version": "1.2.0",
            "_view_count": null,
            "flex_flow": null,
            "width": null,
            "min_width": null,
            "border": null,
            "align_items": null,
            "bottom": null,
            "_model_module": "@jupyter-widgets/base",
            "top": null,
            "grid_column": null,
            "overflow_y": null,
            "overflow_x": null,
            "grid_auto_flow": null,
            "grid_area": null,
            "grid_template_columns": null,
            "flex": null,
            "_model_name": "LayoutModel",
            "justify_items": null,
            "grid_row": null,
            "max_height": null,
            "align_content": null,
            "visibility": null,
            "align_self": null,
            "height": null,
            "min_height": null,
            "padding": null,
            "grid_auto_rows": null,
            "grid_gap": null,
            "max_width": null,
            "order": null,
            "_view_module_version": "1.2.0",
            "grid_template_areas": null,
            "object_position": null,
            "object_fit": null,
            "grid_auto_columns": null,
            "margin": null,
            "display": null,
            "left": null
          }
        },
        "ed59ed5118924752961a7656ee643c29": {
          "model_module": "@jupyter-widgets/controls",
          "model_name": "HBoxModel",
          "state": {
            "_view_name": "HBoxView",
            "_dom_classes": [],
            "_model_name": "HBoxModel",
            "_view_module": "@jupyter-widgets/controls",
            "_model_module_version": "1.5.0",
            "_view_count": null,
            "_view_module_version": "1.5.0",
            "box_style": "",
            "layout": "IPY_MODEL_a65c1f477f2a4aedb799e5151b7c6915",
            "_model_module": "@jupyter-widgets/controls",
            "children": [
              "IPY_MODEL_0a9f1ec0e8b440a1be7d4aa4a9741d62",
              "IPY_MODEL_3b9948a0e8c94b6abdf3ecc0356ce6dd"
            ]
          }
        },
        "a65c1f477f2a4aedb799e5151b7c6915": {
          "model_module": "@jupyter-widgets/base",
          "model_name": "LayoutModel",
          "state": {
            "_view_name": "LayoutView",
            "grid_template_rows": null,
            "right": null,
            "justify_content": null,
            "_view_module": "@jupyter-widgets/base",
            "overflow": null,
            "_model_module_version": "1.2.0",
            "_view_count": null,
            "flex_flow": null,
            "width": null,
            "min_width": null,
            "border": null,
            "align_items": null,
            "bottom": null,
            "_model_module": "@jupyter-widgets/base",
            "top": null,
            "grid_column": null,
            "overflow_y": null,
            "overflow_x": null,
            "grid_auto_flow": null,
            "grid_area": null,
            "grid_template_columns": null,
            "flex": null,
            "_model_name": "LayoutModel",
            "justify_items": null,
            "grid_row": null,
            "max_height": null,
            "align_content": null,
            "visibility": null,
            "align_self": null,
            "height": null,
            "min_height": null,
            "padding": null,
            "grid_auto_rows": null,
            "grid_gap": null,
            "max_width": null,
            "order": null,
            "_view_module_version": "1.2.0",
            "grid_template_areas": null,
            "object_position": null,
            "object_fit": null,
            "grid_auto_columns": null,
            "margin": null,
            "display": null,
            "left": null
          }
        },
        "0a9f1ec0e8b440a1be7d4aa4a9741d62": {
          "model_module": "@jupyter-widgets/controls",
          "model_name": "IntProgressModel",
          "state": {
            "_view_name": "ProgressView",
            "style": "IPY_MODEL_ab6c60ec374e4764b5890bd9fc2ce15b",
            "_dom_classes": [],
            "description": "100%",
            "_model_name": "IntProgressModel",
            "bar_style": "success",
            "max": 1100032,
            "_view_module": "@jupyter-widgets/controls",
            "_model_module_version": "1.5.0",
            "value": 1100032,
            "_view_count": null,
            "_view_module_version": "1.5.0",
            "orientation": "horizontal",
            "min": 0,
            "description_tooltip": null,
            "_model_module": "@jupyter-widgets/controls",
            "layout": "IPY_MODEL_45908bab2e004b1b89d57b7c118e2002"
          }
        },
        "3b9948a0e8c94b6abdf3ecc0356ce6dd": {
          "model_module": "@jupyter-widgets/controls",
          "model_name": "HTMLModel",
          "state": {
            "_view_name": "HTMLView",
            "style": "IPY_MODEL_427bd5910d1e439f91b89ab49343fb48",
            "_dom_classes": [],
            "description": "",
            "_model_name": "HTMLModel",
            "placeholder": "​",
            "_view_module": "@jupyter-widgets/controls",
            "_model_module_version": "1.5.0",
            "value": " 1100032/1100032 [05:32&lt;00:00, 3308.11it/s]",
            "_view_count": null,
            "_view_module_version": "1.5.0",
            "description_tooltip": null,
            "_model_module": "@jupyter-widgets/controls",
            "layout": "IPY_MODEL_17badbd0e9044fcead05bd11ca4543d4"
          }
        },
        "ab6c60ec374e4764b5890bd9fc2ce15b": {
          "model_module": "@jupyter-widgets/controls",
          "model_name": "ProgressStyleModel",
          "state": {
            "_view_name": "StyleView",
            "_model_name": "ProgressStyleModel",
            "description_width": "initial",
            "_view_module": "@jupyter-widgets/base",
            "_model_module_version": "1.5.0",
            "_view_count": null,
            "_view_module_version": "1.2.0",
            "bar_color": null,
            "_model_module": "@jupyter-widgets/controls"
          }
        },
        "45908bab2e004b1b89d57b7c118e2002": {
          "model_module": "@jupyter-widgets/base",
          "model_name": "LayoutModel",
          "state": {
            "_view_name": "LayoutView",
            "grid_template_rows": null,
            "right": null,
            "justify_content": null,
            "_view_module": "@jupyter-widgets/base",
            "overflow": null,
            "_model_module_version": "1.2.0",
            "_view_count": null,
            "flex_flow": null,
            "width": null,
            "min_width": null,
            "border": null,
            "align_items": null,
            "bottom": null,
            "_model_module": "@jupyter-widgets/base",
            "top": null,
            "grid_column": null,
            "overflow_y": null,
            "overflow_x": null,
            "grid_auto_flow": null,
            "grid_area": null,
            "grid_template_columns": null,
            "flex": null,
            "_model_name": "LayoutModel",
            "justify_items": null,
            "grid_row": null,
            "max_height": null,
            "align_content": null,
            "visibility": null,
            "align_self": null,
            "height": null,
            "min_height": null,
            "padding": null,
            "grid_auto_rows": null,
            "grid_gap": null,
            "max_width": null,
            "order": null,
            "_view_module_version": "1.2.0",
            "grid_template_areas": null,
            "object_position": null,
            "object_fit": null,
            "grid_auto_columns": null,
            "margin": null,
            "display": null,
            "left": null
          }
        },
        "427bd5910d1e439f91b89ab49343fb48": {
          "model_module": "@jupyter-widgets/controls",
          "model_name": "DescriptionStyleModel",
          "state": {
            "_view_name": "StyleView",
            "_model_name": "DescriptionStyleModel",
            "description_width": "",
            "_view_module": "@jupyter-widgets/base",
            "_model_module_version": "1.5.0",
            "_view_count": null,
            "_view_module_version": "1.2.0",
            "_model_module": "@jupyter-widgets/controls"
          }
        },
        "17badbd0e9044fcead05bd11ca4543d4": {
          "model_module": "@jupyter-widgets/base",
          "model_name": "LayoutModel",
          "state": {
            "_view_name": "LayoutView",
            "grid_template_rows": null,
            "right": null,
            "justify_content": null,
            "_view_module": "@jupyter-widgets/base",
            "overflow": null,
            "_model_module_version": "1.2.0",
            "_view_count": null,
            "flex_flow": null,
            "width": null,
            "min_width": null,
            "border": null,
            "align_items": null,
            "bottom": null,
            "_model_module": "@jupyter-widgets/base",
            "top": null,
            "grid_column": null,
            "overflow_y": null,
            "overflow_x": null,
            "grid_auto_flow": null,
            "grid_area": null,
            "grid_template_columns": null,
            "flex": null,
            "_model_name": "LayoutModel",
            "justify_items": null,
            "grid_row": null,
            "max_height": null,
            "align_content": null,
            "visibility": null,
            "align_self": null,
            "height": null,
            "min_height": null,
            "padding": null,
            "grid_auto_rows": null,
            "grid_gap": null,
            "max_width": null,
            "order": null,
            "_view_module_version": "1.2.0",
            "grid_template_areas": null,
            "object_position": null,
            "object_fit": null,
            "grid_auto_columns": null,
            "margin": null,
            "display": null,
            "left": null
          }
        },
        "1aa19f78cddd4926aae5c3b8e12724c6": {
          "model_module": "@jupyter-widgets/controls",
          "model_name": "HBoxModel",
          "state": {
            "_view_name": "HBoxView",
            "_dom_classes": [],
            "_model_name": "HBoxModel",
            "_view_module": "@jupyter-widgets/controls",
            "_model_module_version": "1.5.0",
            "_view_count": null,
            "_view_module_version": "1.5.0",
            "box_style": "",
            "layout": "IPY_MODEL_15cc6de783384d1998adaf78d4ff3f5f",
            "_model_module": "@jupyter-widgets/controls",
            "children": [
              "IPY_MODEL_6f2f5c4d29ca4647bdb67aed14469895",
              "IPY_MODEL_1b8fc437712e4f3bb96fe58bf700f7a8"
            ]
          }
        },
        "15cc6de783384d1998adaf78d4ff3f5f": {
          "model_module": "@jupyter-widgets/base",
          "model_name": "LayoutModel",
          "state": {
            "_view_name": "LayoutView",
            "grid_template_rows": null,
            "right": null,
            "justify_content": null,
            "_view_module": "@jupyter-widgets/base",
            "overflow": null,
            "_model_module_version": "1.2.0",
            "_view_count": null,
            "flex_flow": null,
            "width": null,
            "min_width": null,
            "border": null,
            "align_items": null,
            "bottom": null,
            "_model_module": "@jupyter-widgets/base",
            "top": null,
            "grid_column": null,
            "overflow_y": null,
            "overflow_x": null,
            "grid_auto_flow": null,
            "grid_area": null,
            "grid_template_columns": null,
            "flex": null,
            "_model_name": "LayoutModel",
            "justify_items": null,
            "grid_row": null,
            "max_height": null,
            "align_content": null,
            "visibility": null,
            "align_self": null,
            "height": null,
            "min_height": null,
            "padding": null,
            "grid_auto_rows": null,
            "grid_gap": null,
            "max_width": null,
            "order": null,
            "_view_module_version": "1.2.0",
            "grid_template_areas": null,
            "object_position": null,
            "object_fit": null,
            "grid_auto_columns": null,
            "margin": null,
            "display": null,
            "left": null
          }
        },
        "6f2f5c4d29ca4647bdb67aed14469895": {
          "model_module": "@jupyter-widgets/controls",
          "model_name": "IntProgressModel",
          "state": {
            "_view_name": "ProgressView",
            "style": "IPY_MODEL_551559ecc8f74e18aba67cce37ff94a3",
            "_dom_classes": [],
            "description": "100%",
            "_model_name": "IntProgressModel",
            "bar_style": "success",
            "max": 180487,
            "_view_module": "@jupyter-widgets/controls",
            "_model_module_version": "1.5.0",
            "value": 180487,
            "_view_count": null,
            "_view_module_version": "1.5.0",
            "orientation": "horizontal",
            "min": 0,
            "description_tooltip": null,
            "_model_module": "@jupyter-widgets/controls",
            "layout": "IPY_MODEL_3802d62a58534210a232823b8fd34b15"
          }
        },
        "1b8fc437712e4f3bb96fe58bf700f7a8": {
          "model_module": "@jupyter-widgets/controls",
          "model_name": "HTMLModel",
          "state": {
            "_view_name": "HTMLView",
            "style": "IPY_MODEL_d30a5bf7720f4d388242e9ccd7e8dfe0",
            "_dom_classes": [],
            "description": "",
            "_model_name": "HTMLModel",
            "placeholder": "​",
            "_view_module": "@jupyter-widgets/controls",
            "_model_module_version": "1.5.0",
            "value": " 180487/180487 [01:36&lt;00:00, 1873.14it/s]",
            "_view_count": null,
            "_view_module_version": "1.5.0",
            "description_tooltip": null,
            "_model_module": "@jupyter-widgets/controls",
            "layout": "IPY_MODEL_9a0bc99b86cc4664b41ed0464b8bb414"
          }
        },
        "551559ecc8f74e18aba67cce37ff94a3": {
          "model_module": "@jupyter-widgets/controls",
          "model_name": "ProgressStyleModel",
          "state": {
            "_view_name": "StyleView",
            "_model_name": "ProgressStyleModel",
            "description_width": "initial",
            "_view_module": "@jupyter-widgets/base",
            "_model_module_version": "1.5.0",
            "_view_count": null,
            "_view_module_version": "1.2.0",
            "bar_color": null,
            "_model_module": "@jupyter-widgets/controls"
          }
        },
        "3802d62a58534210a232823b8fd34b15": {
          "model_module": "@jupyter-widgets/base",
          "model_name": "LayoutModel",
          "state": {
            "_view_name": "LayoutView",
            "grid_template_rows": null,
            "right": null,
            "justify_content": null,
            "_view_module": "@jupyter-widgets/base",
            "overflow": null,
            "_model_module_version": "1.2.0",
            "_view_count": null,
            "flex_flow": null,
            "width": null,
            "min_width": null,
            "border": null,
            "align_items": null,
            "bottom": null,
            "_model_module": "@jupyter-widgets/base",
            "top": null,
            "grid_column": null,
            "overflow_y": null,
            "overflow_x": null,
            "grid_auto_flow": null,
            "grid_area": null,
            "grid_template_columns": null,
            "flex": null,
            "_model_name": "LayoutModel",
            "justify_items": null,
            "grid_row": null,
            "max_height": null,
            "align_content": null,
            "visibility": null,
            "align_self": null,
            "height": null,
            "min_height": null,
            "padding": null,
            "grid_auto_rows": null,
            "grid_gap": null,
            "max_width": null,
            "order": null,
            "_view_module_version": "1.2.0",
            "grid_template_areas": null,
            "object_position": null,
            "object_fit": null,
            "grid_auto_columns": null,
            "margin": null,
            "display": null,
            "left": null
          }
        },
        "d30a5bf7720f4d388242e9ccd7e8dfe0": {
          "model_module": "@jupyter-widgets/controls",
          "model_name": "DescriptionStyleModel",
          "state": {
            "_view_name": "StyleView",
            "_model_name": "DescriptionStyleModel",
            "description_width": "",
            "_view_module": "@jupyter-widgets/base",
            "_model_module_version": "1.5.0",
            "_view_count": null,
            "_view_module_version": "1.2.0",
            "_model_module": "@jupyter-widgets/controls"
          }
        },
        "9a0bc99b86cc4664b41ed0464b8bb414": {
          "model_module": "@jupyter-widgets/base",
          "model_name": "LayoutModel",
          "state": {
            "_view_name": "LayoutView",
            "grid_template_rows": null,
            "right": null,
            "justify_content": null,
            "_view_module": "@jupyter-widgets/base",
            "overflow": null,
            "_model_module_version": "1.2.0",
            "_view_count": null,
            "flex_flow": null,
            "width": null,
            "min_width": null,
            "border": null,
            "align_items": null,
            "bottom": null,
            "_model_module": "@jupyter-widgets/base",
            "top": null,
            "grid_column": null,
            "overflow_y": null,
            "overflow_x": null,
            "grid_auto_flow": null,
            "grid_area": null,
            "grid_template_columns": null,
            "flex": null,
            "_model_name": "LayoutModel",
            "justify_items": null,
            "grid_row": null,
            "max_height": null,
            "align_content": null,
            "visibility": null,
            "align_self": null,
            "height": null,
            "min_height": null,
            "padding": null,
            "grid_auto_rows": null,
            "grid_gap": null,
            "max_width": null,
            "order": null,
            "_view_module_version": "1.2.0",
            "grid_template_areas": null,
            "object_position": null,
            "object_fit": null,
            "grid_auto_columns": null,
            "margin": null,
            "display": null,
            "left": null
          }
        },
        "9a7e9f554a43415bbbc0e0755f3d088c": {
          "model_module": "@jupyter-widgets/controls",
          "model_name": "HBoxModel",
          "state": {
            "_view_name": "HBoxView",
            "_dom_classes": [],
            "_model_name": "HBoxModel",
            "_view_module": "@jupyter-widgets/controls",
            "_model_module_version": "1.5.0",
            "_view_count": null,
            "_view_module_version": "1.5.0",
            "box_style": "",
            "layout": "IPY_MODEL_658f9ce5cfc649c28414663960dc803a",
            "_model_module": "@jupyter-widgets/controls",
            "children": [
              "IPY_MODEL_ee3cdea8ff6a430ea583fc68b3892b1c",
              "IPY_MODEL_8923ce644a924cf59e8958c46833745b"
            ]
          }
        },
        "658f9ce5cfc649c28414663960dc803a": {
          "model_module": "@jupyter-widgets/base",
          "model_name": "LayoutModel",
          "state": {
            "_view_name": "LayoutView",
            "grid_template_rows": null,
            "right": null,
            "justify_content": null,
            "_view_module": "@jupyter-widgets/base",
            "overflow": null,
            "_model_module_version": "1.2.0",
            "_view_count": null,
            "flex_flow": null,
            "width": null,
            "min_width": null,
            "border": null,
            "align_items": null,
            "bottom": null,
            "_model_module": "@jupyter-widgets/base",
            "top": null,
            "grid_column": null,
            "overflow_y": null,
            "overflow_x": null,
            "grid_auto_flow": null,
            "grid_area": null,
            "grid_template_columns": null,
            "flex": null,
            "_model_name": "LayoutModel",
            "justify_items": null,
            "grid_row": null,
            "max_height": null,
            "align_content": null,
            "visibility": null,
            "align_self": null,
            "height": null,
            "min_height": null,
            "padding": null,
            "grid_auto_rows": null,
            "grid_gap": null,
            "max_width": null,
            "order": null,
            "_view_module_version": "1.2.0",
            "grid_template_areas": null,
            "object_position": null,
            "object_fit": null,
            "grid_auto_columns": null,
            "margin": null,
            "display": null,
            "left": null
          }
        },
        "ee3cdea8ff6a430ea583fc68b3892b1c": {
          "model_module": "@jupyter-widgets/controls",
          "model_name": "IntProgressModel",
          "state": {
            "_view_name": "ProgressView",
            "style": "IPY_MODEL_59fbf04e9800495ca1204375e23e6ac3",
            "_dom_classes": [],
            "description": "100%",
            "_model_name": "IntProgressModel",
            "bar_style": "success",
            "max": 180488,
            "_view_module": "@jupyter-widgets/controls",
            "_model_module_version": "1.5.0",
            "value": 180488,
            "_view_count": null,
            "_view_module_version": "1.5.0",
            "orientation": "horizontal",
            "min": 0,
            "description_tooltip": null,
            "_model_module": "@jupyter-widgets/controls",
            "layout": "IPY_MODEL_bc68a23dafd146499f8cd4e39e0a01f0"
          }
        },
        "8923ce644a924cf59e8958c46833745b": {
          "model_module": "@jupyter-widgets/controls",
          "model_name": "HTMLModel",
          "state": {
            "_view_name": "HTMLView",
            "style": "IPY_MODEL_12a8abdeb55544259c774b37dc791c55",
            "_dom_classes": [],
            "description": "",
            "_model_name": "HTMLModel",
            "placeholder": "​",
            "_view_module": "@jupyter-widgets/controls",
            "_model_module_version": "1.5.0",
            "value": " 180488/180488 [00:54&lt;00:00, 3303.93it/s]",
            "_view_count": null,
            "_view_module_version": "1.5.0",
            "description_tooltip": null,
            "_model_module": "@jupyter-widgets/controls",
            "layout": "IPY_MODEL_e8ca4c200ecd45f881afe3a46b2b2e60"
          }
        },
        "59fbf04e9800495ca1204375e23e6ac3": {
          "model_module": "@jupyter-widgets/controls",
          "model_name": "ProgressStyleModel",
          "state": {
            "_view_name": "StyleView",
            "_model_name": "ProgressStyleModel",
            "description_width": "initial",
            "_view_module": "@jupyter-widgets/base",
            "_model_module_version": "1.5.0",
            "_view_count": null,
            "_view_module_version": "1.2.0",
            "bar_color": null,
            "_model_module": "@jupyter-widgets/controls"
          }
        },
        "bc68a23dafd146499f8cd4e39e0a01f0": {
          "model_module": "@jupyter-widgets/base",
          "model_name": "LayoutModel",
          "state": {
            "_view_name": "LayoutView",
            "grid_template_rows": null,
            "right": null,
            "justify_content": null,
            "_view_module": "@jupyter-widgets/base",
            "overflow": null,
            "_model_module_version": "1.2.0",
            "_view_count": null,
            "flex_flow": null,
            "width": null,
            "min_width": null,
            "border": null,
            "align_items": null,
            "bottom": null,
            "_model_module": "@jupyter-widgets/base",
            "top": null,
            "grid_column": null,
            "overflow_y": null,
            "overflow_x": null,
            "grid_auto_flow": null,
            "grid_area": null,
            "grid_template_columns": null,
            "flex": null,
            "_model_name": "LayoutModel",
            "justify_items": null,
            "grid_row": null,
            "max_height": null,
            "align_content": null,
            "visibility": null,
            "align_self": null,
            "height": null,
            "min_height": null,
            "padding": null,
            "grid_auto_rows": null,
            "grid_gap": null,
            "max_width": null,
            "order": null,
            "_view_module_version": "1.2.0",
            "grid_template_areas": null,
            "object_position": null,
            "object_fit": null,
            "grid_auto_columns": null,
            "margin": null,
            "display": null,
            "left": null
          }
        },
        "12a8abdeb55544259c774b37dc791c55": {
          "model_module": "@jupyter-widgets/controls",
          "model_name": "DescriptionStyleModel",
          "state": {
            "_view_name": "StyleView",
            "_model_name": "DescriptionStyleModel",
            "description_width": "",
            "_view_module": "@jupyter-widgets/base",
            "_model_module_version": "1.5.0",
            "_view_count": null,
            "_view_module_version": "1.2.0",
            "_model_module": "@jupyter-widgets/controls"
          }
        },
        "e8ca4c200ecd45f881afe3a46b2b2e60": {
          "model_module": "@jupyter-widgets/base",
          "model_name": "LayoutModel",
          "state": {
            "_view_name": "LayoutView",
            "grid_template_rows": null,
            "right": null,
            "justify_content": null,
            "_view_module": "@jupyter-widgets/base",
            "overflow": null,
            "_model_module_version": "1.2.0",
            "_view_count": null,
            "flex_flow": null,
            "width": null,
            "min_width": null,
            "border": null,
            "align_items": null,
            "bottom": null,
            "_model_module": "@jupyter-widgets/base",
            "top": null,
            "grid_column": null,
            "overflow_y": null,
            "overflow_x": null,
            "grid_auto_flow": null,
            "grid_area": null,
            "grid_template_columns": null,
            "flex": null,
            "_model_name": "LayoutModel",
            "justify_items": null,
            "grid_row": null,
            "max_height": null,
            "align_content": null,
            "visibility": null,
            "align_self": null,
            "height": null,
            "min_height": null,
            "padding": null,
            "grid_auto_rows": null,
            "grid_gap": null,
            "max_width": null,
            "order": null,
            "_view_module_version": "1.2.0",
            "grid_template_areas": null,
            "object_position": null,
            "object_fit": null,
            "grid_auto_columns": null,
            "margin": null,
            "display": null,
            "left": null
          }
        },
        "510966ed00b04a2297f364b5186c669d": {
          "model_module": "@jupyter-widgets/controls",
          "model_name": "HBoxModel",
          "state": {
            "_view_name": "HBoxView",
            "_dom_classes": [],
            "_model_name": "HBoxModel",
            "_view_module": "@jupyter-widgets/controls",
            "_model_module_version": "1.5.0",
            "_view_count": null,
            "_view_module_version": "1.5.0",
            "box_style": "",
            "layout": "IPY_MODEL_6d09dc40deb94497af0be4f7ed24c3ea",
            "_model_module": "@jupyter-widgets/controls",
            "children": [
              "IPY_MODEL_09707c38adce406c8451c09676f0657b",
              "IPY_MODEL_3aec2665e4bc4785964487b85df143cc"
            ]
          }
        },
        "6d09dc40deb94497af0be4f7ed24c3ea": {
          "model_module": "@jupyter-widgets/base",
          "model_name": "LayoutModel",
          "state": {
            "_view_name": "LayoutView",
            "grid_template_rows": null,
            "right": null,
            "justify_content": null,
            "_view_module": "@jupyter-widgets/base",
            "overflow": null,
            "_model_module_version": "1.2.0",
            "_view_count": null,
            "flex_flow": null,
            "width": null,
            "min_width": null,
            "border": null,
            "align_items": null,
            "bottom": null,
            "_model_module": "@jupyter-widgets/base",
            "top": null,
            "grid_column": null,
            "overflow_y": null,
            "overflow_x": null,
            "grid_auto_flow": null,
            "grid_area": null,
            "grid_template_columns": null,
            "flex": null,
            "_model_name": "LayoutModel",
            "justify_items": null,
            "grid_row": null,
            "max_height": null,
            "align_content": null,
            "visibility": null,
            "align_self": null,
            "height": null,
            "min_height": null,
            "padding": null,
            "grid_auto_rows": null,
            "grid_gap": null,
            "max_width": null,
            "order": null,
            "_view_module_version": "1.2.0",
            "grid_template_areas": null,
            "object_position": null,
            "object_fit": null,
            "grid_auto_columns": null,
            "margin": null,
            "display": null,
            "left": null
          }
        },
        "09707c38adce406c8451c09676f0657b": {
          "model_module": "@jupyter-widgets/controls",
          "model_name": "IntProgressModel",
          "state": {
            "_view_name": "ProgressView",
            "style": "IPY_MODEL_006de5f8025e45e2b846568f59e253a6",
            "_dom_classes": [],
            "description": "100%",
            "_model_name": "IntProgressModel",
            "bar_style": "success",
            "max": 97320,
            "_view_module": "@jupyter-widgets/controls",
            "_model_module_version": "1.5.0",
            "value": 97320,
            "_view_count": null,
            "_view_module_version": "1.5.0",
            "orientation": "horizontal",
            "min": 0,
            "description_tooltip": null,
            "_model_module": "@jupyter-widgets/controls",
            "layout": "IPY_MODEL_266060be607f4f9aa3138a20aefa8d11"
          }
        },
        "3aec2665e4bc4785964487b85df143cc": {
          "model_module": "@jupyter-widgets/controls",
          "model_name": "HTMLModel",
          "state": {
            "_view_name": "HTMLView",
            "style": "IPY_MODEL_cce35c16628a45e68e5bb42fc7735eea",
            "_dom_classes": [],
            "description": "",
            "_model_name": "HTMLModel",
            "placeholder": "​",
            "_view_module": "@jupyter-widgets/controls",
            "_model_module_version": "1.5.0",
            "value": " 97320/97320 [00:27&lt;00:00, 3487.05it/s]",
            "_view_count": null,
            "_view_module_version": "1.5.0",
            "description_tooltip": null,
            "_model_module": "@jupyter-widgets/controls",
            "layout": "IPY_MODEL_cd2636e418734a808b779bc78f06eb41"
          }
        },
        "006de5f8025e45e2b846568f59e253a6": {
          "model_module": "@jupyter-widgets/controls",
          "model_name": "ProgressStyleModel",
          "state": {
            "_view_name": "StyleView",
            "_model_name": "ProgressStyleModel",
            "description_width": "initial",
            "_view_module": "@jupyter-widgets/base",
            "_model_module_version": "1.5.0",
            "_view_count": null,
            "_view_module_version": "1.2.0",
            "bar_color": null,
            "_model_module": "@jupyter-widgets/controls"
          }
        },
        "266060be607f4f9aa3138a20aefa8d11": {
          "model_module": "@jupyter-widgets/base",
          "model_name": "LayoutModel",
          "state": {
            "_view_name": "LayoutView",
            "grid_template_rows": null,
            "right": null,
            "justify_content": null,
            "_view_module": "@jupyter-widgets/base",
            "overflow": null,
            "_model_module_version": "1.2.0",
            "_view_count": null,
            "flex_flow": null,
            "width": null,
            "min_width": null,
            "border": null,
            "align_items": null,
            "bottom": null,
            "_model_module": "@jupyter-widgets/base",
            "top": null,
            "grid_column": null,
            "overflow_y": null,
            "overflow_x": null,
            "grid_auto_flow": null,
            "grid_area": null,
            "grid_template_columns": null,
            "flex": null,
            "_model_name": "LayoutModel",
            "justify_items": null,
            "grid_row": null,
            "max_height": null,
            "align_content": null,
            "visibility": null,
            "align_self": null,
            "height": null,
            "min_height": null,
            "padding": null,
            "grid_auto_rows": null,
            "grid_gap": null,
            "max_width": null,
            "order": null,
            "_view_module_version": "1.2.0",
            "grid_template_areas": null,
            "object_position": null,
            "object_fit": null,
            "grid_auto_columns": null,
            "margin": null,
            "display": null,
            "left": null
          }
        },
        "cce35c16628a45e68e5bb42fc7735eea": {
          "model_module": "@jupyter-widgets/controls",
          "model_name": "DescriptionStyleModel",
          "state": {
            "_view_name": "StyleView",
            "_model_name": "DescriptionStyleModel",
            "description_width": "",
            "_view_module": "@jupyter-widgets/base",
            "_model_module_version": "1.5.0",
            "_view_count": null,
            "_view_module_version": "1.2.0",
            "_model_module": "@jupyter-widgets/controls"
          }
        },
        "cd2636e418734a808b779bc78f06eb41": {
          "model_module": "@jupyter-widgets/base",
          "model_name": "LayoutModel",
          "state": {
            "_view_name": "LayoutView",
            "grid_template_rows": null,
            "right": null,
            "justify_content": null,
            "_view_module": "@jupyter-widgets/base",
            "overflow": null,
            "_model_module_version": "1.2.0",
            "_view_count": null,
            "flex_flow": null,
            "width": null,
            "min_width": null,
            "border": null,
            "align_items": null,
            "bottom": null,
            "_model_module": "@jupyter-widgets/base",
            "top": null,
            "grid_column": null,
            "overflow_y": null,
            "overflow_x": null,
            "grid_auto_flow": null,
            "grid_area": null,
            "grid_template_columns": null,
            "flex": null,
            "_model_name": "LayoutModel",
            "justify_items": null,
            "grid_row": null,
            "max_height": null,
            "align_content": null,
            "visibility": null,
            "align_self": null,
            "height": null,
            "min_height": null,
            "padding": null,
            "grid_auto_rows": null,
            "grid_gap": null,
            "max_width": null,
            "order": null,
            "_view_module_version": "1.2.0",
            "grid_template_areas": null,
            "object_position": null,
            "object_fit": null,
            "grid_auto_columns": null,
            "margin": null,
            "display": null,
            "left": null
          }
        }
      }
    },
    "colab": {
      "name": "Capstone Project using LSTM.ipynb",
      "provenance": [],
      "toc_visible": true,
      "machine_shape": "hm"
    },
    "accelerator": "GPU"
  },
  "cells": [
    {
      "cell_type": "markdown",
      "metadata": {
        "id": "UivgPOTeVEHJ",
        "colab_type": "text"
      },
      "source": [
        "# Toxic Comment Detection with PyTorch LSTM"
      ]
    },
    {
      "cell_type": "markdown",
      "metadata": {
        "id": "iBUQYdEgVEHL",
        "colab_type": "text"
      },
      "source": [
        "In this kernel, I implement LSTM for toxicity prediction using only PyTorch (and torchtext) whenever possible. I have been a keras user since forever, but I notice more and more new architectures are built through PyTorch. Thus, the main purpose of building this kernel for me is to learn PyTorch. I leave some comments to explain what each section is trying to do, hopefully it can help you too.\n",
        "\n",
        "I incorporate many techniques that I have learned from other excellent kernels, shoutout to:\n",
        "- @bminixhofer: https://www.kaggle.com/bminixhofer/simple-lstm-pytorch-version\n",
        "- @christofhenkel: https://www.kaggle.com/christofhenkel/how-to-preprocessing-for-glove-part1-eda\n",
        "\n",
        "Having been inspired by those kernels, there are some modifications:\n",
        "- based on my EDA kernel (https://www.kaggle.com/yosefardhito/eda-annotations-lexical-and-bag-of-words), I ignore comments with both low toxicity annotator count and toxic target value between 0.4 and 0.6 because I noticed how comments with target between that range has a questionable label even for me, let alone the model. For auxiliary attributes, I use only 'insult' because it is the only attributes significantly correlated with the target column. \n",
        "- I add a simple train/dev/test split process so I can experiment with the training data alone.\n",
        "- Paddings are added at the beginning instead of after the comment.\n",
        "- Slight modification of the Simple LSTM model on the concatenation.\n",
        "\n",
        "Why LSTM? I know from the stories of the top leaderboards that BERT and XLNet provide the best result. However, since the goal of this kernel is to learn, I prefer training a model with simpler and modifiable architecture. I want to emphasize on learning how to do it in PyTorch instead. Surely, pre-trained BERT and XLNet are next to be mastered!"
      ]
    },
    {
      "cell_type": "code",
      "metadata": {
        "_cell_guid": "b1076dfc-b9ad-4769-8c92-a6c4dae69d19",
        "_kg_hide-input": true,
        "_uuid": "8f2839f25d086af736a60e9eeb907d3b93b6e0e5",
        "id": "NEJn0IYEVEHN",
        "colab_type": "code",
        "outputId": "95f2163a-e140-46ca-b671-6fc9b4edda7c",
        "colab": {
          "base_uri": "https://localhost:8080/",
          "height": 122
        }
      },
      "source": [
        "import string\n",
        "import re\n",
        "import operator\n",
        "import pickle\n",
        "from collections import Counter\n",
        "\n",
        "import numpy as np\n",
        "import matplotlib.pyplot as plt\n",
        "import pandas as pd\n",
        "from tqdm._tqdm_notebook import tqdm_notebook as tqdm; tqdm.pandas()\n",
        "\n",
        "from nltk.tokenize.treebank import TreebankWordTokenizer\n",
        "from sklearn.model_selection import train_test_split\n",
        "from sklearn.metrics import roc_auc_score, accuracy_score, confusion_matrix\n",
        "from torchtext.data import Example, Field, Dataset, LabelField, Iterator, BucketIterator\n",
        "import torch\n",
        "import torch.nn as nn\n",
        "import torch.nn.functional as F\n",
        "import torch.optim as optim\n",
        "\n",
        "# dataframe options to display the whole comments\n",
        "pd.set_option('display.max_colwidth', -1)\n",
        "\n",
        "\n",
        "device = 'cuda' if torch.cuda.is_available() else 'cpu'\n",
        "\n",
        "device"
      ],
      "execution_count": 3,
      "outputs": [
        {
          "output_type": "stream",
          "text": [
            "/usr/local/lib/python3.6/dist-packages/ipykernel_launcher.py:10: TqdmDeprecationWarning: This function will be removed in tqdm==5.0.0\n",
            "Please use `tqdm.notebook.*` instead of `tqdm._tqdm_notebook.*`\n",
            "  # Remove the CWD from sys.path while we load stuff.\n",
            "/usr/local/lib/python3.6/dist-packages/ipykernel_launcher.py:22: FutureWarning: Passing a negative integer is deprecated in version 1.0 and will not be supported in future version. Instead, use None to not limit the column width.\n"
          ],
          "name": "stderr"
        },
        {
          "output_type": "execute_result",
          "data": {
            "text/plain": [
              "'cuda'"
            ]
          },
          "metadata": {
            "tags": []
          },
          "execution_count": 3
        }
      ]
    },
    {
      "cell_type": "markdown",
      "metadata": {
        "id": "pfVhR6D_VEHp",
        "colab_type": "text"
      },
      "source": [
        "# 1. Data Loading"
      ]
    },
    {
      "cell_type": "code",
      "metadata": {
        "id": "VrR4XqoqTetu",
        "colab_type": "code",
        "colab": {
          "base_uri": "https://localhost:8080/",
          "height": 122
        },
        "outputId": "f09d8a4e-bc74-4d14-e006-69a51afc7ad6"
      },
      "source": [
        "from google.colab import drive\n",
        "drive.mount('/content/drive')"
      ],
      "execution_count": 2,
      "outputs": [
        {
          "output_type": "stream",
          "text": [
            "Go to this URL in a browser: https://accounts.google.com/o/oauth2/auth?client_id=947318989803-6bn6qk8qdgf4n4g3pfee6491hc0brc4i.apps.googleusercontent.com&redirect_uri=urn%3aietf%3awg%3aoauth%3a2.0%3aoob&response_type=code&scope=email%20https%3a%2f%2fwww.googleapis.com%2fauth%2fdocs.test%20https%3a%2f%2fwww.googleapis.com%2fauth%2fdrive%20https%3a%2f%2fwww.googleapis.com%2fauth%2fdrive.photos.readonly%20https%3a%2f%2fwww.googleapis.com%2fauth%2fpeopleapi.readonly\n",
            "\n",
            "Enter your authorization code:\n",
            "··········\n",
            "Mounted at /content/drive\n"
          ],
          "name": "stdout"
        }
      ]
    },
    {
      "cell_type": "markdown",
      "metadata": {
        "id": "gGYR6nMfVEHw",
        "colab_type": "text"
      },
      "source": [
        "## 1.1. Load Dataset"
      ]
    },
    {
      "cell_type": "code",
      "metadata": {
        "id": "WO0MO06zVEIU",
        "colab_type": "code",
        "colab": {}
      },
      "source": [
        "# load only necessary fields to reduce memory footprint\n",
        "fields = ['id', 'comment_text', 'toxicity_annotator_count', 'insult', 'target']\n",
        "# load training set\n",
        "train_df = pd.read_csv(\"./drive/My Drive/train.csv.zip\", usecols=fields).set_index('id')\n",
        "X_train = train_df['comment_text']\n",
        "y_train = train_df['target'] >= 0.5  # create binary target column\n",
        "train_df['is_toxic'] = y_train\n",
        "train_df['is_insult'] = train_df['insult'] >= 0.5\n",
        "# split training set to train/dev/test set with stratified strategy\n",
        "X_train, X_dev_test, y_train, y_dev_test = train_test_split(X_train, y_train, stratify=y_train, test_size=0.2, random_state=1337)\n",
        "X_dev, X_test, y_dev, y_test = train_test_split(X_dev_test, y_dev_test, stratify=y_dev_test, test_size=0.5, random_state=1338)\n",
        "# load submission set\n",
        "test_df = pd.read_csv(\"./drive/My Drive/test.csv.zip\").set_index('id')\n",
        "X_submission = test_df['comment_text']"
      ],
      "execution_count": 0,
      "outputs": []
    },
    {
      "cell_type": "code",
      "metadata": {
        "id": "2zuXSJFHVEIe",
        "colab_type": "code",
        "outputId": "135a9e25-25b3-4c30-ca4c-9d3dd9fbcd3b",
        "colab": {
          "base_uri": "https://localhost:8080/",
          "height": 34
        }
      },
      "source": [
        "print(\"Length train: {:,}; dev: {:,}; test: {:,}; submission: {:,}\".format(\n",
        "    len(X_train), len(X_dev), len(X_test), len(X_submission)\n",
        "))"
      ],
      "execution_count": 5,
      "outputs": [
        {
          "output_type": "stream",
          "text": [
            "Length train: 1,443,899; dev: 180,487; test: 180,488; submission: 97,320\n"
          ],
          "name": "stdout"
        }
      ]
    },
    {
      "cell_type": "markdown",
      "metadata": {
        "id": "O6MABreJVEJv",
        "colab_type": "text"
      },
      "source": [
        "## 1.2. Load Embedding"
      ]
    },
    {
      "cell_type": "markdown",
      "metadata": {
        "id": "QSgkl0MjVEJw",
        "colab_type": "text"
      },
      "source": [
        "I only try glove embeddings during this experiment. Pickled version is used to reduce time for loading."
      ]
    },
    {
      "cell_type": "code",
      "metadata": {
        "id": "Rwy18-AzXp8L",
        "colab_type": "code",
        "outputId": "6606e342-7340-49ca-fed3-b3401bfbffe7",
        "colab": {
          "base_uri": "https://localhost:8080/",
          "height": 51
        }
      },
      "source": [
        "!unzip './drive/My Drive/glove.840B.300d.zip'\n"
      ],
      "execution_count": 8,
      "outputs": [
        {
          "output_type": "stream",
          "text": [
            "Archive:  ./drive/My Drive/glove.840B.300d.zip\n",
            "  inflating: glove.840B.300d.txt     \n"
          ],
          "name": "stdout"
        }
      ]
    },
    {
      "cell_type": "code",
      "metadata": {
        "id": "Pn6xn6tOVEJ2",
        "colab_type": "code",
        "outputId": "07558131-77cc-41dd-fff5-3e7a87731d97",
        "colab": {
          "base_uri": "https://localhost:8080/",
          "height": 51
        }
      },
      "source": [
        "# def load_embeddings(path):\n",
        "#     with open(path,'rb') as f:\n",
        "#         emb_arr = pickle.load(f)\n",
        "#     return emb_arr\n",
        "\n",
        "def loadGloveModel(gloveFile):\n",
        "    print (\"Loading Glove Model\")\n",
        "    f = open(gloveFile,'r', encoding='utf8')\n",
        "    model = {}\n",
        "    for line in f:\n",
        "        splitLine = line.split(' ')\n",
        "        word = splitLine[0]\n",
        "        embedding = np.asarray(splitLine[1:], dtype='float32')\n",
        "        model[word] = embedding\n",
        "    print (\"Done.\",len(model),\" words loaded!\")\n",
        "    return model\n",
        "\n",
        "EMBEDDING_PATH = \"glove.840B.300d.txt\"\n",
        "embeddings = loadGloveModel(EMBEDDING_PATH)"
      ],
      "execution_count": 9,
      "outputs": [
        {
          "output_type": "stream",
          "text": [
            "Loading Glove Model\n",
            "Done. 2196016  words loaded!\n"
          ],
          "name": "stdout"
        }
      ]
    },
    {
      "cell_type": "code",
      "metadata": {
        "id": "jKQdIklJiNNP",
        "colab_type": "code",
        "colab": {}
      },
      "source": [
        "import pickle\n",
        "\n",
        "with open('filename.pickle', 'wb') as handle:\n",
        "    pickle.dump(embeddings, handle, protocol=pickle.HIGHEST_PROTOCOL)\n",
        "\n",
        "# with open('filename.pickle', 'rb') as handle:\n",
        "#     b = pickle.load(handle)\n",
        "\n",
        "# print a == b"
      ],
      "execution_count": 0,
      "outputs": []
    },
    {
      "cell_type": "markdown",
      "metadata": {
        "id": "C17qR50lVEKG",
        "colab_type": "text"
      },
      "source": [
        "# 2. Data Preprocessing"
      ]
    },
    {
      "cell_type": "markdown",
      "metadata": {
        "id": "suakhQxDVEKI",
        "colab_type": "text"
      },
      "source": [
        "## 2.1. Filtering"
      ]
    },
    {
      "cell_type": "markdown",
      "metadata": {
        "id": "4xYPo17oVEKK",
        "colab_type": "text"
      },
      "source": [
        "Based on the EDA, I choose to ignore comments with target value between 0.4 and 0.6. Also, because the training set consists of an abundant number of comments with target value = 0, I decided only to sample comments that have both really low value for target and insult."
      ]
    },
    {
      "cell_type": "code",
      "metadata": {
        "id": "Tx_KuFvCVEKL",
        "colab_type": "code",
        "colab": {}
      },
      "source": [
        "# take all comments with toxicity annotator count >= 10 ** 1.5\n",
        "# train_trust_df = train_df[(train_df.index.isin(X_train.index)) & (train_df['toxicity_annotator_count'] >= 10 ** 1.5)]\n",
        "# filter comments with toxicity annotator count < 10 ** 1.5 based on the target value\n",
        "# train_chosen_df = train_df[train_df.index.isin(X_train.index) & (train_df['toxicity_annotator_count'] < 10 ** 1.5)]\n",
        "train_chosen_df = train_df[train_df.index.isin(X_train.index)]\n",
        "# for safe comments, take only those with both target and insult value < 0.2 (\"very safe\")\n",
        "train_chosen_very_safe_df = train_chosen_df[(train_chosen_df['target'] < 0.2) & (train_chosen_df['insult'] < 0.2)]\n",
        "# for toxic comments, ignore those between 0.4 and 0.5\n",
        "train_chosen_toxic_df = train_chosen_df[train_chosen_df['target'] >= 0.6]\n",
        "train_chosen_others_df = train_chosen_df[(train_chosen_df['target'] >= 0.2) & (train_chosen_df['target'] < 0.4)]\n",
        "# take maximum 1mil to fit processing within 2-hour time limit for submission and the given memory size\n",
        "# n_very_safe = min(len(train_chosen_very_safe_df), \n",
        "#                   1100032 - len(train_trust_df) - len(train_chosen_others_df) - len(train_chosen_toxic_df))\n",
        "n_very_safe = min(len(train_chosen_very_safe_df), \n",
        "                  1100032 - len(train_chosen_others_df) - len(train_chosen_toxic_df))\n",
        "train_chosen_very_safe_sample_df = train_chosen_very_safe_df.sample(n=n_very_safe, random_state=1337)\n",
        "# get all valid comment indices\n",
        "train_indices = [\n",
        "    #*train_trust_df.index.values,\n",
        "    *train_chosen_very_safe_sample_df.index.values, \n",
        "    *train_chosen_others_df.index.values, \n",
        "    *train_chosen_toxic_df.index.values\n",
        "]\n",
        "X_train = X_train[X_train.index.isin(train_indices)]\n",
        "X_dev = X_dev.sample(frac=1, random_state=1337)\n",
        "X_test = X_test.sample(frac=1, random_state=1337)"
      ],
      "execution_count": 0,
      "outputs": []
    },
    {
      "cell_type": "code",
      "metadata": {
        "id": "9csRDNDDVEKl",
        "colab_type": "code",
        "outputId": "61a6592c-ed04-4d3f-9f55-d91df16f030f",
        "colab": {
          "base_uri": "https://localhost:8080/",
          "height": 34
        }
      },
      "source": [
        "print(\"Length train: {:,}; dev: {:,}; test: {:,}; submission: {:,}\".format(\n",
        "    len(X_train), len(X_dev), len(X_test), len(X_submission)\n",
        "))"
      ],
      "execution_count": 8,
      "outputs": [
        {
          "output_type": "stream",
          "text": [
            "Length train: 1,100,032; dev: 180,487; test: 180,488; submission: 97,320\n"
          ],
          "name": "stdout"
        }
      ]
    },
    {
      "cell_type": "markdown",
      "metadata": {
        "id": "YzNwIV9_VEKt",
        "colab_type": "text"
      },
      "source": [
        "## 2.2. Prepare Accepted Characters"
      ]
    },
    {
      "cell_type": "markdown",
      "metadata": {
        "id": "HwoDm2H-VEKu",
        "colab_type": "text"
      },
      "source": [
        "Because I use embeddings, there are some symbols that do not have the respective embedding vectors. In this section, I check all characters used in the training set. The character set is compared to glove embeddings symbols afterward. Instead of using slow `replace()` function, we will use `translate()`. Basically, `translate()` take a dictionary of character mapping as input. The key of the dictionary is the ordinal of the characters."
      ]
    },
    {
      "cell_type": "code",
      "metadata": {
        "id": "fU0m8M6bVEKv",
        "colab_type": "code",
        "outputId": "acf4f86c-cc09-42b3-c746-f89688af97f8",
        "colab": {
          "base_uri": "https://localhost:8080/",
          "height": 66,
          "referenced_widgets": [
            "369a4a1bee194d14b34bbb35a6bcce6d",
            "4d5d8e7f27864312956e4b59ea1d4078",
            "19a46c0a82cf47458106ec7b34411e7b",
            "c816b69e712749a7bbc0f56d6e2a4801",
            "c275027f8a224380b0b418daaa407d95",
            "23d0f5d4738f4dd9b2da0aa443d5b86a",
            "84871b79a5894e0f8381ba4df055704b",
            "8bbba8abe0ad422ba720c1eeb7bfa7ae"
          ]
        }
      },
      "source": [
        "def build_character_set(sentences, verbose=True):\n",
        "    characters_in_dataset = {}\n",
        "    for sentence in tqdm(sentences, disable=(not verbose)):\n",
        "        for character in sentence:\n",
        "            try:\n",
        "                characters_in_dataset[character] += 1\n",
        "            except KeyError:\n",
        "                characters_in_dataset[character] = 1\n",
        "    return characters_in_dataset\n",
        "\n",
        "train_charset = build_character_set(X_train)\n",
        "# build all accepted characters\n",
        "latin_similar = \" ’'‘ÆÐƎƏƐƔĲŊŒẞÞǷȜæðǝəɛɣĳŋœĸſßþƿȝĄƁÇĐƊĘĦĮƘŁØƠŞȘŢȚŦŲƯY̨Ƴąɓçđɗęħįƙłøơşșţțŧųưy̨ƴÁÀÂÄǍĂĀÃÅǺĄÆǼǢƁĆĊĈČÇĎḌĐƊÐÉÈĖÊËĚĔĒĘẸƎƏƐĠĜǦĞĢƔáàâäǎăāãåǻąæǽǣɓćċĉčçďḍđɗðéèėêëěĕēęẹǝəɛġĝǧğģɣĤḤĦIÍÌİÎÏǏĬĪĨĮỊĲĴĶƘĹĻŁĽĿʼNŃN̈ŇÑŅŊÓÒÔÖǑŎŌÕŐỌØǾƠŒĥḥħıíìiîïǐĭīĩįịĳĵķƙĸĺļłľŀŉńn̈ňñņŋóòôöǒŏōõőọøǿơœŔŘŖŚŜŠŞȘṢẞŤŢṬŦÞÚÙÛÜǓŬŪŨŰŮŲỤƯẂẀŴẄǷÝỲŶŸȲỸƳŹŻŽẒŕřŗſśŝšşșṣßťţṭŧþúùûüǔŭūũűůųụưẃẁŵẅƿýỳŷÿȳỹƴźżžẓ\"\n",
        "white_list = string.ascii_letters + string.digits + latin_similar\n",
        "# check all symbols that have embeddings to keep it\n",
        "glove_symbols = [symbol for symbol in embeddings if len(symbol) == 1 and symbol not in white_list]\n",
        "char_translate_map = {}\n",
        "# isolate symbols that have embeddings vector in glove\n",
        "for symbol in glove_symbols:\n",
        "    char_translate_map[ord(symbol)] = ' ' + symbol + ' '\n",
        "# remove all unknown symbols\n",
        "unknown_symbols = [c for c in train_charset if c not in white_list and c not in glove_symbols]\n",
        "for symbol in unknown_symbols:\n",
        "    char_translate_map[ord(symbol)] = ''\n",
        "# replace newline characters with normal separator (blank space)\n",
        "char_translate_map[ord('\\n')] = ' ' "
      ],
      "execution_count": 9,
      "outputs": [
        {
          "output_type": "display_data",
          "data": {
            "application/vnd.jupyter.widget-view+json": {
              "model_id": "369a4a1bee194d14b34bbb35a6bcce6d",
              "version_minor": 0,
              "version_major": 2
            },
            "text/plain": [
              "HBox(children=(IntProgress(value=0, max=1100032), HTML(value='')))"
            ]
          },
          "metadata": {
            "tags": []
          }
        },
        {
          "output_type": "stream",
          "text": [
            "\n"
          ],
          "name": "stdout"
        }
      ]
    },
    {
      "cell_type": "markdown",
      "metadata": {
        "id": "f5q2e4_sVEMa",
        "colab_type": "text"
      },
      "source": [
        "## 2.3. Text Preprocessing"
      ]
    },
    {
      "cell_type": "code",
      "metadata": {
        "id": "0XocFv6tVEMc",
        "colab_type": "code",
        "outputId": "fd981b6d-9252-4f71-8078-287b442adc85",
        "colab": {
          "base_uri": "https://localhost:8080/",
          "height": 213,
          "referenced_widgets": [
            "c4b3e8267630497eb375dc25d7ea1896",
            "edabb293a9434fac97d1e9c915820965",
            "cee2de43714e492db92ffe1dc34fd7e0",
            "d72f35be4b98498da9b63a9038d55415",
            "e7829230f8f84ee7bd294dd229b21f02",
            "5584dd9d3c9549799d53ef693a963f10",
            "6488f36079c64336ae622aeaf5dd70b8",
            "a5245db0b3f14809940004f45b05c9d2",
            "b9626e3ff4954d55b3dd6a7e4754ab1f",
            "8a520156a6464bc3ad47c73991c6e516",
            "7e82015554564743a069621162cb58a5",
            "733cd16db88a47da9dd6921f6e0fd51e",
            "a7967057003746e0909ca35853ea3208",
            "05496555d75d475c9ed9ac15551347c8",
            "a72494af465243a4a8ce075ac19087d3",
            "379c5e3ebfe1440f80077f64f89bd745",
            "65e93759b50f4d9f82529e7f7a50bbf7",
            "83ff579acf1d45278a71a650d3367db5",
            "28f8625b554b4f2fb299e2e7a4e49cee",
            "13a3f6f873b44717a145e8036fe23275",
            "bbe43269c64d47ebb55491156c842098",
            "6c907055997043eb892e48ad815a49a1",
            "0ad538fad1cf49db845d0524ac71dcd5",
            "061086e053c34c2cb1aff0445d53d470",
            "f8c0f134bb69463095d04a464e61ff4a",
            "b594251740c4409ab2b87c04394940be",
            "69eeb8ffad164a6b84eb6cc8c17dd291",
            "67c3be7b005f4befb9f51ef9292e19d3",
            "ff53ce7d78c142b68f695a0b244f06f6",
            "86743b3f9ef84d40b26a76e1bc364dce",
            "d04232857dad4356903c07ed79864df4",
            "a359ea5dcb924a039d645903e28b8df9"
          ]
        }
      },
      "source": [
        "def find_in_embedding(word, embedding):\n",
        "    '''\n",
        "    find the word's vector in the embedding. \n",
        "    If there is no exact word found, try also with lower case and title case.\n",
        "    In case there is no entry found in the embedding, replace with the unknown token (<unk>)\n",
        "    '''\n",
        "    if word in embedding:\n",
        "        return word, embedding[word]\n",
        "    elif word.lower() in embedding:\n",
        "        return word.lower(), embedding[word.lower()]\n",
        "    elif word.title() in embedding:\n",
        "        return word.title(), embedding[word.title()]\n",
        "    else:\n",
        "        return ',', embedding[',']\n",
        "\n",
        "def preprocess(comment, translate_map, tokenizer, emb):\n",
        "    # translate symbols\n",
        "    preprocessed_comment = comment.translate(translate_map)\n",
        "    # handle quote at the beginning\n",
        "    # because we accepted quotes as characters, sometimes we encounter token such as \"'we\".\n",
        "    # with this step, we transform \"'we\" into \"' we\" and such that it can be tokenized as 2 tokens.\n",
        "    preprocessed_comment = [(\"' \" + token[1:]) if len(token) > 0 and token[0] == \"'\" else token for token in preprocessed_comment.split(' ')]\n",
        "    # tokenize with Treebank tokenizer\n",
        "    tokenized_comment = tokenizer.tokenize(' '.join(preprocessed_comment))\n",
        "    # check and find each token in embeddings\n",
        "    tokenized_comment = [find_in_embedding(token, emb)[0] for token in tokenized_comment]\n",
        "    return ' '.join(tokenized_comment)\n",
        "\n",
        "tokenizer = TreebankWordTokenizer()\n",
        "X_train = X_train.progress_apply(lambda comment: preprocess(comment, char_translate_map, tokenizer, embeddings))\n",
        "X_dev = X_dev.progress_apply(lambda comment: preprocess(comment, char_translate_map, tokenizer, embeddings))\n",
        "X_test = X_test.progress_apply(lambda comment: preprocess(comment, char_translate_map, tokenizer, embeddings))\n",
        "X_submission = X_submission.progress_apply(lambda comment: preprocess(comment, char_translate_map, tokenizer, embeddings))"
      ],
      "execution_count": 10,
      "outputs": [
        {
          "output_type": "display_data",
          "data": {
            "application/vnd.jupyter.widget-view+json": {
              "model_id": "c4b3e8267630497eb375dc25d7ea1896",
              "version_minor": 0,
              "version_major": 2
            },
            "text/plain": [
              "HBox(children=(IntProgress(value=0, max=1100032), HTML(value='')))"
            ]
          },
          "metadata": {
            "tags": []
          }
        },
        {
          "output_type": "stream",
          "text": [
            "\n"
          ],
          "name": "stdout"
        },
        {
          "output_type": "display_data",
          "data": {
            "application/vnd.jupyter.widget-view+json": {
              "model_id": "b9626e3ff4954d55b3dd6a7e4754ab1f",
              "version_minor": 0,
              "version_major": 2
            },
            "text/plain": [
              "HBox(children=(IntProgress(value=0, max=180487), HTML(value='')))"
            ]
          },
          "metadata": {
            "tags": []
          }
        },
        {
          "output_type": "stream",
          "text": [
            "\n"
          ],
          "name": "stdout"
        },
        {
          "output_type": "display_data",
          "data": {
            "application/vnd.jupyter.widget-view+json": {
              "model_id": "65e93759b50f4d9f82529e7f7a50bbf7",
              "version_minor": 0,
              "version_major": 2
            },
            "text/plain": [
              "HBox(children=(IntProgress(value=0, max=180488), HTML(value='')))"
            ]
          },
          "metadata": {
            "tags": []
          }
        },
        {
          "output_type": "stream",
          "text": [
            "\n"
          ],
          "name": "stdout"
        },
        {
          "output_type": "display_data",
          "data": {
            "application/vnd.jupyter.widget-view+json": {
              "model_id": "f8c0f134bb69463095d04a464e61ff4a",
              "version_minor": 0,
              "version_major": 2
            },
            "text/plain": [
              "HBox(children=(IntProgress(value=0, max=97320), HTML(value='')))"
            ]
          },
          "metadata": {
            "tags": []
          }
        },
        {
          "output_type": "stream",
          "text": [
            "\n"
          ],
          "name": "stdout"
        }
      ]
    },
    {
      "cell_type": "code",
      "metadata": {
        "id": "mgfh4FHYVENE",
        "colab_type": "code",
        "outputId": "94f35124-be31-4fa8-dc1f-80265d515fac",
        "colab": {
          "base_uri": "https://localhost:8080/",
          "height": 156
        }
      },
      "source": [
        "X_train.head()"
      ],
      "execution_count": 11,
      "outputs": [
        {
          "output_type": "execute_result",
          "data": {
            "text/plain": [
              "id\n",
              "6183788    So why is the clinton / fbi / russian colusion story nowhere on ADN ?                                                                                                                                                                                                                                                                                                                                                                                                                                                                                                                                                                                                                                                                                                                                                                                                                                                                                                                                                                                \n",
              "919513     Three federal judges have now issued stays of the executive order of varying lengths . Judge Ann Donnelly issued her stay in effect until a full hearing on 21 Feb 2017 and ordered the government to produce a list of all persons currently detained covered by her order which includes people on valid visas of all kinds and green - card holders . . Lawyers representing the government displayed a clear lack of information , echoing the confusion of various government agencies and officials in the past 24 hours , who had been implementing the order haphazardly . “ Things have unfolded with such speed , that we haven ’ t had time to review the legal situation yet , ” an attorney representing the government said . This prompted Judge Donnelly to observe “ I think the government hasn ’ t had a full chance to think about this . ” Sounds about par for the course with Trump . Judges Leonie Brinkema ( 7 day restraining order ) and Judge Thomas Zilly ( a stay to 03 February 2017 ) were the other federal judges .\n",
              "922616     The author seems to have completely rejected the notion of representative government .                                                                                                                                                                                                                                                                                                                                                                                                                                                                                                                                                                                                                                                                                                                                                                                                                                                                                                                                                               \n",
              "371400     You must be one of those people who do n't own a gun either where is the muzzle flash lmao . Get a gun and shoot your eye out you will lmao . You must be from the Christmas story little ralphy lol .                                                                                                                                                                                                                                                                                                                                                                                                                                                                                                                                                                                                                                                                                                                                                                                                                                               \n",
              "5616964    aaa the alt left lunatic bs attempt at an argument based on fantasy yet no business realities                                                                                                                                                                                                                                                                                                                                                                                                                                                                                                                                                                                                                                                                                                                                                                                                                                                                                                                                                        \n",
              "Name: comment_text, dtype: object"
            ]
          },
          "metadata": {
            "tags": []
          },
          "execution_count": 11
        }
      ]
    },
    {
      "cell_type": "markdown",
      "metadata": {
        "id": "KkGWH9OQVENR",
        "colab_type": "text"
      },
      "source": [
        "# 3. Data Preparation for PyTorch"
      ]
    },
    {
      "cell_type": "markdown",
      "metadata": {
        "id": "jrHFS3jnVENS",
        "colab_type": "text"
      },
      "source": [
        "## 3.1. Create PyTorch Datasets"
      ]
    },
    {
      "cell_type": "markdown",
      "metadata": {
        "id": "-qXPL24IVENT",
        "colab_type": "text"
      },
      "source": [
        "Before we can train a pytorch model, we have to transform the input to the form that is expected by the model. One option is to use keras text preprocessing, but I'd rather stick with pytorch family, i.e. torchtext. First, we want to transform the input into a torchtext `Dataset`. A `Dataset` is a collection of `Example`, which consists of `Field`. More info: https://torchtext.readthedocs.io/en/latest/data.html\n",
        "\n",
        "A `Field` has many useful options for NLP, among many of them are:\n",
        "- `pad_first=True` to set padding tokens added at the beginning instead of after the comment\n",
        "- `fix_length=None`, a default, to have varying length\n",
        "- `sequential=True` means the field is to be treated a sequential data. For text, set it to `True`, set otherwise for labels.\n",
        "- `use_vocab=True` whether to build vocabulary based on this field. Set to `True` for the text fields.\n",
        "\n",
        "The downside of this approach is the slowness due to the iteration to create the `Example` and `Dataset`. There should be a better way to convert the input to torchtext `Dataset`. There is also a `TabularDataset` class which can transform the whole dataset at one, but I am not aware how to include the preprocessing required without exporting the preprocessed dataset beforehand. "
      ]
    },
    {
      "cell_type": "code",
      "metadata": {
        "id": "k8-rSNcRVENY",
        "colab_type": "code",
        "outputId": "5afbe444-2733-44bd-e5f2-20cf7894a7b6",
        "colab": {
          "base_uri": "https://localhost:8080/",
          "height": 213,
          "referenced_widgets": [
            "ed59ed5118924752961a7656ee643c29",
            "a65c1f477f2a4aedb799e5151b7c6915",
            "0a9f1ec0e8b440a1be7d4aa4a9741d62",
            "3b9948a0e8c94b6abdf3ecc0356ce6dd",
            "ab6c60ec374e4764b5890bd9fc2ce15b",
            "45908bab2e004b1b89d57b7c118e2002",
            "427bd5910d1e439f91b89ab49343fb48",
            "17badbd0e9044fcead05bd11ca4543d4",
            "1aa19f78cddd4926aae5c3b8e12724c6",
            "15cc6de783384d1998adaf78d4ff3f5f",
            "6f2f5c4d29ca4647bdb67aed14469895",
            "1b8fc437712e4f3bb96fe58bf700f7a8",
            "551559ecc8f74e18aba67cce37ff94a3",
            "3802d62a58534210a232823b8fd34b15",
            "d30a5bf7720f4d388242e9ccd7e8dfe0",
            "9a0bc99b86cc4664b41ed0464b8bb414",
            "9a7e9f554a43415bbbc0e0755f3d088c",
            "658f9ce5cfc649c28414663960dc803a",
            "ee3cdea8ff6a430ea583fc68b3892b1c",
            "8923ce644a924cf59e8958c46833745b",
            "59fbf04e9800495ca1204375e23e6ac3",
            "bc68a23dafd146499f8cd4e39e0a01f0",
            "12a8abdeb55544259c774b37dc791c55",
            "e8ca4c200ecd45f881afe3a46b2b2e60",
            "510966ed00b04a2297f364b5186c669d",
            "6d09dc40deb94497af0be4f7ed24c3ea",
            "09707c38adce406c8451c09676f0657b",
            "3aec2665e4bc4785964487b85df143cc",
            "006de5f8025e45e2b846568f59e253a6",
            "266060be607f4f9aa3138a20aefa8d11",
            "cce35c16628a45e68e5bb42fc7735eea",
            "cd2636e418734a808b779bc78f06eb41"
          ]
        }
      },
      "source": [
        "def prepare_torch_dataset(comments, target, fields):\n",
        "    '''\n",
        "    transform a series `comments` to torchtext `Dataset`\n",
        "    '''\n",
        "    df = pd.DataFrame(comments).join(target[['is_toxic', 'is_insult']], how='left')\n",
        "    train_examples = [Example.fromlist(i, fields) for i in tqdm(df.values.tolist())]\n",
        "    return Dataset(train_examples, fields)\n",
        "\n",
        "# define the Fields\n",
        "ID = Field(sequential=False, use_vocab=False, dtype=torch.long)\n",
        "TEXT = Field(sequential=True, tokenize='spacy', pad_first=True)\n",
        "LABEL = LabelField(sequential=False, use_vocab=False, dtype=torch.float32)\n",
        "fields = [(\"comment_text\", TEXT), (\"target\", LABEL), (\"insult\", LABEL)]\n",
        "# prepare train/dev/test datasets as torch `Dataset`\n",
        "train_dataset = prepare_torch_dataset(X_train, train_df, fields)\n",
        "dev_dataset = prepare_torch_dataset(X_dev, train_df, fields)\n",
        "test_dataset = prepare_torch_dataset(X_test, train_df, fields)\n",
        "# prepare submission dataset as torch `Dataset`\n",
        "test_df['comment_text'] = X_submission\n",
        "subm_fields = [(\"id\", ID), (\"comment_text\", TEXT)]  # notice that there is no label field for the submission dataset\n",
        "subm_examples = [Example.fromlist(i, subm_fields) for i in tqdm(test_df.reset_index().values.tolist())]\n",
        "subm_dataset = Dataset(subm_examples, subm_fields)"
      ],
      "execution_count": 12,
      "outputs": [
        {
          "output_type": "display_data",
          "data": {
            "application/vnd.jupyter.widget-view+json": {
              "model_id": "ed59ed5118924752961a7656ee643c29",
              "version_minor": 0,
              "version_major": 2
            },
            "text/plain": [
              "HBox(children=(IntProgress(value=0, max=1100032), HTML(value='')))"
            ]
          },
          "metadata": {
            "tags": []
          }
        },
        {
          "output_type": "stream",
          "text": [
            "\n"
          ],
          "name": "stdout"
        },
        {
          "output_type": "display_data",
          "data": {
            "application/vnd.jupyter.widget-view+json": {
              "model_id": "1aa19f78cddd4926aae5c3b8e12724c6",
              "version_minor": 0,
              "version_major": 2
            },
            "text/plain": [
              "HBox(children=(IntProgress(value=0, max=180487), HTML(value='')))"
            ]
          },
          "metadata": {
            "tags": []
          }
        },
        {
          "output_type": "stream",
          "text": [
            "\n"
          ],
          "name": "stdout"
        },
        {
          "output_type": "display_data",
          "data": {
            "application/vnd.jupyter.widget-view+json": {
              "model_id": "9a7e9f554a43415bbbc0e0755f3d088c",
              "version_minor": 0,
              "version_major": 2
            },
            "text/plain": [
              "HBox(children=(IntProgress(value=0, max=180488), HTML(value='')))"
            ]
          },
          "metadata": {
            "tags": []
          }
        },
        {
          "output_type": "stream",
          "text": [
            "\n"
          ],
          "name": "stdout"
        },
        {
          "output_type": "display_data",
          "data": {
            "application/vnd.jupyter.widget-view+json": {
              "model_id": "510966ed00b04a2297f364b5186c669d",
              "version_minor": 0,
              "version_major": 2
            },
            "text/plain": [
              "HBox(children=(IntProgress(value=0, max=97320), HTML(value='')))"
            ]
          },
          "metadata": {
            "tags": []
          }
        },
        {
          "output_type": "stream",
          "text": [
            "\n"
          ],
          "name": "stdout"
        }
      ]
    },
    {
      "cell_type": "markdown",
      "metadata": {
        "id": "IQFdPP_wVENe",
        "colab_type": "text"
      },
      "source": [
        "Quite handily, torchtext also provides us with `build_vocab()` capability. This function helps us with the mapping between token and integer, useful for embeddings. Additionally, it contains the frequency of each word as well. `max_size` parameter determines maximum number of words registered in the vocabulary, truncated based on the frequency (top `max_size` words with the highest frequency will be used)."
      ]
    },
    {
      "cell_type": "code",
      "metadata": {
        "id": "aIu3PE-2VENf",
        "colab_type": "code",
        "colab": {}
      },
      "source": [
        "def build_matrix(vocab_itos, emb):\n",
        "    embedding_matrix = np.zeros((len(vocab_itos), 300))\n",
        "    for i, word in enumerate(vocab_itos):\n",
        "        embedding_matrix[i] = find_in_embedding(word, emb)[1]\n",
        "    return embedding_matrix\n",
        "\n",
        "TEXT.build_vocab(train_dataset, dev_dataset, max_size=60000)\n",
        "embedding_matrix = build_matrix(TEXT.vocab.itos, embeddings)"
      ],
      "execution_count": 0,
      "outputs": []
    },
    {
      "cell_type": "code",
      "metadata": {
        "id": "0ibTGDNkVENl",
        "colab_type": "code",
        "outputId": "e2f925d9-364a-47a1-e4fe-327aa8e65e2d",
        "colab": {
          "base_uri": "https://localhost:8080/",
          "height": 357
        }
      },
      "source": [
        "for i in range(20):\n",
        "    word = TEXT.vocab.itos[i]\n",
        "    print(\"id={}, token='{}', freq={}\".format(i, word, TEXT.vocab.freqs[word]))"
      ],
      "execution_count": 14,
      "outputs": [
        {
          "output_type": "stream",
          "text": [
            "id=0, token='<unk>', freq=0\n",
            "id=1, token='<pad>', freq=0\n",
            "id=2, token='.', freq=4914165\n",
            "id=3, token='the', freq=3043906\n",
            "id=4, token=',', freq=2730407\n",
            "id=5, token='to', freq=1868630\n",
            "id=6, token='`', freq=1698286\n",
            "id=7, token='and', freq=1518186\n",
            "id=8, token='of', freq=1441766\n",
            "id=9, token='a', freq=1341675\n",
            "id=10, token='is', freq=1087605\n",
            "id=11, token='in', freq=942567\n",
            "id=12, token='that', freq=903165\n",
            "id=13, token='-', freq=806483\n",
            "id=14, token='I', freq=742824\n",
            "id=15, token='for', freq=659848\n",
            "id=16, token='it', freq=610435\n",
            "id=17, token='you', freq=606008\n",
            "id=18, token='?', freq=554502\n",
            "id=19, token='are', freq=532599\n"
          ],
          "name": "stdout"
        }
      ]
    },
    {
      "cell_type": "markdown",
      "metadata": {
        "id": "Ia44vjkHVENr",
        "colab_type": "text"
      },
      "source": [
        "## 3.2. Sequence Bucketing"
      ]
    },
    {
      "cell_type": "markdown",
      "metadata": {
        "id": "dvPXDKmJVENr",
        "colab_type": "text"
      },
      "source": [
        "In this dataset, the comment length ranges from 1 word to hundreds. If we take the maximum length of a comment and pad everything according to the maximum length, it won't be effective for training. Sequence bucketing can help reduce the time required to train. We reorder the comments based on their length, such that comments with similar length is more likely to belong on the same batch. At each batch, pad every comments to the maximum comment length on that batch. Therefore, we do not need to pad 1-word comment to the max length, and training can be much quicker.\n",
        "\n",
        "I avoid truncating any of the comment because it is misleading to decide either truncate from beginning or from end. A comment can be toxic just because 1 or 2 words it contains and those words can be at the beginning or at the end. Consequently, some outlier lengthy comments will affect the padding of much shorter ones.\n",
        "\n",
        "In torchtext, we can do sequence bucketing with `BucketIterator` class. The important parameters are `sort_key` and `sort_within_batch`. Basically, `sort_key=True` does what we expect from sequence bucketing and it is no longer necessary to also set `sort_within_batch=True` because the comments in one batch will be padded to the maximum length of that batch anyway."
      ]
    },
    {
      "cell_type": "code",
      "metadata": {
        "id": "iptqfQeZVENs",
        "colab_type": "code",
        "colab": {
          "base_uri": "https://localhost:8080/",
          "height": 85
        },
        "outputId": "02b3c190-a5c5-44df-9277-3793fb02a196"
      },
      "source": [
        "train_iter, dev_iter, test_iter, subm_iter = BucketIterator.splits(\n",
        "    (train_dataset, dev_dataset, test_dataset, subm_dataset),\n",
        "    batch_sizes=(64, 64, 64, 64),\n",
        "    device=0,\n",
        "    sort_key=lambda comment: len(comment.comment_text),\n",
        "    sort_within_batch=False,\n",
        "    repeat=False  # do not repeat any inputs\n",
        ")\n",
        "\n",
        "class BatchWrapper:\n",
        "    '''\n",
        "    helper wrapper to iterate over `BucketIterator` during training and return (x, y).\n",
        "    from: https://mlexplained.com/2018/02/08/a-comprehensive-tutorial-to-torchtext/\n",
        "    '''\n",
        "    \n",
        "    def __init__(self, dl, x_var, y_vars):\n",
        "        self.dl, self.x_var, self.y_vars = dl, x_var, y_vars\n",
        "\n",
        "    def __iter__(self):\n",
        "        for batch in self.dl:\n",
        "            # return x_var attribute of the data loader (dl) as x\n",
        "            x = getattr(batch, self.x_var)\n",
        "            # return label attributes of the data loader (dl) as y\n",
        "            y = torch.cat([getattr(batch, feat).unsqueeze(1) for feat in self.y_vars], dim=1)\n",
        "            yield (x, y)\n",
        "\n",
        "    def __len__(self):\n",
        "        return len(self.dl)\n",
        "\n",
        "train_dl = BatchWrapper(train_iter, \"comment_text\", [\"target\", \"insult\"])\n",
        "dev_dl = BatchWrapper(dev_iter, \"comment_text\", [\"target\", \"insult\"])\n",
        "test_dl = BatchWrapper(test_iter, \"comment_text\", [\"target\", \"insult\"])"
      ],
      "execution_count": 15,
      "outputs": [
        {
          "output_type": "stream",
          "text": [
            "The `device` argument should be set by using `torch.device` or passing a string as an argument. This behavior will be deprecated soon and currently defaults to cpu.\n",
            "The `device` argument should be set by using `torch.device` or passing a string as an argument. This behavior will be deprecated soon and currently defaults to cpu.\n",
            "The `device` argument should be set by using `torch.device` or passing a string as an argument. This behavior will be deprecated soon and currently defaults to cpu.\n",
            "The `device` argument should be set by using `torch.device` or passing a string as an argument. This behavior will be deprecated soon and currently defaults to cpu.\n"
          ],
          "name": "stderr"
        }
      ]
    },
    {
      "cell_type": "markdown",
      "metadata": {
        "id": "135rz5GzVENy",
        "colab_type": "text"
      },
      "source": [
        "# 4. Model Training"
      ]
    },
    {
      "cell_type": "markdown",
      "metadata": {
        "id": "afGVsjkQVENz",
        "colab_type": "text"
      },
      "source": [
        "## 4.1. Network Architecture"
      ]
    },
    {
      "cell_type": "markdown",
      "metadata": {
        "id": "qu72F6FkVEN0",
        "colab_type": "text"
      },
      "source": [
        "The architecture of the network follows Simple LSTM architecture (https://www.kaggle.com/thousandvoices/simple-lstm) with slight modification. These are the layers:\n",
        "1. Embedding layer (1x60000) &rarr; (60000x300)\n",
        "2. Spatial dropout of embedding with dropout rate 0.3\n",
        "3. BiLSTM 1: 300 &rarr; 150 * 2 (bi-directional)\n",
        "4. BiLSTM 2: 300 &rarr; 300\n",
        "5. Concatenation of last state of BiLSTM (both direction) with average and max pooling of all hidden state: 300 + 300 + 300 = 900\n",
        "6. Fully-connected 1: 900 of concat result &rarr; 900\n",
        "7. Fully-connected 2: 900 of concat result &rarr; 900\n",
        "8. Add result of layer 5, 6, and 7: 900\n",
        "9. Dropout rate of 0.1 from layer 8\n",
        "10. Output layer for target: 768 &rarr; 1\n",
        "11. Output layer for insult: 768 &rarr; 1"
      ]
    },
    {
      "cell_type": "code",
      "metadata": {
        "id": "FasyNUMyVEN1",
        "colab_type": "code",
        "outputId": "196c64fd-8086-4160-b3b1-e3eca17f15bc",
        "colab": {
          "base_uri": "https://localhost:8080/",
          "height": 232
        }
      },
      "source": [
        "class SpatialDropout(nn.Dropout2d):\n",
        "    def forward(self, x):\n",
        "        x = x.unsqueeze(2)    # (N, T, 1, K)\n",
        "        x = x.permute(0, 3, 2, 1)  # (N, K, 1, T)\n",
        "        x = super(SpatialDropout, self).forward(x)  # (N, K, 1, T), some features are masked\n",
        "        x = x.permute(0, 3, 2, 1)  # (N, T, 1, K)\n",
        "        x = x.squeeze(2)  # (N, T, K)\n",
        "        return x\n",
        "\n",
        "class LSTM(nn.Module):\n",
        "    def __init__(self, emb_matrix, lstm_units=150):\n",
        "        super().__init__()\n",
        "        # LAYER 1: EMBEDDING, non-trainable\n",
        "        self.embedding = nn.Embedding(*emb_matrix.shape)\n",
        "        # use glove embeddings\n",
        "        self.embedding.weight = nn.Parameter(torch.tensor(emb_matrix, dtype=torch.float32), requires_grad=False)\n",
        "        # LAYER 2: SPATIAL DROPOUT\n",
        "        self.embedding_dropout = SpatialDropout(0.3)\n",
        "        # LAYER 3: LSTM, bi-directional, output = 2 * lstm_units\n",
        "        self.lstm_units = lstm_units\n",
        "        self.lstm1 = nn.LSTM(embedding_matrix.shape[1], lstm_units, bidirectional=True)\n",
        "        # LAYER 4: LSTM, bi-directional, output = 2 * lstm_units\n",
        "        self.lstm2 = nn.LSTM(2 * lstm_units, lstm_units, bidirectional=True)\n",
        "        # LAYER 5: CONCAT, no object created\n",
        "        # LAYER 6: FC1\n",
        "        self.linear1 = nn.Linear(3 * 2 * lstm_units, 3 * 2 * lstm_units)\n",
        "        # LAYER 7: FC2\n",
        "        self.linear2 = nn.Linear(3 * 2 * lstm_units, 3 * 2 * lstm_units)\n",
        "        # LAYER 8: ADDITION of layer outputs, no object created\n",
        "        # LAYER 9: DROPOUT\n",
        "        self.dropout = nn.Dropout(0.1)\n",
        "        # LAYER 10: OUTPUT LAYER for target\n",
        "        self.target_out = nn.Linear(3 * 2 * lstm_units, 1)\n",
        "        # LAYER 11: OUTPUT LAYER for insult\n",
        "        self.aux_out = nn.Linear(3 * 2 * lstm_units, 1)\n",
        "\n",
        "    def forward(self, seq):\n",
        "        # get embedding vector of every word\n",
        "        h_emb = self.embedding_dropout(self.embedding(seq))\n",
        "        # walk through the first bi-directional LSTM\n",
        "        h_lstm1, _ = self.lstm1(h_emb)\n",
        "        # use output of previous LSTM as input for the second bi-directional LSTM\n",
        "        h_lstm2, _ = self.lstm2(h_lstm1)\n",
        "        # get the latest state of LSTM 2\n",
        "        # because it is bi-directional, get the first half output of the last state (LSTM direction forward)\n",
        "        # and the second half output of the first state (LSTM direction backward)\n",
        "        h_lstm_last = h_lstm2[-1, :, :self.lstm_units]\n",
        "        h_lstm_first = h_lstm2[0, :, self.lstm_units:]\n",
        "        # concat both half\n",
        "        h_bi_lstm = torch.cat((h_lstm_first, h_lstm_last), -1)\n",
        "        # get average and max pool of all hidden state from LSTM 2\n",
        "        avg_pool = torch.mean(h_lstm2, 0)\n",
        "        max_pool, _ = torch.max(h_lstm2, 0)\n",
        "        # concat last state with pooling\n",
        "        h_conc = torch.cat((h_bi_lstm, max_pool, avg_pool), 1)\n",
        "        # fully-connected layer with last state and the pooling\n",
        "        h_lin1 = F.relu(self.linear1(h_conc))\n",
        "        h_lin2 = F.relu(self.linear2(h_conc))\n",
        "        # add concat with output of fully-connected layer\n",
        "        h_conc_add = h_conc + h_lin1 + h_lin2\n",
        "        # another dropout to force model check last state, average pool, and max pool values\n",
        "        h_conc_do = self.dropout(h_conc_add)\n",
        "        # get linear prediction of target and insult\n",
        "        # we do not use sigmoid here because pyTorch provides a better loss calculation\n",
        "        # by combining sigmoid with cross-entropy\n",
        "        target_out = self.target_out(h_conc_do)\n",
        "        aux_out = self.aux_out(h_conc_do)\n",
        "        out = torch.cat([target_out, aux_out], 1)\n",
        "        return out\n",
        "    \n",
        "model = LSTM(embedding_matrix).to(device)\n",
        "model"
      ],
      "execution_count": 1,
      "outputs": [
        {
          "output_type": "error",
          "ename": "NameError",
          "evalue": "ignored",
          "traceback": [
            "\u001b[0;31m---------------------------------------------------------------------------\u001b[0m",
            "\u001b[0;31mNameError\u001b[0m                                 Traceback (most recent call last)",
            "\u001b[0;32m<ipython-input-1-763fa0012d8b>\u001b[0m in \u001b[0;36m<module>\u001b[0;34m()\u001b[0m\n\u001b[0;32m----> 1\u001b[0;31m \u001b[0;32mclass\u001b[0m \u001b[0mSpatialDropout\u001b[0m\u001b[0;34m(\u001b[0m\u001b[0mnn\u001b[0m\u001b[0;34m.\u001b[0m\u001b[0mDropout2d\u001b[0m\u001b[0;34m)\u001b[0m\u001b[0;34m:\u001b[0m\u001b[0;34m\u001b[0m\u001b[0;34m\u001b[0m\u001b[0m\n\u001b[0m\u001b[1;32m      2\u001b[0m     \u001b[0;32mdef\u001b[0m \u001b[0mforward\u001b[0m\u001b[0;34m(\u001b[0m\u001b[0mself\u001b[0m\u001b[0;34m,\u001b[0m \u001b[0mx\u001b[0m\u001b[0;34m)\u001b[0m\u001b[0;34m:\u001b[0m\u001b[0;34m\u001b[0m\u001b[0;34m\u001b[0m\u001b[0m\n\u001b[1;32m      3\u001b[0m         \u001b[0mx\u001b[0m \u001b[0;34m=\u001b[0m \u001b[0mx\u001b[0m\u001b[0;34m.\u001b[0m\u001b[0munsqueeze\u001b[0m\u001b[0;34m(\u001b[0m\u001b[0;36m2\u001b[0m\u001b[0;34m)\u001b[0m    \u001b[0;31m# (N, T, 1, K)\u001b[0m\u001b[0;34m\u001b[0m\u001b[0;34m\u001b[0m\u001b[0m\n\u001b[1;32m      4\u001b[0m         \u001b[0mx\u001b[0m \u001b[0;34m=\u001b[0m \u001b[0mx\u001b[0m\u001b[0;34m.\u001b[0m\u001b[0mpermute\u001b[0m\u001b[0;34m(\u001b[0m\u001b[0;36m0\u001b[0m\u001b[0;34m,\u001b[0m \u001b[0;36m3\u001b[0m\u001b[0;34m,\u001b[0m \u001b[0;36m2\u001b[0m\u001b[0;34m,\u001b[0m \u001b[0;36m1\u001b[0m\u001b[0;34m)\u001b[0m  \u001b[0;31m# (N, K, 1, T)\u001b[0m\u001b[0;34m\u001b[0m\u001b[0;34m\u001b[0m\u001b[0m\n\u001b[1;32m      5\u001b[0m         \u001b[0mx\u001b[0m \u001b[0;34m=\u001b[0m \u001b[0msuper\u001b[0m\u001b[0;34m(\u001b[0m\u001b[0mSpatialDropout\u001b[0m\u001b[0;34m,\u001b[0m \u001b[0mself\u001b[0m\u001b[0;34m)\u001b[0m\u001b[0;34m.\u001b[0m\u001b[0mforward\u001b[0m\u001b[0;34m(\u001b[0m\u001b[0mx\u001b[0m\u001b[0;34m)\u001b[0m  \u001b[0;31m# (N, K, 1, T), some features are masked\u001b[0m\u001b[0;34m\u001b[0m\u001b[0;34m\u001b[0m\u001b[0m\n",
            "\u001b[0;31mNameError\u001b[0m: name 'nn' is not defined"
          ]
        }
      ]
    },
    {
      "cell_type": "markdown",
      "metadata": {
        "id": "KSs7r2esVEOC",
        "colab_type": "text"
      },
      "source": [
        "## 4.2. Training"
      ]
    },
    {
      "cell_type": "code",
      "metadata": {
        "id": "KTSwWDCYVEOD",
        "colab_type": "code",
        "outputId": "f9332408-98ae-4ec1-f4c7-20c7f01dcaeb",
        "colab": {
          "referenced_widgets": [
            "7494bd163a444767b725a03ee76bf060"
          ]
        }
      },
      "source": [
        "def sigmoid(x):\n",
        "    return 1 / (1 + np.exp(-x))\n",
        "\n",
        "def evaluate(model, dl, loss_func):\n",
        "    '''\n",
        "    evaluation steps for dev and test set\n",
        "    '''\n",
        "    running_loss = 0.0\n",
        "    model.eval()  # turn on evaluation mode\n",
        "    all_preds = {'y_pred' : [], 'y_true' : []}\n",
        "    for x, y in dl: # iterate over mini-batches\n",
        "        x, y = x.to(device), y.to(device)  # transfer x and y to GPU when it is available\n",
        "        preds = model(x)  # get the prediction from the model\n",
        "        loss = loss_func(preds, y)  # calculate loss values\n",
        "        # add all predictions and y_true to a dictionary for calculating the evaluation metrics\n",
        "        all_preds['y_pred'] = [*all_preds['y_pred'], *sigmoid(preds.detach().cpu().numpy()[:,0].ravel())]\n",
        "        all_preds['y_true'] = [*all_preds['y_true'], *y.detach().cpu().numpy()[:,0].ravel()]\n",
        "        # add current mini-batch loss to the total loss\n",
        "        running_loss += loss.item() / len(dl)\n",
        "    # create a binary prediction to calculate accuracy\n",
        "    all_preds['y_pred_bin'] = [1 if pred >= 0.5 else 0 for pred in all_preds['y_pred']]\n",
        "    print('\\tEval Loss: {:.4f}, Eval AUC: {:.4f}, Eval Accuracy: {:.4f}'.format(\n",
        "        loss,\n",
        "        roc_auc_score(all_preds['y_true'], all_preds['y_pred']),\n",
        "        accuracy_score(all_preds['y_true'], all_preds['y_pred_bin'])\n",
        "    ))\n",
        "    # confusion analysis, especially helpful for imbalanced dataset\n",
        "    tn, fp, fn, tp = confusion_matrix(all_preds['y_true'], all_preds['y_pred_bin']).ravel()\n",
        "    print('\\tEval CM: tn={:,}({:.2f}%), tp={:,}({:.2f}%), fn={:,}({:.2f}%), fp={:,}({:.2f}%)'.format(\n",
        "        tn, tn * 100 / len(all_preds['y_pred_bin']),\n",
        "        tp, tp * 100 / len(all_preds['y_pred_bin']),\n",
        "        fn, fn * 100 / len(all_preds['y_pred_bin']),\n",
        "        fp, fp * 100 / len(all_preds['y_pred_bin'])\n",
        "    ))\n",
        "    \n",
        "    \n",
        "def train(model, train, dev, n_epochs, loss_func, lr):\n",
        "    '''\n",
        "    model training steps for the training set. Output dev metrics at each epoch.\n",
        "    PyTorch requires implementation of training procedure.\n",
        "    '''\n",
        "    opt = optim.Adam(model.parameters(), lr=lr)  # optimizer\n",
        "    # degrade learning rate at every epoch with lr scheduler\n",
        "    scheduler = optim.lr_scheduler.StepLR(opt, step_size=1, gamma=0.3)\n",
        "    for epoch in range(1, n_epochs + 1):\n",
        "        print('Epoch: {}'.format(epoch))\n",
        "        model.train()  # during training, dropout is activated\n",
        "        running_loss = 0.0\n",
        "        for x, y in tqdm(train):\n",
        "            opt.zero_grad()  # necessary at the beginning of each mini-batch for pytorch\n",
        "            x, y = x.to(device), y.to(device)  # transfer to GPU when available\n",
        "            preds = model(x)  # get prediction\n",
        "            loss = loss_func(preds, y)  # calculate loss\n",
        "            loss.backward()  # backpropagation\n",
        "            opt.step()  # calculate optimizer with adam\n",
        "            running_loss += loss.item() / len(train_dl)  # add current mini-batch loss to total loss\n",
        "        print('\\tTraining Loss: {:.4f}'.format(running_loss))\n",
        "        evaluate(model, dev, loss_func)  # check dev scores\n",
        "        scheduler.step()  # reduce learning rate\n",
        "\n",
        "# Binary Cross-Entropy With Logits Loss: optimized loss function for binary classification\n",
        "# when using this loss function, do not use sigmoid activation function in the output layer of the model.\n",
        "bce_loss = nn.BCEWithLogitsLoss(\n",
        "    pos_weight=torch.FloatTensor([1]).cuda(),   # I tried to penalize mis-classified positive instance more\n",
        "                                                # but it did not give better LB score\n",
        "    reduction='mean'  # because we are predicting 2 outputs, take the mean as loss value\n",
        ")\n",
        "train(model, train_dl, dev_dl, 2, bce_loss, lr=8e-4)  # run training"
      ],
      "execution_count": 0,
      "outputs": [
        {
          "output_type": "stream",
          "text": [
            "Epoch: 1\n"
          ],
          "name": "stdout"
        },
        {
          "output_type": "display_data",
          "data": {
            "application/vnd.jupyter.widget-view+json": {
              "model_id": "7494bd163a444767b725a03ee76bf060",
              "version_major": 2,
              "version_minor": 0
            },
            "text/plain": [
              "HBox(children=(IntProgress(value=0, max=17188), HTML(value='')))"
            ]
          },
          "metadata": {
            "tags": []
          }
        }
      ]
    },
    {
      "cell_type": "code",
      "metadata": {
        "id": "-4CDUYtGVETP",
        "colab_type": "code",
        "outputId": "f3e20c23-0d26-437e-94f8-409804ad658d",
        "colab": {}
      },
      "source": [
        "evaluate(model, test_dl, bce_loss)  # evaluate on test set"
      ],
      "execution_count": 0,
      "outputs": [
        {
          "output_type": "stream",
          "text": [
            "\tEval Loss: 0.0266, Eval AUC: 0.9590, Eval Accuracy: 0.9503\n",
            "\tEval CM: tn=162,695(90.14%), tp=8,830(4.89%), fn=5,604(3.10%), fp=3,359(1.86%)\n"
          ],
          "name": "stdout"
        }
      ]
    },
    {
      "cell_type": "code",
      "metadata": {
        "id": "xd27gChtVEUE",
        "colab_type": "code",
        "outputId": "389e3af5-f745-44a7-98c2-734b91f862d1",
        "colab": {
          "referenced_widgets": [
            "5ff568d181fe44cb8b6ca041ad32748f"
          ]
        }
      },
      "source": [
        "# fine-tuning embedding layer\n",
        "model.embedding.weight.requires_grad = True\n",
        "train(model, train_dl, dev_dl, 1, bce_loss, lr=8e-5)"
      ],
      "execution_count": 0,
      "outputs": [
        {
          "output_type": "stream",
          "text": [
            "Epoch: 1\n"
          ],
          "name": "stdout"
        },
        {
          "output_type": "display_data",
          "data": {
            "application/vnd.jupyter.widget-view+json": {
              "model_id": "5ff568d181fe44cb8b6ca041ad32748f",
              "version_major": 2,
              "version_minor": 0
            },
            "text/plain": [
              "HBox(children=(IntProgress(value=0, max=17188), HTML(value='')))"
            ]
          },
          "metadata": {
            "tags": []
          }
        }
      ]
    },
    {
      "cell_type": "code",
      "metadata": {
        "id": "BCE71yVuVEUL",
        "colab_type": "code",
        "outputId": "c3da62f2-5c8c-4865-f14d-98ce0a01d3e5",
        "colab": {}
      },
      "source": [
        "evaluate(model, test_dl, bce_loss)  # evaluate on test set"
      ],
      "execution_count": 0,
      "outputs": [
        {
          "output_type": "stream",
          "text": [
            "\tEval Loss: 0.0212, Eval AUC: 0.9614, Eval Accuracy: 0.9523\n",
            "\tEval CM: tn=163,079(90.35%), tp=8,795(4.87%), fn=5,639(3.12%), fp=2,975(1.65%)\n"
          ],
          "name": "stdout"
        }
      ]
    },
    {
      "cell_type": "markdown",
      "metadata": {
        "id": "21PTcXjlVEVb",
        "colab_type": "text"
      },
      "source": [
        "The evaluation metrics used in this loop is basic AUC ROC, whereas the competition impose sub-groups AUC score in the calculation."
      ]
    },
    {
      "cell_type": "markdown",
      "metadata": {
        "id": "St0wNZILVEVc",
        "colab_type": "text"
      },
      "source": [
        "# 5. Submission"
      ]
    },
    {
      "cell_type": "code",
      "metadata": {
        "id": "_B6IFWfOVEVd",
        "colab_type": "code",
        "outputId": "afb9a2f9-4bda-45b4-97be-c049c9f62086",
        "colab": {
          "referenced_widgets": [
            "ee509f3ce2024307bb9085d1430560f0"
          ]
        }
      },
      "source": [
        "model.eval()  # turn on evaluation mode to ignore dropouts\n",
        "subm_id = []\n",
        "subm_preds = []\n",
        "for example in tqdm(subm_iter):\n",
        "    x_id = example.id\n",
        "    x = example.comment_text.to(device)\n",
        "    preds = model(x)\n",
        "    subm_id = [*subm_id, *x_id.detach().cpu().numpy().ravel()]\n",
        "    subm_preds = [*subm_preds, *sigmoid(preds.detach().cpu().numpy()[:,0].ravel())]\n",
        "submission = pd.DataFrame.from_dict({\n",
        "    'id': subm_id,\n",
        "    'prediction': subm_preds\n",
        "})\n",
        "submission.to_csv('submission.csv', index=False)"
      ],
      "execution_count": 0,
      "outputs": [
        {
          "output_type": "display_data",
          "data": {
            "application/vnd.jupyter.widget-view+json": {
              "model_id": "ee509f3ce2024307bb9085d1430560f0",
              "version_major": 2,
              "version_minor": 0
            },
            "text/plain": [
              "HBox(children=(IntProgress(value=0, max=1521), HTML(value='')))"
            ]
          },
          "metadata": {
            "tags": []
          }
        },
        {
          "output_type": "stream",
          "text": [
            "\n"
          ],
          "name": "stdout"
        }
      ]
    }
  ]
}