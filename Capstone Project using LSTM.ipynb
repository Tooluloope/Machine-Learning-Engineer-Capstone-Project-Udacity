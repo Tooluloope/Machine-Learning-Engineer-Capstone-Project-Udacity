{
 "cells": [
  {
   "cell_type": "markdown",
   "metadata": {},
   "source": [
    "# Toxic Comment Detection with PyTorch LSTM"
   ]
  },
  {
   "cell_type": "markdown",
   "metadata": {},
   "source": [
    "In this kernel, I implement LSTM for toxicity prediction using only PyTorch (and torchtext) whenever possible. I have been a keras user since forever, but I notice more and more new architectures are built through PyTorch. Thus, the main purpose of building this kernel for me is to learn PyTorch. I leave some comments to explain what each section is trying to do, hopefully it can help you too.\n",
    "\n",
    "I incorporate many techniques that I have learned from other excellent kernels, shoutout to:\n",
    "- @bminixhofer: https://www.kaggle.com/bminixhofer/simple-lstm-pytorch-version\n",
    "- @christofhenkel: https://www.kaggle.com/christofhenkel/how-to-preprocessing-for-glove-part1-eda\n",
    "\n",
    "Having been inspired by those kernels, there are some modifications:\n",
    "- based on my EDA kernel (https://www.kaggle.com/yosefardhito/eda-annotations-lexical-and-bag-of-words), I ignore comments with both low toxicity annotator count and toxic target value between 0.4 and 0.6 because I noticed how comments with target between that range has a questionable label even for me, let alone the model. For auxiliary attributes, I use only 'insult' because it is the only attributes significantly correlated with the target column. \n",
    "- I add a simple train/dev/test split process so I can experiment with the training data alone.\n",
    "- Paddings are added at the beginning instead of after the comment.\n",
    "- Slight modification of the Simple LSTM model on the concatenation.\n",
    "\n",
    "Why LSTM? I know from the stories of the top leaderboards that BERT and XLNet provide the best result. However, since the goal of this kernel is to learn, I prefer training a model with simpler and modifiable architecture. I want to emphasize on learning how to do it in PyTorch instead. Surely, pre-trained BERT and XLNet are next to be mastered!"
   ]
  },
  {
   "cell_type": "code",
   "execution_count": 1,
   "metadata": {
    "_cell_guid": "b1076dfc-b9ad-4769-8c92-a6c4dae69d19",
    "_kg_hide-input": true,
    "_uuid": "8f2839f25d086af736a60e9eeb907d3b93b6e0e5"
   },
   "outputs": [],
   "source": [
    "import string\n",
    "import re\n",
    "import operator\n",
    "import pickle\n",
    "from collections import Counter\n",
    "\n",
    "import numpy as np\n",
    "import matplotlib.pyplot as plt\n",
    "import pandas as pd\n",
    "from tqdm._tqdm_notebook import tqdm_notebook as tqdm; tqdm.pandas()\n",
    "\n",
    "from nltk.tokenize.treebank import TreebankWordTokenizer\n",
    "from sklearn.model_selection import train_test_split\n",
    "from sklearn.metrics import roc_auc_score, accuracy_score, confusion_matrix\n",
    "from torchtext.data import Example, Field, Dataset, LabelField, Iterator, BucketIterator\n",
    "import torch\n",
    "import torch.nn as nn\n",
    "import torch.nn.functional as F\n",
    "import torch.optim as optim\n",
    "\n",
    "# dataframe options to display the whole comments\n",
    "pd.set_option('display.max_colwidth', -1)\n",
    "\n",
    "INPUT = \"../input/\"\n",
    "device = 'cuda' if torch.cuda.is_available() else 'cpu'"
   ]
  },
  {
   "cell_type": "markdown",
   "metadata": {},
   "source": [
    "# 1. Data Loading"
   ]
  },
  {
   "cell_type": "markdown",
   "metadata": {},
   "source": [
    "## 1.1. Load Dataset"
   ]
  },
  {
   "cell_type": "code",
   "execution_count": 2,
   "metadata": {},
   "outputs": [],
   "source": [
    "# load only necessary fields to reduce memory footprint\n",
    "fields = ['id', 'comment_text', 'toxicity_annotator_count', 'insult', 'target']\n",
    "# load training set\n",
    "train_df = pd.read_csv(f\"{INPUT}jigsaw-unintended-bias-in-toxicity-classification/train.csv\", usecols=fields).set_index('id')\n",
    "X_train = train_df['comment_text']\n",
    "y_train = train_df['target'] >= 0.5  # create binary target column\n",
    "train_df['is_toxic'] = y_train\n",
    "train_df['is_insult'] = train_df['insult'] >= 0.5\n",
    "# split training set to train/dev/test set with stratified strategy\n",
    "X_train, X_dev_test, y_train, y_dev_test = train_test_split(X_train, y_train, stratify=y_train, test_size=0.2, random_state=1337)\n",
    "X_dev, X_test, y_dev, y_test = train_test_split(X_dev_test, y_dev_test, stratify=y_dev_test, test_size=0.5, random_state=1338)\n",
    "# load submission set\n",
    "test_df = pd.read_csv(f\"{INPUT}jigsaw-unintended-bias-in-toxicity-classification/test.csv\").set_index('id')\n",
    "X_submission = test_df['comment_text']"
   ]
  },
  {
   "cell_type": "code",
   "execution_count": 3,
   "metadata": {},
   "outputs": [
    {
     "name": "stdout",
     "output_type": "stream",
     "text": [
      "Length train: 1,443,899; dev: 180,487; test: 180,488; submission: 97,320\n"
     ]
    }
   ],
   "source": [
    "print(\"Length train: {:,}; dev: {:,}; test: {:,}; submission: {:,}\".format(\n",
    "    len(X_train), len(X_dev), len(X_test), len(X_submission)\n",
    "))"
   ]
  },
  {
   "cell_type": "markdown",
   "metadata": {},
   "source": [
    "## 1.2. Load Embedding"
   ]
  },
  {
   "cell_type": "markdown",
   "metadata": {},
   "source": [
    "I only try glove embeddings during this experiment. Pickled version is used to reduce time for loading."
   ]
  },
  {
   "cell_type": "code",
   "execution_count": 4,
   "metadata": {},
   "outputs": [],
   "source": [
    "def load_embeddings(path):\n",
    "    with open(path,'rb') as f:\n",
    "        emb_arr = pickle.load(f)\n",
    "    return emb_arr\n",
    "\n",
    "EMBEDDING_PATH = f\"{INPUT}pickled-glove840b300d-for-10sec-loading/glove.840B.300d.pkl\"\n",
    "embeddings = load_embeddings(EMBEDDING_PATH)"
   ]
  },
  {
   "cell_type": "markdown",
   "metadata": {},
   "source": [
    "# 2. Data Preprocessing"
   ]
  },
  {
   "cell_type": "markdown",
   "metadata": {},
   "source": [
    "## 2.1. Filtering"
   ]
  },
  {
   "cell_type": "markdown",
   "metadata": {},
   "source": [
    "Based on the EDA, I choose to ignore comments with target value between 0.4 and 0.6. Also, because the training set consists of an abundant number of comments with target value = 0, I decided only to sample comments that have both really low value for target and insult."
   ]
  },
  {
   "cell_type": "code",
   "execution_count": 5,
   "metadata": {},
   "outputs": [],
   "source": [
    "# take all comments with toxicity annotator count >= 10 ** 1.5\n",
    "# train_trust_df = train_df[(train_df.index.isin(X_train.index)) & (train_df['toxicity_annotator_count'] >= 10 ** 1.5)]\n",
    "# filter comments with toxicity annotator count < 10 ** 1.5 based on the target value\n",
    "# train_chosen_df = train_df[train_df.index.isin(X_train.index) & (train_df['toxicity_annotator_count'] < 10 ** 1.5)]\n",
    "train_chosen_df = train_df[train_df.index.isin(X_train.index)]\n",
    "# for safe comments, take only those with both target and insult value < 0.2 (\"very safe\")\n",
    "train_chosen_very_safe_df = train_chosen_df[(train_chosen_df['target'] < 0.2) & (train_chosen_df['insult'] < 0.2)]\n",
    "# for toxic comments, ignore those between 0.4 and 0.5\n",
    "train_chosen_toxic_df = train_chosen_df[train_chosen_df['target'] >= 0.6]\n",
    "train_chosen_others_df = train_chosen_df[(train_chosen_df['target'] >= 0.2) & (train_chosen_df['target'] < 0.4)]\n",
    "# take maximum 1mil to fit processing within 2-hour time limit for submission and the given memory size\n",
    "# n_very_safe = min(len(train_chosen_very_safe_df), \n",
    "#                   1100032 - len(train_trust_df) - len(train_chosen_others_df) - len(train_chosen_toxic_df))\n",
    "n_very_safe = min(len(train_chosen_very_safe_df), \n",
    "                  1100032 - len(train_chosen_others_df) - len(train_chosen_toxic_df))\n",
    "train_chosen_very_safe_sample_df = train_chosen_very_safe_df.sample(n=n_very_safe, random_state=1337)\n",
    "# get all valid comment indices\n",
    "train_indices = [\n",
    "    #*train_trust_df.index.values,\n",
    "    *train_chosen_very_safe_sample_df.index.values, \n",
    "    *train_chosen_others_df.index.values, \n",
    "    *train_chosen_toxic_df.index.values\n",
    "]\n",
    "X_train = X_train[X_train.index.isin(train_indices)]\n",
    "X_dev = X_dev.sample(frac=1, random_state=1337)\n",
    "X_test = X_test.sample(frac=1, random_state=1337)"
   ]
  },
  {
   "cell_type": "code",
   "execution_count": 6,
   "metadata": {},
   "outputs": [
    {
     "name": "stdout",
     "output_type": "stream",
     "text": [
      "Length train: 1,100,032; dev: 180,487; test: 180,488; submission: 97,320\n"
     ]
    }
   ],
   "source": [
    "print(\"Length train: {:,}; dev: {:,}; test: {:,}; submission: {:,}\".format(\n",
    "    len(X_train), len(X_dev), len(X_test), len(X_submission)\n",
    "))"
   ]
  },
  {
   "cell_type": "markdown",
   "metadata": {},
   "source": [
    "## 2.2. Prepare Accepted Characters"
   ]
  },
  {
   "cell_type": "markdown",
   "metadata": {},
   "source": [
    "Because I use embeddings, there are some symbols that do not have the respective embedding vectors. In this section, I check all characters used in the training set. The character set is compared to glove embeddings symbols afterward. Instead of using slow `replace()` function, we will use `translate()`. Basically, `translate()` take a dictionary of character mapping as input. The key of the dictionary is the ordinal of the characters."
   ]
  },
  {
   "cell_type": "code",
   "execution_count": 7,
   "metadata": {},
   "outputs": [
    {
     "data": {
      "application/vnd.jupyter.widget-view+json": {
       "model_id": "6419199ad4a14c7bac6e15b73ada4698",
       "version_major": 2,
       "version_minor": 0
      },
      "text/plain": [
       "HBox(children=(IntProgress(value=0, max=1100032), HTML(value='')))"
      ]
     },
     "metadata": {},
     "output_type": "display_data"
    },
    {
     "name": "stdout",
     "output_type": "stream",
     "text": [
      "\n"
     ]
    }
   ],
   "source": [
    "def build_character_set(sentences, verbose=True):\n",
    "    characters_in_dataset = {}\n",
    "    for sentence in tqdm(sentences, disable=(not verbose)):\n",
    "        for character in sentence:\n",
    "            try:\n",
    "                characters_in_dataset[character] += 1\n",
    "            except KeyError:\n",
    "                characters_in_dataset[character] = 1\n",
    "    return characters_in_dataset\n",
    "\n",
    "train_charset = build_character_set(X_train)\n",
    "# build all accepted characters\n",
    "latin_similar = \" ’'‘ÆÐƎƏƐƔĲŊŒẞÞǷȜæðǝəɛɣĳŋœĸſßþƿȝĄƁÇĐƊĘĦĮƘŁØƠŞȘŢȚŦŲƯY̨Ƴąɓçđɗęħįƙłøơşșţțŧųưy̨ƴÁÀÂÄǍĂĀÃÅǺĄÆǼǢƁĆĊĈČÇĎḌĐƊÐÉÈĖÊËĚĔĒĘẸƎƏƐĠĜǦĞĢƔáàâäǎăāãåǻąæǽǣɓćċĉčçďḍđɗðéèėêëěĕēęẹǝəɛġĝǧğģɣĤḤĦIÍÌİÎÏǏĬĪĨĮỊĲĴĶƘĹĻŁĽĿʼNŃN̈ŇÑŅŊÓÒÔÖǑŎŌÕŐỌØǾƠŒĥḥħıíìiîïǐĭīĩįịĳĵķƙĸĺļłľŀŉńn̈ňñņŋóòôöǒŏōõőọøǿơœŔŘŖŚŜŠŞȘṢẞŤŢṬŦÞÚÙÛÜǓŬŪŨŰŮŲỤƯẂẀŴẄǷÝỲŶŸȲỸƳŹŻŽẒŕřŗſśŝšşșṣßťţṭŧþúùûüǔŭūũűůųụưẃẁŵẅƿýỳŷÿȳỹƴźżžẓ\"\n",
    "white_list = string.ascii_letters + string.digits + latin_similar\n",
    "# check all symbols that have embeddings to keep it\n",
    "glove_symbols = [symbol for symbol in embeddings if len(symbol) == 1 and symbol not in white_list]\n",
    "char_translate_map = {}\n",
    "# isolate symbols that have embeddings vector in glove\n",
    "for symbol in glove_symbols:\n",
    "    char_translate_map[ord(symbol)] = ' ' + symbol + ' '\n",
    "# remove all unknown symbols\n",
    "unknown_symbols = [c for c in train_charset if c not in white_list and c not in glove_symbols]\n",
    "for symbol in unknown_symbols:\n",
    "    char_translate_map[ord(symbol)] = ''\n",
    "# replace newline characters with normal separator (blank space)\n",
    "char_translate_map[ord('\\n')] = ' ' "
   ]
  },
  {
   "cell_type": "markdown",
   "metadata": {},
   "source": [
    "## 2.3. Text Preprocessing"
   ]
  },
  {
   "cell_type": "code",
   "execution_count": 8,
   "metadata": {},
   "outputs": [
    {
     "data": {
      "application/vnd.jupyter.widget-view+json": {
       "model_id": "c3b1041a33cb4365837eb8eceac9a0e8",
       "version_major": 2,
       "version_minor": 0
      },
      "text/plain": [
       "HBox(children=(IntProgress(value=0, max=1100032), HTML(value='')))"
      ]
     },
     "metadata": {},
     "output_type": "display_data"
    }
   ],
   "source": [
    "def find_in_embedding(word, embedding):\n",
    "    '''\n",
    "    find the word's vector in the embedding. \n",
    "    If there is no exact word found, try also with lower case and title case.\n",
    "    In case there is no entry found in the embedding, replace with the unknown token (<unk>)\n",
    "    '''\n",
    "    if word in embedding:\n",
    "        return word, embedding[word]\n",
    "    elif word.lower() in embedding:\n",
    "        return word.lower(), embedding[word.lower()]\n",
    "    elif word.title() in embedding:\n",
    "        return word.title(), embedding[word.title()]\n",
    "    else:\n",
    "        return '<unk>', embedding['<unk>']\n",
    "\n",
    "def preprocess(comment, translate_map, tokenizer, emb):\n",
    "    # translate symbols\n",
    "    preprocessed_comment = comment.translate(translate_map)\n",
    "    # handle quote at the beginning\n",
    "    # because we accepted quotes as characters, sometimes we encounter token such as \"'we\".\n",
    "    # with this step, we transform \"'we\" into \"' we\" and such that it can be tokenized as 2 tokens.\n",
    "    preprocessed_comment = [(\"' \" + token[1:]) if len(token) > 0 and token[0] == \"'\" else token for token in preprocessed_comment.split(' ')]\n",
    "    # tokenize with Treebank tokenizer\n",
    "    tokenized_comment = tokenizer.tokenize(' '.join(preprocessed_comment))\n",
    "    # check and find each token in embeddings\n",
    "    tokenized_comment = [find_in_embedding(token, emb)[0] for token in tokenized_comment]\n",
    "    return ' '.join(tokenized_comment)\n",
    "\n",
    "tokenizer = TreebankWordTokenizer()\n",
    "X_train = X_train.progress_apply(lambda comment: preprocess(comment, char_translate_map, tokenizer, embeddings))\n",
    "X_dev = X_dev.progress_apply(lambda comment: preprocess(comment, char_translate_map, tokenizer, embeddings))\n",
    "X_test = X_test.progress_apply(lambda comment: preprocess(comment, char_translate_map, tokenizer, embeddings))\n",
    "X_submission = X_submission.progress_apply(lambda comment: preprocess(comment, char_translate_map, tokenizer, embeddings))"
   ]
  },
  {
   "cell_type": "code",
   "execution_count": 9,
   "metadata": {},
   "outputs": [
    {
     "data": {
      "text/plain": [
       "id\n",
       "6183788    So why is the clinton / fbi / russian colusion story nowhere on ADN ?                                                                                                                                                                                                                                                                                                                                                                                                                                                                                                                                                                                                                                                                                                                                                                                                                                                                                                                                                                                \n",
       "919513     Three federal judges have now issued stays of the executive order of varying lengths . Judge Ann Donnelly issued her stay in effect until a full hearing on 21 Feb 2017 and ordered the government to produce a list of all persons currently detained covered by her order which includes people on valid visas of all kinds and green - card holders . . Lawyers representing the government displayed a clear lack of information , echoing the confusion of various government agencies and officials in the past 24 hours , who had been implementing the order haphazardly . “ Things have unfolded with such speed , that we haven ’ t had time to review the legal situation yet , ” an attorney representing the government said . This prompted Judge Donnelly to observe “ I think the government hasn ’ t had a full chance to think about this . ” Sounds about par for the course with Trump . Judges Leonie Brinkema ( 7 day restraining order ) and Judge Thomas Zilly ( a stay to 03 February 2017 ) were the other federal judges .\n",
       "922616     The author seems to have completely rejected the notion of representative government .                                                                                                                                                                                                                                                                                                                                                                                                                                                                                                                                                                                                                                                                                                                                                                                                                                                                                                                                                               \n",
       "371400     You must be one of those people who do n't own a gun either where is the muzzle flash lmao . Get a gun and shoot your eye out you will lmao . You must be from the Christmas story little ralphy lol .                                                                                                                                                                                                                                                                                                                                                                                                                                                                                                                                                                                                                                                                                                                                                                                                                                               \n",
       "5616964    aaa the alt left lunatic bs attempt at an argument based on fantasy yet no business realities                                                                                                                                                                                                                                                                                                                                                                                                                                                                                                                                                                                                                                                                                                                                                                                                                                                                                                                                                        \n",
       "Name: comment_text, dtype: object"
      ]
     },
     "execution_count": 9,
     "metadata": {},
     "output_type": "execute_result"
    }
   ],
   "source": [
    "X_train.head()"
   ]
  },
  {
   "cell_type": "markdown",
   "metadata": {},
   "source": [
    "# 3. Data Preparation for PyTorch"
   ]
  },
  {
   "cell_type": "markdown",
   "metadata": {},
   "source": [
    "## 3.1. Create PyTorch Datasets"
   ]
  },
  {
   "cell_type": "markdown",
   "metadata": {},
   "source": [
    "Before we can train a pytorch model, we have to transform the input to the form that is expected by the model. One option is to use keras text preprocessing, but I'd rather stick with pytorch family, i.e. torchtext. First, we want to transform the input into a torchtext `Dataset`. A `Dataset` is a collection of `Example`, which consists of `Field`. More info: https://torchtext.readthedocs.io/en/latest/data.html\n",
    "\n",
    "A `Field` has many useful options for NLP, among many of them are:\n",
    "- `pad_first=True` to set padding tokens added at the beginning instead of after the comment\n",
    "- `fix_length=None`, a default, to have varying length\n",
    "- `sequential=True` means the field is to be treated a sequential data. For text, set it to `True`, set otherwise for labels.\n",
    "- `use_vocab=True` whether to build vocabulary based on this field. Set to `True` for the text fields.\n",
    "\n",
    "The downside of this approach is the slowness due to the iteration to create the `Example` and `Dataset`. There should be a better way to convert the input to torchtext `Dataset`. There is also a `TabularDataset` class which can transform the whole dataset at one, but I am not aware how to include the preprocessing required without exporting the preprocessed dataset beforehand. "
   ]
  },
  {
   "cell_type": "code",
   "execution_count": 10,
   "metadata": {},
   "outputs": [
    {
     "data": {
      "application/vnd.jupyter.widget-view+json": {
       "model_id": "d2dd7ce4377a4a0797319a295aca37b4",
       "version_major": 2,
       "version_minor": 0
      },
      "text/plain": [
       "HBox(children=(IntProgress(value=0, max=1100032), HTML(value='')))"
      ]
     },
     "metadata": {},
     "output_type": "display_data"
    }
   ],
   "source": [
    "def prepare_torch_dataset(comments, target, fields):\n",
    "    '''\n",
    "    transform a series `comments` to torchtext `Dataset`\n",
    "    '''\n",
    "    df = pd.DataFrame(comments).join(target[['is_toxic', 'is_insult']], how='left')\n",
    "    train_examples = [Example.fromlist(i, fields) for i in tqdm(df.values.tolist())]\n",
    "    return Dataset(train_examples, fields)\n",
    "\n",
    "# define the Fields\n",
    "ID = Field(sequential=False, use_vocab=False, dtype=torch.long)\n",
    "TEXT = Field(sequential=True, tokenize='spacy', pad_first=True)\n",
    "LABEL = LabelField(sequential=False, use_vocab=False, dtype=torch.float32)\n",
    "fields = [(\"comment_text\", TEXT), (\"target\", LABEL), (\"insult\", LABEL)]\n",
    "# prepare train/dev/test datasets as torch `Dataset`\n",
    "train_dataset = prepare_torch_dataset(X_train, train_df, fields)\n",
    "dev_dataset = prepare_torch_dataset(X_dev, train_df, fields)\n",
    "test_dataset = prepare_torch_dataset(X_test, train_df, fields)\n",
    "# prepare submission dataset as torch `Dataset`\n",
    "test_df['comment_text'] = X_submission\n",
    "subm_fields = [(\"id\", ID), (\"comment_text\", TEXT)]  # notice that there is no label field for the submission dataset\n",
    "subm_examples = [Example.fromlist(i, subm_fields) for i in tqdm(test_df.reset_index().values.tolist())]\n",
    "subm_dataset = Dataset(subm_examples, subm_fields)"
   ]
  },
  {
   "cell_type": "markdown",
   "metadata": {},
   "source": [
    "Quite handily, torchtext also provides us with `build_vocab()` capability. This function helps us with the mapping between token and integer, useful for embeddings. Additionally, it contains the frequency of each word as well. `max_size` parameter determines maximum number of words registered in the vocabulary, truncated based on the frequency (top `max_size` words with the highest frequency will be used)."
   ]
  },
  {
   "cell_type": "code",
   "execution_count": 11,
   "metadata": {},
   "outputs": [],
   "source": [
    "def build_matrix(vocab_itos, emb):\n",
    "    embedding_matrix = np.zeros((len(vocab_itos), 300))\n",
    "    for i, word in enumerate(vocab_itos):\n",
    "        embedding_matrix[i] = find_in_embedding(word, emb)[1]\n",
    "    return embedding_matrix\n",
    "\n",
    "TEXT.build_vocab(train_dataset, dev_dataset, max_size=60000)\n",
    "embedding_matrix = build_matrix(TEXT.vocab.itos, embeddings)"
   ]
  },
  {
   "cell_type": "code",
   "execution_count": 12,
   "metadata": {},
   "outputs": [
    {
     "name": "stdout",
     "output_type": "stream",
     "text": [
      "id=0, token='<unk>', freq=0\n",
      "id=1, token='<pad>', freq=0\n",
      "id=2, token='.', freq=4914165\n",
      "id=3, token='the', freq=3043813\n",
      "id=4, token=',', freq=2535539\n",
      "id=5, token='to', freq=1868569\n",
      "id=6, token='`', freq=1698286\n",
      "id=7, token='and', freq=1518146\n",
      "id=8, token='of', freq=1441722\n",
      "id=9, token='a', freq=1341631\n",
      "id=10, token='is', freq=1087585\n",
      "id=11, token='in', freq=942546\n",
      "id=12, token='that', freq=903137\n",
      "id=13, token='-', freq=806483\n",
      "id=14, token='I', freq=742814\n",
      "id=15, token='for', freq=659827\n",
      "id=16, token='it', freq=610428\n",
      "id=17, token='you', freq=606003\n",
      "id=18, token='?', freq=554502\n",
      "id=19, token='are', freq=532586\n"
     ]
    }
   ],
   "source": [
    "for i in range(20):\n",
    "    word = TEXT.vocab.itos[i]\n",
    "    print(\"id={}, token='{}', freq={}\".format(i, word, TEXT.vocab.freqs[word]))"
   ]
  },
  {
   "cell_type": "markdown",
   "metadata": {},
   "source": [
    "## 3.2. Sequence Bucketing"
   ]
  },
  {
   "cell_type": "markdown",
   "metadata": {},
   "source": [
    "In this dataset, the comment length ranges from 1 word to hundreds. If we take the maximum length of a comment and pad everything according to the maximum length, it won't be effective for training. Sequence bucketing can help reduce the time required to train. We reorder the comments based on their length, such that comments with similar length is more likely to belong on the same batch. At each batch, pad every comments to the maximum comment length on that batch. Therefore, we do not need to pad 1-word comment to the max length, and training can be much quicker.\n",
    "\n",
    "I avoid truncating any of the comment because it is misleading to decide either truncate from beginning or from end. A comment can be toxic just because 1 or 2 words it contains and those words can be at the beginning or at the end. Consequently, some outlier lengthy comments will affect the padding of much shorter ones.\n",
    "\n",
    "In torchtext, we can do sequence bucketing with `BucketIterator` class. The important parameters are `sort_key` and `sort_within_batch`. Basically, `sort_key=True` does what we expect from sequence bucketing and it is no longer necessary to also set `sort_within_batch=True` because the comments in one batch will be padded to the maximum length of that batch anyway."
   ]
  },
  {
   "cell_type": "code",
   "execution_count": 13,
   "metadata": {},
   "outputs": [],
   "source": [
    "train_iter, dev_iter, test_iter, subm_iter = BucketIterator.splits(\n",
    "    (train_dataset, dev_dataset, test_dataset, subm_dataset),\n",
    "    batch_sizes=(64, 64, 64, 64),\n",
    "    device=0,\n",
    "    sort_key=lambda comment: len(comment.comment_text),\n",
    "    sort_within_batch=False,\n",
    "    repeat=False  # do not repeat any inputs\n",
    ")\n",
    "\n",
    "class BatchWrapper:\n",
    "    '''\n",
    "    helper wrapper to iterate over `BucketIterator` during training and return (x, y).\n",
    "    from: https://mlexplained.com/2018/02/08/a-comprehensive-tutorial-to-torchtext/\n",
    "    '''\n",
    "    \n",
    "    def __init__(self, dl, x_var, y_vars):\n",
    "        self.dl, self.x_var, self.y_vars = dl, x_var, y_vars\n",
    "\n",
    "    def __iter__(self):\n",
    "        for batch in self.dl:\n",
    "            # return x_var attribute of the data loader (dl) as x\n",
    "            x = getattr(batch, self.x_var)\n",
    "            # return label attributes of the data loader (dl) as y\n",
    "            y = torch.cat([getattr(batch, feat).unsqueeze(1) for feat in self.y_vars], dim=1)\n",
    "            yield (x, y)\n",
    "\n",
    "    def __len__(self):\n",
    "        return len(self.dl)\n",
    "\n",
    "train_dl = BatchWrapper(train_iter, \"comment_text\", [\"target\", \"insult\"])\n",
    "dev_dl = BatchWrapper(dev_iter, \"comment_text\", [\"target\", \"insult\"])\n",
    "test_dl = BatchWrapper(test_iter, \"comment_text\", [\"target\", \"insult\"])"
   ]
  },
  {
   "cell_type": "markdown",
   "metadata": {},
   "source": [
    "# 4. Model Training"
   ]
  },
  {
   "cell_type": "markdown",
   "metadata": {},
   "source": [
    "## 4.1. Network Architecture"
   ]
  },
  {
   "cell_type": "markdown",
   "metadata": {},
   "source": [
    "The architecture of the network follows Simple LSTM architecture (https://www.kaggle.com/thousandvoices/simple-lstm) with slight modification. These are the layers:\n",
    "1. Embedding layer (1x60000) &rarr; (60000x300)\n",
    "2. Spatial dropout of embedding with dropout rate 0.3\n",
    "3. BiLSTM 1: 300 &rarr; 150 * 2 (bi-directional)\n",
    "4. BiLSTM 2: 300 &rarr; 300\n",
    "5. Concatenation of last state of BiLSTM (both direction) with average and max pooling of all hidden state: 300 + 300 + 300 = 900\n",
    "6. Fully-connected 1: 900 of concat result &rarr; 900\n",
    "7. Fully-connected 2: 900 of concat result &rarr; 900\n",
    "8. Add result of layer 5, 6, and 7: 900\n",
    "9. Dropout rate of 0.1 from layer 8\n",
    "10. Output layer for target: 768 &rarr; 1\n",
    "11. Output layer for insult: 768 &rarr; 1"
   ]
  },
  {
   "cell_type": "code",
   "execution_count": 14,
   "metadata": {},
   "outputs": [
    {
     "data": {
      "text/plain": [
       "LSTM(\n",
       "  (embedding): Embedding(60002, 300)\n",
       "  (embedding_dropout): SpatialDropout(p=0.3)\n",
       "  (lstm1): LSTM(300, 150, bidirectional=True)\n",
       "  (lstm2): LSTM(300, 150, bidirectional=True)\n",
       "  (linear1): Linear(in_features=900, out_features=900, bias=True)\n",
       "  (linear2): Linear(in_features=900, out_features=900, bias=True)\n",
       "  (dropout): Dropout(p=0.1)\n",
       "  (target_out): Linear(in_features=900, out_features=1, bias=True)\n",
       "  (aux_out): Linear(in_features=900, out_features=1, bias=True)\n",
       ")"
      ]
     },
     "execution_count": 14,
     "metadata": {},
     "output_type": "execute_result"
    }
   ],
   "source": [
    "class SpatialDropout(nn.Dropout2d):\n",
    "    def forward(self, x):\n",
    "        x = x.unsqueeze(2)    # (N, T, 1, K)\n",
    "        x = x.permute(0, 3, 2, 1)  # (N, K, 1, T)\n",
    "        x = super(SpatialDropout, self).forward(x)  # (N, K, 1, T), some features are masked\n",
    "        x = x.permute(0, 3, 2, 1)  # (N, T, 1, K)\n",
    "        x = x.squeeze(2)  # (N, T, K)\n",
    "        return x\n",
    "\n",
    "class LSTM(nn.Module):\n",
    "    def __init__(self, emb_matrix, lstm_units=150):\n",
    "        super().__init__()\n",
    "        # LAYER 1: EMBEDDING, non-trainable\n",
    "        self.embedding = nn.Embedding(*emb_matrix.shape)\n",
    "        # use glove embeddings\n",
    "        self.embedding.weight = nn.Parameter(torch.tensor(emb_matrix, dtype=torch.float32), requires_grad=False)\n",
    "        # LAYER 2: SPATIAL DROPOUT\n",
    "        self.embedding_dropout = SpatialDropout(0.3)\n",
    "        # LAYER 3: LSTM, bi-directional, output = 2 * lstm_units\n",
    "        self.lstm_units = lstm_units\n",
    "        self.lstm1 = nn.LSTM(embedding_matrix.shape[1], lstm_units, bidirectional=True)\n",
    "        # LAYER 4: LSTM, bi-directional, output = 2 * lstm_units\n",
    "        self.lstm2 = nn.LSTM(2 * lstm_units, lstm_units, bidirectional=True)\n",
    "        # LAYER 5: CONCAT, no object created\n",
    "        # LAYER 6: FC1\n",
    "        self.linear1 = nn.Linear(3 * 2 * lstm_units, 3 * 2 * lstm_units)\n",
    "        # LAYER 7: FC2\n",
    "        self.linear2 = nn.Linear(3 * 2 * lstm_units, 3 * 2 * lstm_units)\n",
    "        # LAYER 8: ADDITION of layer outputs, no object created\n",
    "        # LAYER 9: DROPOUT\n",
    "        self.dropout = nn.Dropout(0.1)\n",
    "        # LAYER 10: OUTPUT LAYER for target\n",
    "        self.target_out = nn.Linear(3 * 2 * lstm_units, 1)\n",
    "        # LAYER 11: OUTPUT LAYER for insult\n",
    "        self.aux_out = nn.Linear(3 * 2 * lstm_units, 1)\n",
    "\n",
    "    def forward(self, seq):\n",
    "        # get embedding vector of every word\n",
    "        h_emb = self.embedding_dropout(self.embedding(seq))\n",
    "        # walk through the first bi-directional LSTM\n",
    "        h_lstm1, _ = self.lstm1(h_emb)\n",
    "        # use output of previous LSTM as input for the second bi-directional LSTM\n",
    "        h_lstm2, _ = self.lstm2(h_lstm1)\n",
    "        # get the latest state of LSTM 2\n",
    "        # because it is bi-directional, get the first half output of the last state (LSTM direction forward)\n",
    "        # and the second half output of the first state (LSTM direction backward)\n",
    "        h_lstm_last = h_lstm2[-1, :, :self.lstm_units]\n",
    "        h_lstm_first = h_lstm2[0, :, self.lstm_units:]\n",
    "        # concat both half\n",
    "        h_bi_lstm = torch.cat((h_lstm_first, h_lstm_last), -1)\n",
    "        # get average and max pool of all hidden state from LSTM 2\n",
    "        avg_pool = torch.mean(h_lstm2, 0)\n",
    "        max_pool, _ = torch.max(h_lstm2, 0)\n",
    "        # concat last state with pooling\n",
    "        h_conc = torch.cat((h_bi_lstm, max_pool, avg_pool), 1)\n",
    "        # fully-connected layer with last state and the pooling\n",
    "        h_lin1 = F.relu(self.linear1(h_conc))\n",
    "        h_lin2 = F.relu(self.linear2(h_conc))\n",
    "        # add concat with output of fully-connected layer\n",
    "        h_conc_add = h_conc + h_lin1 + h_lin2\n",
    "        # another dropout to force model check last state, average pool, and max pool values\n",
    "        h_conc_do = self.dropout(h_conc_add)\n",
    "        # get linear prediction of target and insult\n",
    "        # we do not use sigmoid here because pyTorch provides a better loss calculation\n",
    "        # by combining sigmoid with cross-entropy\n",
    "        target_out = self.target_out(h_conc_do)\n",
    "        aux_out = self.aux_out(h_conc_do)\n",
    "        out = torch.cat([target_out, aux_out], 1)\n",
    "        return out\n",
    "    \n",
    "model = LSTM(embedding_matrix).to(device)\n",
    "model"
   ]
  },
  {
   "cell_type": "markdown",
   "metadata": {},
   "source": [
    "## 4.2. Training"
   ]
  },
  {
   "cell_type": "code",
   "execution_count": 15,
   "metadata": {},
   "outputs": [
    {
     "name": "stdout",
     "output_type": "stream",
     "text": [
      "Epoch: 1\n"
     ]
    },
    {
     "data": {
      "application/vnd.jupyter.widget-view+json": {
       "model_id": "7494bd163a444767b725a03ee76bf060",
       "version_major": 2,
       "version_minor": 0
      },
      "text/plain": [
       "HBox(children=(IntProgress(value=0, max=17188), HTML(value='')))"
      ]
     },
     "metadata": {},
     "output_type": "display_data"
    }
   ],
   "source": [
    "def sigmoid(x):\n",
    "    return 1 / (1 + np.exp(-x))\n",
    "\n",
    "def evaluate(model, dl, loss_func):\n",
    "    '''\n",
    "    evaluation steps for dev and test set\n",
    "    '''\n",
    "    running_loss = 0.0\n",
    "    model.eval()  # turn on evaluation mode\n",
    "    all_preds = {'y_pred' : [], 'y_true' : []}\n",
    "    for x, y in dl: # iterate over mini-batches\n",
    "        x, y = x.to(device), y.to(device)  # transfer x and y to GPU when it is available\n",
    "        preds = model(x)  # get the prediction from the model\n",
    "        loss = loss_func(preds, y)  # calculate loss values\n",
    "        # add all predictions and y_true to a dictionary for calculating the evaluation metrics\n",
    "        all_preds['y_pred'] = [*all_preds['y_pred'], *sigmoid(preds.detach().cpu().numpy()[:,0].ravel())]\n",
    "        all_preds['y_true'] = [*all_preds['y_true'], *y.detach().cpu().numpy()[:,0].ravel()]\n",
    "        # add current mini-batch loss to the total loss\n",
    "        running_loss += loss.item() / len(dl)\n",
    "    # create a binary prediction to calculate accuracy\n",
    "    all_preds['y_pred_bin'] = [1 if pred >= 0.5 else 0 for pred in all_preds['y_pred']]\n",
    "    print('\\tEval Loss: {:.4f}, Eval AUC: {:.4f}, Eval Accuracy: {:.4f}'.format(\n",
    "        loss,\n",
    "        roc_auc_score(all_preds['y_true'], all_preds['y_pred']),\n",
    "        accuracy_score(all_preds['y_true'], all_preds['y_pred_bin'])\n",
    "    ))\n",
    "    # confusion analysis, especially helpful for imbalanced dataset\n",
    "    tn, fp, fn, tp = confusion_matrix(all_preds['y_true'], all_preds['y_pred_bin']).ravel()\n",
    "    print('\\tEval CM: tn={:,}({:.2f}%), tp={:,}({:.2f}%), fn={:,}({:.2f}%), fp={:,}({:.2f}%)'.format(\n",
    "        tn, tn * 100 / len(all_preds['y_pred_bin']),\n",
    "        tp, tp * 100 / len(all_preds['y_pred_bin']),\n",
    "        fn, fn * 100 / len(all_preds['y_pred_bin']),\n",
    "        fp, fp * 100 / len(all_preds['y_pred_bin'])\n",
    "    ))\n",
    "    \n",
    "    \n",
    "def train(model, train, dev, n_epochs, loss_func, lr):\n",
    "    '''\n",
    "    model training steps for the training set. Output dev metrics at each epoch.\n",
    "    PyTorch requires implementation of training procedure.\n",
    "    '''\n",
    "    opt = optim.Adam(model.parameters(), lr=lr)  # optimizer\n",
    "    # degrade learning rate at every epoch with lr scheduler\n",
    "    scheduler = optim.lr_scheduler.StepLR(opt, step_size=1, gamma=0.3)\n",
    "    for epoch in range(1, n_epochs + 1):\n",
    "        print('Epoch: {}'.format(epoch))\n",
    "        model.train()  # during training, dropout is activated\n",
    "        running_loss = 0.0\n",
    "        for x, y in tqdm(train):\n",
    "            opt.zero_grad()  # necessary at the beginning of each mini-batch for pytorch\n",
    "            x, y = x.to(device), y.to(device)  # transfer to GPU when available\n",
    "            preds = model(x)  # get prediction\n",
    "            loss = loss_func(preds, y)  # calculate loss\n",
    "            loss.backward()  # backpropagation\n",
    "            opt.step()  # calculate optimizer with adam\n",
    "            running_loss += loss.item() / len(train_dl)  # add current mini-batch loss to total loss\n",
    "        print('\\tTraining Loss: {:.4f}'.format(running_loss))\n",
    "        evaluate(model, dev, loss_func)  # check dev scores\n",
    "        scheduler.step()  # reduce learning rate\n",
    "\n",
    "# Binary Cross-Entropy With Logits Loss: optimized loss function for binary classification\n",
    "# when using this loss function, do not use sigmoid activation function in the output layer of the model.\n",
    "bce_loss = nn.BCEWithLogitsLoss(\n",
    "    pos_weight=torch.FloatTensor([1]).cuda(),   # I tried to penalize mis-classified positive instance more\n",
    "                                                # but it did not give better LB score\n",
    "    reduction='mean'  # because we are predicting 2 outputs, take the mean as loss value\n",
    ")\n",
    "train(model, train_dl, dev_dl, 2, bce_loss, lr=8e-4)  # run training"
   ]
  },
  {
   "cell_type": "code",
   "execution_count": 16,
   "metadata": {},
   "outputs": [
    {
     "name": "stdout",
     "output_type": "stream",
     "text": [
      "\tEval Loss: 0.0266, Eval AUC: 0.9590, Eval Accuracy: 0.9503\n",
      "\tEval CM: tn=162,695(90.14%), tp=8,830(4.89%), fn=5,604(3.10%), fp=3,359(1.86%)\n"
     ]
    }
   ],
   "source": [
    "evaluate(model, test_dl, bce_loss)  # evaluate on test set"
   ]
  },
  {
   "cell_type": "code",
   "execution_count": 17,
   "metadata": {},
   "outputs": [
    {
     "name": "stdout",
     "output_type": "stream",
     "text": [
      "Epoch: 1\n"
     ]
    },
    {
     "data": {
      "application/vnd.jupyter.widget-view+json": {
       "model_id": "5ff568d181fe44cb8b6ca041ad32748f",
       "version_major": 2,
       "version_minor": 0
      },
      "text/plain": [
       "HBox(children=(IntProgress(value=0, max=17188), HTML(value='')))"
      ]
     },
     "metadata": {},
     "output_type": "display_data"
    }
   ],
   "source": [
    "# fine-tuning embedding layer\n",
    "model.embedding.weight.requires_grad = True\n",
    "train(model, train_dl, dev_dl, 1, bce_loss, lr=8e-5)"
   ]
  },
  {
   "cell_type": "code",
   "execution_count": 18,
   "metadata": {},
   "outputs": [
    {
     "name": "stdout",
     "output_type": "stream",
     "text": [
      "\tEval Loss: 0.0212, Eval AUC: 0.9614, Eval Accuracy: 0.9523\n",
      "\tEval CM: tn=163,079(90.35%), tp=8,795(4.87%), fn=5,639(3.12%), fp=2,975(1.65%)\n"
     ]
    }
   ],
   "source": [
    "evaluate(model, test_dl, bce_loss)  # evaluate on test set"
   ]
  },
  {
   "cell_type": "markdown",
   "metadata": {},
   "source": [
    "The evaluation metrics used in this loop is basic AUC ROC, whereas the competition impose sub-groups AUC score in the calculation."
   ]
  },
  {
   "cell_type": "markdown",
   "metadata": {},
   "source": [
    "# 5. Submission"
   ]
  },
  {
   "cell_type": "code",
   "execution_count": 19,
   "metadata": {},
   "outputs": [
    {
     "data": {
      "application/vnd.jupyter.widget-view+json": {
       "model_id": "ee509f3ce2024307bb9085d1430560f0",
       "version_major": 2,
       "version_minor": 0
      },
      "text/plain": [
       "HBox(children=(IntProgress(value=0, max=1521), HTML(value='')))"
      ]
     },
     "metadata": {},
     "output_type": "display_data"
    },
    {
     "name": "stdout",
     "output_type": "stream",
     "text": [
      "\n"
     ]
    }
   ],
   "source": [
    "model.eval()  # turn on evaluation mode to ignore dropouts\n",
    "subm_id = []\n",
    "subm_preds = []\n",
    "for example in tqdm(subm_iter):\n",
    "    x_id = example.id\n",
    "    x = example.comment_text.to(device)\n",
    "    preds = model(x)\n",
    "    subm_id = [*subm_id, *x_id.detach().cpu().numpy().ravel()]\n",
    "    subm_preds = [*subm_preds, *sigmoid(preds.detach().cpu().numpy()[:,0].ravel())]\n",
    "submission = pd.DataFrame.from_dict({\n",
    "    'id': subm_id,\n",
    "    'prediction': subm_preds\n",
    "})\n",
    "submission.to_csv('submission.csv', index=False)"
   ]
  }
 ],
 "metadata": {
  "kernelspec": {
   "display_name": "Python 3",
   "language": "python",
   "name": "python3"
  },
  "language_info": {
   "codemirror_mode": {
    "name": "ipython",
    "version": 3
   },
   "file_extension": ".py",
   "mimetype": "text/x-python",
   "name": "python",
   "nbconvert_exporter": "python",
   "pygments_lexer": "ipython3",
   "version": "3.6.6"
  },
  "widgets": {
   "application/vnd.jupyter.widget-state+json": {
    "state": {
     "149858b949344f168393b6d32915dbbd": {
      "model_module": "@jupyter-widgets/base",
      "model_module_version": "1.1.0",
      "model_name": "LayoutModel",
      "state": {
       "_model_module": "@jupyter-widgets/base",
       "_model_module_version": "1.1.0",
       "_model_name": "LayoutModel",
       "_view_count": null,
       "_view_module": "@jupyter-widgets/base",
       "_view_module_version": "1.1.0",
       "_view_name": "LayoutView",
       "align_content": null,
       "align_items": null,
       "align_self": null,
       "border": null,
       "bottom": null,
       "display": null,
       "flex": null,
       "flex_flow": null,
       "grid_area": null,
       "grid_auto_columns": null,
       "grid_auto_flow": null,
       "grid_auto_rows": null,
       "grid_column": null,
       "grid_gap": null,
       "grid_row": null,
       "grid_template_areas": null,
       "grid_template_columns": null,
       "grid_template_rows": null,
       "height": null,
       "justify_content": null,
       "left": null,
       "margin": null,
       "max_height": null,
       "max_width": null,
       "min_height": null,
       "min_width": null,
       "order": null,
       "overflow": null,
       "overflow_x": null,
       "overflow_y": null,
       "padding": null,
       "right": null,
       "top": null,
       "visibility": null,
       "width": null
      }
     },
     "1da6a35688044cde950f9c6f54bf1dbc": {
      "model_module": "@jupyter-widgets/controls",
      "model_module_version": "1.4.0",
      "model_name": "IntProgressModel",
      "state": {
       "_dom_classes": [],
       "_model_module": "@jupyter-widgets/controls",
       "_model_module_version": "1.4.0",
       "_model_name": "IntProgressModel",
       "_view_count": null,
       "_view_module": "@jupyter-widgets/controls",
       "_view_module_version": "1.4.0",
       "_view_name": "ProgressView",
       "bar_style": "",
       "description": "",
       "description_tooltip": null,
       "layout": "IPY_MODEL_5f056e3337bb49feae3c6f94fdb44089",
       "max": 17188,
       "min": 0,
       "orientation": "horizontal",
       "style": "IPY_MODEL_ef3321fc363d41fc8e21517b40bbc124",
       "value": 14476
      }
     },
     "20f6059fc55246c6bffd9ddb17a2f936": {
      "model_module": "@jupyter-widgets/controls",
      "model_module_version": "1.4.0",
      "model_name": "HTMLModel",
      "state": {
       "_dom_classes": [],
       "_model_module": "@jupyter-widgets/controls",
       "_model_module_version": "1.4.0",
       "_model_name": "HTMLModel",
       "_view_count": null,
       "_view_module": "@jupyter-widgets/controls",
       "_view_module_version": "1.4.0",
       "_view_name": "HTMLView",
       "description": "",
       "description_tooltip": null,
       "layout": "IPY_MODEL_b67970616fdb4614b702d5185b7bcbe6",
       "placeholder": "​",
       "style": "IPY_MODEL_2ecdb763e56141bb80c661c669abd57f",
       "value": " 84% 14481/17188 [18:06&lt;03:30, 12.86it/s]"
      }
     },
     "26961bcc627f4a3d85c3de94ad1a8116": {
      "model_module": "@jupyter-widgets/base",
      "model_module_version": "1.1.0",
      "model_name": "LayoutModel",
      "state": {
       "_model_module": "@jupyter-widgets/base",
       "_model_module_version": "1.1.0",
       "_model_name": "LayoutModel",
       "_view_count": null,
       "_view_module": "@jupyter-widgets/base",
       "_view_module_version": "1.1.0",
       "_view_name": "LayoutView",
       "align_content": null,
       "align_items": null,
       "align_self": null,
       "border": null,
       "bottom": null,
       "display": null,
       "flex": null,
       "flex_flow": null,
       "grid_area": null,
       "grid_auto_columns": null,
       "grid_auto_flow": null,
       "grid_auto_rows": null,
       "grid_column": null,
       "grid_gap": null,
       "grid_row": null,
       "grid_template_areas": null,
       "grid_template_columns": null,
       "grid_template_rows": null,
       "height": null,
       "justify_content": null,
       "left": null,
       "margin": null,
       "max_height": null,
       "max_width": null,
       "min_height": null,
       "min_width": null,
       "order": null,
       "overflow": null,
       "overflow_x": null,
       "overflow_y": null,
       "padding": null,
       "right": null,
       "top": null,
       "visibility": null,
       "width": null
      }
     },
     "2ecdb763e56141bb80c661c669abd57f": {
      "model_module": "@jupyter-widgets/controls",
      "model_module_version": "1.4.0",
      "model_name": "DescriptionStyleModel",
      "state": {
       "_model_module": "@jupyter-widgets/controls",
       "_model_module_version": "1.4.0",
       "_model_name": "DescriptionStyleModel",
       "_view_count": null,
       "_view_module": "@jupyter-widgets/base",
       "_view_module_version": "1.1.0",
       "_view_name": "StyleView",
       "description_width": ""
      }
     },
     "407311a0dd444b1d93c1cc5d90fcb0be": {
      "model_module": "@jupyter-widgets/controls",
      "model_module_version": "1.4.0",
      "model_name": "HTMLModel",
      "state": {
       "_dom_classes": [],
       "_model_module": "@jupyter-widgets/controls",
       "_model_module_version": "1.4.0",
       "_model_name": "HTMLModel",
       "_view_count": null,
       "_view_module": "@jupyter-widgets/controls",
       "_view_module_version": "1.4.0",
       "_view_name": "HTMLView",
       "description": "",
       "description_tooltip": null,
       "layout": "IPY_MODEL_d9d489369f014b76848de98c86d304fe",
       "placeholder": "​",
       "style": "IPY_MODEL_dca2e4872c59423a90452503e997c10e",
       "value": "100% 1521/1521 [00:13&lt;00:00, 32.04it/s]"
      }
     },
     "4336878f743143d1bde5a0a475e36858": {
      "model_module": "@jupyter-widgets/controls",
      "model_module_version": "1.4.0",
      "model_name": "DescriptionStyleModel",
      "state": {
       "_model_module": "@jupyter-widgets/controls",
       "_model_module_version": "1.4.0",
       "_model_name": "DescriptionStyleModel",
       "_view_count": null,
       "_view_module": "@jupyter-widgets/base",
       "_view_module_version": "1.1.0",
       "_view_name": "StyleView",
       "description_width": ""
      }
     },
     "460cc8af3b6a4a2dbe2789fad2fb84b6": {
      "model_module": "@jupyter-widgets/controls",
      "model_module_version": "1.4.0",
      "model_name": "IntProgressModel",
      "state": {
       "_dom_classes": [],
       "_model_module": "@jupyter-widgets/controls",
       "_model_module_version": "1.4.0",
       "_model_name": "IntProgressModel",
       "_view_count": null,
       "_view_module": "@jupyter-widgets/controls",
       "_view_module_version": "1.4.0",
       "_view_name": "ProgressView",
       "bar_style": "",
       "description": "",
       "description_tooltip": null,
       "layout": "IPY_MODEL_149858b949344f168393b6d32915dbbd",
       "max": 1100032,
       "min": 0,
       "orientation": "horizontal",
       "style": "IPY_MODEL_8a6a16471750433e8a7c5b90d1f2b81a",
       "value": 781385
      }
     },
     "4858b2a5d3744998a8190f6289a1b584": {
      "model_module": "@jupyter-widgets/base",
      "model_module_version": "1.1.0",
      "model_name": "LayoutModel",
      "state": {
       "_model_module": "@jupyter-widgets/base",
       "_model_module_version": "1.1.0",
       "_model_name": "LayoutModel",
       "_view_count": null,
       "_view_module": "@jupyter-widgets/base",
       "_view_module_version": "1.1.0",
       "_view_name": "LayoutView",
       "align_content": null,
       "align_items": null,
       "align_self": null,
       "border": null,
       "bottom": null,
       "display": null,
       "flex": null,
       "flex_flow": null,
       "grid_area": null,
       "grid_auto_columns": null,
       "grid_auto_flow": null,
       "grid_auto_rows": null,
       "grid_column": null,
       "grid_gap": null,
       "grid_row": null,
       "grid_template_areas": null,
       "grid_template_columns": null,
       "grid_template_rows": null,
       "height": null,
       "justify_content": null,
       "left": null,
       "margin": null,
       "max_height": null,
       "max_width": null,
       "min_height": null,
       "min_width": null,
       "order": null,
       "overflow": null,
       "overflow_x": null,
       "overflow_y": null,
       "padding": null,
       "right": null,
       "top": null,
       "visibility": null,
       "width": null
      }
     },
     "547712cd47234d75ab23c44d451e7c04": {
      "model_module": "@jupyter-widgets/controls",
      "model_module_version": "1.4.0",
      "model_name": "DescriptionStyleModel",
      "state": {
       "_model_module": "@jupyter-widgets/controls",
       "_model_module_version": "1.4.0",
       "_model_name": "DescriptionStyleModel",
       "_view_count": null,
       "_view_module": "@jupyter-widgets/base",
       "_view_module_version": "1.1.0",
       "_view_name": "StyleView",
       "description_width": ""
      }
     },
     "5b43838b5f034b02bfec3f6197fa1f48": {
      "model_module": "@jupyter-widgets/base",
      "model_module_version": "1.1.0",
      "model_name": "LayoutModel",
      "state": {
       "_model_module": "@jupyter-widgets/base",
       "_model_module_version": "1.1.0",
       "_model_name": "LayoutModel",
       "_view_count": null,
       "_view_module": "@jupyter-widgets/base",
       "_view_module_version": "1.1.0",
       "_view_name": "LayoutView",
       "align_content": null,
       "align_items": null,
       "align_self": null,
       "border": null,
       "bottom": null,
       "display": null,
       "flex": null,
       "flex_flow": null,
       "grid_area": null,
       "grid_auto_columns": null,
       "grid_auto_flow": null,
       "grid_auto_rows": null,
       "grid_column": null,
       "grid_gap": null,
       "grid_row": null,
       "grid_template_areas": null,
       "grid_template_columns": null,
       "grid_template_rows": null,
       "height": null,
       "justify_content": null,
       "left": null,
       "margin": null,
       "max_height": null,
       "max_width": null,
       "min_height": null,
       "min_width": null,
       "order": null,
       "overflow": null,
       "overflow_x": null,
       "overflow_y": null,
       "padding": null,
       "right": null,
       "top": null,
       "visibility": null,
       "width": null
      }
     },
     "5f056e3337bb49feae3c6f94fdb44089": {
      "model_module": "@jupyter-widgets/base",
      "model_module_version": "1.1.0",
      "model_name": "LayoutModel",
      "state": {
       "_model_module": "@jupyter-widgets/base",
       "_model_module_version": "1.1.0",
       "_model_name": "LayoutModel",
       "_view_count": null,
       "_view_module": "@jupyter-widgets/base",
       "_view_module_version": "1.1.0",
       "_view_name": "LayoutView",
       "align_content": null,
       "align_items": null,
       "align_self": null,
       "border": null,
       "bottom": null,
       "display": null,
       "flex": null,
       "flex_flow": null,
       "grid_area": null,
       "grid_auto_columns": null,
       "grid_auto_flow": null,
       "grid_auto_rows": null,
       "grid_column": null,
       "grid_gap": null,
       "grid_row": null,
       "grid_template_areas": null,
       "grid_template_columns": null,
       "grid_template_rows": null,
       "height": null,
       "justify_content": null,
       "left": null,
       "margin": null,
       "max_height": null,
       "max_width": null,
       "min_height": null,
       "min_width": null,
       "order": null,
       "overflow": null,
       "overflow_x": null,
       "overflow_y": null,
       "padding": null,
       "right": null,
       "top": null,
       "visibility": null,
       "width": null
      }
     },
     "5ff568d181fe44cb8b6ca041ad32748f": {
      "model_module": "@jupyter-widgets/controls",
      "model_module_version": "1.4.0",
      "model_name": "HBoxModel",
      "state": {
       "_dom_classes": [],
       "_model_module": "@jupyter-widgets/controls",
       "_model_module_version": "1.4.0",
       "_model_name": "HBoxModel",
       "_view_count": null,
       "_view_module": "@jupyter-widgets/controls",
       "_view_module_version": "1.4.0",
       "_view_name": "HBoxView",
       "box_style": "",
       "children": [
        "IPY_MODEL_c9cd6bab94164e4cb0b76268a38d1884",
        "IPY_MODEL_20f6059fc55246c6bffd9ddb17a2f936"
       ],
       "layout": "IPY_MODEL_8767d9231f224bedbdc0d41a47a63f85"
      }
     },
     "6419199ad4a14c7bac6e15b73ada4698": {
      "model_module": "@jupyter-widgets/controls",
      "model_module_version": "1.4.0",
      "model_name": "HBoxModel",
      "state": {
       "_dom_classes": [],
       "_model_module": "@jupyter-widgets/controls",
       "_model_module_version": "1.4.0",
       "_model_name": "HBoxModel",
       "_view_count": null,
       "_view_module": "@jupyter-widgets/controls",
       "_view_module_version": "1.4.0",
       "_view_name": "HBoxView",
       "box_style": "",
       "children": [
        "IPY_MODEL_f0e064de238541c9a5d33d427d45e9b5",
        "IPY_MODEL_f8d8f578b5cf4c84a2e8cd72420e7a0f"
       ],
       "layout": "IPY_MODEL_e5df50d405574fb4af0119653c03abcb"
      }
     },
     "694f8e001c1d4de087690982255caaae": {
      "model_module": "@jupyter-widgets/base",
      "model_module_version": "1.1.0",
      "model_name": "LayoutModel",
      "state": {
       "_model_module": "@jupyter-widgets/base",
       "_model_module_version": "1.1.0",
       "_model_name": "LayoutModel",
       "_view_count": null,
       "_view_module": "@jupyter-widgets/base",
       "_view_module_version": "1.1.0",
       "_view_name": "LayoutView",
       "align_content": null,
       "align_items": null,
       "align_self": null,
       "border": null,
       "bottom": null,
       "display": null,
       "flex": null,
       "flex_flow": null,
       "grid_area": null,
       "grid_auto_columns": null,
       "grid_auto_flow": null,
       "grid_auto_rows": null,
       "grid_column": null,
       "grid_gap": null,
       "grid_row": null,
       "grid_template_areas": null,
       "grid_template_columns": null,
       "grid_template_rows": null,
       "height": null,
       "justify_content": null,
       "left": null,
       "margin": null,
       "max_height": null,
       "max_width": null,
       "min_height": null,
       "min_width": null,
       "order": null,
       "overflow": null,
       "overflow_x": null,
       "overflow_y": null,
       "padding": null,
       "right": null,
       "top": null,
       "visibility": null,
       "width": null
      }
     },
     "7494bd163a444767b725a03ee76bf060": {
      "model_module": "@jupyter-widgets/controls",
      "model_module_version": "1.4.0",
      "model_name": "HBoxModel",
      "state": {
       "_dom_classes": [],
       "_model_module": "@jupyter-widgets/controls",
       "_model_module_version": "1.4.0",
       "_model_name": "HBoxModel",
       "_view_count": null,
       "_view_module": "@jupyter-widgets/controls",
       "_view_module_version": "1.4.0",
       "_view_name": "HBoxView",
       "box_style": "",
       "children": [
        "IPY_MODEL_1da6a35688044cde950f9c6f54bf1dbc",
        "IPY_MODEL_cb4bc379ba5042658e066b83874fe559"
       ],
       "layout": "IPY_MODEL_5b43838b5f034b02bfec3f6197fa1f48"
      }
     },
     "7671d26b74544eff871b0ecf7d5e64a0": {
      "model_module": "@jupyter-widgets/controls",
      "model_module_version": "1.4.0",
      "model_name": "IntProgressModel",
      "state": {
       "_dom_classes": [],
       "_model_module": "@jupyter-widgets/controls",
       "_model_module_version": "1.4.0",
       "_model_name": "IntProgressModel",
       "_view_count": null,
       "_view_module": "@jupyter-widgets/controls",
       "_view_module_version": "1.4.0",
       "_view_name": "ProgressView",
       "bar_style": "success",
       "description": "",
       "description_tooltip": null,
       "layout": "IPY_MODEL_e4d20aa0d6d849b585737d436d84a615",
       "max": 1521,
       "min": 0,
       "orientation": "horizontal",
       "style": "IPY_MODEL_a828ce1b68b64e139c72d0b01adb2ea9",
       "value": 1521
      }
     },
     "7807881e219a4acc8c9e8c79eff59ce9": {
      "model_module": "@jupyter-widgets/controls",
      "model_module_version": "1.4.0",
      "model_name": "HTMLModel",
      "state": {
       "_dom_classes": [],
       "_model_module": "@jupyter-widgets/controls",
       "_model_module_version": "1.4.0",
       "_model_name": "HTMLModel",
       "_view_count": null,
       "_view_module": "@jupyter-widgets/controls",
       "_view_module_version": "1.4.0",
       "_view_name": "HTMLView",
       "description": "",
       "description_tooltip": null,
       "layout": "IPY_MODEL_7ebffdbc60854a9cb797f5cabaaf19ae",
       "placeholder": "​",
       "style": "IPY_MODEL_547712cd47234d75ab23c44d451e7c04",
       "value": " 88% 967831/1100032 [05:20&lt;00:44, 2986.74it/s]"
      }
     },
     "7ad653f67c2f48e79ef3b6c011e5c580": {
      "model_module": "@jupyter-widgets/controls",
      "model_module_version": "1.4.0",
      "model_name": "ProgressStyleModel",
      "state": {
       "_model_module": "@jupyter-widgets/controls",
       "_model_module_version": "1.4.0",
       "_model_name": "ProgressStyleModel",
       "_view_count": null,
       "_view_module": "@jupyter-widgets/base",
       "_view_module_version": "1.1.0",
       "_view_name": "StyleView",
       "bar_color": null,
       "description_width": ""
      }
     },
     "7ebffdbc60854a9cb797f5cabaaf19ae": {
      "model_module": "@jupyter-widgets/base",
      "model_module_version": "1.1.0",
      "model_name": "LayoutModel",
      "state": {
       "_model_module": "@jupyter-widgets/base",
       "_model_module_version": "1.1.0",
       "_model_name": "LayoutModel",
       "_view_count": null,
       "_view_module": "@jupyter-widgets/base",
       "_view_module_version": "1.1.0",
       "_view_name": "LayoutView",
       "align_content": null,
       "align_items": null,
       "align_self": null,
       "border": null,
       "bottom": null,
       "display": null,
       "flex": null,
       "flex_flow": null,
       "grid_area": null,
       "grid_auto_columns": null,
       "grid_auto_flow": null,
       "grid_auto_rows": null,
       "grid_column": null,
       "grid_gap": null,
       "grid_row": null,
       "grid_template_areas": null,
       "grid_template_columns": null,
       "grid_template_rows": null,
       "height": null,
       "justify_content": null,
       "left": null,
       "margin": null,
       "max_height": null,
       "max_width": null,
       "min_height": null,
       "min_width": null,
       "order": null,
       "overflow": null,
       "overflow_x": null,
       "overflow_y": null,
       "padding": null,
       "right": null,
       "top": null,
       "visibility": null,
       "width": null
      }
     },
     "7f189150e2c847a6b442768e72c0d63a": {
      "model_module": "@jupyter-widgets/controls",
      "model_module_version": "1.4.0",
      "model_name": "DescriptionStyleModel",
      "state": {
       "_model_module": "@jupyter-widgets/controls",
       "_model_module_version": "1.4.0",
       "_model_name": "DescriptionStyleModel",
       "_view_count": null,
       "_view_module": "@jupyter-widgets/base",
       "_view_module_version": "1.1.0",
       "_view_name": "StyleView",
       "description_width": ""
      }
     },
     "80ad114a72a548a8882e8eb442e89b0f": {
      "model_module": "@jupyter-widgets/base",
      "model_module_version": "1.1.0",
      "model_name": "LayoutModel",
      "state": {
       "_model_module": "@jupyter-widgets/base",
       "_model_module_version": "1.1.0",
       "_model_name": "LayoutModel",
       "_view_count": null,
       "_view_module": "@jupyter-widgets/base",
       "_view_module_version": "1.1.0",
       "_view_name": "LayoutView",
       "align_content": null,
       "align_items": null,
       "align_self": null,
       "border": null,
       "bottom": null,
       "display": null,
       "flex": null,
       "flex_flow": null,
       "grid_area": null,
       "grid_auto_columns": null,
       "grid_auto_flow": null,
       "grid_auto_rows": null,
       "grid_column": null,
       "grid_gap": null,
       "grid_row": null,
       "grid_template_areas": null,
       "grid_template_columns": null,
       "grid_template_rows": null,
       "height": null,
       "justify_content": null,
       "left": null,
       "margin": null,
       "max_height": null,
       "max_width": null,
       "min_height": null,
       "min_width": null,
       "order": null,
       "overflow": null,
       "overflow_x": null,
       "overflow_y": null,
       "padding": null,
       "right": null,
       "top": null,
       "visibility": null,
       "width": null
      }
     },
     "8767d9231f224bedbdc0d41a47a63f85": {
      "model_module": "@jupyter-widgets/base",
      "model_module_version": "1.1.0",
      "model_name": "LayoutModel",
      "state": {
       "_model_module": "@jupyter-widgets/base",
       "_model_module_version": "1.1.0",
       "_model_name": "LayoutModel",
       "_view_count": null,
       "_view_module": "@jupyter-widgets/base",
       "_view_module_version": "1.1.0",
       "_view_name": "LayoutView",
       "align_content": null,
       "align_items": null,
       "align_self": null,
       "border": null,
       "bottom": null,
       "display": null,
       "flex": null,
       "flex_flow": null,
       "grid_area": null,
       "grid_auto_columns": null,
       "grid_auto_flow": null,
       "grid_auto_rows": null,
       "grid_column": null,
       "grid_gap": null,
       "grid_row": null,
       "grid_template_areas": null,
       "grid_template_columns": null,
       "grid_template_rows": null,
       "height": null,
       "justify_content": null,
       "left": null,
       "margin": null,
       "max_height": null,
       "max_width": null,
       "min_height": null,
       "min_width": null,
       "order": null,
       "overflow": null,
       "overflow_x": null,
       "overflow_y": null,
       "padding": null,
       "right": null,
       "top": null,
       "visibility": null,
       "width": null
      }
     },
     "8a6a16471750433e8a7c5b90d1f2b81a": {
      "model_module": "@jupyter-widgets/controls",
      "model_module_version": "1.4.0",
      "model_name": "ProgressStyleModel",
      "state": {
       "_model_module": "@jupyter-widgets/controls",
       "_model_module_version": "1.4.0",
       "_model_name": "ProgressStyleModel",
       "_view_count": null,
       "_view_module": "@jupyter-widgets/base",
       "_view_module_version": "1.1.0",
       "_view_name": "StyleView",
       "bar_color": null,
       "description_width": ""
      }
     },
     "8b7555820db4439a8d31c6a0f595c374": {
      "model_module": "@jupyter-widgets/controls",
      "model_module_version": "1.4.0",
      "model_name": "ProgressStyleModel",
      "state": {
       "_model_module": "@jupyter-widgets/controls",
       "_model_module_version": "1.4.0",
       "_model_name": "ProgressStyleModel",
       "_view_count": null,
       "_view_module": "@jupyter-widgets/base",
       "_view_module_version": "1.1.0",
       "_view_name": "StyleView",
       "bar_color": null,
       "description_width": ""
      }
     },
     "91246c504de24f3c807b8a44c68e7da4": {
      "model_module": "@jupyter-widgets/base",
      "model_module_version": "1.1.0",
      "model_name": "LayoutModel",
      "state": {
       "_model_module": "@jupyter-widgets/base",
       "_model_module_version": "1.1.0",
       "_model_name": "LayoutModel",
       "_view_count": null,
       "_view_module": "@jupyter-widgets/base",
       "_view_module_version": "1.1.0",
       "_view_name": "LayoutView",
       "align_content": null,
       "align_items": null,
       "align_self": null,
       "border": null,
       "bottom": null,
       "display": null,
       "flex": null,
       "flex_flow": null,
       "grid_area": null,
       "grid_auto_columns": null,
       "grid_auto_flow": null,
       "grid_auto_rows": null,
       "grid_column": null,
       "grid_gap": null,
       "grid_row": null,
       "grid_template_areas": null,
       "grid_template_columns": null,
       "grid_template_rows": null,
       "height": null,
       "justify_content": null,
       "left": null,
       "margin": null,
       "max_height": null,
       "max_width": null,
       "min_height": null,
       "min_width": null,
       "order": null,
       "overflow": null,
       "overflow_x": null,
       "overflow_y": null,
       "padding": null,
       "right": null,
       "top": null,
       "visibility": null,
       "width": null
      }
     },
     "a7e2734dc169467aaca73e441a69bfc5": {
      "model_module": "@jupyter-widgets/controls",
      "model_module_version": "1.4.0",
      "model_name": "HTMLModel",
      "state": {
       "_dom_classes": [],
       "_model_module": "@jupyter-widgets/controls",
       "_model_module_version": "1.4.0",
       "_model_name": "HTMLModel",
       "_view_count": null,
       "_view_module": "@jupyter-widgets/controls",
       "_view_module_version": "1.4.0",
       "_view_name": "HTMLView",
       "description": "",
       "description_tooltip": null,
       "layout": "IPY_MODEL_80ad114a72a548a8882e8eb442e89b0f",
       "placeholder": "​",
       "style": "IPY_MODEL_7f189150e2c847a6b442768e72c0d63a",
       "value": " 71% 781385/1100032 [12:26&lt;05:01, 1058.38it/s]"
      }
     },
     "a828ce1b68b64e139c72d0b01adb2ea9": {
      "model_module": "@jupyter-widgets/controls",
      "model_module_version": "1.4.0",
      "model_name": "ProgressStyleModel",
      "state": {
       "_model_module": "@jupyter-widgets/controls",
       "_model_module_version": "1.4.0",
       "_model_name": "ProgressStyleModel",
       "_view_count": null,
       "_view_module": "@jupyter-widgets/base",
       "_view_module_version": "1.1.0",
       "_view_name": "StyleView",
       "bar_color": null,
       "description_width": ""
      }
     },
     "aae4137abba44a88bbe696e6bcc84dc8": {
      "model_module": "@jupyter-widgets/base",
      "model_module_version": "1.1.0",
      "model_name": "LayoutModel",
      "state": {
       "_model_module": "@jupyter-widgets/base",
       "_model_module_version": "1.1.0",
       "_model_name": "LayoutModel",
       "_view_count": null,
       "_view_module": "@jupyter-widgets/base",
       "_view_module_version": "1.1.0",
       "_view_name": "LayoutView",
       "align_content": null,
       "align_items": null,
       "align_self": null,
       "border": null,
       "bottom": null,
       "display": null,
       "flex": null,
       "flex_flow": null,
       "grid_area": null,
       "grid_auto_columns": null,
       "grid_auto_flow": null,
       "grid_auto_rows": null,
       "grid_column": null,
       "grid_gap": null,
       "grid_row": null,
       "grid_template_areas": null,
       "grid_template_columns": null,
       "grid_template_rows": null,
       "height": null,
       "justify_content": null,
       "left": null,
       "margin": null,
       "max_height": null,
       "max_width": null,
       "min_height": null,
       "min_width": null,
       "order": null,
       "overflow": null,
       "overflow_x": null,
       "overflow_y": null,
       "padding": null,
       "right": null,
       "top": null,
       "visibility": null,
       "width": null
      }
     },
     "ab36ff39c3b74dd181cfc42999f5507c": {
      "model_module": "@jupyter-widgets/controls",
      "model_module_version": "1.4.0",
      "model_name": "DescriptionStyleModel",
      "state": {
       "_model_module": "@jupyter-widgets/controls",
       "_model_module_version": "1.4.0",
       "_model_name": "DescriptionStyleModel",
       "_view_count": null,
       "_view_module": "@jupyter-widgets/base",
       "_view_module_version": "1.1.0",
       "_view_name": "StyleView",
       "description_width": ""
      }
     },
     "b67970616fdb4614b702d5185b7bcbe6": {
      "model_module": "@jupyter-widgets/base",
      "model_module_version": "1.1.0",
      "model_name": "LayoutModel",
      "state": {
       "_model_module": "@jupyter-widgets/base",
       "_model_module_version": "1.1.0",
       "_model_name": "LayoutModel",
       "_view_count": null,
       "_view_module": "@jupyter-widgets/base",
       "_view_module_version": "1.1.0",
       "_view_name": "LayoutView",
       "align_content": null,
       "align_items": null,
       "align_self": null,
       "border": null,
       "bottom": null,
       "display": null,
       "flex": null,
       "flex_flow": null,
       "grid_area": null,
       "grid_auto_columns": null,
       "grid_auto_flow": null,
       "grid_auto_rows": null,
       "grid_column": null,
       "grid_gap": null,
       "grid_row": null,
       "grid_template_areas": null,
       "grid_template_columns": null,
       "grid_template_rows": null,
       "height": null,
       "justify_content": null,
       "left": null,
       "margin": null,
       "max_height": null,
       "max_width": null,
       "min_height": null,
       "min_width": null,
       "order": null,
       "overflow": null,
       "overflow_x": null,
       "overflow_y": null,
       "padding": null,
       "right": null,
       "top": null,
       "visibility": null,
       "width": null
      }
     },
     "b8f0acb03cf24455a68a12e5b3cfb544": {
      "model_module": "@jupyter-widgets/base",
      "model_module_version": "1.1.0",
      "model_name": "LayoutModel",
      "state": {
       "_model_module": "@jupyter-widgets/base",
       "_model_module_version": "1.1.0",
       "_model_name": "LayoutModel",
       "_view_count": null,
       "_view_module": "@jupyter-widgets/base",
       "_view_module_version": "1.1.0",
       "_view_name": "LayoutView",
       "align_content": null,
       "align_items": null,
       "align_self": null,
       "border": null,
       "bottom": null,
       "display": null,
       "flex": null,
       "flex_flow": null,
       "grid_area": null,
       "grid_auto_columns": null,
       "grid_auto_flow": null,
       "grid_auto_rows": null,
       "grid_column": null,
       "grid_gap": null,
       "grid_row": null,
       "grid_template_areas": null,
       "grid_template_columns": null,
       "grid_template_rows": null,
       "height": null,
       "justify_content": null,
       "left": null,
       "margin": null,
       "max_height": null,
       "max_width": null,
       "min_height": null,
       "min_width": null,
       "order": null,
       "overflow": null,
       "overflow_x": null,
       "overflow_y": null,
       "padding": null,
       "right": null,
       "top": null,
       "visibility": null,
       "width": null
      }
     },
     "ba68fa60e3c049a69627e98996b520a4": {
      "model_module": "@jupyter-widgets/base",
      "model_module_version": "1.1.0",
      "model_name": "LayoutModel",
      "state": {
       "_model_module": "@jupyter-widgets/base",
       "_model_module_version": "1.1.0",
       "_model_name": "LayoutModel",
       "_view_count": null,
       "_view_module": "@jupyter-widgets/base",
       "_view_module_version": "1.1.0",
       "_view_name": "LayoutView",
       "align_content": null,
       "align_items": null,
       "align_self": null,
       "border": null,
       "bottom": null,
       "display": null,
       "flex": null,
       "flex_flow": null,
       "grid_area": null,
       "grid_auto_columns": null,
       "grid_auto_flow": null,
       "grid_auto_rows": null,
       "grid_column": null,
       "grid_gap": null,
       "grid_row": null,
       "grid_template_areas": null,
       "grid_template_columns": null,
       "grid_template_rows": null,
       "height": null,
       "justify_content": null,
       "left": null,
       "margin": null,
       "max_height": null,
       "max_width": null,
       "min_height": null,
       "min_width": null,
       "order": null,
       "overflow": null,
       "overflow_x": null,
       "overflow_y": null,
       "padding": null,
       "right": null,
       "top": null,
       "visibility": null,
       "width": null
      }
     },
     "c3b1041a33cb4365837eb8eceac9a0e8": {
      "model_module": "@jupyter-widgets/controls",
      "model_module_version": "1.4.0",
      "model_name": "HBoxModel",
      "state": {
       "_dom_classes": [],
       "_model_module": "@jupyter-widgets/controls",
       "_model_module_version": "1.4.0",
       "_model_name": "HBoxModel",
       "_view_count": null,
       "_view_module": "@jupyter-widgets/controls",
       "_view_module_version": "1.4.0",
       "_view_name": "HBoxView",
       "box_style": "",
       "children": [
        "IPY_MODEL_f72c6cb9e7514577b00cc5c10c1477ff",
        "IPY_MODEL_7807881e219a4acc8c9e8c79eff59ce9"
       ],
       "layout": "IPY_MODEL_91246c504de24f3c807b8a44c68e7da4"
      }
     },
     "c9cd6bab94164e4cb0b76268a38d1884": {
      "model_module": "@jupyter-widgets/controls",
      "model_module_version": "1.4.0",
      "model_name": "IntProgressModel",
      "state": {
       "_dom_classes": [],
       "_model_module": "@jupyter-widgets/controls",
       "_model_module_version": "1.4.0",
       "_model_name": "IntProgressModel",
       "_view_count": null,
       "_view_module": "@jupyter-widgets/controls",
       "_view_module_version": "1.4.0",
       "_view_name": "ProgressView",
       "bar_style": "",
       "description": "",
       "description_tooltip": null,
       "layout": "IPY_MODEL_4858b2a5d3744998a8190f6289a1b584",
       "max": 17188,
       "min": 0,
       "orientation": "horizontal",
       "style": "IPY_MODEL_dd54b3d1ddcc4251bd2aa6e189b0ef77",
       "value": 14481
      }
     },
     "cb4bc379ba5042658e066b83874fe559": {
      "model_module": "@jupyter-widgets/controls",
      "model_module_version": "1.4.0",
      "model_name": "HTMLModel",
      "state": {
       "_dom_classes": [],
       "_model_module": "@jupyter-widgets/controls",
       "_model_module_version": "1.4.0",
       "_model_name": "HTMLModel",
       "_view_count": null,
       "_view_module": "@jupyter-widgets/controls",
       "_view_module_version": "1.4.0",
       "_view_name": "HTMLView",
       "description": "",
       "description_tooltip": null,
       "layout": "IPY_MODEL_26961bcc627f4a3d85c3de94ad1a8116",
       "placeholder": "​",
       "style": "IPY_MODEL_ab36ff39c3b74dd181cfc42999f5507c",
       "value": " 84% 14474/17188 [15:21&lt;02:50, 15.92it/s]"
      }
     },
     "d2dd7ce4377a4a0797319a295aca37b4": {
      "model_module": "@jupyter-widgets/controls",
      "model_module_version": "1.4.0",
      "model_name": "HBoxModel",
      "state": {
       "_dom_classes": [],
       "_model_module": "@jupyter-widgets/controls",
       "_model_module_version": "1.4.0",
       "_model_name": "HBoxModel",
       "_view_count": null,
       "_view_module": "@jupyter-widgets/controls",
       "_view_module_version": "1.4.0",
       "_view_name": "HBoxView",
       "box_style": "",
       "children": [
        "IPY_MODEL_460cc8af3b6a4a2dbe2789fad2fb84b6",
        "IPY_MODEL_a7e2734dc169467aaca73e441a69bfc5"
       ],
       "layout": "IPY_MODEL_aae4137abba44a88bbe696e6bcc84dc8"
      }
     },
     "d9d489369f014b76848de98c86d304fe": {
      "model_module": "@jupyter-widgets/base",
      "model_module_version": "1.1.0",
      "model_name": "LayoutModel",
      "state": {
       "_model_module": "@jupyter-widgets/base",
       "_model_module_version": "1.1.0",
       "_model_name": "LayoutModel",
       "_view_count": null,
       "_view_module": "@jupyter-widgets/base",
       "_view_module_version": "1.1.0",
       "_view_name": "LayoutView",
       "align_content": null,
       "align_items": null,
       "align_self": null,
       "border": null,
       "bottom": null,
       "display": null,
       "flex": null,
       "flex_flow": null,
       "grid_area": null,
       "grid_auto_columns": null,
       "grid_auto_flow": null,
       "grid_auto_rows": null,
       "grid_column": null,
       "grid_gap": null,
       "grid_row": null,
       "grid_template_areas": null,
       "grid_template_columns": null,
       "grid_template_rows": null,
       "height": null,
       "justify_content": null,
       "left": null,
       "margin": null,
       "max_height": null,
       "max_width": null,
       "min_height": null,
       "min_width": null,
       "order": null,
       "overflow": null,
       "overflow_x": null,
       "overflow_y": null,
       "padding": null,
       "right": null,
       "top": null,
       "visibility": null,
       "width": null
      }
     },
     "dca2e4872c59423a90452503e997c10e": {
      "model_module": "@jupyter-widgets/controls",
      "model_module_version": "1.4.0",
      "model_name": "DescriptionStyleModel",
      "state": {
       "_model_module": "@jupyter-widgets/controls",
       "_model_module_version": "1.4.0",
       "_model_name": "DescriptionStyleModel",
       "_view_count": null,
       "_view_module": "@jupyter-widgets/base",
       "_view_module_version": "1.1.0",
       "_view_name": "StyleView",
       "description_width": ""
      }
     },
     "dd54b3d1ddcc4251bd2aa6e189b0ef77": {
      "model_module": "@jupyter-widgets/controls",
      "model_module_version": "1.4.0",
      "model_name": "ProgressStyleModel",
      "state": {
       "_model_module": "@jupyter-widgets/controls",
       "_model_module_version": "1.4.0",
       "_model_name": "ProgressStyleModel",
       "_view_count": null,
       "_view_module": "@jupyter-widgets/base",
       "_view_module_version": "1.1.0",
       "_view_name": "StyleView",
       "bar_color": null,
       "description_width": ""
      }
     },
     "e4d20aa0d6d849b585737d436d84a615": {
      "model_module": "@jupyter-widgets/base",
      "model_module_version": "1.1.0",
      "model_name": "LayoutModel",
      "state": {
       "_model_module": "@jupyter-widgets/base",
       "_model_module_version": "1.1.0",
       "_model_name": "LayoutModel",
       "_view_count": null,
       "_view_module": "@jupyter-widgets/base",
       "_view_module_version": "1.1.0",
       "_view_name": "LayoutView",
       "align_content": null,
       "align_items": null,
       "align_self": null,
       "border": null,
       "bottom": null,
       "display": null,
       "flex": null,
       "flex_flow": null,
       "grid_area": null,
       "grid_auto_columns": null,
       "grid_auto_flow": null,
       "grid_auto_rows": null,
       "grid_column": null,
       "grid_gap": null,
       "grid_row": null,
       "grid_template_areas": null,
       "grid_template_columns": null,
       "grid_template_rows": null,
       "height": null,
       "justify_content": null,
       "left": null,
       "margin": null,
       "max_height": null,
       "max_width": null,
       "min_height": null,
       "min_width": null,
       "order": null,
       "overflow": null,
       "overflow_x": null,
       "overflow_y": null,
       "padding": null,
       "right": null,
       "top": null,
       "visibility": null,
       "width": null
      }
     },
     "e5df50d405574fb4af0119653c03abcb": {
      "model_module": "@jupyter-widgets/base",
      "model_module_version": "1.1.0",
      "model_name": "LayoutModel",
      "state": {
       "_model_module": "@jupyter-widgets/base",
       "_model_module_version": "1.1.0",
       "_model_name": "LayoutModel",
       "_view_count": null,
       "_view_module": "@jupyter-widgets/base",
       "_view_module_version": "1.1.0",
       "_view_name": "LayoutView",
       "align_content": null,
       "align_items": null,
       "align_self": null,
       "border": null,
       "bottom": null,
       "display": null,
       "flex": null,
       "flex_flow": null,
       "grid_area": null,
       "grid_auto_columns": null,
       "grid_auto_flow": null,
       "grid_auto_rows": null,
       "grid_column": null,
       "grid_gap": null,
       "grid_row": null,
       "grid_template_areas": null,
       "grid_template_columns": null,
       "grid_template_rows": null,
       "height": null,
       "justify_content": null,
       "left": null,
       "margin": null,
       "max_height": null,
       "max_width": null,
       "min_height": null,
       "min_width": null,
       "order": null,
       "overflow": null,
       "overflow_x": null,
       "overflow_y": null,
       "padding": null,
       "right": null,
       "top": null,
       "visibility": null,
       "width": null
      }
     },
     "ece3d4b6315e46de9048a33319a53891": {
      "model_module": "@jupyter-widgets/base",
      "model_module_version": "1.1.0",
      "model_name": "LayoutModel",
      "state": {
       "_model_module": "@jupyter-widgets/base",
       "_model_module_version": "1.1.0",
       "_model_name": "LayoutModel",
       "_view_count": null,
       "_view_module": "@jupyter-widgets/base",
       "_view_module_version": "1.1.0",
       "_view_name": "LayoutView",
       "align_content": null,
       "align_items": null,
       "align_self": null,
       "border": null,
       "bottom": null,
       "display": null,
       "flex": null,
       "flex_flow": null,
       "grid_area": null,
       "grid_auto_columns": null,
       "grid_auto_flow": null,
       "grid_auto_rows": null,
       "grid_column": null,
       "grid_gap": null,
       "grid_row": null,
       "grid_template_areas": null,
       "grid_template_columns": null,
       "grid_template_rows": null,
       "height": null,
       "justify_content": null,
       "left": null,
       "margin": null,
       "max_height": null,
       "max_width": null,
       "min_height": null,
       "min_width": null,
       "order": null,
       "overflow": null,
       "overflow_x": null,
       "overflow_y": null,
       "padding": null,
       "right": null,
       "top": null,
       "visibility": null,
       "width": null
      }
     },
     "ee509f3ce2024307bb9085d1430560f0": {
      "model_module": "@jupyter-widgets/controls",
      "model_module_version": "1.4.0",
      "model_name": "HBoxModel",
      "state": {
       "_dom_classes": [],
       "_model_module": "@jupyter-widgets/controls",
       "_model_module_version": "1.4.0",
       "_model_name": "HBoxModel",
       "_view_count": null,
       "_view_module": "@jupyter-widgets/controls",
       "_view_module_version": "1.4.0",
       "_view_name": "HBoxView",
       "box_style": "",
       "children": [
        "IPY_MODEL_7671d26b74544eff871b0ecf7d5e64a0",
        "IPY_MODEL_407311a0dd444b1d93c1cc5d90fcb0be"
       ],
       "layout": "IPY_MODEL_ba68fa60e3c049a69627e98996b520a4"
      }
     },
     "ef3321fc363d41fc8e21517b40bbc124": {
      "model_module": "@jupyter-widgets/controls",
      "model_module_version": "1.4.0",
      "model_name": "ProgressStyleModel",
      "state": {
       "_model_module": "@jupyter-widgets/controls",
       "_model_module_version": "1.4.0",
       "_model_name": "ProgressStyleModel",
       "_view_count": null,
       "_view_module": "@jupyter-widgets/base",
       "_view_module_version": "1.1.0",
       "_view_name": "StyleView",
       "bar_color": null,
       "description_width": ""
      }
     },
     "f0e064de238541c9a5d33d427d45e9b5": {
      "model_module": "@jupyter-widgets/controls",
      "model_module_version": "1.4.0",
      "model_name": "IntProgressModel",
      "state": {
       "_dom_classes": [],
       "_model_module": "@jupyter-widgets/controls",
       "_model_module_version": "1.4.0",
       "_model_name": "IntProgressModel",
       "_view_count": null,
       "_view_module": "@jupyter-widgets/controls",
       "_view_module_version": "1.4.0",
       "_view_name": "ProgressView",
       "bar_style": "success",
       "description": "",
       "description_tooltip": null,
       "layout": "IPY_MODEL_ece3d4b6315e46de9048a33319a53891",
       "max": 1100032,
       "min": 0,
       "orientation": "horizontal",
       "style": "IPY_MODEL_7ad653f67c2f48e79ef3b6c011e5c580",
       "value": 1100032
      }
     },
     "f72c6cb9e7514577b00cc5c10c1477ff": {
      "model_module": "@jupyter-widgets/controls",
      "model_module_version": "1.4.0",
      "model_name": "IntProgressModel",
      "state": {
       "_dom_classes": [],
       "_model_module": "@jupyter-widgets/controls",
       "_model_module_version": "1.4.0",
       "_model_name": "IntProgressModel",
       "_view_count": null,
       "_view_module": "@jupyter-widgets/controls",
       "_view_module_version": "1.4.0",
       "_view_name": "ProgressView",
       "bar_style": "",
       "description": "",
       "description_tooltip": null,
       "layout": "IPY_MODEL_b8f0acb03cf24455a68a12e5b3cfb544",
       "max": 1100032,
       "min": 0,
       "orientation": "horizontal",
       "style": "IPY_MODEL_8b7555820db4439a8d31c6a0f595c374",
       "value": 967831
      }
     },
     "f8d8f578b5cf4c84a2e8cd72420e7a0f": {
      "model_module": "@jupyter-widgets/controls",
      "model_module_version": "1.4.0",
      "model_name": "HTMLModel",
      "state": {
       "_dom_classes": [],
       "_model_module": "@jupyter-widgets/controls",
       "_model_module_version": "1.4.0",
       "_model_name": "HTMLModel",
       "_view_count": null,
       "_view_module": "@jupyter-widgets/controls",
       "_view_module_version": "1.4.0",
       "_view_name": "HTMLView",
       "description": "",
       "description_tooltip": null,
       "layout": "IPY_MODEL_694f8e001c1d4de087690982255caaae",
       "placeholder": "​",
       "style": "IPY_MODEL_4336878f743143d1bde5a0a475e36858",
       "value": "100% 1100032/1100032 [00:35&lt;00:00, 31215.09it/s]"
      }
     }
    },
    "version_major": 2,
    "version_minor": 0
   }
  }
 },
 "nbformat": 4,
 "nbformat_minor": 1
}
